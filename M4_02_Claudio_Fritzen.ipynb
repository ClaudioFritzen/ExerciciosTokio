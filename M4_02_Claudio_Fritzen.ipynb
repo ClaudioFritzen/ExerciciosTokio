{
 "cells": [
  {
   "cell_type": "markdown",
   "metadata": {},
   "source": [
    "#### Exercicio 1\n",
    "\n",
    "##### Crie uma classe ValidadorPalavraPasse.\n",
    "\n",
    "##### No construtor(init), deve receber como parâmetro um valor e armazene-a como um atributo da classe.\n",
    "\n",
    "#### Crie metodos na sua classe para veriicar as seguintes condições:\n",
    "\n",
    "    verificar_letras: Utilize a função isalpha() para verificar se a senha é composta apenas por letras\n",
    "\n",
    "    verificar_digitos : Utilize a função isdigit() para verificar se a senha é composta apenas por dígitos.\n",
    "\n",
    "    verificar_letras_e_digitos: Utilize a função de any(), compreensão de lista, isalpha() e isdigit() para verificar se a senha inclui tanto caracteres quanto números.\n",
    "\n",
    "    verificar_comprimento: Utilize a função len() para verificar se a senha tem pelo menos 8 caracteres.\n",
    "\n",
    "\n",
    "#### Crie um método validar que chama os métodos acima e imprime os resultados\n",
    "\n",
    "### Experimentar\n",
    "\n",
    "#### Crie um objeto da classe validarPalavraPasse.\n",
    "### Chame o método validar para verificar as condições e imprimir os resultados."
   ]
  },
  {
   "cell_type": "markdown",
   "metadata": {},
   "source": [
    "## Exercicio 2\n",
    "\n",
    "##### Crie uma classe ExtratorTexto\n",
    "\n",
    "No construtor(init), deve receber como parâmetro um texto e uma palavra a pesquisar, e armazene-os como atributo da classe\n",
    "\n",
    "##### Crie um método find() da String para localizar a posição da palavra no texto.\n",
    "\n",
    "    se a palavra for encontrada, extraia desde essa posição até ao final da frase utilizando a indexação de strings e armazene o resultado numa variavel.\n",
    "    \n",
    "    imprima o resultado da extração ou uma mensagem indicando que a paçavra não foi encontrada.\n",
    "\n",
    "#### Experimentar\n",
    "\n",
    "##### Crie um objeto da classe ExtratorTexto.\n",
    "##### Chame o método pesquisar_e_extrair para realizar a pesquisa e a extração, e imprimir o resultado\n",
    "\n"
   ]
  },
  {
   "cell_type": "markdown",
   "metadata": {},
   "source": [
    "### Exercicio 3\n",
    "\n",
    "#### Crie uma classe para estruturar a lógica a seguir\n",
    "\n",
    "    solicitar ao utilizador que insira uma frase e uma palavra para buscar na frase.\n",
    "    dividir a frase em palavras e armazenás-las numa lists.\n",
    "    mostrar a lista de palavras\n",
    "    contar e mostrar o número de vezes que uma palavra insirida aparece na lista \n",
    "\n",
    "#### Experimentar\n",
    "\n",
    "    Após solicitar ao utilizador que insira uma frase, o programa deve mostrar uma lista com todas as palavras da frase.\n",
    "    Exemplo: Para a frase \" Olá mundo que tal \", o programa deve mostrar: [\"Olá\", \"mundo\", \"que\", \"tal\"]\n",
    "    O programa deve contar e mostrar o número de vezes que a palavra \"mundo\" aparece na lista.\n",
    "    Exemplo: Para a lista [\"Olá\", \"mundo\",, \"que\", \"tal\"], o programa deve mostrar: Número de vezes que a palavra \"mundo\" aparece na lista: 1"
   ]
  }
 ],
 "metadata": {
  "language_info": {
   "name": "python"
  }
 },
 "nbformat": 4,
 "nbformat_minor": 2
}

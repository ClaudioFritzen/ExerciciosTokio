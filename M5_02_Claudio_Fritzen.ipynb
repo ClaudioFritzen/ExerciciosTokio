{
 "cells": [
  {
   "cell_type": "markdown",
   "metadata": {},
   "source": [
    "1. Exercicio\n",
    "\n",
    "Criação\n",
    "\n",
    "Crie um ficheiro Excel chamado \"dados.xlsx\" com os dados fornecidos a seguir, utilizando a biblioteca openpyxl.\n",
    "\n",
    "Nome      | Idade | Nota Matematica | Nota de Português | Nota Ciências \n",
    "\n",
    "João      | 16      | 8             | 7                 |  6\n",
    "Maria     |  17    |  19            |  12               | 14\n",
    "Pedro     |  16     | 6             | 9                 | 10    \n",
    "Ana       | 18      |   15          | 20                | 17    \n",
    "\n",
    "\n",
    "Adicione uma nova coluna chamada \"Avaliação\" em cada disciplina ( Matematica, Portugues e Ciencias).\n",
    "\n",
    "A coluna Avaliação deve conter o valor \" Suficiente \" se a nota for igual ou superior a 10, ou \" Insuficiente \" se for inferior a 10.\n",
    "\n",
    "\n",
    "    Crie uma nova folha chamada \" Resumo \", que deve incluir:\n",
    "        O número total de alunos\n",
    "        A quantidade de notas suficientes e insuficientes por disciplina ( Matematica, Portugues, Ciencias)\n",
    "    Salve o ficheiro modificado como \"dados_analise.xlsx\"\n"
   ]
  },
  {
   "cell_type": "code",
   "execution_count": 83,
   "metadata": {},
   "outputs": [],
   "source": [
    "import openpyxl\n",
    "\n",
    "\n",
    "#wb = openpyxl.load_workbook('notas (1).xlsx')"
   ]
  },
  {
   "cell_type": "code",
   "execution_count": 84,
   "metadata": {},
   "outputs": [],
   "source": [
    "import openpyxl"
   ]
  },
  {
   "cell_type": "code",
   "execution_count": 85,
   "metadata": {},
   "outputs": [
    {
     "name": "stdout",
     "output_type": "stream",
     "text": [
      "['Sheet', 'vendas.xlsx']\n"
     ]
    }
   ],
   "source": [
    "# com este comando, podemos ver todas as planilhas que existem no arquivo\n",
    "print(wb.sheetnames)"
   ]
  },
  {
   "cell_type": "code",
   "execution_count": 86,
   "metadata": {},
   "outputs": [
    {
     "name": "stdout",
     "output_type": "stream",
     "text": [
      "Sheet\n"
     ]
    }
   ],
   "source": [
    "# com este comando, podemos ver a planilha que queremos\n",
    "folha_um = wb.sheetnames[0]\n",
    "print(folha_um)"
   ]
  },
  {
   "cell_type": "code",
   "execution_count": 87,
   "metadata": {},
   "outputs": [
    {
     "name": "stdout",
     "output_type": "stream",
     "text": [
      "<Worksheet \"Sheet\">\n"
     ]
    }
   ],
   "source": [
    "# pegando uma referencia da planilha\n",
    "folha_dois = wb[folha_um]\n",
    "print(folha_dois)\n"
   ]
  },
  {
   "cell_type": "code",
   "execution_count": 88,
   "metadata": {},
   "outputs": [],
   "source": [
    "# com este comando. podemos adicionar uma linha na planilha\n",
    "\n",
    "folha_dois.append(['Claudio', '28', '8', '7', '9'])\n",
    "\n",
    "wb.save('notas (1).xlsx')"
   ]
  },
  {
   "cell_type": "code",
   "execution_count": 89,
   "metadata": {},
   "outputs": [],
   "source": [
    "# Com esse comando conseguimos criar uma nova planilha  \n",
    "nova_folha = wb.create_sheet('Resumo')"
   ]
  },
  {
   "cell_type": "code",
   "execution_count": 90,
   "metadata": {},
   "outputs": [],
   "source": [
    "wb.save('notas.xlsx')"
   ]
  },
  {
   "cell_type": "code",
   "execution_count": 91,
   "metadata": {},
   "outputs": [],
   "source": [
    "# tentaremos criar uma novo arquivo com as notas dos alunos \n",
    "nova_planilha = wb.create_sheet('Notas dos alunos')\n",
    "\n",
    "wb.save(\"nova_planilha.xlsx\")"
   ]
  },
  {
   "cell_type": "code",
   "execution_count": 92,
   "metadata": {},
   "outputs": [],
   "source": [
    "wb.close()"
   ]
  },
  {
   "cell_type": "code",
   "execution_count": 93,
   "metadata": {},
   "outputs": [],
   "source": [
    "## agora vamos criar um novo arquivo com as notas dos alunos\n",
    "\n",
    "dados = openpyxl.Workbook()\n",
    "\n",
    "dados.create_sheet('Dados.xlsx')\n",
    "\n",
    "dados.save('Dados.xlsx')\n"
   ]
  },
  {
   "cell_type": "code",
   "execution_count": 94,
   "metadata": {},
   "outputs": [],
   "source": [
    "# criando um arquivo com as notas dos alunos\n",
    "dados = openpyxl.load_workbook('Dados.xlsx')\n",
    "folha = dados['Dados.xlsx']\n",
    "\n",
    "folha.append(['Nome', 'Idade', 'Nota Matematica', 'Nota Português', 'Nota Ciências'])\n",
    "folha.append(['Claudio', '28', '8', '7', '9'])\n",
    "folha.append(['João', '16', '8', '7', '6'])\n",
    "folha.append(['Maria', '17', '19', '12', '14'])  \n",
    "folha.append(['Pedro', '16', '6', '9', '10'])\n",
    "folha.append(['Ana', '18', '15', '20', '17'])\n",
    "\n",
    "dados.save('Dados.xlsx')\n"
   ]
  },
  {
   "cell_type": "code",
   "execution_count": 95,
   "metadata": {},
   "outputs": [],
   "source": [
    "dados.remove(dados['Sheet'])\n"
   ]
  },
  {
   "cell_type": "code",
   "execution_count": 96,
   "metadata": {},
   "outputs": [],
   "source": [
    "dados.save('Dados.xlsx')"
   ]
  },
  {
   "cell_type": "code",
   "execution_count": 97,
   "metadata": {},
   "outputs": [],
   "source": [
    "dados.close()"
   ]
  },
  {
   "cell_type": "code",
   "execution_count": 98,
   "metadata": {},
   "outputs": [
    {
     "name": "stdout",
     "output_type": "stream",
     "text": [
      "['Dados.xlsx']\n"
     ]
    }
   ],
   "source": [
    "# aqui estamos abrindo um arquivo ja existente\n",
    "lendo_notas = openpyxl.load_workbook('Dados.xlsx')\n",
    "print(lendo_notas.sheetnames)"
   ]
  },
  {
   "cell_type": "code",
   "execution_count": 99,
   "metadata": {},
   "outputs": [],
   "source": [
    "# criando um title\n",
    "lendo_notas.title = \"Resumo\"\n",
    "lendo_notas.save('Dados.xlsx')\n"
   ]
  },
  {
   "cell_type": "code",
   "execution_count": 100,
   "metadata": {},
   "outputs": [
    {
     "name": "stdout",
     "output_type": "stream",
     "text": [
      "Nota de Matemática: 8.0\n",
      "Avaliação de Matemática: Insuficiente\n",
      "Nota de Matemática: 8.0\n",
      "Avaliação de Matemática: Insuficiente\n",
      "Nota de Matemática: 19.0\n",
      "Avaliação de Matemática: Suficiente\n",
      "Nota de Matemática: 6.0\n",
      "Avaliação de Matemática: Insuficiente\n",
      "Nota de Matemática: 15.0\n",
      "Avaliação de Matemática: Suficiente\n"
     ]
    }
   ],
   "source": [
    "modificando = lendo_notas.active.cell(row=1, column=6, value=\"Avaliação Matematica\")\n",
    "modificando = lendo_notas.active.cell(row=1, column=7, value=\"Avaliação Português\")\n",
    "modificando = lendo_notas.active.cell(row=1, column=8, value=\"Avaliação Ciências\")\n",
    "\n",
    "\n",
    "# faremos o for por cada linha da planilha\n",
    "\n",
    "for linha in range(2, lendo_notas.active.max_row + 1):\n",
    "    matematica = lendo_notas.active.cell(row=linha, column=3).value\n",
    "    portugues = lendo_notas.active.cell(row=linha, column=4).value\n",
    "    ciencias = lendo_notas.active.cell(row=linha, column=5).value\n",
    "\n",
    "    \"\"\" print(type(f'Nota de Matemática: {matematica}'))\n",
    "    print(f'Nota de Português: {portugues}')\n",
    "    print(f'Nota de Ciências: {ciencias}') \"\"\"\n",
    "\n",
    "    # convertendo os valores para numeros fluantes\n",
    "    matematica = float(matematica) if matematica is not None else 0\n",
    "    portugues = float(portugues) if portugues is not None else 0\n",
    "    ciencias = float(ciencias) if ciencias is not None else 0\n",
    "\n",
    "    # print com as alterações\n",
    "    print(f'Nota de Matemática: {matematica}')\n",
    "    #print(f'Nota de Português: {portugues}')\n",
    "    #print(f'Nota de Ciências: {ciencias}') \"\"\"\n",
    "\n",
    "    # verificar se as notas são maiores que 10, > 10 = \"Suficente\" < 10 = \"Insuficiente\"\n",
    "\n",
    "    avaliacao_matematica = \"Suficiente\" if matematica >= 10 else \"Insuficiente\"\n",
    "    avalicao_portugues = \"Suficiente\" if portugues >= 10 else \"Insuficiente\"\n",
    "    avaliacao_ciencias = \"Suficiente\" if ciencias >= 10 else \"Insuficiente\"\n",
    "\n",
    "    print(f'Avaliação de Matemática: {avaliacao_matematica}')\n",
    "\n",
    "    # adicionando as avaliações na planilha\n",
    "    lendo_notas.active.cell(row=linha, column=6, value=avaliacao_matematica)\n",
    "    lendo_notas.active.cell(row=linha, column=7, value=avalicao_portugues)\n",
    "    lendo_notas.active.cell(row=linha, column=8, value=avaliacao_ciencias)\n",
    "\n",
    "lendo_notas.save('Novo_relatorio_att.xlsx')\n"
   ]
  },
  {
   "cell_type": "code",
   "execution_count": 101,
   "metadata": {},
   "outputs": [],
   "source": [
    "lendo_notas.save('Dados.xlsx')"
   ]
  },
  {
   "cell_type": "code",
   "execution_count": 102,
   "metadata": {},
   "outputs": [
    {
     "name": "stdout",
     "output_type": "stream",
     "text": [
      "5\n"
     ]
    }
   ],
   "source": [
    "# pegando a quantidade de alunos, baseado na quantidade de linhas\n",
    "quantidade_de_alunos = lendo_notas.active.max_row - 1\n",
    "print(quantidade_de_alunos)"
   ]
  },
  {
   "cell_type": "code",
   "execution_count": 103,
   "metadata": {},
   "outputs": [
    {
     "name": "stdout",
     "output_type": "stream",
     "text": [
      "5\n"
     ]
    },
    {
     "data": {
      "text/plain": [
       "' \\nfor row in qtd_alunos_por_celula:\\n    for cell in row:\\n        # com esse print, saberemos os nomes dos alunos\\n        print(cell.value)\\n        print(len(qtd_alunos_por_celula))\\n\\n  '"
      ]
     },
     "execution_count": 103,
     "metadata": {},
     "output_type": "execute_result"
    }
   ],
   "source": [
    "# pegando a quantidade de alunos por celulas\n",
    "\n",
    "folha = lendo_notas.active\n",
    "qtd_alunos_por_celula = folha[\"A2:A6\"]\n",
    "\n",
    "print(len(qtd_alunos_por_celula))\n",
    "\n",
    "\"\"\" \n",
    "for row in qtd_alunos_por_celula:\n",
    "    for cell in row:\n",
    "        # com esse print, saberemos os nomes dos alunos\n",
    "        print(cell.value)\n",
    "        print(len(qtd_alunos_por_celula))\n",
    "\n",
    "  \"\"\""
   ]
  },
  {
   "cell_type": "code",
   "execution_count": 104,
   "metadata": {},
   "outputs": [
    {
     "name": "stdout",
     "output_type": "stream",
     "text": [
      "(<Cell 'Dados.xlsx'.C2>, <Cell 'Dados.xlsx'.D2>, <Cell 'Dados.xlsx'.E2>)\n",
      "(<Cell 'Dados.xlsx'.C2>, <Cell 'Dados.xlsx'.D2>, <Cell 'Dados.xlsx'.E2>)\n",
      "(<Cell 'Dados.xlsx'.C2>, <Cell 'Dados.xlsx'.D2>, <Cell 'Dados.xlsx'.E2>)\n",
      "(<Cell 'Dados.xlsx'.C3>, <Cell 'Dados.xlsx'.D3>, <Cell 'Dados.xlsx'.E3>)\n",
      "(<Cell 'Dados.xlsx'.C3>, <Cell 'Dados.xlsx'.D3>, <Cell 'Dados.xlsx'.E3>)\n",
      "(<Cell 'Dados.xlsx'.C3>, <Cell 'Dados.xlsx'.D3>, <Cell 'Dados.xlsx'.E3>)\n",
      "(<Cell 'Dados.xlsx'.C4>, <Cell 'Dados.xlsx'.D4>, <Cell 'Dados.xlsx'.E4>)\n",
      "(<Cell 'Dados.xlsx'.C4>, <Cell 'Dados.xlsx'.D4>, <Cell 'Dados.xlsx'.E4>)\n",
      "(<Cell 'Dados.xlsx'.C4>, <Cell 'Dados.xlsx'.D4>, <Cell 'Dados.xlsx'.E4>)\n",
      "(<Cell 'Dados.xlsx'.C5>, <Cell 'Dados.xlsx'.D5>, <Cell 'Dados.xlsx'.E5>)\n",
      "(<Cell 'Dados.xlsx'.C5>, <Cell 'Dados.xlsx'.D5>, <Cell 'Dados.xlsx'.E5>)\n",
      "(<Cell 'Dados.xlsx'.C5>, <Cell 'Dados.xlsx'.D5>, <Cell 'Dados.xlsx'.E5>)\n",
      "(<Cell 'Dados.xlsx'.C6>, <Cell 'Dados.xlsx'.D6>, <Cell 'Dados.xlsx'.E6>)\n",
      "(<Cell 'Dados.xlsx'.C6>, <Cell 'Dados.xlsx'.D6>, <Cell 'Dados.xlsx'.E6>)\n",
      "(<Cell 'Dados.xlsx'.C6>, <Cell 'Dados.xlsx'.D6>, <Cell 'Dados.xlsx'.E6>)\n"
     ]
    }
   ],
   "source": [
    "folha = lendo_notas.active\n",
    "apenas_notas = folha['C2:E6']\n",
    "lista_de_materias = {\n",
    "    'avaliação_matematica': folha['F1'],\n",
    "    'avaliação_portugues': folha['G1'],\n",
    "    'avaliação_ciencias': folha['H1']\n",
    "}\n",
    "\n",
    "for row in apenas_notas:\n",
    "    for lista_de_materias in row:\n",
    "        #print(cell.value)\n",
    "        print(row)"
   ]
  },
  {
   "cell_type": "code",
   "execution_count": 105,
   "metadata": {},
   "outputs": [
    {
     "name": "stdout",
     "output_type": "stream",
     "text": [
      "Insuficiente\n",
      "Insuficiente\n",
      "Insuficiente\n",
      "Insuficiente\n",
      "Insuficiente\n",
      "Insuficiente\n",
      "Suficiente\n",
      "Suficiente\n",
      "Suficiente\n",
      "Insuficiente\n",
      "Insuficiente\n",
      "Suficiente\n",
      "Suficiente\n",
      "Suficiente\n",
      "Suficiente\n"
     ]
    }
   ],
   "source": [
    "# mostrando todas as linhas da planilha\n",
    "for row in lendo_notas.active.iter_rows(min_row=2, max_row=6, min_col=3, max_col=5):\n",
    "    for cell in row:\n",
    "        try:\n",
    "            if int(cell.value) < 10:\n",
    "                cell.value = 'Insuficiente'\n",
    "            else:\n",
    "                cell.value = 'Suficiente'\n",
    "        except ValueError:\n",
    "            cell.value = 'Insuficiente'\n",
    "        print(cell.value)\n",
    "\n",
    "#lendo_notas.save('Dados.xlsx')"
   ]
  },
  {
   "cell_type": "code",
   "execution_count": 106,
   "metadata": {},
   "outputs": [
    {
     "data": {
      "text/plain": [
       "<Cell 'Dados.xlsx'.F1>"
      ]
     },
     "execution_count": 106,
     "metadata": {},
     "output_type": "execute_result"
    }
   ],
   "source": [
    "# agora temos todas as siturações dos alunos | queremos criar uma nova coluna com a situação dos alunos\n",
    "lendo_notas.active.cell(row=1, column=6, value=\"Situação\")\n",
    "\n"
   ]
  },
  {
   "cell_type": "code",
   "execution_count": 107,
   "metadata": {},
   "outputs": [],
   "source": [
    "# lendo o arquivo novo_relatorio_att.xlsx\n"
   ]
  },
  {
   "cell_type": "code",
   "execution_count": 108,
   "metadata": {},
   "outputs": [
    {
     "name": "stdout",
     "output_type": "stream",
     "text": [
      "5\n",
      "Quantidade de alunos: 5\n",
      "Insuficiente\n",
      "Insuficiente\n",
      "Insuficiente\n",
      "Insuficiente\n",
      "Insuficiente\n",
      "Insuficiente\n",
      "Suficiente\n",
      "Suficiente\n",
      "Suficiente\n",
      "Insuficiente\n",
      "Insuficiente\n",
      "Suficiente\n",
      "Suficiente\n",
      "Suficiente\n",
      "Suficiente\n"
     ]
    }
   ],
   "source": [
    "# lendo o arquivo novo_relatorio_att.xlsx\n",
    "resumo = openpyxl.load_workbook('Novo_relatorio_att.xlsx')\n",
    "folha3 = resumo.active\n",
    "\n",
    "qtd_alunos_por_celula = folha3[\"A2:A6\"]\n",
    "print(len(qtd_alunos_por_celula))\n",
    "\n",
    "# pegando a quantidade de alunos, baseado na quantidade de linhas\n",
    "quantidade_de_alunos = folha3.max_row - 1\n",
    "print(f\"Quantidade de alunos: {quantidade_de_alunos}\")\n",
    "for row in folha3.iter_rows(min_row=2, max_row=6, min_col=6, max_col=8):\n",
    "    for cell in row:\n",
    "        print(cell.value)"
   ]
  },
  {
   "cell_type": "code",
   "execution_count": 109,
   "metadata": {},
   "outputs": [
    {
     "name": "stdout",
     "output_type": "stream",
     "text": [
      "Quantidade de notas suficientes: 7\n",
      "Quantidade de notas insuficientes: 8\n"
     ]
    }
   ],
   "source": [
    "# pegando a quantidade de notas suficientes e insuficientes\n",
    "qtd_suficientes = 0\n",
    "qtd_insuficientes = 0\n",
    "for row in folha3.iter_rows(min_row=2, max_row=6, min_col=6, max_col=8):\n",
    "    for cell in row:\n",
    "        if cell.value == 'Suficiente':\n",
    "            qtd_suficientes += 1\n",
    "        else:\n",
    "            qtd_insuficientes += 1\n",
    "\n",
    "print(f\"Quantidade de notas suficientes: {qtd_suficientes}\")\n",
    "print(f\"Quantidade de notas insuficientes: {qtd_insuficientes}\")"
   ]
  },
  {
   "cell_type": "code",
   "execution_count": 110,
   "metadata": {},
   "outputs": [],
   "source": [
    "# pegando as notas insuficientes e suficientes por matéria\n",
    "qtd_suficientes_matematica = 0\n",
    "qtd_insuficientes_matematica = 0\n",
    "qtd_suficientes_portugues = 0\n",
    "qtd_insuficientes_portugues = 0\n",
    "qtd_suficientes_ciencias = 0\n",
    "qtd_insuficientes_ciencias = 0\n",
    "for row in folha3.iter_rows(min_row=2, max_row=6, min_col=6, max_col=8):\n",
    "    for cell in row:\n",
    "        if cell.column == 6:\n",
    "            if cell.value == 'Suficiente':\n",
    "                qtd_suficientes_matematica += 1\n",
    "            else:\n",
    "                qtd_insuficientes_matematica += 1\n",
    "        elif cell.column == 7:\n",
    "            if cell.value == 'Suficiente':\n",
    "                qtd_suficientes_portugues += 1\n",
    "            else:\n",
    "                qtd_insuficientes_portugues += 1\n",
    "        elif cell.column == 8:\n",
    "            if cell.value == 'Suficiente':\n",
    "                qtd_suficientes_ciencias += 1\n",
    "            else:\n",
    "                qtd_insuficientes_ciencias += 1"
   ]
  },
  {
   "cell_type": "code",
   "execution_count": 111,
   "metadata": {},
   "outputs": [
    {
     "name": "stdout",
     "output_type": "stream",
     "text": [
      "Quantidade de notas suficientes em Matemática: 2\n",
      "Quantidade de notas insuficientes em Matemática: 3\n",
      "Quantidade de notas suficientes em Português: 2\n",
      "Quantidade de notas insuficientes em Português: 3\n",
      "Quantidade de notas suficientes em Ciências: 3\n",
      "Quantidade de notas insuficientes em Ciências: 2\n"
     ]
    }
   ],
   "source": [
    "print(f\"Quantidade de notas suficientes em Matemática: {qtd_suficientes_matematica}\")\n",
    "print(f\"Quantidade de notas insuficientes em Matemática: {qtd_insuficientes_matematica}\")\n",
    "print(f\"Quantidade de notas suficientes em Português: {qtd_suficientes_portugues}\")\n",
    "print(f\"Quantidade de notas insuficientes em Português: {qtd_insuficientes_portugues}\")\n",
    "print(f\"Quantidade de notas suficientes em Ciências: {qtd_suficientes_ciencias}\")\n",
    "print(f\"Quantidade de notas insuficientes em Ciências: {qtd_insuficientes_ciencias}\")\n"
   ]
  },
  {
   "cell_type": "markdown",
   "metadata": {},
   "source": [
    "2. Exercicio\n",
    "\n",
    "Criação\n",
    "\n",
    "Crie o ficheiro \"dados.csv\" com os dados fornecidos, utilizando a biblioteca csv.\n",
    "\n",
    "Produto     Categoria       Preço       Quantidade\n",
    "\n",
    "Teclado     Informatica     20.00       100\n",
    "Mouse       Informatica     15.00       200\n",
    "Cadeira     Móveis          100.00      50\n",
    "Caneca      Utensílios      5.00        300\n",
    "Mesa        Móveis          150.00      20\n",
    "Cadeira     Móveis          250.00      20\n",
    "\n",
    "Ordene os dados pela coluna \"Preço\", do maior para o menor.\n",
    "Filtrar os dados por produtos com preço acima de 25.\n",
    "Após ordenar e filtrar, salve os resultados em um novo ficheiro CSV chamado \"dados_filtrados.csv\".\n",
    "\n"
   ]
  },
  {
   "cell_type": "markdown",
   "metadata": {},
   "source": [
    "3. Exercicio\n",
    "\n",
    "Criação\n",
    "\n",
    "Crie o ficheiro Excel \"vendas.xlsx\" com os dados fornecidos a seguir.\n",
    "\n",
    "Mês     Vendas\n",
    "\n",
    "Janeiro 2000\n",
    "Fevereiro   3000\n",
    "Março   2500\n",
    "Abril   4000\n",
    "Maio    3500\n",
    "Junho   4500\n",
    "\n",
    "Utilize a biblioteca openpyxl para gerar um gráfico de linha que mostre a evolução das vendas ao longo dos meses.\n",
    "Adicione o gráfico à folha, posionando-o abaixo da tabela de vendas.\n",
    "Salve o ficheiro como \"vendas_com_gráfico.xlsx\"."
   ]
  },
  {
   "cell_type": "code",
   "execution_count": 112,
   "metadata": {},
   "outputs": [],
   "source": [
    "import openpyxl\n"
   ]
  },
  {
   "cell_type": "code",
   "execution_count": 113,
   "metadata": {},
   "outputs": [],
   "source": [
    "# vamos criar um novo arquivo\n",
    "wb = openpyxl.Workbook()\n",
    "wb.create_sheet('vendas.xlsx')\n",
    "wb.save('vendas.xlsx')\n",
    "\n",
    "# abrindo o arquivo\n",
    "vendas = openpyxl.load_workbook('vendas.xlsx')\n",
    "folha = vendas.active\n",
    "\n",
    "# adicionando os dados\n",
    "folha.append(['Mês', 'Vendas'])\n",
    "folha.append(['Janeiro', 2000])\n",
    "folha.append(['Fevereiro', 3000])\n",
    "folha.append(['Março', 2500])\n",
    "folha.append(['Abril', 4000])\n",
    "folha.append(['Maio', 3500])\n",
    "folha.append(['Junho', 4500])\n",
    "\n",
    "# salvando o arquivo\n",
    "vendas.save('vendas.xlsx')\n",
    "\n",
    "# fechando o arquivo    \n",
    "\n"
   ]
  },
  {
   "cell_type": "code",
   "execution_count": 114,
   "metadata": {},
   "outputs": [],
   "source": [
    "from openpyxl.chart import BarChart, Reference, Series"
   ]
  },
  {
   "cell_type": "code",
   "execution_count": 115,
   "metadata": {},
   "outputs": [],
   "source": [
    "\n",
    "folha = vendas.active\n",
    "# criando um gráfico\n",
    "chart = BarChart()\n",
    "chart.type = \"col\"\n",
    "chart.style = 10\n",
    "chart.title = \"Vendas por mês\"\n",
    "chart.x_axis.title = \"Mês\"\n",
    "chart.y_axis.title = \"Vendas\"\n",
    "\n",
    "# criando as referências\n",
    "data = Reference(folha, min_col=2, min_row=1, max_row=7, max_col=2)\n",
    "categories = Reference(folha, min_col=1, min_row=2, max_row=7)\n",
    "\n",
    "# adicionando as referências ao gráfico\n",
    "chart.add_data(data, titles_from_data=True)\n",
    "chart.set_categories(categories)\n",
    "\n",
    "# adicionando o gráfico à planilha\n",
    "folha.add_chart(chart, \"D1\")\n",
    "\n",
    "# salvando o arquivo\n",
    "vendas.save('vendas.xlsx')\n",
    "\n"
   ]
  },
  {
   "cell_type": "code",
   "execution_count": 116,
   "metadata": {},
   "outputs": [
    {
     "name": "stdout",
     "output_type": "stream",
     "text": [
      "['Produto', 'Categoria', 'Preço', 'Quantidade']\n",
      "['Teclado', 'Informatica', '20.0', '100']\n",
      "['Mouse', 'Informatica', '15.0', '200']\n",
      "['Cadeira', 'Móveis', '100.0', '50']\n",
      "['Caneca', 'Utensílios', '5.0', '300']\n",
      "['Mesa', 'Móveis', '150.0', '20']\n",
      "['Móveis', 'Móveis', '250.0', '20']\n"
     ]
    }
   ],
   "source": [
    "# abrindo um arquivo csv \n",
    "\n",
    "import csv\n",
    "\n",
    "# criando um arquivo csv\n",
    "with open('vendas.csv', 'w', newline='') as arquivo:\n",
    "    escritor = csv.writer(arquivo)\n",
    "    escritor.writerow(['Produto', 'Categoria', 'Preço', 'Quantidade'])\n",
    "    escritor.writerow(['Teclado', 'Informatica', 20.00, 100])\n",
    "    escritor.writerow(['Mouse', 'Informatica', 15.00, 200])   \n",
    "    escritor.writerow(['Cadeira', 'Móveis', 100.00, 50])\n",
    "    escritor.writerow(['Caneca', 'Utensílios', 5.00, 300])\n",
    "    escritor.writerow(['Mesa', 'Móveis', 150.00, 20])\n",
    "    escritor.writerow(['Móveis', 'Móveis', 250.00, 20])\n",
    "\n",
    "# salvando o arquivo com latin1\n",
    "with open('vendas.csv', 'r', encoding='latin1') as arquivo:\n",
    "    leitor = csv.reader(arquivo)\n",
    "    for linha in leitor:\n",
    "        print(linha)  \n",
    "\n",
    "arquivo.close()  \n",
    "\n"
   ]
  },
  {
   "cell_type": "code",
   "execution_count": 117,
   "metadata": {},
   "outputs": [
    {
     "name": "stdout",
     "output_type": "stream",
     "text": [
      "['Produto', 'Categoria', 'Preço', 'Quantidade']\n",
      "['Móveis', 'Móveis', '250.0', '20']\n",
      "['Mesa', 'Móveis', '150.0', '20']\n",
      "['Cadeira', 'Móveis', '100.0', '50']\n",
      "['Teclado', 'Informatica', '20.0', '100']\n",
      "['Mouse', 'Informatica', '15.0', '200']\n",
      "['Caneca', 'Utensílios', '5.0', '300']\n"
     ]
    }
   ],
   "source": [
    "# queremos fazer um filtro por preço do maior a o menor\n",
    "with open('vendas.csv', 'r', encoding='latin1') as arquivo:\n",
    "\n",
    "\n",
    "    leitor = csv.reader(arquivo)\n",
    "    header = next(leitor)  # skip the header row\n",
    "    sorted_data = sorted(leitor, key=lambda x: float(x[2]), reverse=True)\n",
    "    print(header)  # print the header row\n",
    "    for linha in sorted_data:\n",
    "        print(linha)\n",
    "    \n",
    "arquivo.close()\n",
    "\n"
   ]
  },
  {
   "cell_type": "code",
   "execution_count": 118,
   "metadata": {},
   "outputs": [
    {
     "name": "stdout",
     "output_type": "stream",
     "text": [
      "<_csv.reader object at 0x000001FB69D9B580>\n",
      "['Produto', 'Categoria', 'Preço', 'Quantidade']\n",
      "['Móveis', 'Móveis', '250.0', '20']\n",
      "['Mesa', 'Móveis', '150.0', '20']\n",
      "['Cadeira', 'Móveis', '100.0', '50']\n",
      "['Teclado', 'Informatica', '20.0', '100']\n",
      "['Mouse', 'Informatica', '15.0', '200']\n",
      "['Caneca', 'Utensílios', '5.0', '300']\n"
     ]
    }
   ],
   "source": [
    "import csv\n",
    "\n",
    "# vamos fazer um filtro para valores acima de 25\n",
    "\n",
    "with open('vendas.csv', 'r', encoding='latin1') as arquivo:\n",
    "\n",
    "    leitor = csv.reader(arquivo)\n",
    "\n",
    "    print(leitor)\n",
    "\n",
    "# queremos fazer um filtro por preço do maior a o menor\n",
    "with open('vendas.csv', 'r', encoding='latin1') as arquivo:\n",
    "\n",
    "\n",
    "    leitor = csv.reader(arquivo)\n",
    "    header = next(leitor)  # skip the header row\n",
    "    sorted_data = sorted(leitor, key=lambda x: float(x[2]), reverse=True)\n",
    "    print(header)  # print the header row\n",
    "    for linha in sorted_data:\n",
    "        print(linha)\n",
    "    \n",
    "arquivo.close()"
   ]
  },
  {
   "cell_type": "code",
   "execution_count": 119,
   "metadata": {},
   "outputs": [],
   "source": [
    "# salvando as informaçoes do filtro \n",
    "with open('produtos_filtrados.csv', 'w', newline='') as arquivo:\n",
    "    escritor = csv.writer(arquivo)\n",
    "    escritor.writerow(header)\n",
    "    for linha in sorted_data:\n",
    "        escritor.writerow(linha)\n",
    "\n",
    "#Ordene os dados pela coluna \"Preço\", do maior para o menor.\n",
    "#Filtrar os dados por produtos com preço acima de 25.\n",
    "\n",
    "\n",
    "\n",
    "#Após ordenar e filtrar, salve os resultados em um novo ficheiro CSV chamado \"dados_filtrados.csv\"."
   ]
  },
  {
   "cell_type": "code",
   "execution_count": 120,
   "metadata": {},
   "outputs": [
    {
     "name": "stdout",
     "output_type": "stream",
     "text": [
      "['Produto', 'Categoria', 'Preço', 'Quantidade']\n",
      "['Teclado', 'Informatica', '20.0', '100']\n",
      "['Mouse', 'Informatica', '15.0', '200']\n",
      "['Cadeira', 'Móveis', '100.0', '50']\n",
      "['Caneca', 'Utensílios', '5.0', '300']\n",
      "['Mesa', 'Móveis', '150.0', '20']\n",
      "['Móveis', 'Móveis', '250.0', '20']\n"
     ]
    }
   ],
   "source": [
    "import csv\n",
    "\n",
    "# Caminho para o arquivo CSV\n",
    "caminho_arquivo_csv = \"vendas.csv\"\n",
    "\n",
    "# Abrir e ler o arquivo CSV\n",
    "with open(caminho_arquivo_csv, mode='r', encoding='latin1') as arquivo_csv:\n",
    "    leitor_csv = csv.reader(arquivo_csv)\n",
    "    \n",
    "    # Iterar sobre as linhas do arquivo CSV e imprimir o conteúdo\n",
    "    for linha in leitor_csv:\n",
    "        print(linha)\n",
    "\n",
    "\n",
    "\n"
   ]
  },
  {
   "cell_type": "code",
   "execution_count": 121,
   "metadata": {},
   "outputs": [
    {
     "name": "stdout",
     "output_type": "stream",
     "text": [
      "Defaulting to user installation because normal site-packages is not writeable\n",
      "Requirement already satisfied: pandas in c:\\users\\sdfri\\appdata\\local\\packages\\pythonsoftwarefoundation.python.3.12_qbz5n2kfra8p0\\localcache\\local-packages\\python312\\site-packages (2.2.3)\n",
      "Requirement already satisfied: numpy>=1.26.0 in c:\\users\\sdfri\\appdata\\local\\packages\\pythonsoftwarefoundation.python.3.12_qbz5n2kfra8p0\\localcache\\local-packages\\python312\\site-packages (from pandas) (2.2.1)\n",
      "Requirement already satisfied: python-dateutil>=2.8.2 in c:\\users\\sdfri\\appdata\\local\\packages\\pythonsoftwarefoundation.python.3.12_qbz5n2kfra8p0\\localcache\\local-packages\\python312\\site-packages (from pandas) (2.9.0.post0)\n",
      "Requirement already satisfied: pytz>=2020.1 in c:\\users\\sdfri\\appdata\\local\\packages\\pythonsoftwarefoundation.python.3.12_qbz5n2kfra8p0\\localcache\\local-packages\\python312\\site-packages (from pandas) (2024.2)\n",
      "Requirement already satisfied: tzdata>=2022.7 in c:\\users\\sdfri\\appdata\\local\\packages\\pythonsoftwarefoundation.python.3.12_qbz5n2kfra8p0\\localcache\\local-packages\\python312\\site-packages (from pandas) (2024.2)\n",
      "Requirement already satisfied: six>=1.5 in c:\\users\\sdfri\\appdata\\local\\packages\\pythonsoftwarefoundation.python.3.12_qbz5n2kfra8p0\\localcache\\local-packages\\python312\\site-packages (from python-dateutil>=2.8.2->pandas) (1.16.0)\n",
      "Note: you may need to restart the kernel to use updated packages.\n"
     ]
    }
   ],
   "source": [
    "%pip install pandas"
   ]
  },
  {
   "cell_type": "code",
   "execution_count": 122,
   "metadata": {},
   "outputs": [
    {
     "name": "stdout",
     "output_type": "stream",
     "text": [
      "   Produto    Categoria  Preço  Quantidade\n",
      "0  Teclado  Informatica   20.0         100\n",
      "2  Cadeira       Móveis  100.0          50\n",
      "4     Mesa       Móveis  150.0          20\n",
      "5   Móveis       Móveis  250.0          20\n"
     ]
    }
   ],
   "source": [
    "import pandas as pd\n",
    "\n",
    "# Caminho para o arquivo CSV\n",
    "caminho_arquivo_csv = \"vendas.csv\"\n",
    "\n",
    "# Ler o arquivo CSV em um DataFrame com a codificação correta\n",
    "df = pd.read_csv(caminho_arquivo_csv, encoding='latin1')\n",
    "\n",
    "# Aplicar filtro\n",
    "filtro = df[df['Preço'] >= 20]  # Substitua 'Produto' pelo nome da coluna e 'Móveis' pelo valor a ser filtrado\n",
    "\n",
    "# Mostrar o resultado filtrado\n",
    "print(filtro)"
   ]
  },
  {
   "cell_type": "code",
   "execution_count": 123,
   "metadata": {},
   "outputs": [
    {
     "name": "stdout",
     "output_type": "stream",
     "text": [
      "{'Produto': 'Cadeira', 'Categoria': 'Móveis', 'Preço': '100.0', 'Quantidade': '50'}\n",
      "{'Produto': 'Mesa', 'Categoria': 'Móveis', 'Preço': '150.0', 'Quantidade': '20'}\n",
      "{'Produto': 'Móveis', 'Categoria': 'Móveis', 'Preço': '250.0', 'Quantidade': '20'}\n"
     ]
    }
   ],
   "source": [
    "import csv\n",
    "\n",
    "# Caminho para o arquivo CSV\n",
    "caminho_arquivo_csv = \"vendas.csv\"\n",
    "\n",
    "# Abrir e ler o arquivo CSV\n",
    "with open(caminho_arquivo_csv, mode='r', encoding='latin1') as arquivo_csv:\n",
    "    leitor_csv = csv.DictReader(arquivo_csv)\n",
    "    filtro = 25  # Valor a ser filtrado\n",
    "\n",
    "    # Iterar sobre as linhas do arquivo CSV e aplicar o filtro\n",
    "    for linha in leitor_csv:\n",
    "        if float(linha['Preço']) >= filtro:  # Converter o valor da coluna 'Preço' para float\n",
    "            print(linha)\n"
   ]
  },
  {
   "cell_type": "code",
   "execution_count": 124,
   "metadata": {},
   "outputs": [
    {
     "name": "stdout",
     "output_type": "stream",
     "text": [
      "['Produto', 'Categoria', 'Preço', 'Quantidade']\n",
      "['Cadeira', 'Móveis', '100.0', '50']\n",
      "['Mesa', 'Móveis', '150.0', '20']\n",
      "['Móveis', 'Móveis', '250.0', '20']\n"
     ]
    }
   ],
   "source": [
    "import csv\n",
    "\n",
    "# Caminho para o arquivo CSV\n",
    "caminho_arquivo_csv = \"vendas.csv\"\n",
    "\n",
    "# Abrir e ler o arquivo CSV\n",
    "with open(caminho_arquivo_csv, mode='r', encoding='latin1') as arquivo_csv:\n",
    "    leitor_csv = csv.reader(arquivo_csv)\n",
    "    cabecalho = next(leitor_csv)  # Ler o cabeçalho\n",
    "    filtro = 25.0  # Valor mínimo para o filtro\n",
    "\n",
    "    # Filtrar as linhas usando list comprehension\n",
    "    linhas_filtradas = [linha for linha in leitor_csv if float(linha[2].replace(',', '.')) > filtro]\n",
    "\n",
    "    # Mostrar o cabeçalho\n",
    "    print(cabecalho)\n",
    "\n",
    "    # Mostrar as linhas filtradas\n",
    "    for linha in linhas_filtradas:\n",
    "        print(linha)\n"
   ]
  },
  {
   "cell_type": "code",
   "execution_count": 125,
   "metadata": {},
   "outputs": [
    {
     "name": "stdout",
     "output_type": "stream",
     "text": [
      "['Produto', 'Categoria', 'Preço', 'Quantidade']\n",
      "['Cadeira', 'Móveis', '100.0', '50']\n",
      "['Mesa', 'Móveis', '150.0', '20']\n",
      "['Móveis', 'Móveis', '250.0', '20']\n"
     ]
    }
   ],
   "source": [
    "import csv\n",
    "\n",
    "# Caminho para o arquivo CSV\n",
    "caminho_arquivo_csv = \"vendas.csv\"\n",
    "\n",
    "# Abrir e ler o arquivo CSV\n",
    "with open(caminho_arquivo_csv, mode='r', encoding='latin1') as arquivo_csv:\n",
    "    leitor_csv = csv.reader(arquivo_csv)\n",
    "    cabecalho = next(leitor_csv)  # Ler o cabeçalho\n",
    "    filtro = 25.0  # Valor a ser filtrado\n",
    "\n",
    "    # Filtrar as linhas usando list comprehension\n",
    "    linhas_filtradas = [linha for linha in leitor_csv if float(linha[2]) >= filtro]\n",
    "\n",
    "    # Mostrar o cabeçalho\n",
    "    print(cabecalho)\n",
    "\n",
    "    # Mostrar as linhas filtradas\n",
    "    for linha in linhas_filtradas:\n",
    "        print(linha)\n",
    "\n"
   ]
  },
  {
   "cell_type": "code",
   "execution_count": 126,
   "metadata": {},
   "outputs": [
    {
     "name": "stdout",
     "output_type": "stream",
     "text": [
      "20.0\n",
      "15.0\n",
      "100.0\n",
      "5.0\n",
      "150.0\n",
      "250.0\n"
     ]
    }
   ],
   "source": [
    "import csv\n",
    "\n",
    "# Caminho para o arquivo CSV\n",
    "caminho_arquivo_csv = \"vendas.csv\"\n",
    "\n",
    "# Abrir e ler o arquivo CSV\n",
    "with open(caminho_arquivo_csv, mode='r', encoding='latin1') as arquivo_csv:\n",
    "    leitor_csv = csv.reader(arquivo_csv)\n",
    "    cabecalho = next(leitor_csv)  # Ler o cabeçalho\n",
    "\n",
    "    # Iterar sobre as linhas do arquivo CSV e mostrar os preços\n",
    "    for linha in leitor_csv:\n",
    "        print(linha[2])\n"
   ]
  },
  {
   "cell_type": "code",
   "execution_count": 127,
   "metadata": {},
   "outputs": [
    {
     "name": "stdout",
     "output_type": "stream",
     "text": [
      "Todos os preços: ['20.0', '15.0', '100.0', '5.0', '150.0', '250.0']\n",
      "['Produto', 'Categoria', 'Preço', 'Quantidade']\n"
     ]
    }
   ],
   "source": [
    "import csv\n",
    "\n",
    "# Caminho para o arquivo CSV\n",
    "caminho_arquivo_csv = \"vendas.csv\"\n",
    "\n",
    "# Abrir e ler o arquivo CSV\n",
    "with open(caminho_arquivo_csv, mode='r', encoding='latin1') as arquivo_csv:\n",
    "    leitor_csv = csv.reader(arquivo_csv)\n",
    "    cabecalho = next(leitor_csv)  # Ler o cabeçalho\n",
    "    filtro = 25.0  # Valor a ser filtrado\n",
    "\n",
    "    # Mostrar todos os preços da coluna\n",
    "    precos = [linha[2] for linha in leitor_csv]\n",
    "    print(\"Todos os preços:\", precos)\n",
    "\n",
    "    # Voltar ao início do arquivo para aplicar o filtro\n",
    "    arquivo_csv.seek(0)\n",
    "    leitor_csv = csv.reader(arquivo_csv)\n",
    "    next(leitor_csv)  # Pular o cabeçalho novamente\n",
    "\n",
    "    # Filtrar as linhas usando list comprehension\n",
    "    linhas_filtradas = [linha for linha in leitor_csv if float(linha[2].replace(',', '.')) == filtro]\n",
    "\n",
    "    # Mostrar o cabeçalho\n",
    "    print(cabecalho)\n",
    "\n",
    "    # Mostrar as linhas filtradas\n",
    "    for linha in linhas_filtradas:\n",
    "        print(linha)\n"
   ]
  },
  {
   "cell_type": "code",
   "execution_count": 138,
   "metadata": {},
   "outputs": [],
   "source": [
    "def fazer_filtro_por_valor_no_arquivo_vendas_csv(valor):\n",
    "\n",
    "    # importando a lib do csv\n",
    "    import csv\n",
    "\n",
    "    # importando a arquivo csv\n",
    "    caminho_do_arquivo = \"vendas.csv\"\n",
    "\n",
    "    ## abrindo o leitor \n",
    "    with open(caminho_arquivo_csv, mode=\"r\", encoding=\"latin1\") as arquivo_csv:\n",
    "\n",
    "        leitor_csv = csv.reader(arquivo_csv)\n",
    "        cabecalho = next(leitor_csv) # ler a primeira linha\n",
    "        filtro = float(valor) # valor do filtro\n",
    "\n",
    "        # mostrando todos os preços da coluna\n",
    "        precos = [linha[2] for linha in leitor_csv]\n",
    "        print(f\"Buscando todos os preços: {precos}\")\n",
    "        print(type(filtro))\n",
    "\n",
    "        # voltar ao inicio do arquivo para aplicar o filtro\n",
    "        arquivo_csv.seek(0)\n",
    "        leitor_csv = csv.reader(arquivo_csv)\n",
    "        cabecalho = next(leitor_csv) # ler a primeira linha\n",
    "\n",
    "        # filtrar as linhas usando um loop for tradicional\n",
    "        linhas_filtradas = []\n",
    "        for linha in leitor_csv:\n",
    "            preco = float(linha[2].replace(',','.'))\n",
    "            if preco > filtro:\n",
    "                linhas_filtradas.append(linha)\n",
    "        \"\"\" # Filtrar as linhas usando list comprehension\n",
    "        linhas_filtradas = [linha for linha in leitor_csv if float(linha[2].replace(',', '.')) >= filtro] \"\"\"\n",
    "        #mostra o cabeçalho\n",
    "        print(cabecalho)\n",
    "\n",
    "        # mostrando os valores do filtro\n",
    "        for linha in linhas_filtradas:\n",
    "            print(linha)\n",
    "\n",
    "        \n",
    "    ## salvando relatorio com todos os valores baseado no filtro\n",
    "    with open(f'dados_filtrado_por_{valor}.csv', 'w', newline='', encoding='latin1') as arquivo_filtado:\n",
    "\n",
    "        escritor = csv.writer(arquivo_filtado)\n",
    "        escritor.writerow(cabecalho)\n",
    "        escritor.writerows(linhas_filtradas)\n",
    "\n",
    "\n",
    "\n",
    "\n",
    "\n",
    "  \n",
    "\n"
   ]
  },
  {
   "cell_type": "code",
   "execution_count": 129,
   "metadata": {},
   "outputs": [],
   "source": []
  },
  {
   "cell_type": "code",
   "execution_count": 143,
   "metadata": {},
   "outputs": [
    {
     "name": "stdout",
     "output_type": "stream",
     "text": [
      "Buscando todos os preços: ['20.0', '15.0', '100.0', '5.0', '150.0', '250.0']\n",
      "<class 'float'>\n",
      "['Produto', 'Categoria', 'Preço', 'Quantidade']\n",
      "['Cadeira', 'Móveis', '100.0', '50']\n",
      "['Mesa', 'Móveis', '150.0', '20']\n",
      "['Móveis', 'Móveis', '250.0', '20']\n"
     ]
    }
   ],
   "source": [
    "fazer_filtro_por_valor_no_arquivo_vendas_csv(20)"
   ]
  }
 ],
 "metadata": {
  "kernelspec": {
   "display_name": "Python 3",
   "language": "python",
   "name": "python3"
  },
  "language_info": {
   "codemirror_mode": {
    "name": "ipython",
    "version": 3
   },
   "file_extension": ".py",
   "mimetype": "text/x-python",
   "name": "python",
   "nbconvert_exporter": "python",
   "pygments_lexer": "ipython3",
   "version": "3.12.8"
  }
 },
 "nbformat": 4,
 "nbformat_minor": 2
}

{
 "cells": [
  {
   "cell_type": "markdown",
   "metadata": {},
   "source": [
    "1. Exercicio\n",
    "\n",
    "Criação\n",
    "\n",
    "Crie um ficheiro Excel chamado \"dados.xlsx\" com os dados fornecidos a seguir, utilizando a biblioteca openpyxl.\n",
    "\n",
    "Nome      | Idade | Nota Matematica | Nota de Português | Nota Ciências \n",
    "\n",
    "João      | 16      | 8             | 7                 |  6\n",
    "Maria     |  17    |  19            |  12               | 14\n",
    "Pedro     |  16     | 6             | 9                 | 10    \n",
    "Ana       | 18      |   15          | 20                | 17    \n",
    "\n",
    "\n",
    "Adicione uma nova coluna chamada \"Avaliação\" em cada disciplina ( Matematica, Portugues e Ciencias).\n",
    "\n",
    "A coluna Avaliação deve conter o valor \" Suficiente \" se a nota for igual ou superior a 10, ou \" Insuficiente \" se for inferior a 10.\n",
    "\n",
    "\n",
    "    Crie uma nova folha chamada \" Resumo \", que deve incluir:\n",
    "        O número total de alunos\n",
    "        A quantidade de notas suficientes e insuficientes por disciplina ( Matematica, Portugues, Ciencias)\n",
    "    Salve o ficheiro modificado como \"dados_analise.xlsx\"\n"
   ]
  },
  {
   "cell_type": "code",
   "execution_count": 8,
   "metadata": {},
   "outputs": [],
   "source": [
    "import openpyxl\n",
    "\n",
    "\n",
    "wb = openpyxl.load_workbook('notas (1).xlsx')"
   ]
  },
  {
   "cell_type": "code",
   "execution_count": 9,
   "metadata": {},
   "outputs": [
    {
     "name": "stdout",
     "output_type": "stream",
     "text": [
      "['Provas', 'Vendas']\n"
     ]
    }
   ],
   "source": [
    "# com este comando, podemos ver todas as planilhas que existem no arquivo\n",
    "print(wb.sheetnames)"
   ]
  },
  {
   "cell_type": "code",
   "execution_count": 12,
   "metadata": {},
   "outputs": [
    {
     "name": "stdout",
     "output_type": "stream",
     "text": [
      "Provas\n"
     ]
    }
   ],
   "source": [
    "# com este comando, podemos ver a planilha que queremos\n",
    "folha_um = wb.sheetnames[0]\n",
    "print(folha_um)"
   ]
  },
  {
   "cell_type": "code",
   "execution_count": 15,
   "metadata": {},
   "outputs": [
    {
     "name": "stdout",
     "output_type": "stream",
     "text": [
      "<Worksheet \"Provas\">\n"
     ]
    }
   ],
   "source": [
    "# pegando uma referencia da planilha\n",
    "folha_dois = wb[folha_um]\n",
    "print(folha_dois)\n"
   ]
  },
  {
   "cell_type": "markdown",
   "metadata": {},
   "source": [
    "2. Exercicio\n",
    "\n",
    "Criação\n",
    "\n",
    "Crie o ficheiro \"dados.csv\" com os dados fornecidos, utilizando a biblioteca csv.\n",
    "\n",
    "Produto     Categoria       Preço       Quantidade\n",
    "\n",
    "Teclado     Informatica     20.00       100\n",
    "Mouse       Informatica     15.00       200\n",
    "Cadeira     Móveis          100.00      50\n",
    "Caneca      Utensílios      5.00        300\n",
    "Mesa        Móveis          150.00      20\n",
    "Cadeira     Móveis          250.00      20\n",
    "\n",
    "Ordene os dados pela coluna \"Preço\", do maior para o mentor.\n",
    "Filtrar os dados por produtos com preço acima de 25.\n",
    "Após ordenar e filtrar, salve os resultados em um novo ficheiro CSV chamado \"dados_filtrados.csv\".\n",
    "\n"
   ]
  },
  {
   "cell_type": "markdown",
   "metadata": {},
   "source": [
    "3. Exercicio\n",
    "\n",
    "Criação\n",
    "\n",
    "Crie o ficheiro Excel \"vendas.xlsx\" com os dados fornecidos a seguir.\n",
    "\n",
    "Mês     Vendas\n",
    "\n",
    "Janeiro 2000\n",
    "Fevereiro   3000\n",
    "Março   2500\n",
    "Abril   4000\n",
    "Maio    3500\n",
    "Junho   4500\n",
    "\n",
    "Utilize a biblioteca openpyxl para gerar um gráfico de linha que mostre a evolução das vendas ao longo dos meses.\n",
    "Adicione o gráfico à folha, posionando-o abaixo da tabela de vendas.\n",
    "Salve o ficheiro como \"vendas_com_gráfico.xlsx\"."
   ]
  }
 ],
 "metadata": {
  "kernelspec": {
   "display_name": "Python 3",
   "language": "python",
   "name": "python3"
  },
  "language_info": {
   "codemirror_mode": {
    "name": "ipython",
    "version": 3
   },
   "file_extension": ".py",
   "mimetype": "text/x-python",
   "name": "python",
   "nbconvert_exporter": "python",
   "pygments_lexer": "ipython3",
   "version": "3.12.8"
  }
 },
 "nbformat": 4,
 "nbformat_minor": 2
}

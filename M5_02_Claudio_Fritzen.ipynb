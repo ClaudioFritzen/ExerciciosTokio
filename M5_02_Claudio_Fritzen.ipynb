{
 "cells": [
  {
   "cell_type": "markdown",
   "metadata": {},
   "source": [
    "1. Exercicio\n",
    "\n",
    "Criação\n",
    "\n",
    "Crie um ficheiro Excel chamado \"dados.xlsx\" com os dados fornecidos a seguir, utilizando a biblioteca openpyxl.\n",
    "\n",
    "Nome      | Idade | Nota Matematica | Nota de Português | Nota Ciências \n",
    "\n",
    "João      | 16      | 8             | 7                 |  6\n",
    "Maria     |  17    |  19            |  12               | 14\n",
    "Pedro     |  16     | 6             | 9                 | 10    \n",
    "Ana       | 18      |   15          | 20                | 17    \n",
    "\n",
    "\n",
    "Adicione uma nova coluna chamada \"Avaliação\" em cada disciplina ( Matematica, Portugues e Ciencias).\n",
    "\n",
    "A coluna Avaliação deve conter o valor \" Suficiente \" se a nota for igual ou superior a 10, ou \" Insuficiente \" se for inferior a 10.\n",
    "\n",
    "\n",
    "    Crie uma nova folha chamada \" Resumo \", que deve incluir:\n",
    "        O número total de alunos\n",
    "        A quantidade de notas suficientes e insuficientes por disciplina ( Matematica, Portugues, Ciencias)\n",
    "    Salve o ficheiro modificado como \"dados_analise.xlsx\"\n"
   ]
  },
  {
   "cell_type": "code",
   "execution_count": 2,
   "metadata": {},
   "outputs": [],
   "source": [
    "import openpyxl\n",
    "\n",
    "\n",
    "wb = openpyxl.load_workbook('notas (1).xlsx')"
   ]
  },
  {
   "cell_type": "code",
   "execution_count": 5,
   "metadata": {},
   "outputs": [],
   "source": [
    "import openpyxl"
   ]
  },
  {
   "cell_type": "code",
   "execution_count": null,
   "metadata": {},
   "outputs": [],
   "source": [
    "# com este comando, podemos ver todas as planilhas que existem no arquivo\n",
    "print(wb.sheetnames)"
   ]
  },
  {
   "cell_type": "code",
   "execution_count": null,
   "metadata": {},
   "outputs": [],
   "source": [
    "# com este comando, podemos ver a planilha que queremos\n",
    "folha_um = wb.sheetnames[0]\n",
    "print(folha_um)"
   ]
  },
  {
   "cell_type": "code",
   "execution_count": null,
   "metadata": {},
   "outputs": [],
   "source": [
    "# pegando uma referencia da planilha\n",
    "folha_dois = wb[folha_um]\n",
    "print(folha_dois)\n"
   ]
  },
  {
   "cell_type": "code",
   "execution_count": 7,
   "metadata": {},
   "outputs": [],
   "source": [
    "# com este comando. podemos adicionar uma linha na planilha\n",
    "\n",
    "folha_dois.append(['Claudio', '28', '8', '7', '9'])\n",
    "\n",
    "wb.save('notas (1).xlsx')"
   ]
  },
  {
   "cell_type": "code",
   "execution_count": 13,
   "metadata": {},
   "outputs": [],
   "source": [
    "# Com esse comando conseguimos criar uma nova planilha  \n",
    "nova_folha = wb.create_sheet('Resumo')"
   ]
  },
  {
   "cell_type": "code",
   "execution_count": 14,
   "metadata": {},
   "outputs": [],
   "source": [
    "wb.save('notas.xlsx')"
   ]
  },
  {
   "cell_type": "code",
   "execution_count": 11,
   "metadata": {},
   "outputs": [],
   "source": [
    "# tentaremos criar uma novo arquivo com as notas dos alunos \n",
    "nova_planilha = wb.create_sheet('Notas dos alunos')\n",
    "\n",
    "wb.save(\"nova_planilha.xlsx\")"
   ]
  },
  {
   "cell_type": "code",
   "execution_count": 15,
   "metadata": {},
   "outputs": [],
   "source": [
    "wb.close()"
   ]
  },
  {
   "cell_type": "code",
   "execution_count": 90,
   "metadata": {},
   "outputs": [],
   "source": [
    "## agora vamos criar um novo arquivo com as notas dos alunos\n",
    "\n",
    "dados = openpyxl.Workbook()\n",
    "\n",
    "dados.create_sheet('Dados.xlsx')\n",
    "\n",
    "dados.save('Dados.xlsx')\n"
   ]
  },
  {
   "cell_type": "code",
   "execution_count": 91,
   "metadata": {},
   "outputs": [],
   "source": [
    "# criando um arquivo com as notas dos alunos\n",
    "dados = openpyxl.load_workbook('Dados.xlsx')\n",
    "folha = dados['Dados.xlsx']\n",
    "\n",
    "folha.append(['Nome', 'Idade', 'Nota Matematica', 'Nota Português', 'Nota Ciências'])\n",
    "folha.append(['Claudio', '28', '8', '7', '9'])\n",
    "folha.append(['João', '16', '8', '7', '6'])\n",
    "folha.append(['Maria', '17', '19', '12', '14'])  \n",
    "folha.append(['Pedro', '16', '6', '9', '10'])\n",
    "folha.append(['Ana', '18', '15', '20', '17'])\n",
    "\n",
    "dados.save('Dados.xlsx')\n"
   ]
  },
  {
   "cell_type": "code",
   "execution_count": 92,
   "metadata": {},
   "outputs": [],
   "source": [
    "dados.remove(dados['Sheet'])\n"
   ]
  },
  {
   "cell_type": "code",
   "execution_count": 93,
   "metadata": {},
   "outputs": [],
   "source": [
    "dados.save('Dados.xlsx')"
   ]
  },
  {
   "cell_type": "code",
   "execution_count": 94,
   "metadata": {},
   "outputs": [],
   "source": [
    "dados.close()"
   ]
  },
  {
   "cell_type": "code",
   "execution_count": 6,
   "metadata": {},
   "outputs": [
    {
     "name": "stdout",
     "output_type": "stream",
     "text": [
      "['Dados.xlsx']\n"
     ]
    }
   ],
   "source": [
    "# aqui estamos abrindo um arquivo ja existente\n",
    "lendo_notas = openpyxl.load_workbook('Dados.xlsx')\n",
    "print(lendo_notas.sheetnames)"
   ]
  },
  {
   "cell_type": "code",
   "execution_count": 70,
   "metadata": {},
   "outputs": [],
   "source": [
    "# criando um title\n",
    "lendo_notas.title = \"Resumo\"\n",
    "lendo_notas.save('Dados.xlsx')\n"
   ]
  },
  {
   "cell_type": "code",
   "execution_count": 96,
   "metadata": {},
   "outputs": [],
   "source": [
    "modificando = lendo_notas.active.cell(row=1, column=6, value=\"Avaliação Matematica\")\n",
    "modificando = lendo_notas.active.cell(row=1, column=7, value=\"Avaliação Português\")\n",
    "modificando = lendo_notas.active.cell(row=1, column=8, value=\"Avaliação Ciências\")"
   ]
  },
  {
   "cell_type": "code",
   "execution_count": 97,
   "metadata": {},
   "outputs": [],
   "source": [
    "lendo_notas.save('Dados.xlsx')"
   ]
  },
  {
   "cell_type": "code",
   "execution_count": 12,
   "metadata": {},
   "outputs": [
    {
     "name": "stdout",
     "output_type": "stream",
     "text": [
      "Reprovado\n",
      "Reprovado\n",
      "Reprovado\n",
      "Reprovado\n",
      "Reprovado\n",
      "Reprovado\n",
      "Aprovado\n",
      "Aprovado\n",
      "Aprovado\n",
      "Reprovado\n",
      "Reprovado\n",
      "Aprovado\n",
      "Aprovado\n",
      "Aprovado\n",
      "Aprovado\n"
     ]
    }
   ],
   "source": [
    "for linha in lendo_notas.active.iter_rows(min_row=2, max_row=6, min_col=3, max_col=5):\n",
    "    for celula in linha:\n",
    "        try:\n",
    "            if int(celula.value) < 10:\n",
    "                celula.value = 'Reprovado'\n",
    "\n",
    "            else:\n",
    "                celula.value = 'Aprovado'\n",
    "        except ValueError:\n",
    "            pass\n",
    "       \n",
    "        # queremos atribuir um valor a uma celula\n",
    "        \n",
    "        print(celula.value)\n"
   ]
  },
  {
   "cell_type": "code",
   "execution_count": 108,
   "metadata": {},
   "outputs": [],
   "source": [
    "lendo_notas.save('Dados.xlsx')"
   ]
  },
  {
   "cell_type": "code",
   "execution_count": 14,
   "metadata": {},
   "outputs": [
    {
     "name": "stdout",
     "output_type": "stream",
     "text": [
      "5\n"
     ]
    }
   ],
   "source": [
    "# pegando a quantidade de alunos, baseado na quantidade de linhas\n",
    "quantidade_de_alunos = lendo_notas.active.max_row - 1\n",
    "print(quantidade_de_alunos)"
   ]
  },
  {
   "cell_type": "code",
   "execution_count": null,
   "metadata": {},
   "outputs": [
    {
     "name": "stdout",
     "output_type": "stream",
     "text": [
      "5\n"
     ]
    },
    {
     "data": {
      "text/plain": [
       "' \\nfor row in qtd_alunos_por_celula:\\n    for cell in row:\\n        # com esse print, saberemos os nomes dos alunos\\n        print(cell.value)\\n        print(len(qtd_alunos_por_celula))\\n\\n  '"
      ]
     },
     "execution_count": 34,
     "metadata": {},
     "output_type": "execute_result"
    }
   ],
   "source": [
    "# pegando a quantidade de alunos por celulas\n",
    "\n",
    "folha = lendo_notas.active\n",
    "qtd_alunos_por_celula = folha[\"A2:A6\"]\n",
    "\n",
    "print(len(qtd_alunos_por_celula))\n",
    "\n",
    "\"\"\" \n",
    "for row in qtd_alunos_por_celula:\n",
    "    for cell in row:\n",
    "        # com esse print, saberemos os nomes dos alunos\n",
    "        print(cell.value)\n",
    "        print(len(qtd_alunos_por_celula))\n",
    "\n",
    "  \"\"\""
   ]
  },
  {
   "cell_type": "code",
   "execution_count": 79,
   "metadata": {},
   "outputs": [
    {
     "name": "stdout",
     "output_type": "stream",
     "text": [
      "Insuficiente\n",
      "Insuficiente\n",
      "Insuficiente\n",
      "Insuficiente\n",
      "Insuficiente\n",
      "Insuficiente\n",
      "Insuficiente\n",
      "Insuficiente\n",
      "Insuficiente\n",
      "Insuficiente\n",
      "Insuficiente\n",
      "Insuficiente\n",
      "Insuficiente\n",
      "Insuficiente\n",
      "Insuficiente\n"
     ]
    }
   ],
   "source": [
    "# mostrando todas as linhas da planilha\n",
    "for row in lendo_notas.active.iter_rows(min_row=2, max_row=6, min_col=3, max_col=5):\n",
    "    for cell in row:\n",
    "        try:\n",
    "            if int(cell.value) < 10:\n",
    "                cell.value = 'Insuficiente'\n",
    "            else:\n",
    "                cell.value = 'Suficiente'\n",
    "        except ValueError:\n",
    "            cell.value = 'Insuficiente'\n",
    "        print(cell.value)\n",
    "\n",
    "#lendo_notas.save('Dados.xlsx')"
   ]
  },
  {
   "cell_type": "code",
   "execution_count": 76,
   "metadata": {},
   "outputs": [
    {
     "data": {
      "text/plain": [
       "<Cell 'Dados.xlsx'.F1>"
      ]
     },
     "execution_count": 76,
     "metadata": {},
     "output_type": "execute_result"
    }
   ],
   "source": [
    "# agora temos todas as siturações dos alunos | queremos criar uma nova coluna com a situação dos alunos\n",
    "lendo_notas.active.cell(row=1, column=6, value=\"Situação\")\n",
    "\n"
   ]
  },
  {
   "cell_type": "markdown",
   "metadata": {},
   "source": [
    "2. Exercicio\n",
    "\n",
    "Criação\n",
    "\n",
    "Crie o ficheiro \"dados.csv\" com os dados fornecidos, utilizando a biblioteca csv.\n",
    "\n",
    "Produto     Categoria       Preço       Quantidade\n",
    "\n",
    "Teclado     Informatica     20.00       100\n",
    "Mouse       Informatica     15.00       200\n",
    "Cadeira     Móveis          100.00      50\n",
    "Caneca      Utensílios      5.00        300\n",
    "Mesa        Móveis          150.00      20\n",
    "Cadeira     Móveis          250.00      20\n",
    "\n",
    "Ordene os dados pela coluna \"Preço\", do maior para o mentor.\n",
    "Filtrar os dados por produtos com preço acima de 25.\n",
    "Após ordenar e filtrar, salve os resultados em um novo ficheiro CSV chamado \"dados_filtrados.csv\".\n",
    "\n"
   ]
  },
  {
   "cell_type": "markdown",
   "metadata": {},
   "source": [
    "3. Exercicio\n",
    "\n",
    "Criação\n",
    "\n",
    "Crie o ficheiro Excel \"vendas.xlsx\" com os dados fornecidos a seguir.\n",
    "\n",
    "Mês     Vendas\n",
    "\n",
    "Janeiro 2000\n",
    "Fevereiro   3000\n",
    "Março   2500\n",
    "Abril   4000\n",
    "Maio    3500\n",
    "Junho   4500\n",
    "\n",
    "Utilize a biblioteca openpyxl para gerar um gráfico de linha que mostre a evolução das vendas ao longo dos meses.\n",
    "Adicione o gráfico à folha, posionando-o abaixo da tabela de vendas.\n",
    "Salve o ficheiro como \"vendas_com_gráfico.xlsx\"."
   ]
  }
 ],
 "metadata": {
  "kernelspec": {
   "display_name": "Python 3",
   "language": "python",
   "name": "python3"
  },
  "language_info": {
   "codemirror_mode": {
    "name": "ipython",
    "version": 3
   },
   "file_extension": ".py",
   "mimetype": "text/x-python",
   "name": "python",
   "nbconvert_exporter": "python",
   "pygments_lexer": "ipython3",
   "version": "3.12.8"
  }
 },
 "nbformat": 4,
 "nbformat_minor": 2
}

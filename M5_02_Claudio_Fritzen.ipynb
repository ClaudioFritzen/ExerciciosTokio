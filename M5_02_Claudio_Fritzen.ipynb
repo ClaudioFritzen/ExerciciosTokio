{
 "cells": [
  {
   "cell_type": "markdown",
   "metadata": {},
   "source": [
    "1. Exercicio\n",
    "\n",
    "Criação\n",
    "\n",
    "Crie um ficheiro Excel chamado \"dados.xlsx\" com os dados fornecidos a seguir, utilizando a biblioteca openpyxl.\n",
    "\n",
    "Nome      | Idade | Nota Matematica | Nota de Português | Nota Ciências \n",
    "\n",
    "João      | 16      | 8             | 7                 |  6\n",
    "Maria     |  17    |  19            |  12               | 14\n",
    "Pedro     |  16     | 6             | 9                 | 10    \n",
    "Ana       | 18      |   15          | 20                | 17    \n",
    "\n",
    "\n",
    "Adicione uma nova coluna chamada \"Avaliação\" em cada disciplina ( Matematica, Portugues e Ciencias).\n",
    "\n",
    "A coluna Avaliação deve conter o valor \" Suficiente \" se a nota for igual ou superior a 10, ou \" Insuficiente \" se for inferior a 10.\n",
    "\n",
    "\n",
    "    Crie uma nova folha chamada \" Resumo \", que deve incluir:\n",
    "        O número total de alunos\n",
    "        A quantidade de notas suficientes e insuficientes por disciplina ( Matematica, Portugues, Ciencias)\n",
    "    Salve o ficheiro modificado como \"dados_analise.xlsx\"\n"
   ]
  },
  {
   "cell_type": "code",
   "execution_count": 2,
   "metadata": {},
   "outputs": [],
   "source": [
    "import openpyxl\n",
    "\n",
    "\n",
    "wb = openpyxl.load_workbook('notas (1).xlsx')"
   ]
  },
  {
   "cell_type": "code",
   "execution_count": null,
   "metadata": {},
   "outputs": [],
   "source": []
  },
  {
   "cell_type": "code",
   "execution_count": 2,
   "metadata": {},
   "outputs": [],
   "source": [
    "import openpyxl"
   ]
  },
  {
   "cell_type": "code",
   "execution_count": null,
   "metadata": {},
   "outputs": [],
   "source": [
    "# com este comando, podemos ver todas as planilhas que existem no arquivo\n",
    "print(wb.sheetnames)"
   ]
  },
  {
   "cell_type": "code",
   "execution_count": null,
   "metadata": {},
   "outputs": [],
   "source": [
    "# com este comando, podemos ver a planilha que queremos\n",
    "folha_um = wb.sheetnames[0]\n",
    "print(folha_um)"
   ]
  },
  {
   "cell_type": "code",
   "execution_count": null,
   "metadata": {},
   "outputs": [],
   "source": [
    "# pegando uma referencia da planilha\n",
    "folha_dois = wb[folha_um]\n",
    "print(folha_dois)\n"
   ]
  },
  {
   "cell_type": "code",
   "execution_count": 7,
   "metadata": {},
   "outputs": [],
   "source": [
    "# com este comando. podemos adicionar uma linha na planilha\n",
    "\n",
    "folha_dois.append(['Claudio', '28', '8', '7', '9'])\n",
    "\n",
    "wb.save('notas (1).xlsx')"
   ]
  },
  {
   "cell_type": "code",
   "execution_count": 13,
   "metadata": {},
   "outputs": [],
   "source": [
    "# Com esse comando conseguimos criar uma nova planilha  \n",
    "nova_folha = wb.create_sheet('Resumo')"
   ]
  },
  {
   "cell_type": "code",
   "execution_count": 14,
   "metadata": {},
   "outputs": [],
   "source": [
    "wb.save('notas.xlsx')"
   ]
  },
  {
   "cell_type": "code",
   "execution_count": 11,
   "metadata": {},
   "outputs": [],
   "source": [
    "# tentaremos criar uma novo arquivo com as notas dos alunos \n",
    "nova_planilha = wb.create_sheet('Notas dos alunos')\n",
    "\n",
    "wb.save(\"nova_planilha.xlsx\")"
   ]
  },
  {
   "cell_type": "code",
   "execution_count": 15,
   "metadata": {},
   "outputs": [],
   "source": [
    "wb.close()"
   ]
  },
  {
   "cell_type": "code",
   "execution_count": 3,
   "metadata": {},
   "outputs": [],
   "source": [
    "## agora vamos criar um novo arquivo com as notas dos alunos\n",
    "\n",
    "dados = openpyxl.Workbook()\n",
    "\n",
    "dados.create_sheet('Dados.xlsx')\n",
    "\n",
    "dados.save('Dados.xlsx')\n"
   ]
  },
  {
   "cell_type": "code",
   "execution_count": 4,
   "metadata": {},
   "outputs": [],
   "source": [
    "# criando um arquivo com as notas dos alunos\n",
    "dados = openpyxl.load_workbook('Dados.xlsx')\n",
    "folha = dados['Dados.xlsx']\n",
    "\n",
    "folha.append(['Nome', 'Idade', 'Nota Matematica', 'Nota Português', 'Nota Ciências'])\n",
    "folha.append(['Claudio', '28', '8', '7', '9'])\n",
    "folha.append(['João', '16', '8', '7', '6'])\n",
    "folha.append(['Maria', '17', '19', '12', '14'])  \n",
    "folha.append(['Pedro', '16', '6', '9', '10'])\n",
    "folha.append(['Ana', '18', '15', '20', '17'])\n",
    "\n",
    "dados.save('Dados.xlsx')\n"
   ]
  },
  {
   "cell_type": "code",
   "execution_count": 5,
   "metadata": {},
   "outputs": [],
   "source": [
    "dados.remove(dados['Sheet'])\n"
   ]
  },
  {
   "cell_type": "code",
   "execution_count": 6,
   "metadata": {},
   "outputs": [],
   "source": [
    "dados.save('Dados.xlsx')"
   ]
  },
  {
   "cell_type": "code",
   "execution_count": 7,
   "metadata": {},
   "outputs": [],
   "source": [
    "dados.close()"
   ]
  },
  {
   "cell_type": "code",
   "execution_count": 8,
   "metadata": {},
   "outputs": [
    {
     "name": "stdout",
     "output_type": "stream",
     "text": [
      "['Dados.xlsx']\n"
     ]
    }
   ],
   "source": [
    "# aqui estamos abrindo um arquivo ja existente\n",
    "lendo_notas = openpyxl.load_workbook('Dados.xlsx')\n",
    "print(lendo_notas.sheetnames)"
   ]
  },
  {
   "cell_type": "code",
   "execution_count": 70,
   "metadata": {},
   "outputs": [],
   "source": [
    "# criando um title\n",
    "lendo_notas.title = \"Resumo\"\n",
    "lendo_notas.save('Dados.xlsx')\n"
   ]
  },
  {
   "cell_type": "code",
   "execution_count": 21,
   "metadata": {},
   "outputs": [
    {
     "name": "stdout",
     "output_type": "stream",
     "text": [
      "Nota de Matemática: 8.0\n",
      "Avaliação de Matemática: Insuficiente\n",
      "Nota de Matemática: 8.0\n",
      "Avaliação de Matemática: Insuficiente\n",
      "Nota de Matemática: 19.0\n",
      "Avaliação de Matemática: Suficiente\n",
      "Nota de Matemática: 6.0\n",
      "Avaliação de Matemática: Insuficiente\n",
      "Nota de Matemática: 15.0\n",
      "Avaliação de Matemática: Suficiente\n"
     ]
    }
   ],
   "source": [
    "modificando = lendo_notas.active.cell(row=1, column=6, value=\"Avaliação Matematica\")\n",
    "modificando = lendo_notas.active.cell(row=1, column=7, value=\"Avaliação Português\")\n",
    "modificando = lendo_notas.active.cell(row=1, column=8, value=\"Avaliação Ciências\")\n",
    "\n",
    "\n",
    "# faremos o for por cada linha da planilha\n",
    "\n",
    "for linha in range(2, lendo_notas.active.max_row + 1):\n",
    "    matematica = lendo_notas.active.cell(row=linha, column=3).value\n",
    "    portugues = lendo_notas.active.cell(row=linha, column=4).value\n",
    "    ciencias = lendo_notas.active.cell(row=linha, column=5).value\n",
    "\n",
    "    \"\"\" print(type(f'Nota de Matemática: {matematica}'))\n",
    "    print(f'Nota de Português: {portugues}')\n",
    "    print(f'Nota de Ciências: {ciencias}') \"\"\"\n",
    "\n",
    "    # convertendo os valores para numeros fluantes\n",
    "    matematica = float(matematica) if matematica is not None else 0\n",
    "    portugues = float(portugues) if portugues is not None else 0\n",
    "    ciencias = float(ciencias) if ciencias is not None else 0\n",
    "\n",
    "    # print com as alterações\n",
    "    print(f'Nota de Matemática: {matematica}')\n",
    "    #print(f'Nota de Português: {portugues}')\n",
    "    #print(f'Nota de Ciências: {ciencias}') \"\"\"\n",
    "\n",
    "    # verificar se as notas são maiores que 10, > 10 = \"Suficente\" < 10 = \"Insuficiente\"\n",
    "\n",
    "    avaliacao_matematica = \"Suficiente\" if matematica >= 10 else \"Insuficiente\"\n",
    "    avalicao_portugues = \"Suficiente\" if portugues >= 10 else \"Insuficiente\"\n",
    "    avaliacao_ciencias = \"Suficiente\" if ciencias >= 10 else \"Insuficiente\"\n",
    "\n",
    "    print(f'Avaliação de Matemática: {avaliacao_matematica}')\n",
    "\n",
    "    # adicionando as avaliações na planilha\n",
    "    lendo_notas.active.cell(row=linha, column=6, value=avaliacao_matematica)\n",
    "    lendo_notas.active.cell(row=linha, column=7, value=avalicao_portugues)\n",
    "    lendo_notas.active.cell(row=linha, column=8, value=avaliacao_ciencias)\n",
    "\n",
    "lendo_notas.save('Novo_relatorio_att.xlsx')\n"
   ]
  },
  {
   "cell_type": "code",
   "execution_count": 108,
   "metadata": {},
   "outputs": [],
   "source": [
    "lendo_notas.save('Dados.xlsx')"
   ]
  },
  {
   "cell_type": "code",
   "execution_count": 22,
   "metadata": {},
   "outputs": [
    {
     "name": "stdout",
     "output_type": "stream",
     "text": [
      "5\n"
     ]
    }
   ],
   "source": [
    "# pegando a quantidade de alunos, baseado na quantidade de linhas\n",
    "quantidade_de_alunos = lendo_notas.active.max_row - 1\n",
    "print(quantidade_de_alunos)"
   ]
  },
  {
   "cell_type": "code",
   "execution_count": null,
   "metadata": {},
   "outputs": [
    {
     "name": "stdout",
     "output_type": "stream",
     "text": [
      "5\n"
     ]
    },
    {
     "data": {
      "text/plain": [
       "' \\nfor row in qtd_alunos_por_celula:\\n    for cell in row:\\n        # com esse print, saberemos os nomes dos alunos\\n        print(cell.value)\\n        print(len(qtd_alunos_por_celula))\\n\\n  '"
      ]
     },
     "execution_count": 34,
     "metadata": {},
     "output_type": "execute_result"
    }
   ],
   "source": [
    "# pegando a quantidade de alunos por celulas\n",
    "\n",
    "folha = lendo_notas.active\n",
    "qtd_alunos_por_celula = folha[\"A2:A6\"]\n",
    "\n",
    "print(len(qtd_alunos_por_celula))\n",
    "\n",
    "\"\"\" \n",
    "for row in qtd_alunos_por_celula:\n",
    "    for cell in row:\n",
    "        # com esse print, saberemos os nomes dos alunos\n",
    "        print(cell.value)\n",
    "        print(len(qtd_alunos_por_celula))\n",
    "\n",
    "  \"\"\""
   ]
  },
  {
   "cell_type": "code",
   "execution_count": 42,
   "metadata": {},
   "outputs": [
    {
     "name": "stdout",
     "output_type": "stream",
     "text": [
      "(<Cell 'Dados.xlsx'.C2>, <Cell 'Dados.xlsx'.D2>, <Cell 'Dados.xlsx'.E2>)\n",
      "(<Cell 'Dados.xlsx'.C2>, <Cell 'Dados.xlsx'.D2>, <Cell 'Dados.xlsx'.E2>)\n",
      "(<Cell 'Dados.xlsx'.C2>, <Cell 'Dados.xlsx'.D2>, <Cell 'Dados.xlsx'.E2>)\n",
      "(<Cell 'Dados.xlsx'.C3>, <Cell 'Dados.xlsx'.D3>, <Cell 'Dados.xlsx'.E3>)\n",
      "(<Cell 'Dados.xlsx'.C3>, <Cell 'Dados.xlsx'.D3>, <Cell 'Dados.xlsx'.E3>)\n",
      "(<Cell 'Dados.xlsx'.C3>, <Cell 'Dados.xlsx'.D3>, <Cell 'Dados.xlsx'.E3>)\n",
      "(<Cell 'Dados.xlsx'.C4>, <Cell 'Dados.xlsx'.D4>, <Cell 'Dados.xlsx'.E4>)\n",
      "(<Cell 'Dados.xlsx'.C4>, <Cell 'Dados.xlsx'.D4>, <Cell 'Dados.xlsx'.E4>)\n",
      "(<Cell 'Dados.xlsx'.C4>, <Cell 'Dados.xlsx'.D4>, <Cell 'Dados.xlsx'.E4>)\n",
      "(<Cell 'Dados.xlsx'.C5>, <Cell 'Dados.xlsx'.D5>, <Cell 'Dados.xlsx'.E5>)\n",
      "(<Cell 'Dados.xlsx'.C5>, <Cell 'Dados.xlsx'.D5>, <Cell 'Dados.xlsx'.E5>)\n",
      "(<Cell 'Dados.xlsx'.C5>, <Cell 'Dados.xlsx'.D5>, <Cell 'Dados.xlsx'.E5>)\n",
      "(<Cell 'Dados.xlsx'.C6>, <Cell 'Dados.xlsx'.D6>, <Cell 'Dados.xlsx'.E6>)\n",
      "(<Cell 'Dados.xlsx'.C6>, <Cell 'Dados.xlsx'.D6>, <Cell 'Dados.xlsx'.E6>)\n",
      "(<Cell 'Dados.xlsx'.C6>, <Cell 'Dados.xlsx'.D6>, <Cell 'Dados.xlsx'.E6>)\n"
     ]
    }
   ],
   "source": [
    "folha = lendo_notas.active\n",
    "apenas_notas = folha['C2:E6']\n",
    "lista_de_materias = {\n",
    "    'avaliação_matematica': folha['F1'],\n",
    "    'avaliação_portugues': folha['G1'],\n",
    "    'avaliação_ciencias': folha['H1']\n",
    "}\n",
    "\n",
    "for row in apenas_notas:\n",
    "    for lista_de_materias in row:\n",
    "        #print(cell.value)\n",
    "        print(row)"
   ]
  },
  {
   "cell_type": "code",
   "execution_count": 79,
   "metadata": {},
   "outputs": [
    {
     "name": "stdout",
     "output_type": "stream",
     "text": [
      "Insuficiente\n",
      "Insuficiente\n",
      "Insuficiente\n",
      "Insuficiente\n",
      "Insuficiente\n",
      "Insuficiente\n",
      "Insuficiente\n",
      "Insuficiente\n",
      "Insuficiente\n",
      "Insuficiente\n",
      "Insuficiente\n",
      "Insuficiente\n",
      "Insuficiente\n",
      "Insuficiente\n",
      "Insuficiente\n"
     ]
    }
   ],
   "source": [
    "# mostrando todas as linhas da planilha\n",
    "for row in lendo_notas.active.iter_rows(min_row=2, max_row=6, min_col=3, max_col=5):\n",
    "    for cell in row:\n",
    "        try:\n",
    "            if int(cell.value) < 10:\n",
    "                cell.value = 'Insuficiente'\n",
    "            else:\n",
    "                cell.value = 'Suficiente'\n",
    "        except ValueError:\n",
    "            cell.value = 'Insuficiente'\n",
    "        print(cell.value)\n",
    "\n",
    "#lendo_notas.save('Dados.xlsx')"
   ]
  },
  {
   "cell_type": "code",
   "execution_count": 76,
   "metadata": {},
   "outputs": [
    {
     "data": {
      "text/plain": [
       "<Cell 'Dados.xlsx'.F1>"
      ]
     },
     "execution_count": 76,
     "metadata": {},
     "output_type": "execute_result"
    }
   ],
   "source": [
    "# agora temos todas as siturações dos alunos | queremos criar uma nova coluna com a situação dos alunos\n",
    "lendo_notas.active.cell(row=1, column=6, value=\"Situação\")\n",
    "\n"
   ]
  },
  {
   "cell_type": "code",
   "execution_count": 27,
   "metadata": {},
   "outputs": [],
   "source": [
    "# lendo o arquivo novo_relatorio_att.xlsx\n"
   ]
  },
  {
   "cell_type": "code",
   "execution_count": 33,
   "metadata": {},
   "outputs": [
    {
     "name": "stdout",
     "output_type": "stream",
     "text": [
      "5\n",
      "Quantidade de alunos: 5\n",
      "Insuficiente\n",
      "Insuficiente\n",
      "Insuficiente\n",
      "Insuficiente\n",
      "Insuficiente\n",
      "Insuficiente\n",
      "Suficiente\n",
      "Suficiente\n",
      "Suficiente\n",
      "Insuficiente\n",
      "Insuficiente\n",
      "Suficiente\n",
      "Suficiente\n",
      "Suficiente\n",
      "Suficiente\n"
     ]
    }
   ],
   "source": [
    "# lendo o arquivo novo_relatorio_att.xlsx\n",
    "resumo = openpyxl.load_workbook('Novo_relatorio_att.xlsx')\n",
    "folha3 = resumo.active\n",
    "\n",
    "qtd_alunos_por_celula = folha3[\"A2:A6\"]\n",
    "print(len(qtd_alunos_por_celula))\n",
    "\n",
    "# pegando a quantidade de alunos, baseado na quantidade de linhas\n",
    "quantidade_de_alunos = folha3.max_row - 1\n",
    "print(f\"Quantidade de alunos: {quantidade_de_alunos}\")\n",
    "for row in folha3.iter_rows(min_row=2, max_row=6, min_col=6, max_col=8):\n",
    "    for cell in row:\n",
    "        print(cell.value)"
   ]
  },
  {
   "cell_type": "code",
   "execution_count": 35,
   "metadata": {},
   "outputs": [
    {
     "name": "stdout",
     "output_type": "stream",
     "text": [
      "Quantidade de notas suficientes: 7\n",
      "Quantidade de notas insuficientes: 8\n"
     ]
    }
   ],
   "source": [
    "# pegando a quantidade de notas suficientes e insuficientes\n",
    "qtd_suficientes = 0\n",
    "qtd_insuficientes = 0\n",
    "for row in folha3.iter_rows(min_row=2, max_row=6, min_col=6, max_col=8):\n",
    "    for cell in row:\n",
    "        if cell.value == 'Suficiente':\n",
    "            qtd_suficientes += 1\n",
    "        else:\n",
    "            qtd_insuficientes += 1\n",
    "\n",
    "print(f\"Quantidade de notas suficientes: {qtd_suficientes}\")\n",
    "print(f\"Quantidade de notas insuficientes: {qtd_insuficientes}\")"
   ]
  },
  {
   "cell_type": "code",
   "execution_count": 36,
   "metadata": {},
   "outputs": [],
   "source": [
    "# pegando as notas insuficientes e suficientes por matéria\n",
    "qtd_suficientes_matematica = 0\n",
    "qtd_insuficientes_matematica = 0\n",
    "qtd_suficientes_portugues = 0\n",
    "qtd_insuficientes_portugues = 0\n",
    "qtd_suficientes_ciencias = 0\n",
    "qtd_insuficientes_ciencias = 0\n",
    "for row in folha3.iter_rows(min_row=2, max_row=6, min_col=6, max_col=8):\n",
    "    for cell in row:\n",
    "        if cell.column == 6:\n",
    "            if cell.value == 'Suficiente':\n",
    "                qtd_suficientes_matematica += 1\n",
    "            else:\n",
    "                qtd_insuficientes_matematica += 1\n",
    "        elif cell.column == 7:\n",
    "            if cell.value == 'Suficiente':\n",
    "                qtd_suficientes_portugues += 1\n",
    "            else:\n",
    "                qtd_insuficientes_portugues += 1\n",
    "        elif cell.column == 8:\n",
    "            if cell.value == 'Suficiente':\n",
    "                qtd_suficientes_ciencias += 1\n",
    "            else:\n",
    "                qtd_insuficientes_ciencias += 1"
   ]
  },
  {
   "cell_type": "code",
   "execution_count": 37,
   "metadata": {},
   "outputs": [
    {
     "name": "stdout",
     "output_type": "stream",
     "text": [
      "Quantidade de notas suficientes em Matemática: 2\n",
      "Quantidade de notas insuficientes em Matemática: 3\n",
      "Quantidade de notas suficientes em Português: 2\n",
      "Quantidade de notas insuficientes em Português: 3\n",
      "Quantidade de notas suficientes em Ciências: 3\n",
      "Quantidade de notas insuficientes em Ciências: 2\n"
     ]
    }
   ],
   "source": [
    "print(f\"Quantidade de notas suficientes em Matemática: {qtd_suficientes_matematica}\")\n",
    "print(f\"Quantidade de notas insuficientes em Matemática: {qtd_insuficientes_matematica}\")\n",
    "print(f\"Quantidade de notas suficientes em Português: {qtd_suficientes_portugues}\")\n",
    "print(f\"Quantidade de notas insuficientes em Português: {qtd_insuficientes_portugues}\")\n",
    "print(f\"Quantidade de notas suficientes em Ciências: {qtd_suficientes_ciencias}\")\n",
    "print(f\"Quantidade de notas insuficientes em Ciências: {qtd_insuficientes_ciencias}\")\n"
   ]
  },
  {
   "cell_type": "markdown",
   "metadata": {},
   "source": [
    "2. Exercicio\n",
    "\n",
    "Criação\n",
    "\n",
    "Crie o ficheiro \"dados.csv\" com os dados fornecidos, utilizando a biblioteca csv.\n",
    "\n",
    "Produto     Categoria       Preço       Quantidade\n",
    "\n",
    "Teclado     Informatica     20.00       100\n",
    "Mouse       Informatica     15.00       200\n",
    "Cadeira     Móveis          100.00      50\n",
    "Caneca      Utensílios      5.00        300\n",
    "Mesa        Móveis          150.00      20\n",
    "Cadeira     Móveis          250.00      20\n",
    "\n",
    "Ordene os dados pela coluna \"Preço\", do maior para o mentor.\n",
    "Filtrar os dados por produtos com preço acima de 25.\n",
    "Após ordenar e filtrar, salve os resultados em um novo ficheiro CSV chamado \"dados_filtrados.csv\".\n",
    "\n"
   ]
  },
  {
   "cell_type": "markdown",
   "metadata": {},
   "source": [
    "3. Exercicio\n",
    "\n",
    "Criação\n",
    "\n",
    "Crie o ficheiro Excel \"vendas.xlsx\" com os dados fornecidos a seguir.\n",
    "\n",
    "Mês     Vendas\n",
    "\n",
    "Janeiro 2000\n",
    "Fevereiro   3000\n",
    "Março   2500\n",
    "Abril   4000\n",
    "Maio    3500\n",
    "Junho   4500\n",
    "\n",
    "Utilize a biblioteca openpyxl para gerar um gráfico de linha que mostre a evolução das vendas ao longo dos meses.\n",
    "Adicione o gráfico à folha, posionando-o abaixo da tabela de vendas.\n",
    "Salve o ficheiro como \"vendas_com_gráfico.xlsx\"."
   ]
  }
 ],
 "metadata": {
  "kernelspec": {
   "display_name": "Python 3",
   "language": "python",
   "name": "python3"
  },
  "language_info": {
   "codemirror_mode": {
    "name": "ipython",
    "version": 3
   },
   "file_extension": ".py",
   "mimetype": "text/x-python",
   "name": "python",
   "nbconvert_exporter": "python",
   "pygments_lexer": "ipython3",
   "version": "3.12.8"
  }
 },
 "nbformat": 4,
 "nbformat_minor": 2
}

{
 "cells": [
  {
   "cell_type": "markdown",
   "metadata": {},
   "source": [
    "1. Exercicio\n",
    "\n",
    "Criação\n",
    "\n",
    "Crie um ficheiro Excel chamado \"dados.xlsx\" com os dados fornecidos a seguir, utilizando a biblioteca openpyxl.\n",
    "\n",
    "Nome      | Idade | Nota Matematica | Nota de Português | Nota Ciências \n",
    "\n",
    "João      | 16      | 8             | 7                 |  6\n",
    "Maria     |  17    |  19            |  12               | 14\n",
    "Pedro     |  16     | 6             | 9                 | 10    \n",
    "Ana       | 18      |   15          | 20                | 17    \n",
    "\n",
    "\n",
    "Adicione uma nova coluna chamada \"Avaliação\" em cada disciplina ( Matematica, Portugues e Ciencias).\n",
    "\n",
    "A coluna Avaliação deve conter o valor \" Suficiente \" se a nota for igual ou superior a 10, ou \" Insuficiente \" se for inferior a 10.\n",
    "\n",
    "\n",
    "    Crie uma nova folha chamada \" Resumo \", que deve incluir:\n",
    "        O número total de alunos\n",
    "        A quantidade de notas suficientes e insuficientes por disciplina ( Matematica, Portugues, Ciencias)\n",
    "    Salve o ficheiro modificado como \"dados_analise.xlsx\"\n"
   ]
  }
 ],
 "metadata": {
  "kernelspec": {
   "display_name": "Python 3",
   "language": "python",
   "name": "python3"
  },
  "language_info": {
   "name": "python",
   "version": "3.12.8"
  }
 },
 "nbformat": 4,
 "nbformat_minor": 2
}

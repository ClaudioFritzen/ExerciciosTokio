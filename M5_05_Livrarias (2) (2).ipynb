{
 "cells": [
  {
   "cell_type": "markdown",
   "metadata": {},
   "source": [
    "# Exercícios Módulo 5. Livrarias especializadas em dados (Soluções)\n",
    "\n",
    "Considerações a ter em conta:\n",
    "\n",
    "* Guardar este documento com o seguinte formato para entrega: __M5_05_nome_apelido1_apelido2__\n",
    "* Fazer os exercícios com as ferramentas vistas nas sessões. \n",
    "* Comentar o código\n",
    "* Utilizar nomes de variáveis apropriados, se vai guardar uma nota, chamar a essa variável nota, não n ou x"
   ]
  },
  {
   "cell_type": "markdown",
   "metadata": {},
   "source": [
    "**1) Trabalhar com NumPy**\n",
    "\n",
    "* Importar numpy e usar um alias para poder utilizar os seus recursos \n",
    "* Criar um array de elementos (de 10 a 100)\n",
    "* Inverter o array\n",
    "* Criar um array 3x3 com valores de 0 a 8 \n",
    "* Criar um array identidade de 6x6\n",
    "* Criar um array com valores aleatórios com o formato 3x3x3\n",
    "* Criar dois arrays, com valores aleatórios, A e B, e verificar se são iguais (há várias opções, investigar)"
   ]
  },
  {
   "cell_type": "code",
   "execution_count": 1,
   "metadata": {},
   "outputs": [],
   "source": [
    "# Completar o exercício aqui\n",
    "import numpy as np"
   ]
  },
  {
   "cell_type": "markdown",
   "metadata": {},
   "source": [
    "* Criar um array de elementos (de 10 a 100)"
   ]
  },
  {
   "cell_type": "code",
   "execution_count": 10,
   "metadata": {},
   "outputs": [
    {
     "name": "stdout",
     "output_type": "stream",
     "text": [
      "Lista de 10 a 100: \n",
      "[ 10  11  12  13  14  15  16  17  18  19  20  21  22  23  24  25  26  27\n",
      "  28  29  30  31  32  33  34  35  36  37  38  39  40  41  42  43  44  45\n",
      "  46  47  48  49  50  51  52  53  54  55  56  57  58  59  60  61  62  63\n",
      "  64  65  66  67  68  69  70  71  72  73  74  75  76  77  78  79  80  81\n",
      "  82  83  84  85  86  87  88  89  90  91  92  93  94  95  96  97  98  99\n",
      " 100]\n",
      "----------------------------------------------------------------------\n",
      "Lista de 100 a 10:\n",
      " [100  99  98  97  96  95  94  93  92  91  90  89  88  87  86  85  84  83\n",
      "  82  81  80  79  78  77  76  75  74  73  72  71  70  69  68  67  66  65\n",
      "  64  63  62  61  60  59  58  57  56  55  54  53  52  51  50  49  48  47\n",
      "  46  45  44  43  42  41  40  39  38  37  36  35  34  33  32  31  30  29\n",
      "  28  27  26  25  24  23  22  21  20  19  18  17  16  15  14  13  12  11\n",
      "  10]\n"
     ]
    }
   ],
   "source": [
    "lista_de_10_100 = np.arange(10,101)\n",
    "print(f\"Lista de 10 a 100: \\n{lista_de_10_100}\")\n",
    "print(\"-\"*70)\n",
    "# reverso * Inverter o array\n",
    "lista_reversa = lista_de_10_100[::-1]\n",
    "print(f\"Lista de 100 a 10:\\n {lista_reversa}\")"
   ]
  },
  {
   "cell_type": "markdown",
   "metadata": {},
   "source": [
    "* Criar um array 3x3 com valores de 0 a 8 "
   ]
  },
  {
   "cell_type": "code",
   "execution_count": 12,
   "metadata": {},
   "outputs": [
    {
     "name": "stdout",
     "output_type": "stream",
     "text": [
      "[[0 1 2]\n",
      " [3 4 5]\n",
      " [6 7 8]]\n"
     ]
    }
   ],
   "source": [
    "array_0_a_8 = np.arange(9).reshape(3,3)\n",
    "print(array_0_a_8)"
   ]
  },
  {
   "cell_type": "markdown",
   "metadata": {},
   "source": [
    "* Criar um array identidade de 6x6"
   ]
  },
  {
   "cell_type": "code",
   "execution_count": 15,
   "metadata": {},
   "outputs": [
    {
     "name": "stdout",
     "output_type": "stream",
     "text": [
      "[[1. 0. 0. 0. 0. 0.]\n",
      " [0. 1. 0. 0. 0. 0.]\n",
      " [0. 0. 1. 0. 0. 0.]\n",
      " [0. 0. 0. 1. 0. 0.]\n",
      " [0. 0. 0. 0. 1. 0.]\n",
      " [0. 0. 0. 0. 0. 1.]]\n"
     ]
    }
   ],
   "source": [
    "array_identidade_6_6 = np.eye(6)\n",
    "print(array_identidade_6_6)"
   ]
  },
  {
   "cell_type": "markdown",
   "metadata": {},
   "source": [
    "* Criar um array com valores aleatórios com o formato 3x3x3"
   ]
  },
  {
   "cell_type": "code",
   "execution_count": 18,
   "metadata": {},
   "outputs": [
    {
     "name": "stdout",
     "output_type": "stream",
     "text": [
      "[[[75 84 20]\n",
      "  [75 40 90]\n",
      "  [43 35  3]]\n",
      "\n",
      " [[14 53 11]\n",
      "  [81 89 17]\n",
      "  [12 40 82]]\n",
      "\n",
      " [[48 98 17]\n",
      "  [65 27 28]\n",
      "  [31  6 45]]]\n"
     ]
    }
   ],
   "source": [
    "array_valores_aleatoris_3X3X3 = np.random.randint(0, 100, (3, 3, 3))\n",
    "print(array_valores_aleatoris_3X3X3)"
   ]
  },
  {
   "cell_type": "markdown",
   "metadata": {},
   "source": [
    "* Criar dois arrays, com valores aleatórios, A e B, e verificar se são iguais (há várias opções, investigar)"
   ]
  },
  {
   "cell_type": "code",
   "execution_count": 41,
   "metadata": {},
   "outputs": [
    {
     "name": "stdout",
     "output_type": "stream",
     "text": [
      "Os arrays não tem o mesmo tamanho (5, 3) e (3, 5)\n",
      "Depois da parear\n",
      "[[11 11 15]\n",
      " [17 13 14]\n",
      " [18 19 17]\n",
      " [12 10 16]\n",
      " [14 14 16]]\n",
      "[[8 8 2]\n",
      " [0 3 6]\n",
      " [0 2 5]\n",
      " [5 7 8]\n",
      " [4 4 2]]\n",
      "Originais, como foram criados\n",
      "[[11 11 15]\n",
      " [17 13 14]\n",
      " [18 19 17]\n",
      " [12 10 16]\n",
      " [14 14 16]]\n",
      "[[8 8 2]\n",
      " [0 3 6]\n",
      " [0 2 5]\n",
      " [5 7 8]\n",
      " [4 4 2]]\n",
      "----------------------------------------------------------------------------------------------------\n",
      "Verificando se os arrays são igual utilizando o np.array_equal() : False\n",
      "Usando o metodo np.allclose() : False\n",
      "**************************************************\n",
      "Usando o metodo np.array_equiv() : False\n",
      "**************************************************\n",
      "Usando o metodo np.all(np.equal()) : False\n"
     ]
    }
   ],
   "source": [
    "A = np.random.randint(10, 20, (5,3)) # 1\n",
    "B = np.random.randint(0, 10, (3, 5))\n",
    "\n",
    "# Vamos ver se os dois tem o mesmo tamanho\n",
    "\n",
    "if A.shape != B.shape:\n",
    "    print(f\"Os arrays não tem o mesmo tamanho {A.shape} e {B.shape}\")\n",
    "    \n",
    "    # deixando o iguais\n",
    "    B = np.resize(B, A.shape)\n",
    "    print(\"Depois da parear\")\n",
    "    print(A)\n",
    "    print(B)\n",
    "else:\n",
    "    print(\"Os arrays têm a mesma forma.\")\n",
    "\n",
    "print(\"Originais, como foram criados\")\n",
    "print(A)\n",
    "print(B)\n",
    "\n",
    "### Utilizando metodos para ver se são iguais\n",
    "print(\"--\"*50)\n",
    "# Metodo 1: Usando np.array_equal()\n",
    "arrai_igual = np.array_equal(A,B)\n",
    "print(f\"Verificando se os arrays são igual utilizando o np.array_equal() : {arrai_igual}\")\n",
    "\n",
    "# Metodo 2 : \n",
    "# Metodo 2 : Usando np.allclose()\n",
    "are_equal_allclose = np.allclose(A, B)\n",
    "print(f\"Usando o metodo np.allclose() : {are_equal_allclose}\")\n",
    "print(\"*\"*50)\n",
    "\n",
    "# metodo 3 : Usando np.array_equiv()\n",
    "are_equal_equiv = np.array_equiv(A, B)\n",
    "print(f\"Usando o metodo np.array_equiv() : {are_equal_equiv}\")\n",
    "print(\"*\"*50)\n",
    "\n",
    "# metodo 4 : Usando numpy.all com numpy.equal\n",
    "sao_todos_iguais =  np.all(np.equal(A, B))\n",
    "print(f\"Usando o metodo np.all(np.equal()) : {sao_todos_iguais}\")"
   ]
  },
  {
   "cell_type": "markdown",
   "metadata": {},
   "source": [
    "**2) Seguir com NumPy**\n",
    "\n",
    "* Criar um array de 100 elementos aleatórios compreendidos entre 1 e 1000 (podem ser números inteiros). \n",
    "* Este array irá chamar-se dólares\n",
    "* Fazer a conversão dos preços em dólares do primeiro array para um segundo array que se vai chamar euros. Devemos utilizar a  seguinte conversão: \n",
    "  - 1 USD = 0,874413 EUR\n",
    "* Mostrar o resultado do array de euros, arredondando a 2 casas decimais."
   ]
  },
  {
   "cell_type": "code",
   "execution_count": 11,
   "metadata": {},
   "outputs": [
    {
     "name": "stdout",
     "output_type": "stream",
     "text": [
      "Array em dólares:\n",
      "[398 801  74 124   3 298 300 299 225 554 823 544 126 197 303 899 702 923\n",
      " 474 547 619 789 161 248 328 120 336 285 503 330 264 131 531 401   5 195\n",
      " 528 641 966 447 734 808 891 224 540 641 569 556 538  53 563 866 698 140\n",
      " 493 749  20 961 297 591 755 441 522 495 485 794  42 636  38 258 531 794\n",
      " 505 934 432 478 568 224 313 110 484 988 493 242  47  70 710 685 634 316\n",
      " 801 469  27 523 223 984 217 508 683 255]\n",
      "\n",
      "Array em euros:\n",
      "[348.02 700.4   64.71 108.43   2.62 260.58 262.32 261.45 196.74 484.42\n",
      " 719.64 475.68 110.18 172.26 264.95 786.1  613.84 807.08 414.47 478.3\n",
      " 541.26 689.91 140.78 216.85 286.81 104.93 293.8  249.21 439.83 288.56\n",
      " 230.85 114.55 464.31 350.64   4.37 170.51 461.69 560.5  844.68 390.86\n",
      " 641.82 706.53 779.1  195.87 472.18 560.5  497.54 486.17 470.43  46.34\n",
      " 492.29 757.24 610.34 122.42 431.09 654.94  17.49 840.31 259.7  516.78\n",
      " 660.18 385.62 456.44 432.83 424.09 694.28  36.73 556.13  33.23 225.6\n",
      " 464.31 694.28 441.58 816.7  377.75 417.97 496.67 195.87 273.69  96.19\n",
      " 423.22 863.92 431.09 211.61  41.1   61.21 620.83 598.97 554.38 276.31\n",
      " 700.4  410.1   23.61 457.32 194.99 860.42 189.75 444.2  597.22 222.98]\n"
     ]
    }
   ],
   "source": [
    "import numpy as np\n",
    "\n",
    "# Criar um array de 100 elementos aleatórios compreendidos entre 1 e 1000 (números inteiros)\n",
    "dolares = np.random.randint(1, 1001, size=100)\n",
    "print(\"Array em dólares:\")\n",
    "print(dolares)\n",
    "\n",
    "# Taxa de conversão de USD para EUR\n",
    "taxa_conversao = 0.874413\n",
    "\n",
    "# Fazer a conversão dos preços em dólares para euros\n",
    "euros = dolares * taxa_conversao\n",
    "euros = np.round(euros, 2)  # Arredondar a 2 casas decimais\n",
    "\n",
    "print(\"\\nArray em euros:\")\n",
    "print(euros)"
   ]
  },
  {
   "cell_type": "markdown",
   "metadata": {},
   "source": [
    "**3) Trabalhar com pandas**\n",
    "\n",
    "* Importar pandas e usar um alias para poder utilizar os seus recursos.\n",
    "* Carregar como dataframe de pandas csv 05_05_imdb_títulos.csv e mostrar os seus 5 primeiros registos.\n",
    "* Carregar como dataframe de pandas o csv 05_05_imdb_elenco.csv e mostrar os seus 5 primeiros registos\n",
    "* Mostrar o número de registos do dataframe de títulos.\n",
    "* Mostrar o número de registos do dataframe de elenco.\n",
    "* Mostrar os 5 titulos mais antigas.\n",
    "* Mostrar os filmes que no título contem a palavra “Drácula”. Quantos filmes são?\n",
    "* Mostrar os 10 títulos mais comuns (que mais se repetem).\n",
    "* Mostrar qual foi o primeiro filme chamado “Romeo and Juliet”.\n",
    "* Listar todas os filmes que contenham a palavra “Exorcist”, ordenados do mais antigo ao mais recente.\n",
    "* Mostrar quantos filmes foram feitas no ano 1950.\n",
    "* Mostrar quantaos filmes foram feitas de 1950 a 1959 (inclusive).\n",
    "* Mostrar todas os papéis que teve a trilogia “The Godfather”, agrupando pelo papel e forneca a informação da quantidade de vezes esse papel apareceu (exemplo: michael corleone aparece nos 3 filmes da triologia).\n",
    "* Mostrar o elenco completo, ordenado pela classificação “n” do filme “Drácula” de 1958.\n",
    "* Mostrar quantos papéis teve “Bruce Wayne” como protagonista (Dica: Em Batman de 1989, existe Bruce Wayne e tambem Young Bruce Wayne, que deverão ambos aparecer).\n",
    "* Mostrar quantos papéis fez “Robert de Niro” na sua carreira.\n",
    "* Listagem de papéis como protagonista (n=1) que teve o ator “Charlton Heston” na década dos 60’s, ordenado  por ano de forma descendente.\n",
    "* Mostrar quantos papéis para atores teve na década 50’s.\n",
    "* Mostrar quantos papéis para atrizes teve na década 50’s."
   ]
  },
  {
   "cell_type": "code",
   "execution_count": 21,
   "metadata": {},
   "outputs": [],
   "source": [
    "# Completar o exercício aqui\n",
    "import pandas as pd"
   ]
  },
  {
   "cell_type": "markdown",
   "metadata": {},
   "source": [
    "* Carregar como dataframe de pandas csv 05_05_imdb_títulos.csv e mostrar os seus 5 primeiros registos."
   ]
  },
  {
   "cell_type": "code",
   "execution_count": 23,
   "metadata": {},
   "outputs": [
    {
     "data": {
      "text/html": [
       "<div>\n",
       "<style scoped>\n",
       "    .dataframe tbody tr th:only-of-type {\n",
       "        vertical-align: middle;\n",
       "    }\n",
       "\n",
       "    .dataframe tbody tr th {\n",
       "        vertical-align: top;\n",
       "    }\n",
       "\n",
       "    .dataframe thead th {\n",
       "        text-align: right;\n",
       "    }\n",
       "</style>\n",
       "<table border=\"1\" class=\"dataframe\">\n",
       "  <thead>\n",
       "    <tr style=\"text-align: right;\">\n",
       "      <th></th>\n",
       "      <th>title</th>\n",
       "      <th>year</th>\n",
       "      <th>name</th>\n",
       "      <th>type</th>\n",
       "      <th>character</th>\n",
       "      <th>n</th>\n",
       "    </tr>\n",
       "  </thead>\n",
       "  <tbody>\n",
       "    <tr>\n",
       "      <th>0</th>\n",
       "      <td>Closet Monster</td>\n",
       "      <td>2015.0</td>\n",
       "      <td>Buffy #1</td>\n",
       "      <td>actor</td>\n",
       "      <td>Buffy 4</td>\n",
       "      <td>31.0</td>\n",
       "    </tr>\n",
       "    <tr>\n",
       "      <th>1</th>\n",
       "      <td>Suuri illusioni</td>\n",
       "      <td>1985.0</td>\n",
       "      <td>Homo $</td>\n",
       "      <td>actor</td>\n",
       "      <td>Guests</td>\n",
       "      <td>22.0</td>\n",
       "    </tr>\n",
       "    <tr>\n",
       "      <th>2</th>\n",
       "      <td>Battle of the Sexes</td>\n",
       "      <td>2017.0</td>\n",
       "      <td>$hutter</td>\n",
       "      <td>actor</td>\n",
       "      <td>Bobby Riggs Fan</td>\n",
       "      <td>10.0</td>\n",
       "    </tr>\n",
       "    <tr>\n",
       "      <th>3</th>\n",
       "      <td>Secret in Their Eyes</td>\n",
       "      <td>2015.0</td>\n",
       "      <td>$hutter</td>\n",
       "      <td>actor</td>\n",
       "      <td>2002 Dodger Fan</td>\n",
       "      <td>NaN</td>\n",
       "    </tr>\n",
       "    <tr>\n",
       "      <th>4</th>\n",
       "      <td>Steve Jobs</td>\n",
       "      <td>2015.0</td>\n",
       "      <td>$hutter</td>\n",
       "      <td>actor</td>\n",
       "      <td>1988 Opera House Patron</td>\n",
       "      <td>NaN</td>\n",
       "    </tr>\n",
       "    <tr>\n",
       "      <th>5</th>\n",
       "      <td>Straight Outta Compton</td>\n",
       "      <td>2015.0</td>\n",
       "      <td>$hutter</td>\n",
       "      <td>actor</td>\n",
       "      <td>Club Patron</td>\n",
       "      <td>NaN</td>\n",
       "    </tr>\n",
       "    <tr>\n",
       "      <th>6</th>\n",
       "      <td>Straight Outta Compton</td>\n",
       "      <td>2015.0</td>\n",
       "      <td>$hutter</td>\n",
       "      <td>actor</td>\n",
       "      <td>Dopeman</td>\n",
       "      <td>NaN</td>\n",
       "    </tr>\n",
       "    <tr>\n",
       "      <th>7</th>\n",
       "      <td>For Thy Love 2</td>\n",
       "      <td>2009.0</td>\n",
       "      <td>Bee Moe $lim</td>\n",
       "      <td>actor</td>\n",
       "      <td>Thug 1</td>\n",
       "      <td>NaN</td>\n",
       "    </tr>\n",
       "    <tr>\n",
       "      <th>8</th>\n",
       "      <td>Lapis, Ballpen at Diploma, a True to Life Journey</td>\n",
       "      <td>2014.0</td>\n",
       "      <td>Jori ' Danilo' Jurado Jr.</td>\n",
       "      <td>actor</td>\n",
       "      <td>Jaime (young)</td>\n",
       "      <td>9.0</td>\n",
       "    </tr>\n",
       "    <tr>\n",
       "      <th>9</th>\n",
       "      <td>Desire (III)</td>\n",
       "      <td>2014.0</td>\n",
       "      <td>Syaiful 'Ariffin</td>\n",
       "      <td>actor</td>\n",
       "      <td>Actor Playing Eteocles from 'Antigone'</td>\n",
       "      <td>NaN</td>\n",
       "    </tr>\n",
       "  </tbody>\n",
       "</table>\n",
       "</div>"
      ],
      "text/plain": [
       "                                               title    year  \\\n",
       "0                                     Closet Monster  2015.0   \n",
       "1                                    Suuri illusioni  1985.0   \n",
       "2                                Battle of the Sexes  2017.0   \n",
       "3                               Secret in Their Eyes  2015.0   \n",
       "4                                         Steve Jobs  2015.0   \n",
       "5                             Straight Outta Compton  2015.0   \n",
       "6                             Straight Outta Compton  2015.0   \n",
       "7                                     For Thy Love 2  2009.0   \n",
       "8  Lapis, Ballpen at Diploma, a True to Life Journey  2014.0   \n",
       "9                                       Desire (III)  2014.0   \n",
       "\n",
       "                        name   type                               character  \\\n",
       "0                   Buffy #1  actor                                 Buffy 4   \n",
       "1                     Homo $  actor                                  Guests   \n",
       "2                    $hutter  actor                         Bobby Riggs Fan   \n",
       "3                    $hutter  actor                         2002 Dodger Fan   \n",
       "4                    $hutter  actor                 1988 Opera House Patron   \n",
       "5                    $hutter  actor                             Club Patron   \n",
       "6                    $hutter  actor                                 Dopeman   \n",
       "7               Bee Moe $lim  actor                                  Thug 1   \n",
       "8  Jori ' Danilo' Jurado Jr.  actor                           Jaime (young)   \n",
       "9           Syaiful 'Ariffin  actor  Actor Playing Eteocles from 'Antigone'   \n",
       "\n",
       "      n  \n",
       "0  31.0  \n",
       "1  22.0  \n",
       "2  10.0  \n",
       "3   NaN  \n",
       "4   NaN  \n",
       "5   NaN  \n",
       "6   NaN  \n",
       "7   NaN  \n",
       "8   9.0  \n",
       "9   NaN  "
      ]
     },
     "execution_count": 23,
     "metadata": {},
     "output_type": "execute_result"
    }
   ],
   "source": [
    "# abrindo um arquivo com pandas\n",
    "elenco_csv = \"csv/05_05_imdb_elenco.csv\"\n",
    "# abrindo o arquivo CSV com pandas\n",
    "df = pd.read_csv(elenco_csv)\n",
    "\n",
    "#exibindo as primeiras linhas do DataFrame\n",
    "df.head(10)"
   ]
  },
  {
   "cell_type": "markdown",
   "metadata": {},
   "source": [
    "\n",
    "\n",
    "* Carregar como dataframe de pandas o csv 05_05_imdb_elenco.csv e mostrar os seus 5 primeiros registos"
   ]
  },
  {
   "cell_type": "code",
   "execution_count": 27,
   "metadata": {},
   "outputs": [
    {
     "data": {
      "text/html": [
       "<div>\n",
       "<style scoped>\n",
       "    .dataframe tbody tr th:only-of-type {\n",
       "        vertical-align: middle;\n",
       "    }\n",
       "\n",
       "    .dataframe tbody tr th {\n",
       "        vertical-align: top;\n",
       "    }\n",
       "\n",
       "    .dataframe thead th {\n",
       "        text-align: right;\n",
       "    }\n",
       "</style>\n",
       "<table border=\"1\" class=\"dataframe\">\n",
       "  <thead>\n",
       "    <tr style=\"text-align: right;\">\n",
       "      <th></th>\n",
       "      <th>title</th>\n",
       "      <th>year</th>\n",
       "    </tr>\n",
       "  </thead>\n",
       "  <tbody>\n",
       "    <tr>\n",
       "      <th>230402</th>\n",
       "      <td>El lobo negro</td>\n",
       "      <td>1981</td>\n",
       "    </tr>\n",
       "    <tr>\n",
       "      <th>230403</th>\n",
       "      <td>Komu na Rusi zhit...</td>\n",
       "      <td>1989</td>\n",
       "    </tr>\n",
       "    <tr>\n",
       "      <th>230404</th>\n",
       "      <td>Senotaji</td>\n",
       "      <td>2013</td>\n",
       "    </tr>\n",
       "    <tr>\n",
       "      <th>230405</th>\n",
       "      <td>The Leopard Woman</td>\n",
       "      <td>1920</td>\n",
       "    </tr>\n",
       "    <tr>\n",
       "      <th>230406</th>\n",
       "      <td>Mio caro assassino</td>\n",
       "      <td>1972</td>\n",
       "    </tr>\n",
       "  </tbody>\n",
       "</table>\n",
       "</div>"
      ],
      "text/plain": [
       "                       title  year\n",
       "230402         El lobo negro  1981\n",
       "230403  Komu na Rusi zhit...  1989\n",
       "230404              Senotaji  2013\n",
       "230405     The Leopard Woman  1920\n",
       "230406    Mio caro assassino  1972"
      ]
     },
     "execution_count": 27,
     "metadata": {},
     "output_type": "execute_result"
    }
   ],
   "source": [
    "titulos_csv = \"csv/05_05_imdb_titulos.csv\"\n",
    "df_titulos = pd.read_csv(titulos_csv)\n",
    "df_titulos.head(10)\n",
    "df_titulos.tail()"
   ]
  },
  {
   "cell_type": "markdown",
   "metadata": {},
   "source": [
    "* Mostrar o número de registos do dataframe de títulos.\n"
   ]
  },
  {
   "cell_type": "code",
   "execution_count": 36,
   "metadata": {},
   "outputs": [
    {
     "name": "stdout",
     "output_type": "stream",
     "text": [
      "Número de registros (usando shape): 230407\n",
      "Números de registros (usando len): 230407\n",
      "<class 'pandas.core.frame.DataFrame'>\n",
      "RangeIndex: 230407 entries, 0 to 230406\n",
      "Data columns (total 2 columns):\n",
      " #   Column  Non-Null Count   Dtype \n",
      "---  ------  --------------   ----- \n",
      " 0   title   230406 non-null  object\n",
      " 1   year    230407 non-null  int64 \n",
      "dtypes: int64(1), object(1)\n",
      "memory usage: 3.5+ MB\n"
     ]
    }
   ],
   "source": [
    "df_titulos = pd.read_csv(titulos_csv)\n",
    "\n",
    "num_registro_shape = df_titulos.shape[0]\n",
    "print(f\"Número de registros (usando shape): {num_registro_shape}\")\n",
    "\n",
    "num_registro_len = len(df_titulos)\n",
    "print(f\"Números de registros (usando len): {num_registro_len}\")\n",
    "\n",
    "df_titulos.info()"
   ]
  },
  {
   "cell_type": "markdown",
   "metadata": {},
   "source": [
    "* Mostrar o número de registos do dataframe de elenco."
   ]
  },
  {
   "cell_type": "code",
   "execution_count": 35,
   "metadata": {},
   "outputs": [
    {
     "name": "stdout",
     "output_type": "stream",
     "text": [
      "<class 'pandas.core.frame.DataFrame'>\n",
      "RangeIndex: 2641020 entries, 0 to 2641019\n",
      "Data columns (total 6 columns):\n",
      " #   Column     Dtype  \n",
      "---  ------     -----  \n",
      " 0   title      object \n",
      " 1   year       float64\n",
      " 2   name       object \n",
      " 3   type       object \n",
      " 4   character  object \n",
      " 5   n          float64\n",
      "dtypes: float64(2), object(4)\n",
      "memory usage: 120.9+ MB\n"
     ]
    }
   ],
   "source": [
    "df_elenco = pd.read_csv(elenco_csv)\n",
    "\n",
    "df_elenco.info()"
   ]
  },
  {
   "cell_type": "markdown",
   "metadata": {},
   "source": [
    "* Mostrar os 5 titulos mais antigas."
   ]
  },
  {
   "cell_type": "code",
   "execution_count": 42,
   "metadata": {},
   "outputs": [
    {
     "data": {
      "text/html": [
       "<div>\n",
       "<style scoped>\n",
       "    .dataframe tbody tr th:only-of-type {\n",
       "        vertical-align: middle;\n",
       "    }\n",
       "\n",
       "    .dataframe tbody tr th {\n",
       "        vertical-align: top;\n",
       "    }\n",
       "\n",
       "    .dataframe thead th {\n",
       "        text-align: right;\n",
       "    }\n",
       "</style>\n",
       "<table border=\"1\" class=\"dataframe\">\n",
       "  <thead>\n",
       "    <tr style=\"text-align: right;\">\n",
       "      <th></th>\n",
       "      <th>title</th>\n",
       "      <th>year</th>\n",
       "    </tr>\n",
       "  </thead>\n",
       "  <tbody>\n",
       "    <tr>\n",
       "      <th>13229</th>\n",
       "      <td>Miss Jerry</td>\n",
       "      <td>1894</td>\n",
       "    </tr>\n",
       "    <tr>\n",
       "      <th>103233</th>\n",
       "      <td>The Startled Lover</td>\n",
       "      <td>1898</td>\n",
       "    </tr>\n",
       "    <tr>\n",
       "      <th>133020</th>\n",
       "      <td>Reproduction of the Corbett and Jeffries Fight</td>\n",
       "      <td>1899</td>\n",
       "    </tr>\n",
       "    <tr>\n",
       "      <th>195127</th>\n",
       "      <td>Pierrot's Problem, or How to Make a Fat Wife O...</td>\n",
       "      <td>1900</td>\n",
       "    </tr>\n",
       "    <tr>\n",
       "      <th>136487</th>\n",
       "      <td>Soldiers of the Cross</td>\n",
       "      <td>1900</td>\n",
       "    </tr>\n",
       "  </tbody>\n",
       "</table>\n",
       "</div>"
      ],
      "text/plain": [
       "                                                    title  year\n",
       "13229                                          Miss Jerry  1894\n",
       "103233                                 The Startled Lover  1898\n",
       "133020     Reproduction of the Corbett and Jeffries Fight  1899\n",
       "195127  Pierrot's Problem, or How to Make a Fat Wife O...  1900\n",
       "136487                              Soldiers of the Cross  1900"
      ]
     },
     "execution_count": 42,
     "metadata": {},
     "output_type": "execute_result"
    }
   ],
   "source": [
    "df_titulos = pd.read_csv(titulos_csv)\n",
    "\n",
    "df_titulos_ordenado_por_data = df_titulos.sort_values(by='year', ascending= True)\n",
    "\n",
    "df_titulos_ordenado_por_data.head()\n",
    "\n"
   ]
  },
  {
   "cell_type": "markdown",
   "metadata": {},
   "source": [
    "* Mostrar os filmes que no título contem a palavra “Drácula”. Quantos filmes são?"
   ]
  },
  {
   "cell_type": "code",
   "execution_count": 9,
   "metadata": {},
   "outputs": [
    {
     "name": "stdout",
     "output_type": "stream",
     "text": [
      "Titulos que contem a palavra 'Drácula':\n",
      "                           title  year\n",
      "94156                    Dracula  1931\n",
      "188854        Dracula's Daughter  1936\n",
      "163326            Son of Dracula  1943\n",
      "4851            House of Dracula  1945\n",
      "48770           Blood of Dracula  1957\n",
      "...                          ...   ...\n",
      "117907         Dracula A.D. 2015  2015\n",
      "147755           Cult of Dracula  2016\n",
      "150603             Dracula's War  2018\n",
      "194874  Frankenstein vs. Dracula  2018\n",
      "156968                   Dracula  2019\n",
      "\n",
      "[84 rows x 2 columns]\n",
      "Numéro de titulos que contem a palavra 'Dracula': 84\n"
     ]
    }
   ],
   "source": [
    "import pandas as pd\n",
    "\n",
    "titulos_csv = \"./csv/05_05_imdb_titulos.csv\"\n",
    "\n",
    "df_titulos = pd.read_csv(titulos_csv)\n",
    "\n",
    "# fizemos a pesquisa no df na coluna de titulos para ver se contein a palavra \"TAL\"\n",
    "df_busca_por_dracula = df_titulos[df_titulos['title'].str.contains('Dracula', case=False, na=False )]\n",
    "\n",
    "# aqui ordenamos por ano em ordem crescente\n",
    "df_busca_por_dracula_ordenado = df_busca_por_dracula.sort_values(by='year', ascending= True)\n",
    "\n",
    "# Mostrar os titulos que contem a palavra dracula\n",
    "print(\"Titulos que contem a palavra 'Drácula':\")\n",
    "print(df_busca_por_dracula_ordenado)\n",
    "\n",
    "# Contar quantos titulos são \n",
    "df_busca_por_dracula_ordenado = df_busca_por_dracula.shape[0]\n",
    "print(f\"Numéro de titulos que contem a palavra 'Dracula': {df_busca_por_dracula_ordenado}\")"
   ]
  },
  {
   "cell_type": "code",
   "execution_count": 33,
   "metadata": {},
   "outputs": [],
   "source": [
    "\n",
    "\n",
    "def saber_quantos_titulos__tem(titulo):\n",
    "    import pandas as pd \n",
    "    titulos_csv = \"./csv/05_05_imdb_titulos.csv\"\n",
    "\n",
    "    df_titulos = pd.read_csv(titulos_csv)\n",
    "\n",
    "    # fizemos a pesquisa no df na coluna de titulos para ver se contein a palavra \"TAL\"\n",
    "    df_busca_por_titulo = df_titulos[df_titulos['title'].str.contains(titulo, case=False, na=False )]\n",
    "    # Contar quantos titulos são \n",
    "    quantidade_resultado_encontrado = df_busca_por_titulo.shape[0]\n",
    "    try:\n",
    "        print(f\"Seu palavra de pesquisa -> {titulo} <- corresponde a {quantidade_resultado_encontrado}\")\n",
    "      #  return df_busca_por_titulo\n",
    "    except ValueError as ve:\n",
    "        print(ve)\n",
    "    except Exception as ex:\n",
    "        print(ex)\n",
    "\n",
    "def mostrar_os_resultados_encontrados(titulo):\n",
    "    import pandas as pd \n",
    "    titulos_csv = \"./csv/05_05_imdb_titulos.csv\"\n",
    "\n",
    "    df_titulos = pd.read_csv(titulos_csv)\n",
    "\n",
    "    # fizemos a pesquisa no df na coluna de titulos para ver se contein a palavra \"TAL\"\n",
    "    df_busca_por_titulo = df_titulos[df_titulos['title'].str.contains(titulo, case=False, na=False )]\n",
    "\n",
    "    df_busca_por_titulo_ordenado = df_busca_por_titulo.sort_values(by='year', ascending=True)\n",
    "\n",
    "    print(\"Titulos e ano do filme:\")\n",
    "    print(df_busca_por_titulo_ordenado)\n"
   ]
  },
  {
   "cell_type": "code",
   "execution_count": 24,
   "metadata": {},
   "outputs": [
    {
     "name": "stdout",
     "output_type": "stream",
     "text": [
      "Seu palavra de pesquisa -> Alien <- corresponde a 217\n"
     ]
    }
   ],
   "source": [
    "# quero saber tantas vezes TAL palavra aparece no dataframe\n",
    "saber_quantos_titulos__tem(\"Alien\") # Troque pela palavra que desejar\n",
    "    "
   ]
  },
  {
   "cell_type": "code",
   "execution_count": 34,
   "metadata": {},
   "outputs": [
    {
     "name": "stdout",
     "output_type": "stream",
     "text": [
      "Titulos e ano do filme:\n",
      "                                           title  year\n",
      "124702                          Romeo and Juliet  1916\n",
      "147098                     Romeo and Juliet (II)  1916\n",
      "82622                           Romeo and Juliet  1936\n",
      "147308                          Romeo and Juliet  1947\n",
      "87037                           Romeo and Juliet  1954\n",
      "196039                          Romeo and Juliet  1966\n",
      "185337                          Romeo and Juliet  1968\n",
      "143360  The Secret Sex Lives of Romeo and Juliet  1969\n",
      "130431           The Tragedy of Romeo and Juliet  1982\n",
      "171252                A Village Romeo and Juliet  1992\n",
      "146278                         Tromeo and Juliet  1996\n",
      "837                  Romeo and Juliet in Yiddish  2010\n",
      "144796                          Romeo and Juliet  2013\n",
      "193910             Romeo and Juliet: A Love Song  2013\n",
      "166553                     Romeo and Juliet (II)  2014\n",
      "16975                           Romeo and Juliet  2014\n",
      "192649           George Anton's Romeo and Juliet  2014\n",
      "83541                 Romeo and Juliet in Harlem  2015\n",
      "51588     Branagh Theatre Live: Romeo and Juliet  2016\n",
      "171547               Romeo and Juliet Vs Suicide  2017\n"
     ]
    }
   ],
   "source": [
    "mostrar_os_resultados_encontrados(\"Romeo and Juliet\") # Troque pela palavra que desejar "
   ]
  },
  {
   "cell_type": "markdown",
   "metadata": {},
   "source": [
    "* Mostrar os 10 títulos mais comuns (que mais se repetem)."
   ]
  },
  {
   "cell_type": "code",
   "execution_count": 25,
   "metadata": {},
   "outputs": [
    {
     "name": "stdout",
     "output_type": "stream",
     "text": [
      "title\n",
      "Hamlet                   19\n",
      "Carmen                   16\n",
      "Macbeth                  15\n",
      "The Three Musketeers     11\n",
      "Hero                     11\n",
      "                         ..\n",
      "I Love Budapest           1\n",
      "Make Pretend              1\n",
      "The Family Stone          1\n",
      "Peril of the Plains       1\n",
      "Chelovek bez pasporta     1\n",
      "Name: count, Length: 210690, dtype: int64\n"
     ]
    }
   ],
   "source": [
    "import pandas as pd \n",
    "titulos_csv = \"./csv/05_05_imdb_titulos.csv\"\n",
    "\n",
    "df_titulos = pd.read_csv(titulos_csv)\n",
    "\n",
    "# Titulos mais comuns\n",
    "titulos_mais_comuns = df_titulos['title'].value_counts()\n",
    "\n",
    "print(titulos_mais_comuns)\n"
   ]
  },
  {
   "cell_type": "markdown",
   "metadata": {},
   "source": [
    "* Mostrar qual foi o primeiro filme chamado “Romeo and Juliet”."
   ]
  },
  {
   "cell_type": "code",
   "execution_count": 40,
   "metadata": {},
   "outputs": [
    {
     "name": "stdout",
     "output_type": "stream",
     "text": [
      "Titulos e ano do filme:\n",
      "                                           title  year\n",
      "124702                          Romeo and Juliet  1916\n",
      "147098                     Romeo and Juliet (II)  1916\n",
      "82622                           Romeo and Juliet  1936\n",
      "147308                          Romeo and Juliet  1947\n",
      "87037                           Romeo and Juliet  1954\n",
      "196039                          Romeo and Juliet  1966\n",
      "185337                          Romeo and Juliet  1968\n",
      "143360  The Secret Sex Lives of Romeo and Juliet  1969\n",
      "130431           The Tragedy of Romeo and Juliet  1982\n",
      "171252                A Village Romeo and Juliet  1992\n",
      "146278                         Tromeo and Juliet  1996\n",
      "837                  Romeo and Juliet in Yiddish  2010\n",
      "144796                          Romeo and Juliet  2013\n",
      "193910             Romeo and Juliet: A Love Song  2013\n",
      "166553                     Romeo and Juliet (II)  2014\n",
      "16975                           Romeo and Juliet  2014\n",
      "192649           George Anton's Romeo and Juliet  2014\n",
      "83541                 Romeo and Juliet in Harlem  2015\n",
      "51588     Branagh Theatre Live: Romeo and Juliet  2016\n",
      "171547               Romeo and Juliet Vs Suicide  2017\n"
     ]
    }
   ],
   "source": [
    "# Exemplo de uso\n",
    "romeo = mostrar_os_resultados_encontrados(\"Romeo and Juliet\")"
   ]
  },
  {
   "cell_type": "markdown",
   "metadata": {},
   "source": [
    "* Listar todas os filmes que contenham a palavra “Exorcist”, ordenados do mais antigo ao mais recente."
   ]
  },
  {
   "cell_type": "code",
   "execution_count": 41,
   "metadata": {},
   "outputs": [
    {
     "name": "stdout",
     "output_type": "stream",
     "text": [
      "Titulos e ano do filme:\n",
      "                                         title  year\n",
      "88003                             The Exorcist  1973\n",
      "49658                  O Exorcista de Mulheres  1974\n",
      "118920     Satanico Pandemonium: La Sexorcista  1975\n",
      "140519                Exorcist II: The Heretic  1977\n",
      "220073                        Kung Fu Exorcist  1978\n",
      "17375                         The Exorcist III  1990\n",
      "132451                        Teenage Exorcist  1991\n",
      "117797                 Exorcist: The Beginning  2004\n",
      "94189        Dominion: Prequel to the Exorcist  2005\n",
      "209250  Costa Chica: Confession of an Exorcist  2006\n",
      "86354                      Exorcist Chronicles  2007\n",
      "130686                      The Disco Exorcist  2011\n",
      "57932                      Exorcist Chronicles  2013\n",
      "69974                           Shark Exorcist  2015\n",
      "151850                              Exorcistas  2015\n",
      "51101                            Bad Exorcists  2015\n",
      "161093                       American Exorcist  2016\n",
      "60700                      Accidental Exorcist  2016\n",
      "195615                    Diary of an Exorcist  2016\n",
      "228642                  Exorcist House of Evil  2016\n"
     ]
    }
   ],
   "source": [
    "mostrar_os_resultados_encontrados(\"Exorcist\")"
   ]
  },
  {
   "cell_type": "markdown",
   "metadata": {},
   "source": [
    "* Mostrar quantos filmes foram feitas no ano 1950."
   ]
  },
  {
   "cell_type": "code",
   "execution_count": 4,
   "metadata": {},
   "outputs": [
    {
     "name": "stdout",
     "output_type": "stream",
     "text": [
      "Quantidade de filmes feitos no ano 1950: 1081\n"
     ]
    }
   ],
   "source": [
    "# Contar quantos filmes foram feitos no ano 1950\n",
    "import pandas as pd\n",
    "\n",
    "# Caminho para o arquivo CSV\n",
    "titulos_csv = \"./csv/05_05_imdb_titulos.csv\"\n",
    "\n",
    "# Carregar o arquivo CSV\n",
    "df_titulos = pd.read_csv(titulos_csv)\n",
    "\n",
    "# Contar quantos filmes foram feitos no ano 1950\n",
    "filmes_anos_50 = (df_titulos['year'] == 1950).sum()\n",
    "print(f\"Quantidade de filmes feitos no ano 1950: {filmes_anos_50}\")"
   ]
  },
  {
   "cell_type": "markdown",
   "metadata": {},
   "source": [
    "* Mostrar quantaos filmes foram feitas de 1950 a 1959 (inclusive)."
   ]
  },
  {
   "cell_type": "code",
   "execution_count": 7,
   "metadata": {},
   "outputs": [
    {
     "name": "stdout",
     "output_type": "stream",
     "text": [
      "Quantidade de filmes feitos entre 1950 a 1959: 12606\n"
     ]
    }
   ],
   "source": [
    "# Contar quantos filmes foram feitos no ano 1950 a 1959\n",
    "filmes_entre_50_59 = ((df_titulos[\"year\"] > 1949) & (df_titulos['year'] <= 1959)).sum()\n",
    "print(f\"Quantidade de filmes feitos entre 1950 a 1959: {filmes_entre_50_59}\")"
   ]
  },
  {
   "cell_type": "markdown",
   "metadata": {},
   "source": [
    "* Mostrar todas os papéis que teve a trilogia “The Godfather”, agrupando pelo papel e forneca a informação da quantidade de vezes esse papel apareceu (exemplo: michael corleone aparece nos 3 filmes da triologia)."
   ]
  },
  {
   "cell_type": "code",
   "execution_count": 12,
   "metadata": {},
   "outputs": [
    {
     "name": "stdout",
     "output_type": "stream",
     "text": [
      "Papéis na trilogia 'The Godfather' e a quantidade de vezes que apareceram:\n"
     ]
    },
    {
     "data": {
      "text/html": [
       "<div>\n",
       "<style scoped>\n",
       "    .dataframe tbody tr th:only-of-type {\n",
       "        vertical-align: middle;\n",
       "    }\n",
       "\n",
       "    .dataframe tbody tr th {\n",
       "        vertical-align: top;\n",
       "    }\n",
       "\n",
       "    .dataframe thead th {\n",
       "        text-align: right;\n",
       "    }\n",
       "</style>\n",
       "<table border=\"1\" class=\"dataframe\">\n",
       "  <thead>\n",
       "    <tr style=\"text-align: right;\">\n",
       "      <th></th>\n",
       "      <th>character</th>\n",
       "      <th>count</th>\n",
       "    </tr>\n",
       "  </thead>\n",
       "  <tbody>\n",
       "    <tr>\n",
       "      <th>63</th>\n",
       "      <td>Extra</td>\n",
       "      <td>4</td>\n",
       "    </tr>\n",
       "    <tr>\n",
       "      <th>2</th>\n",
       "      <td>Alfio in 'Cavalleria Rusticana'</td>\n",
       "      <td>2</td>\n",
       "    </tr>\n",
       "    <tr>\n",
       "      <th>0</th>\n",
       "      <td>Al Neri</td>\n",
       "      <td>2</td>\n",
       "    </tr>\n",
       "    <tr>\n",
       "      <th>26</th>\n",
       "      <td>Carlo</td>\n",
       "      <td>2</td>\n",
       "    </tr>\n",
       "    <tr>\n",
       "      <th>51</th>\n",
       "      <td>Don Tommasino</td>\n",
       "      <td>2</td>\n",
       "    </tr>\n",
       "    <tr>\n",
       "      <th>...</th>\n",
       "      <td>...</td>\n",
       "      <td>...</td>\n",
       "    </tr>\n",
       "    <tr>\n",
       "      <th>218</th>\n",
       "      <td>Young Clemenza</td>\n",
       "      <td>1</td>\n",
       "    </tr>\n",
       "    <tr>\n",
       "      <th>219</th>\n",
       "      <td>Young Hyman Roth</td>\n",
       "      <td>1</td>\n",
       "    </tr>\n",
       "    <tr>\n",
       "      <th>220</th>\n",
       "      <td>Young Tessio</td>\n",
       "      <td>1</td>\n",
       "    </tr>\n",
       "    <tr>\n",
       "      <th>221</th>\n",
       "      <td>Young priest</td>\n",
       "      <td>1</td>\n",
       "    </tr>\n",
       "    <tr>\n",
       "      <th>222</th>\n",
       "      <td>Zasa's Bodyguard</td>\n",
       "      <td>1</td>\n",
       "    </tr>\n",
       "  </tbody>\n",
       "</table>\n",
       "<p>223 rows × 2 columns</p>\n",
       "</div>"
      ],
      "text/plain": [
       "                           character  count\n",
       "63                             Extra      4\n",
       "2    Alfio in 'Cavalleria Rusticana'      2\n",
       "0                            Al Neri      2\n",
       "26                             Carlo      2\n",
       "51                     Don Tommasino      2\n",
       "..                               ...    ...\n",
       "218                   Young Clemenza      1\n",
       "219                 Young Hyman Roth      1\n",
       "220                     Young Tessio      1\n",
       "221                     Young priest      1\n",
       "222                 Zasa's Bodyguard      1\n",
       "\n",
       "[223 rows x 2 columns]"
      ]
     },
     "execution_count": 12,
     "metadata": {},
     "output_type": "execute_result"
    }
   ],
   "source": [
    "import pandas as pd\n",
    "\n",
    "# Caminho para o arquivo CSV\n",
    "elenco_csv = \"./csv/05_05_imdb_elenco.csv\"\n",
    "\n",
    "# Carregar o arquivo CSV\n",
    "df_elenco = pd.read_csv(elenco_csv)\n",
    "\n",
    "# Filtrar os dados para incluir apenas os filmes da triologia do \" The Godfather\"\n",
    "triologia_godfather = df_elenco[df_elenco['title'].str.contains(\"The GodFather\", case=False, na=False)]\n",
    "\n",
    "# Todos os filmes \n",
    "#print(triologia_godfather)\n",
    "\n",
    "papel_contagem = triologia_godfather.groupby('character').size().reset_index(name='count')\n",
    "\n",
    "papel_contagem = papel_contagem.sort_values(by='count', ascending= False)\n",
    "# Mostrar os resultados\n",
    "print(\"Papéis na trilogia 'The Godfather' e a quantidade de vezes que apareceram:\")\n",
    "papel_contagem"
   ]
  },
  {
   "cell_type": "code",
   "execution_count": 7,
   "metadata": {},
   "outputs": [
    {
     "name": "stdout",
     "output_type": "stream",
     "text": [
      "Informações sobre o personagem 'Michael Corleone' na trilogia 'The Godfather':\n",
      "                           title    year       name   type  \\\n",
      "1642816            The Godfather  1972.0  Al Pacino  actor   \n",
      "1642818  The Godfather: Part III  1990.0  Al Pacino  actor   \n",
      "\n",
      "                    character    n  \n",
      "1642816      Michael Corleone  2.0  \n",
      "1642818  Don Michael Corleone  1.0  \n",
      "\n",
      "Quantidade de vezes que 'Michael Corleone' apareceu: 2\n"
     ]
    }
   ],
   "source": [
    "import pandas as pd\n",
    "\n",
    "# Caminho para o arquivo CSV\n",
    "elenco_csv = \"./csv/05_05_imdb_elenco.csv\"\n",
    "\n",
    "# Carregar o arquivo CSV\n",
    "df_elenco = pd.read_csv(elenco_csv)\n",
    "\n",
    "# Filtrar os dados para incluir apenas os filmes da trilogia \"The Godfather\"\n",
    "trilogia_godfather = df_elenco[df_elenco['title'].str.contains(\"The Godfather\", case=False, na=False)]\n",
    "\n",
    "# Filtrar os dados para incluir apenas o personagem \"Michael Corleone\"\n",
    "michael_corleone = trilogia_godfather[trilogia_godfather['character'].str.contains(\"Michael Corleone\", case=False, na=False)]\n",
    "\n",
    "# Filtrar os dados para incluir apenas o ator/atora  \"Al Pacino Corleone\"\n",
    "#michael_corleone = trilogia_godfather[trilogia_godfather['name'].str.contains(\"Al Pacino\", case=False, na=False)]\n",
    "\n",
    "# Contar a quantidade de vezes que o personagem apareceu\n",
    "quantidade_michael_corleone = michael_corleone.shape[0]\n",
    "\n",
    "\n",
    "# Mostrar os resultados\n",
    "print(\"Informações sobre o personagem 'Michael Corleone' na trilogia 'The Godfather':\")\n",
    "print(michael_corleone)\n",
    "print(f\"\\nQuantidade de vezes que 'Michael Corleone' apareceu: {quantidade_michael_corleone}\")"
   ]
  },
  {
   "cell_type": "markdown",
   "metadata": {},
   "source": [
    "* Mostrar o elenco completo, ordenado pela classificação “n” do filme “Drácula” de 1958.\n"
   ]
  },
  {
   "cell_type": "code",
   "execution_count": null,
   "metadata": {},
   "outputs": [
    {
     "name": "stdout",
     "output_type": "stream",
     "text": [
      "Elenco completo do filme 'Drácula' de 1958, ordenado pela classificação 'n':\n",
      "                         title    year                   name     type  \\\n",
      "1240853  The Return of Dracula  1958.0        Francis Lederer    actor   \n",
      "485197                 Dracula  1958.0          Peter Cushing    actor   \n",
      "1242308                Dracula  1958.0        Christopher Lee    actor   \n",
      "1242307                Dracula  1958.0        Christopher Lee    actor   \n",
      "822398                 Dracula  1958.0          Michael Gough    actor   \n",
      "2091208  The Return of Dracula  1958.0          Ray Stricklyn    actor   \n",
      "2306094  The Return of Dracula  1958.0           John Wengraf    actor   \n",
      "408463   The Return of Dracula  1958.0            Gage Clarke    actor   \n",
      "2220986                Dracula  1958.0        John Van Eyssen    actor   \n",
      "110877   The Return of Dracula  1958.0            Jimmy Baird    actor   \n",
      "2444220                Dracula  1958.0         Barbara Archer  actress   \n",
      "1285506                Dracula  1958.0     Charles Lloyd Pack    actor   \n",
      "1453367                Dracula  1958.0         George Merritt    actor   \n",
      "2357769                Dracula  1958.0      George Woodbridge    actor   \n",
      "171732                 Dracula  1958.0          George Benson    actor   \n",
      "1347640                Dracula  1958.0         Miles Malleson    actor   \n",
      "148496                 Dracula  1958.0       Geoffrey Bayldon    actor   \n",
      "423307                 Dracula  1958.0              Paul Cole    actor   \n",
      "38868    The Return of Dracula  1958.0        Melvin F. Allen    actor   \n",
      "673736   The Return of Dracula  1958.0        William Fawcett    actor   \n",
      "746702   The Return of Dracula  1958.0            Dan Gachman    actor   \n",
      "885191   The Return of Dracula  1958.0        Joseph Hamilton    actor   \n",
      "1318929  The Return of Dracula  1958.0            Robert Lynn    actor   \n",
      "1433374  The Return of Dracula  1958.0          John McNamara    actor   \n",
      "1475047                Dracula  1958.0              Guy Mills    actor   \n",
      "1513434                Dracula  1958.0  Richard (VIII) Morgan    actor   \n",
      "1524497                Dracula  1958.0      John (II) Mossman    actor   \n",
      "1937417  The Return of Dracula  1958.0       Norbert Schiller    actor   \n",
      "2127813  The Return of Dracula  1958.0         Charles Tannen    actor   \n",
      "\n",
      "                                      character     n  \n",
      "1240853  Count Dracula, posing as Bellac Gordal   1.0  \n",
      "485197                       Doctor Van Helsing   1.0  \n",
      "1242308                           Count Dracula   2.0  \n",
      "1242307                                 Dracula   2.0  \n",
      "822398                                   Arthur   3.0  \n",
      "2091208                              Tim Hansen   3.0  \n",
      "2306094                           John Merriman   4.0  \n",
      "408463                Reverend Doctor Whitfield   6.0  \n",
      "2220986                                Jonathan   7.0  \n",
      "110877                          Mickey Mayberry   7.0  \n",
      "2444220                                    Inga  10.0  \n",
      "1285506                           Doctor Seward  11.0  \n",
      "1453367                               Policeman  12.0  \n",
      "2357769                                Landlord  13.0  \n",
      "171732                                 Official  14.0  \n",
      "1347640                              Undertaker  15.0  \n",
      "148496                                   Porter  16.0  \n",
      "423307                                      Lad  17.0  \n",
      "38868                    Mel, the Baggage Clerk   NaN  \n",
      "673736                   Eddie - Station Master   NaN  \n",
      "746702                             County Clerk   NaN  \n",
      "885191          Man Reporting Murder at Station   NaN  \n",
      "1318929                        Dr. Paul Beecher   NaN  \n",
      "1433374                        Sheriff Bicknell   NaN  \n",
      "1475047                            Coach Driver   NaN  \n",
      "1513434                Coach Driver's Companion   NaN  \n",
      "1524497                           Hearse Driver   NaN  \n",
      "1937417                          Bellack Gordal   NaN  \n",
      "2127813       Mack Bryant, Dept. of Immigration   NaN  \n"
     ]
    }
   ],
   "source": [
    "import pandas as pd\n",
    "\n",
    "# Caminho para o arquivo CSV\n",
    "elenco_csv = \"./csv/05_05_imdb_elenco.csv\"\n",
    "\n",
    "# Carregar o arquivo CSV\n",
    "df_elenco = pd.read_csv(elenco_csv)\n",
    "\n",
    "# Filtrar os dados para incluir apenas o filme \"Drácula\" de 1958\n",
    "dracula_1958 = df_elenco[(df_elenco['title'].str.contains('Dracula', case=False, na=False)) & (df_elenco['year'] == 1958)]\n",
    "# Ordenar o elenco pela classificação \"n\"\n",
    "dracula_1958_ordenado = dracula_1958.sort_values(by='n')\n",
    "\n",
    "# Mostrar o elenco completo, ordenado pela classificação \"n\"\n",
    "print(\"Elenco completo do filme 'Drácula' de 1958, ordenado pela classificação 'n':\")\n",
    "print(dracula_1958_ordenado)"
   ]
  },
  {
   "cell_type": "markdown",
   "metadata": {},
   "source": [
    "* Mostrar quantos papéis teve “Bruce Wayne” como protagonista (Dica: Em Batman de 1989, existe Bruce Wayne e tambem Young Bruce Wayne, que deverão ambos aparecer)."
   ]
  },
  {
   "cell_type": "code",
   "execution_count": null,
   "metadata": {},
   "outputs": [],
   "source": []
  },
  {
   "cell_type": "code",
   "execution_count": 31,
   "metadata": {},
   "outputs": [
    {
     "name": "stdout",
     "output_type": "stream",
     "text": [
      "Quantidade de Personagem com o mesmo nome character\n",
      "Bruce Wayne                 38\n",
      "Young Bruce Wayne            6\n",
      "Bruce Wayne - age 8          1\n",
      "Bruce Wayne - Age 8          1\n",
      "Waiter Bruce Wayne Party     1\n",
      "Bruce Wayne's Girlfriend     1\n",
      "Name: count, dtype: int64\n",
      "A palavra ['Bruce Wayne'] apareceu 48\n",
      "Mostrando a tabela com o nome e o ano em que 'Bruce Wayne' apareceu:\n",
      "                        character    year\n",
      "2341434               Bruce Wayne  1943.0\n",
      "1304815               Bruce Wayne  1949.0\n",
      "2307987               Bruce Wayne  1966.0\n",
      "1001                  Bruce Wayne  1967.0\n",
      "2341445               Bruce Wayne  1974.0\n",
      "1111067               Bruce Wayne  1989.0\n",
      "1868959         Young Bruce Wayne  1989.0\n",
      "1111069               Bruce Wayne  1992.0\n",
      "436781                Bruce Wayne  1993.0\n",
      "1140283               Bruce Wayne  1995.0\n",
      "637646          Young Bruce Wayne  1995.0\n",
      "414272                Bruce Wayne  1997.0\n",
      "1285862         Young Bruce Wayne  1997.0\n",
      "1265802       Bruce Wayne - age 8  2005.0\n",
      "117412                Bruce Wayne  2005.0\n",
      "117443                Bruce Wayne  2008.0\n",
      "932275                Bruce Wayne  2009.0\n",
      "932271                Bruce Wayne  2010.0\n",
      "1748590               Bruce Wayne  2011.0\n",
      "410245          Young Bruce Wayne  2011.0\n",
      "463594                Bruce Wayne  2011.0\n",
      "687004                Bruce Wayne  2011.0\n",
      "117444                Bruce Wayne  2012.0\n",
      "1265803       Bruce Wayne - Age 8  2012.0\n",
      "2077555               Bruce Wayne  2012.0\n",
      "1364945               Bruce Wayne  2014.0\n",
      "463596                Bruce Wayne  2014.0\n",
      "77679                 Bruce Wayne  2014.0\n",
      "2013783         Young Bruce Wayne  2014.0\n",
      "2033963               Bruce Wayne  2014.0\n",
      "2250242               Bruce Wayne  2014.0\n",
      "1183764               Bruce Wayne  2015.0\n",
      "932273                Bruce Wayne  2015.0\n",
      "222593                Bruce Wayne  2016.0\n",
      "15825                 Bruce Wayne  2016.0\n",
      "1003771               Bruce Wayne  2016.0\n",
      "313015                Bruce Wayne  2016.0\n",
      "436782                Bruce Wayne  2016.0\n",
      "463599                Bruce Wayne  2016.0\n",
      "15783                 Bruce Wayne  2016.0\n",
      "1364943               Bruce Wayne  2016.0\n",
      "2051979         Young Bruce Wayne  2016.0\n",
      "2307985               Bruce Wayne  2016.0\n",
      "1563720  Waiter Bruce Wayne Party  2016.0\n",
      "2489087  Bruce Wayne's Girlfriend  2016.0\n",
      "463601                Bruce Wayne  2017.0\n",
      "77677                 Bruce Wayne  2017.0\n",
      "15809                 Bruce Wayne  2017.0\n"
     ]
    }
   ],
   "source": [
    "import pandas as pd\n",
    "\n",
    "# Caminho para o arquivo CSV\n",
    "elenco_csv = \"./csv/05_05_imdb_elenco.csv\"\n",
    "\n",
    "# Carregar o arquivo CSV\n",
    "df_elenco = pd.read_csv(elenco_csv)\n",
    "\n",
    "buscar_brune_wayne = df_elenco[df_elenco['character'].str.contains('Bruce Wayne', case=False, na=False)]\n",
    "\n",
    "buscar_brune_wayne_ordem_cres = buscar_brune_wayne.sort_values(by=\"year\", ascending=True)\n",
    "\n",
    "# Contar a quantidade de vezes que o personagem apareceu\n",
    "n_vezes_apareceu_bruce_wayne = buscar_brune_wayne_ordem_cres.shape[0]\n",
    "\n",
    "# buscar pela quantidade de vezes\n",
    "contagem_personagens = buscar_brune_wayne_ordem_cres['character'].value_counts()\n",
    "\n",
    "# Contagem\n",
    "print(f\"Quantidade de Personagem com o mesmo nome {contagem_personagens}\")\n",
    "# Selecionar apenas as colunas 'name' e 'year'\n",
    "resultado = buscar_brune_wayne_ordem_cres[['character', 'year']]\n",
    "\n",
    "print(f\"A palavra ['Bruce Wayne'] apareceu {n_vezes_apareceu_bruce_wayne}\")\n",
    "# Mostrar os resultados\n",
    "print(\"Mostrando a tabela com o nome e o ano em que 'Bruce Wayne' apareceu:\")\n",
    "print(resultado)\n"
   ]
  },
  {
   "cell_type": "markdown",
   "metadata": {},
   "source": [
    "\n",
    "* Mostrar quantos papéis fez “Robert de Niro” na sua carreira.\n"
   ]
  },
  {
   "cell_type": "code",
   "execution_count": 41,
   "metadata": {},
   "outputs": [
    {
     "name": "stdout",
     "output_type": "stream",
     "text": [
      "O/A Robert de Niro, fez 103 personagens\n",
      "                  name                 character    year\n",
      "525856  Robert De Niro  Detective Eddie Flemming  2001.0\n",
      "525857  Robert De Niro                   Lorenzo  1993.0\n",
      "525858  Robert De Niro           Victor Tellegio  2013.0\n",
      "525859  Robert De Niro                Paul Vitti  2002.0\n",
      "525860  Robert De Niro                Paul Vitti  1999.0\n",
      "...                ...                       ...     ...\n",
      "525954  Robert De Niro       Father Des Spellacy  1981.0\n",
      "525955  Robert De Niro                      G.B.  2017.0\n",
      "525956  Robert De Niro              Conrad Brean  1997.0\n",
      "525957  Robert De Niro                       Ned  1989.0\n",
      "525958  Robert De Niro                       Ben  2008.0\n",
      "\n",
      "[103 rows x 3 columns]\n"
     ]
    }
   ],
   "source": [
    "# buscar pelo nome \" TAL \"\n",
    "\n",
    "# faremos a soma de todas as vezes que ele apareceu \n",
    "\n",
    "# depois atualizaremos para uma função \n",
    "\n",
    "\n",
    "import pandas as pd\n",
    "\n",
    "# Caminho para o arquivo CSV\n",
    "elenco_csv = \"./csv/05_05_imdb_elenco.csv\"\n",
    "\n",
    "# Carregar o arquivo CSV\n",
    "df_elenco = pd.read_csv(elenco_csv)\n",
    "\n",
    "\n",
    "buscando_por_ator_tal = \"Robert de Niro\"\n",
    "\n",
    "busca_do_ator = df_elenco[df_elenco['name'].str.contains(buscando_por_ator_tal , case=False, na=False)]\n",
    "# Contar a quantidade de vezes que o personagem apareceu\n",
    "n_vezes_apareceu = busca_do_ator.shape[0]\n",
    "# buscar pela quantidade de vezes\n",
    "contagem_personagens = busca_do_ator['name'].value_counts()\n",
    "# mostrar apenas o papel feito e o nome\n",
    "# Selecionar apenas as colunas 'name' e 'character e ano'\n",
    "resultado = busca_do_ator[['name','character', 'year']] \n",
    "\n",
    "print(f\"O/A {buscando_por_ator_tal}, fez {n_vezes_apareceu} personagens\")\n",
    "\n",
    "print(resultado)"
   ]
  },
  {
   "cell_type": "markdown",
   "metadata": {},
   "source": [
    "* Listagem de papéis como protagonista (n=1) que teve o ator “Charlton Heston” na década dos 60’s, ordenado  por ano de forma descendente."
   ]
  },
  {
   "cell_type": "code",
   "execution_count": 51,
   "metadata": {},
   "outputs": [
    {
     "name": "stdout",
     "output_type": "stream",
     "text": [
      "                            title                      character    year    n\n",
      "944074                 Number One               Ron 'Cat' Catlan  1969.0  1.0\n",
      "944077         Planet of the Apes                  George Taylor  1968.0  1.0\n",
      "944050               Counterpoint                   Lionel Evans  1967.0  1.0\n",
      "944120                 Will Penny                     Will Penny  1967.0  1.0\n",
      "944066                   Khartoum  Gen. Charles 'Chinese' Gordon  1966.0  1.0\n",
      "944068               Major Dundee      Major Amos Charles Dundee  1965.0  1.0\n",
      "944111               The War Lord                      Chrysagon  1965.0  1.0\n",
      "944085  The Agony and the Ecstasy                   Michelangelo  1965.0  1.0\n",
      "944038          55 Days at Peking                Maj. Matt Lewis  1963.0  1.0\n",
      "944052               Diamond Head         Richard 'King' Howland  1962.0  1.0\n",
      "944103  The Pigeon That Took Rome                       Narrator  1962.0  1.0\n",
      "944101  The Pigeon That Took Rome        Captain Paul MacDougall  1962.0  1.0\n",
      "944102  The Pigeon That Took Rome               Benny the Snatch  1962.0  1.0\n",
      "944054                     El Cid        El Cid Rodrigo de Vivar  1961.0  1.0\n"
     ]
    }
   ],
   "source": [
    "import pandas as pd\n",
    "\n",
    "# Caminho para o arquivo CSV\n",
    "elenco_csv = \"./csv/05_05_imdb_elenco.csv\"\n",
    "\n",
    "# Carregar o arquivo CSV\n",
    "df_elenco = pd.read_csv(elenco_csv)\n",
    "\n",
    "# filtrar apenas por n=1\n",
    "filtro_n1 = df_elenco[df_elenco['n'] == 1]\n",
    "#print(filtro_n1)\n",
    "\n",
    "# Filtrar por ator \"Charlton Heston\" e década de 60\n",
    "filtro_ator = df_elenco[(df_elenco[\"name\"].str.contains('Charlton Heston', case=False, na=False)) & (df_elenco['year'] >= 1960) & (df_elenco['year'] < 1970) & (df_elenco['n'] == 1)]\n",
    "filtro_ator = filtro_ator.sort_values(by='year', ascending=False)\n",
    "\n",
    "lista_dos_papeis = filtro_ator[['title', 'character', 'year', 'n']]\n",
    "print(lista_dos_papeis)\n"
   ]
  },
  {
   "cell_type": "markdown",
   "metadata": {},
   "source": [
    "* Mostrar quantos papéis para atores teve na década 50’s.\n",
    "* Mostrar quantos papéis para atrizes teve na década 50’s."
   ]
  },
  {
   "cell_type": "code",
   "execution_count": 2,
   "metadata": {},
   "outputs": [
    {
     "name": "stdout",
     "output_type": "stream",
     "text": [
      "Total de atores na década de 50: 153998\n",
      "Total de atrizes na década de 50: 10894\n"
     ]
    }
   ],
   "source": [
    "import pandas as pd\n",
    "\n",
    "# Caminho para o arquivo CSV\n",
    "elenco_csv = \"./csv/05_05_imdb_elenco.csv\"\n",
    "\n",
    "# Carregar o arquivo CSV\n",
    "df_elenco = pd.read_csv(elenco_csv)\n",
    "\n",
    "# filtro da decada de 50\n",
    "decada_50 = df_elenco[(df_elenco['year'] >= 1950) & (df_elenco['year'] < 1960)]\n",
    "\n",
    "atores_decada_50 = decada_50[decada_50['type'] == 'actor']\n",
    "atrizes_decada_50 = decada_50[decada_50['type'] == 'actress']\n",
    "\n",
    "# contar atores e atrizes \n",
    "total_atores = len(atores_decada_50)\n",
    "total_atrizes = len(atrizes_decada_50)\n",
    "\n",
    "print(f\"Total de atores na década de 50: {total_atores}\")\n",
    "print(f\"Total de atrizes na década de 50: {total_atrizes}\")\n"
   ]
  }
 ],
 "metadata": {
  "anaconda-cloud": {},
  "kernelspec": {
   "display_name": "Python 3",
   "language": "python",
   "name": "python3"
  },
  "language_info": {
   "codemirror_mode": {
    "name": "ipython",
    "version": 3
   },
   "file_extension": ".py",
   "mimetype": "text/x-python",
   "name": "python",
   "nbconvert_exporter": "python",
   "pygments_lexer": "ipython3",
   "version": "3.12.9"
  }
 },
 "nbformat": 4,
 "nbformat_minor": 1
}

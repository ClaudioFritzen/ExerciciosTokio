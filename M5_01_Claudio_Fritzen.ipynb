{
 "cells": [
  {
   "cell_type": "markdown",
   "metadata": {},
   "source": [
    "### Exercício 1\n",
    "\n",
    "Neste exercício, devemos criar um programa que abra e leia um ficheiro de texto e nos proporcione a seguinte informação:\n",
    "\n",
    "Nome do ficheiro\n",
    "Se o ficheiro está fechado ou não(True ou False)\n",
    "O modo de abertura do ficheiro\n",
    "\n",
    "#### O ficheiro de texto vai denominar-se 'provas.txt' e terá o seguinte conteúdo em texto plano (criar previamente):\n",
    "\n",
    "```\n",
    "Olá, que tal está \n",
    "Isso é uma prova \n",
    "Hoje não chove\n",
    "Aproxima-se o natal\n",
    "Até logo e muitas boas\n",
    "```\n",
    "Pesquisa na documentação que métodos proporcianam a informação necessária. Por último, listar o conteúdo do ficheiro.\n",
    "\n",
    "Aviso importante: se quiser ler um ficheiro escrito diretamente com Python, então é possível que encontre erros de codificação ao mostrar alguns caracteres. Assegurar-se\n",
    "que indica a codificação do ficheiro manualmente durante a abertura como argumento no open, por exemplo com UTF-8:\n",
    "\n",
    "##### open(...., encoding=\"utf8\")"
   ]
  },
  {
   "cell_type": "code",
   "execution_count": 1,
   "metadata": {},
   "outputs": [],
   "source": [
    "file = open(\"provas.txt\", \"r\", encoding=\"utf-8\")"
   ]
  },
  {
   "cell_type": "code",
   "execution_count": 7,
   "metadata": {},
   "outputs": [
    {
     "data": {
      "text/plain": [
       "'provas.txt'"
      ]
     },
     "execution_count": 7,
     "metadata": {},
     "output_type": "execute_result"
    }
   ],
   "source": [
    "\n",
    "# Nome do ficheiro\n",
    "file.name"
   ]
  },
  {
   "cell_type": "code",
   "execution_count": 15,
   "metadata": {},
   "outputs": [
    {
     "data": {
      "text/plain": [
       "True"
      ]
     },
     "execution_count": 15,
     "metadata": {},
     "output_type": "execute_result"
    }
   ],
   "source": [
    "# Se o ficheiro está fechado ou não(True ou False)\n",
    "file.closed"
   ]
  },
  {
   "cell_type": "code",
   "execution_count": 10,
   "metadata": {},
   "outputs": [
    {
     "data": {
      "text/plain": [
       "'r'"
      ]
     },
     "execution_count": 10,
     "metadata": {},
     "output_type": "execute_result"
    }
   ],
   "source": [
    "# O modo de abertura do ficheiro\n",
    "file.mode"
   ]
  },
  {
   "cell_type": "code",
   "execution_count": 18,
   "metadata": {},
   "outputs": [],
   "source": [
    "file.close()"
   ]
  },
  {
   "cell_type": "markdown",
   "metadata": {},
   "source": [
    "### Exercício 2\n",
    "\n",
    "Sobre o ficheiro anterior, vamos obter a seguinte informação:\n",
    "\n",
    "Leitura de uma linhado ficheiro\n",
    "Leitura do ficheiro linha a linha\n"
   ]
  },
  {
   "cell_type": "code",
   "execution_count": 19,
   "metadata": {},
   "outputs": [],
   "source": [
    "file = open(\"provas.txt\", \"r\", encoding=\"utf-8\")"
   ]
  },
  {
   "cell_type": "code",
   "execution_count": 20,
   "metadata": {},
   "outputs": [
    {
     "data": {
      "text/plain": [
       "'Olá, que tal está \\n'"
      ]
     },
     "execution_count": 20,
     "metadata": {},
     "output_type": "execute_result"
    }
   ],
   "source": [
    "file.readline()"
   ]
  },
  {
   "cell_type": "code",
   "execution_count": null,
   "metadata": {},
   "outputs": [
    {
     "data": {
      "text/plain": [
       "'Isso é uma prova \\n'"
      ]
     },
     "execution_count": 21,
     "metadata": {},
     "output_type": "execute_result"
    }
   ],
   "source": [
    "file.readline()"
   ]
  },
  {
   "cell_type": "code",
   "execution_count": 23,
   "metadata": {},
   "outputs": [],
   "source": [
    "file.close()"
   ]
  },
  {
   "cell_type": "markdown",
   "metadata": {},
   "source": [
    "### Exercício 3\n",
    "\n",
    "Sobre o ficheiro anterior, fazer a seguinte operação:\n",
    "\n",
    "    Abrir o ficheiro em modo escrita (ligar o conteúdo, sem o substituir) e escrever uma nova linha texto.\n",
    "\n",
    "Rever se está a funcionar corretamente comprovando o ficheiro ( fechar e abrir para poder visualizar as alterações)."
   ]
  },
  {
   "cell_type": "code",
   "execution_count": 26,
   "metadata": {},
   "outputs": [],
   "source": [
    "file = open(\"provas.txt\", \"a\", encoding=\"utf-8\")"
   ]
  },
  {
   "cell_type": "code",
   "execution_count": 27,
   "metadata": {},
   "outputs": [
    {
     "data": {
      "text/plain": [
       "46"
      ]
     },
     "execution_count": 27,
     "metadata": {},
     "output_type": "execute_result"
    }
   ],
   "source": [
    "file.write(\"Uma nova linha sem substutuir o texto anterior\")"
   ]
  },
  {
   "cell_type": "code",
   "execution_count": 28,
   "metadata": {},
   "outputs": [],
   "source": [
    "file.close()"
   ]
  },
  {
   "cell_type": "code",
   "execution_count": 29,
   "metadata": {},
   "outputs": [
    {
     "data": {
      "text/plain": [
       "['Olá, que tal está \\n',\n",
       " 'Isso é uma prova \\n',\n",
       " 'Hoje não chove\\n',\n",
       " 'Aproxima-se o natal\\n',\n",
       " 'Até logo e muitas boas\\n',\n",
       " 'Uma nova linha sem substutuir o texto anterior']"
      ]
     },
     "execution_count": 29,
     "metadata": {},
     "output_type": "execute_result"
    }
   ],
   "source": [
    "file = open(\"provas.txt\", \"r\", encoding=\"utf-8\")\n",
    "file.readlines()"
   ]
  },
  {
   "cell_type": "markdown",
   "metadata": {},
   "source": [
    "### Exercício 4\n",
    "\n",
    "Sobre o ficheiro anterior, fazer a seguinte operação:\n",
    "\n",
    "    Abrir o ficheiro em modo escrita (subtituindo o conteúdo) e escrever uma nova linha de texto\n",
    "\n",
    "Rever se está a funcionar corretamente comprovando o ficheiro (fechar e abrir para poder visualizar as alterações). "
   ]
  },
  {
   "cell_type": "code",
   "execution_count": 30,
   "metadata": {},
   "outputs": [],
   "source": [
    "file = open(\"provas.txt\", \"w\", encoding=\"utf-8\")\n"
   ]
  },
  {
   "cell_type": "code",
   "execution_count": 31,
   "metadata": {},
   "outputs": [
    {
     "data": {
      "text/plain": [
       "48"
      ]
     },
     "execution_count": 31,
     "metadata": {},
     "output_type": "execute_result"
    }
   ],
   "source": [
    "file.write(\"removemos tudo e substituimos o que tinha antes!\")"
   ]
  },
  {
   "cell_type": "code",
   "execution_count": 32,
   "metadata": {},
   "outputs": [],
   "source": [
    "file.close()"
   ]
  },
  {
   "cell_type": "code",
   "execution_count": 33,
   "metadata": {},
   "outputs": [
    {
     "name": "stdout",
     "output_type": "stream",
     "text": [
      "removemos tudo e substituimos o que tinha antes!\n"
     ]
    }
   ],
   "source": [
    "with open(\"provas.txt\", \"r\") as ficheiro:\n",
    "    for linha in ficheiro:\n",
    "        print(linha)"
   ]
  },
  {
   "cell_type": "markdown",
   "metadata": {},
   "source": [
    "#### Exercício 5\n",
    "\n",
    "Neste exercício, devemos criar um programa para ler os dados de um ficheiro de texto, que transforme cada fila num dicionário e o adiciona a uma lista chamada pessoas.\n",
    "Logo, recorre-se às pessoas da lista e para cada uma mostrar de forma amigável todos os seus campos. Por exemplo, assim:\n",
    "\n",
    "        (id=1) Carlos Pérez => 05/01/1989\n",
    "\n",
    "O ficheiro de texto denominar `pessoas.txt` e terá o seguinte conteúdo no texto plano (criá-lo previamente):\n",
    "\n",
    "```\n",
    "1; Carlos; Pérez; 05/01/1989\n",
    "2; Manuel; Heredia; 26/12/1973\n",
    "3; Rosa; Campos; 12/06/1961\n",
    "4; David; García; 25/07/2006\n",
    "\n",
    "```\n",
    "\n",
    "Os campos do dicionário serão por ordem: `id, nome, apelido e nascimento`.\n",
    "\n",
    "Aviso importante: se quiser ler um ficheiro que não se escreveu diretamente com o Python, então é possível que se encontrem erros de codificação ao mostrar alguns caracteres. \n",
    "Assegurar que indica a codificação do ficheiro manualmente durante a abertura como argumento no open, por exemplo com UTF-8:\n",
    "       \n",
    "        `open(...., encoding=\"utf8\")`\n",
    "        \n",
    "Pista: é possível que se tenha que recorrer a funções como replace ou split para poder modificar o texto de uma linha de texto. Pesquisar documentação sobre isso.\n"
   ]
  },
  {
   "cell_type": "code",
   "execution_count": 39,
   "metadata": {},
   "outputs": [],
   "source": [
    "leads = open(\"pessoas.txt\", \"r\", encoding=\"utf-8\")"
   ]
  },
  {
   "cell_type": "code",
   "execution_count": 40,
   "metadata": {},
   "outputs": [],
   "source": [
    "conteudo =leads.read()"
   ]
  },
  {
   "cell_type": "code",
   "execution_count": 41,
   "metadata": {},
   "outputs": [],
   "source": [
    "leads.close()"
   ]
  },
  {
   "cell_type": "code",
   "execution_count": 42,
   "metadata": {},
   "outputs": [],
   "source": [
    "pessoas = []\n",
    "linha = conteudo.split(\"\\n\")"
   ]
  },
  {
   "cell_type": "code",
   "execution_count": 43,
   "metadata": {},
   "outputs": [],
   "source": [
    "for row in linha:\n",
    "    if row.strip():\n",
    "        campos = row.split(\";\")\n",
    "\n",
    "        pessoa = {\n",
    "            \"id\":campos[0],\n",
    "            \"nome\":campos[1],\n",
    "            \"apelido\":campos[2],\n",
    "            \"nascimento\":campos[3],\n",
    "        }\n",
    "        pessoas.append(pessoa)\n"
   ]
  },
  {
   "cell_type": "code",
   "execution_count": 44,
   "metadata": {},
   "outputs": [
    {
     "name": "stdout",
     "output_type": "stream",
     "text": [
      "(id=1  Carlos  Pérez =>  05/01/1989)\n",
      "(id=2  Manuel  Heredia =>  26/12/1973)\n",
      "(id=3  Rosa  Campos =>  12/06/1961)\n",
      "(id=4  David  García =>  25/07/2006)\n"
     ]
    }
   ],
   "source": [
    "for pessoa in pessoas:\n",
    "    print(f\"(id={pessoa[\"id\"]} {pessoa[\"nome\"]} {pessoa[\"apelido\"]} => {pessoa[\"nascimento\"]})\")"
   ]
  },
  {
   "cell_type": "code",
   "execution_count": null,
   "metadata": {},
   "outputs": [],
   "source": []
  },
  {
   "cell_type": "markdown",
   "metadata": {},
   "source": [
    "## Fazendo com with"
   ]
  },
  {
   "cell_type": "code",
   "execution_count": 51,
   "metadata": {},
   "outputs": [
    {
     "name": "stdout",
     "output_type": "stream",
     "text": [
      "(id=1)  Carlos  Pérez =>  05/01/1989\n",
      "(id=2)  Manuel  Heredia =>  26/12/1973\n",
      "(id=3)  Rosa  Campos =>  12/06/1961\n",
      "(id=4)  David  García =>  25/07/2006\n"
     ]
    }
   ],
   "source": [
    "pessoas = []\n",
    "\n",
    "with open(\"pessoas.txt\", \"r\", encoding=\"utf-8\") as ficheiro:\n",
    "    for linha in ficheiro:\n",
    "\n",
    "        linha = linha.strip()\n",
    "\n",
    "        campos = linha.split(\";\")\n",
    "\n",
    "        pessoa = {\n",
    "            \"id\": campos[0],\n",
    "            \"nome\": campos[1],\n",
    "            \"apelido\": campos[2],\n",
    "            \"nascimento\": campos[3],\n",
    "        }\n",
    "\n",
    "        pessoas.append(pessoa)\n",
    "\n",
    "for pessoa in pessoas:\n",
    "    print(f\"(id={pessoa[\"id\"]}) {pessoa[\"nome\"]} {pessoa[\"apelido\"]} => {pessoa[\"nascimento\"]}\")"
   ]
  }
 ],
 "metadata": {
  "kernelspec": {
   "display_name": "Python 3",
   "language": "python",
   "name": "python3"
  },
  "language_info": {
   "codemirror_mode": {
    "name": "ipython",
    "version": 3
   },
   "file_extension": ".py",
   "mimetype": "text/x-python",
   "name": "python",
   "nbconvert_exporter": "python",
   "pygments_lexer": "ipython3",
   "version": "3.12.8"
  }
 },
 "nbformat": 4,
 "nbformat_minor": 2
}

{
 "cells": [
  {
   "cell_type": "markdown",
   "metadata": {},
   "source": [
    "### Exercício 1\n",
    "\n",
    "Neste exercício, devemos criar um programa que abra e leia um ficheiro de texto e nos proporcione a seguinte informação:\n",
    "\n",
    "Nome do ficheiro\n",
    "Se o ficheiro está fechado ou não(True ou False)\n",
    "O modo de abertura do ficheiro\n",
    "\n",
    "#### O ficheiro de texto vai denominar-se 'provas.txt' e terá o seguinte conteúdo em texto plano (criar previamente):\n",
    "\n",
    "```\n",
    "Olá, que tal está \n",
    "Isso é uma prova \n",
    "Hoje não chove\n",
    "Aproxima-se o natal\n",
    "Até logo e muitas boas\n",
    "```\n",
    "Pesquisa na documentação que métodos proporcianam a informação necessária. Por último, listar o conteúdo do ficheiro.\n",
    "\n",
    "Aviso importante: se quiser ler um ficheiro escrito diretamente com Python, então é possível que encontre erros de codificação ao mostrar alguns caracteres. Assegurar-se\n",
    "que indica a codificação do ficheiro manualmente durante a abertura como argumento no open, por exemplo com UTF-8:\n",
    "\n",
    "##### open(...., encoding=\"utf8\")"
   ]
  },
  {
   "cell_type": "code",
   "execution_count": 1,
   "metadata": {},
   "outputs": [],
   "source": [
    "file = open(\"provas.txt\", \"r\", encoding=\"utf-8\")"
   ]
  },
  {
   "cell_type": "code",
   "execution_count": 7,
   "metadata": {},
   "outputs": [
    {
     "data": {
      "text/plain": [
       "'provas.txt'"
      ]
     },
     "execution_count": 7,
     "metadata": {},
     "output_type": "execute_result"
    }
   ],
   "source": [
    "\n",
    "# Nome do ficheiro\n",
    "file.name"
   ]
  },
  {
   "cell_type": "code",
   "execution_count": 15,
   "metadata": {},
   "outputs": [
    {
     "data": {
      "text/plain": [
       "True"
      ]
     },
     "execution_count": 15,
     "metadata": {},
     "output_type": "execute_result"
    }
   ],
   "source": [
    "# Se o ficheiro está fechado ou não(True ou False)\n",
    "file.closed"
   ]
  },
  {
   "cell_type": "code",
   "execution_count": 10,
   "metadata": {},
   "outputs": [
    {
     "data": {
      "text/plain": [
       "'r'"
      ]
     },
     "execution_count": 10,
     "metadata": {},
     "output_type": "execute_result"
    }
   ],
   "source": [
    "# O modo de abertura do ficheiro\n",
    "file.mode"
   ]
  },
  {
   "cell_type": "code",
   "execution_count": 14,
   "metadata": {},
   "outputs": [],
   "source": [
    "file.close()"
   ]
  },
  {
   "cell_type": "markdown",
   "metadata": {},
   "source": [
    "### Exercício 2\n",
    "\n",
    "Sobre o ficheiro anterior, vamos obter a seguinte informação:\n",
    "\n",
    "Leitura de uma linhado ficheiro\n",
    "Leitura do ficheiro linha a linha\n"
   ]
  },
  {
   "cell_type": "code",
   "execution_count": null,
   "metadata": {},
   "outputs": [],
   "source": []
  },
  {
   "cell_type": "markdown",
   "metadata": {},
   "source": [
    "### Exercício 3\n",
    "\n",
    "Sobre o ficheiro anterior, fazer a seguinte operação:\n",
    "\n",
    "    Abrir o ficheiro em modo escrita (ligar o conteúdo, sem o substituir) e escrever uma nova linha texto.\n",
    "\n",
    "Rever se está a funcionar corretamente comprovando o ficheiro ( fechar e abrir para poder visualizar as alterações)."
   ]
  },
  {
   "cell_type": "code",
   "execution_count": null,
   "metadata": {},
   "outputs": [],
   "source": []
  },
  {
   "cell_type": "markdown",
   "metadata": {},
   "source": [
    "### Exercício 4\n",
    "\n",
    "Sobre o ficheiro anterior, fazer a seguinte operação:\n",
    "\n",
    "    Abrir o ficheiro em modo escrita (subtituindo o conteúdo) e escrever uma nova linha de texto\n",
    "\n",
    "Rever se está a funcionar corretamente comprovando o ficheiro (fechar e abrir para poder visualizar as alterações). "
   ]
  },
  {
   "cell_type": "code",
   "execution_count": null,
   "metadata": {},
   "outputs": [],
   "source": []
  },
  {
   "cell_type": "markdown",
   "metadata": {},
   "source": [
    "#### Exercício 5\n",
    "\n",
    "Neste exercício, devemos criar um programa para ler os dados de um ficheiro de texto, que transforme cada fila num dicionário e o adiciona a uma lista chamada pessoas.\n",
    "Logo, recorre-se às pessoas da lista e para cada uma mostrar de forma amigável todos os seus campos. Por exemplo, assim:\n",
    "\n",
    "        (id=1) Carlos Pérez => 05/01/1989\n",
    "\n",
    "O ficheiro de texto denominar `pessoas.txt` e terá o seguinte conteúdo no texto plano (criá-lo previamente):\n",
    "\n",
    "```\n",
    "1; Carlos; Pérez; 05/01/1989\n",
    "2; Manuel; Heredia; 26/12/1973\n",
    "3; Rosa; Campos; 12/06/1961\n",
    "4; David; García; 25/07/2006\n",
    "\n",
    "```\n",
    "\n",
    "Os campos do dicionário serão por ordem: `id, nome, apelido e nascimento`.\n",
    "\n",
    "Aviso importante: se quiser ler um ficheiro que não se escreveu diretamente com o Python, então é possível que se encontrem erros de codificação ao mostrar alguns caracteres. \n",
    "Assegurar que indica a codificação do ficheiro manualmente durante a abertura como argumento no open, por exemplo com UTF-8:\n",
    "        `open(...., encoding=\"utf8\")`\n",
    "Pista: é possível que se tenha que recorrer a funções como replace ou split para poder modificar o texto de uma linha de texto. Pesquisar documentação sobre isso.\n"
   ]
  },
  {
   "cell_type": "code",
   "execution_count": null,
   "metadata": {},
   "outputs": [],
   "source": []
  }
 ],
 "metadata": {
  "kernelspec": {
   "display_name": "Python 3",
   "language": "python",
   "name": "python3"
  },
  "language_info": {
   "codemirror_mode": {
    "name": "ipython",
    "version": 3
   },
   "file_extension": ".py",
   "mimetype": "text/x-python",
   "name": "python",
   "nbconvert_exporter": "python",
   "pygments_lexer": "ipython3",
   "version": "3.12.7"
  }
 },
 "nbformat": 4,
 "nbformat_minor": 2
}

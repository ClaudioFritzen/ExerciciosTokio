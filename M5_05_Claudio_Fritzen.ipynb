{
 "cells": [
  {
   "cell_type": "markdown",
   "metadata": {},
   "source": [
    "**1) Trabalhar com NumPy**\n",
    "\n",
    "* Importar numpy e usar um alias para poder utilizar os seus recursos "
   ]
  },
  {
   "cell_type": "code",
   "execution_count": 1,
   "metadata": {},
   "outputs": [],
   "source": [
    "# Completar o exercício aqui\n",
    "import numpy as np"
   ]
  },
  {
   "cell_type": "markdown",
   "metadata": {},
   "source": [
    "* Criar um array de elementos (de 10 a 100)"
   ]
  },
  {
   "cell_type": "code",
   "execution_count": 3,
   "metadata": {},
   "outputs": [
    {
     "name": "stdout",
     "output_type": "stream",
     "text": [
      "Lista de 10 a 100: \n",
      "[ 10  11  12  13  14  15  16  17  18  19  20  21  22  23  24  25  26  27\n",
      "  28  29  30  31  32  33  34  35  36  37  38  39  40  41  42  43  44  45\n",
      "  46  47  48  49  50  51  52  53  54  55  56  57  58  59  60  61  62  63\n",
      "  64  65  66  67  68  69  70  71  72  73  74  75  76  77  78  79  80  81\n",
      "  82  83  84  85  86  87  88  89  90  91  92  93  94  95  96  97  98  99\n",
      " 100]\n",
      "----------------------------------------------------------------------\n"
     ]
    }
   ],
   "source": [
    "lista_de_10_100 = np.arange(10,101)\n",
    "print(f\"Lista de 10 a 100: \\n{lista_de_10_100}\")\n",
    "print(\"-\"*70)"
   ]
  },
  {
   "cell_type": "markdown",
   "metadata": {},
   "source": [
    "* Criar um array 3x3 com valores de 0 a 8 "
   ]
  },
  {
   "cell_type": "code",
   "execution_count": 4,
   "metadata": {},
   "outputs": [
    {
     "name": "stdout",
     "output_type": "stream",
     "text": [
      "[[0 1 2]\n",
      " [3 4 5]\n",
      " [6 7 8]]\n"
     ]
    }
   ],
   "source": [
    "array_0_a_8 = np.arange(9).reshape(3,3)\n",
    "print(array_0_a_8)"
   ]
  },
  {
   "cell_type": "markdown",
   "metadata": {},
   "source": [
    "* Criar um array com valores aleatórios com o formato 3x3x3"
   ]
  },
  {
   "cell_type": "code",
   "execution_count": 5,
   "metadata": {},
   "outputs": [
    {
     "name": "stdout",
     "output_type": "stream",
     "text": [
      "[[[34 43 42]\n",
      "  [54 23 86]\n",
      "  [52 40 32]]\n",
      "\n",
      " [[13 49  3]\n",
      "  [23 92 61]\n",
      "  [99 30  9]]\n",
      "\n",
      " [[51 31 32]\n",
      "  [58 66  9]\n",
      "  [41 81 77]]]\n"
     ]
    }
   ],
   "source": [
    "array_valores_aleatorios_3x3x3 = np.random.randint(0,100,(3,3,3))\n",
    "print(array_valores_aleatorios_3x3x3)"
   ]
  },
  {
   "cell_type": "markdown",
   "metadata": {},
   "source": [
    "* Criar dois arrays, com valores aleatórios, A e B, e verificar se são iguais (há várias opções, investigar)"
   ]
  },
  {
   "cell_type": "code",
   "execution_count": 15,
   "metadata": {},
   "outputs": [
    {
     "name": "stdout",
     "output_type": "stream",
     "text": [
      " Listas originais \n",
      "[[13 13 13]\n",
      " [13 12 10]\n",
      " [10 16 16]\n",
      " [13 12 16]\n",
      " [15 13 11]]\n",
      "[[0 3 5]\n",
      " [2 4 1]\n",
      " [4 8 4]]\n",
      "--------------------------------------------------\n",
      "Verificando se os arrays são igual utilizando o np.array_equal() : False\n"
     ]
    },
    {
     "data": {
      "text/plain": [
       "' if A.shape != B.shape:\\n    print(f\"Os arrays não tem o mesmo tamanho {A.shape} e {B.shape}\")\\n\\n    # ajustando\\n    B = np.resize(B, A.shape)\\n    print(\"Depois da parear\")\\n    print(A)\\n    print(B)\\nelse:\\n    print(\"Os arrays têm a mesma forma.\") '"
      ]
     },
     "execution_count": 15,
     "metadata": {},
     "output_type": "execute_result"
    }
   ],
   "source": [
    "# Completar o exercício aqui\n",
    "import numpy as np\n",
    "A = np.random.randint(10,20, (5,3))\n",
    "B = np.random.randint(0,10, (3,3))\n",
    "\n",
    "# Verificar o tamanho dos arrays, pois se fizermos a comparação entre dois arrays de tamanho\n",
    "# diferente pode  dar erro \n",
    "print(f\" Listas originais \")\n",
    "print(A)\n",
    "print(B)\n",
    "print(\"-\"*50)\n",
    "# Metodo 1: Usando np.array_equal()\n",
    "# Metodo 2: np.array_equal()\n",
    "arrai_igual = np.array_equal(A,B)\n",
    "print(f\"Verificando se os arrays são igual utilizando o np.array_equal() : {arrai_igual}\")\n",
    "\n",
    "# Metodo 2: np.array_equal()\n",
    "# metodo 3 : Usando np.array_equiv()\n",
    "# metodo 4 : Usando numpy.all com numpy.equal\n",
    "\n",
    "\"\"\" if A.shape != B.shape:\n",
    "    print(f\"Os arrays não tem o mesmo tamanho {A.shape} e {B.shape}\")\n",
    "\n",
    "    # ajustando\n",
    "    B = np.resize(B, A.shape)\n",
    "    print(\"Depois da parear\")\n",
    "    print(A)\n",
    "    print(B)\n",
    "else:\n",
    "    print(\"Os arrays têm a mesma forma.\") \"\"\"\n",
    "\n",
    "\n",
    "\n"
   ]
  },
  {
   "cell_type": "markdown",
   "metadata": {},
   "source": [
    "**2) Seguir com NumPy**\n",
    "\n",
    "* Criar um array de 100 elementos aleatórios compreendidos entre 1 e 1000 (podem ser números inteiros)."
   ]
  },
  {
   "cell_type": "code",
   "execution_count": 19,
   "metadata": {},
   "outputs": [
    {
     "name": "stdout",
     "output_type": "stream",
     "text": [
      "Lista de valores em dolares: [268  90 212 939 348 293 249  74 958 543 851 330 940  31 603 876 879 257\n",
      " 388 736 329 854 126 876 534 309 164 318 878  30 971  39 256 515 175 492\n",
      " 166 976 308 334 375 291 307 552 686 806 236 785 393 487 738 776 315  27\n",
      " 803 409 403 372 541 556  31 333 289  86  79 221 455 576 213  92 475 812\n",
      " 723 911 402 975 161 371 188 510 252 691 275 195 693 141 477 336 108 269\n",
      "  37  11 913 890 732 204 881  54 332 585]\n",
      "----------------------------------------------------------------------------------------------------\n",
      "Valores em Euros [234.34  78.7  185.38 821.07 304.3  256.2  217.73  64.71 837.69 474.81\n",
      " 744.13 288.56 821.95  27.11 527.27 765.99 768.61 224.72 339.27 643.57\n",
      " 287.68 746.75 110.18 765.99 466.94 270.19 143.4  278.06 767.73  26.23\n",
      " 849.06  34.1  223.85 450.32 153.02 430.21 145.15 853.43 269.32 292.05\n",
      " 327.9  254.45 268.44 482.68 599.85 704.78 206.36 686.41 343.64 425.84\n",
      " 645.32 678.54 275.44  23.61 702.15 357.63 352.39 325.28 473.06 486.17\n",
      "  27.11 291.18 252.71  75.2   69.08 193.25 397.86 503.66 186.25  80.45\n",
      " 415.35 710.02 632.2  796.59 351.51 852.55 140.78 324.41 164.39 445.95\n",
      " 220.35 604.22 240.46 170.51 605.97 123.29 417.1  293.8   94.44 235.22\n",
      "  32.35   9.62 798.34 778.23 640.07 178.38 770.36  47.22 290.31 511.53]\n"
     ]
    }
   ],
   "source": [
    "import numpy as np\n",
    "\n",
    "dolares = np.random.randint(1,1001, size= 100) # num aleatorios de 1 a 1000, com tamanho d 100\n",
    "\n",
    "print(f\"Lista de valores em dolares: {dolares}\")\n",
    "\n",
    "# a taxa de converção de USD para EUR\n",
    "taxa_conversoa = 0.874413\n",
    "\n",
    "# Fazer a conversão dos preços de dolares para euros \n",
    "euros = dolares * taxa_conversoa\n",
    "euros = np.round(euros,2) # Duas casas decimais\n",
    "print(\"--\"* 50)\n",
    "\n",
    "print(f\"Valores em Euros {euros}\")\n",
    "\n"
   ]
  },
  {
   "cell_type": "markdown",
   "metadata": {},
   "source": [
    "**3) Trabalhar com pandas**\n",
    "\n",
    "* Importar pandas e usar um alias para poder utilizar os seus recursos.\n",
    "\n",
    "* Carregar como dataframe de pandas csv 05_05_imdb_títulos.csv e mostrar os seus 5 primeiros registos.\n",
    "* Carregar como dataframe de pandas o csv 05_05_imdb_elenco.csv e mostrar os seus 5 primeiros registos"
   ]
  },
  {
   "cell_type": "code",
   "execution_count": 25,
   "metadata": {},
   "outputs": [
    {
     "name": "stdout",
     "output_type": "stream",
     "text": [
      "Os primeiros 5 dados do titulos:\n",
      "----------------------------------------------------------------------------------------------------\n",
      "Os primeiros 5 dados do elenco\n"
     ]
    },
    {
     "data": {
      "text/html": [
       "<div>\n",
       "<style scoped>\n",
       "    .dataframe tbody tr th:only-of-type {\n",
       "        vertical-align: middle;\n",
       "    }\n",
       "\n",
       "    .dataframe tbody tr th {\n",
       "        vertical-align: top;\n",
       "    }\n",
       "\n",
       "    .dataframe thead th {\n",
       "        text-align: right;\n",
       "    }\n",
       "</style>\n",
       "<table border=\"1\" class=\"dataframe\">\n",
       "  <thead>\n",
       "    <tr style=\"text-align: right;\">\n",
       "      <th></th>\n",
       "      <th>title</th>\n",
       "      <th>year</th>\n",
       "      <th>name</th>\n",
       "      <th>type</th>\n",
       "      <th>character</th>\n",
       "      <th>n</th>\n",
       "    </tr>\n",
       "  </thead>\n",
       "  <tbody>\n",
       "    <tr>\n",
       "      <th>0</th>\n",
       "      <td>Closet Monster</td>\n",
       "      <td>2015.0</td>\n",
       "      <td>Buffy #1</td>\n",
       "      <td>actor</td>\n",
       "      <td>Buffy 4</td>\n",
       "      <td>31.0</td>\n",
       "    </tr>\n",
       "    <tr>\n",
       "      <th>1</th>\n",
       "      <td>Suuri illusioni</td>\n",
       "      <td>1985.0</td>\n",
       "      <td>Homo $</td>\n",
       "      <td>actor</td>\n",
       "      <td>Guests</td>\n",
       "      <td>22.0</td>\n",
       "    </tr>\n",
       "    <tr>\n",
       "      <th>2</th>\n",
       "      <td>Battle of the Sexes</td>\n",
       "      <td>2017.0</td>\n",
       "      <td>$hutter</td>\n",
       "      <td>actor</td>\n",
       "      <td>Bobby Riggs Fan</td>\n",
       "      <td>10.0</td>\n",
       "    </tr>\n",
       "    <tr>\n",
       "      <th>3</th>\n",
       "      <td>Secret in Their Eyes</td>\n",
       "      <td>2015.0</td>\n",
       "      <td>$hutter</td>\n",
       "      <td>actor</td>\n",
       "      <td>2002 Dodger Fan</td>\n",
       "      <td>NaN</td>\n",
       "    </tr>\n",
       "    <tr>\n",
       "      <th>4</th>\n",
       "      <td>Steve Jobs</td>\n",
       "      <td>2015.0</td>\n",
       "      <td>$hutter</td>\n",
       "      <td>actor</td>\n",
       "      <td>1988 Opera House Patron</td>\n",
       "      <td>NaN</td>\n",
       "    </tr>\n",
       "  </tbody>\n",
       "</table>\n",
       "</div>"
      ],
      "text/plain": [
       "                  title    year      name   type                character  \\\n",
       "0        Closet Monster  2015.0  Buffy #1  actor                  Buffy 4   \n",
       "1       Suuri illusioni  1985.0    Homo $  actor                   Guests   \n",
       "2   Battle of the Sexes  2017.0   $hutter  actor          Bobby Riggs Fan   \n",
       "3  Secret in Their Eyes  2015.0   $hutter  actor          2002 Dodger Fan   \n",
       "4            Steve Jobs  2015.0   $hutter  actor  1988 Opera House Patron   \n",
       "\n",
       "      n  \n",
       "0  31.0  \n",
       "1  22.0  \n",
       "2  10.0  \n",
       "3   NaN  \n",
       "4   NaN  "
      ]
     },
     "execution_count": 25,
     "metadata": {},
     "output_type": "execute_result"
    }
   ],
   "source": [
    "import pandas as pd \n",
    "\n",
    "df_titulos = pd.read_csv('./csv/05_05_imdb_titulos.csv')\n",
    "\n",
    "df_elenco = pd.read_csv('./csv/05_05_imdb_elenco.csv')\n",
    "\n",
    "print(f\"Os primeiros 5 dados do titulos:\")\n",
    "df_titulos.head(5) # troque pela quantidade de linhas iniciais\n",
    "print(\"--\"*50)\n",
    "\n",
    "print(f\"Os primeiros 5 dados do elenco\")\n",
    "df_elenco.head(5)\n"
   ]
  },
  {
   "cell_type": "markdown",
   "metadata": {},
   "source": [
    "* Mostrar o número de registos do dataframe de títulos.\n",
    "* Mostrar o número de registos do dataframe de elenco.\n"
   ]
  },
  {
   "cell_type": "code",
   "execution_count": 28,
   "metadata": {},
   "outputs": [
    {
     "name": "stdout",
     "output_type": "stream",
     "text": [
      "Número de registro do titulos: 230407\n",
      "Numero de registro do elenco: 2641020\n"
     ]
    }
   ],
   "source": [
    "df_titulos = pd.read_csv('./csv/05_05_imdb_titulos.csv')\n",
    "df_elenco = pd.read_csv('./csv/05_05_imdb_elenco.csv')\n",
    "\n",
    "# com shape\n",
    "num_registro_titulos_shape = df_titulos.shape[0]\n",
    "# com len\n",
    "num_registro_elenco_len = len(df_elenco)\n",
    "print(f\"Número de registro do titulos: {num_registro_titulos_shape}\")\n",
    "print(f\"Numero de registro do elenco: {num_registro_elenco_len}\")"
   ]
  },
  {
   "cell_type": "markdown",
   "metadata": {},
   "source": [
    "* Mostrar os 5 titulos mais antigas."
   ]
  },
  {
   "cell_type": "code",
   "execution_count": 29,
   "metadata": {},
   "outputs": [
    {
     "data": {
      "text/html": [
       "<div>\n",
       "<style scoped>\n",
       "    .dataframe tbody tr th:only-of-type {\n",
       "        vertical-align: middle;\n",
       "    }\n",
       "\n",
       "    .dataframe tbody tr th {\n",
       "        vertical-align: top;\n",
       "    }\n",
       "\n",
       "    .dataframe thead th {\n",
       "        text-align: right;\n",
       "    }\n",
       "</style>\n",
       "<table border=\"1\" class=\"dataframe\">\n",
       "  <thead>\n",
       "    <tr style=\"text-align: right;\">\n",
       "      <th></th>\n",
       "      <th>title</th>\n",
       "      <th>year</th>\n",
       "    </tr>\n",
       "  </thead>\n",
       "  <tbody>\n",
       "    <tr>\n",
       "      <th>13229</th>\n",
       "      <td>Miss Jerry</td>\n",
       "      <td>1894</td>\n",
       "    </tr>\n",
       "    <tr>\n",
       "      <th>103233</th>\n",
       "      <td>The Startled Lover</td>\n",
       "      <td>1898</td>\n",
       "    </tr>\n",
       "    <tr>\n",
       "      <th>133020</th>\n",
       "      <td>Reproduction of the Corbett and Jeffries Fight</td>\n",
       "      <td>1899</td>\n",
       "    </tr>\n",
       "    <tr>\n",
       "      <th>195127</th>\n",
       "      <td>Pierrot's Problem, or How to Make a Fat Wife O...</td>\n",
       "      <td>1900</td>\n",
       "    </tr>\n",
       "    <tr>\n",
       "      <th>136487</th>\n",
       "      <td>Soldiers of the Cross</td>\n",
       "      <td>1900</td>\n",
       "    </tr>\n",
       "  </tbody>\n",
       "</table>\n",
       "</div>"
      ],
      "text/plain": [
       "                                                    title  year\n",
       "13229                                          Miss Jerry  1894\n",
       "103233                                 The Startled Lover  1898\n",
       "133020     Reproduction of the Corbett and Jeffries Fight  1899\n",
       "195127  Pierrot's Problem, or How to Make a Fat Wife O...  1900\n",
       "136487                              Soldiers of the Cross  1900"
      ]
     },
     "execution_count": 29,
     "metadata": {},
     "output_type": "execute_result"
    }
   ],
   "source": [
    "df_titulos = pd.read_csv('./csv/05_05_imdb_titulos.csv')\n",
    "\n",
    "df_titulos_antigos = df_titulos.sort_values(by='year', ascending= True)\n",
    "\n",
    "df_titulos_antigos.head()"
   ]
  },
  {
   "cell_type": "markdown",
   "metadata": {},
   "source": [
    "* Mostrar os filmes que no título contem a palavra “Drácula”. Quantos filmes são?"
   ]
  },
  {
   "cell_type": "code",
   "execution_count": 33,
   "metadata": {},
   "outputs": [
    {
     "name": "stdout",
     "output_type": "stream",
     "text": [
      "                                  title  year\n",
      "3903         Bonnie & Clyde vs. Dracula  2008\n",
      "4851                   House of Dracula  1945\n",
      "13441                    Batman Dracula  1964\n",
      "15371   Young-guwa heubhyeolgwi dracula  1992\n",
      "20794                 Terror of Dracula  2012\n",
      "...                                 ...   ...\n",
      "214826                    Dracula's Dog  1978\n",
      "221137                      Dracula Now  2015\n",
      "224233     The Satanic Rites of Dracula  1973\n",
      "228121                   Son of Dracula  1974\n",
      "229161               Dracula and Stoker  2012\n",
      "\n",
      "[84 rows x 2 columns]\n",
      "Quantos filmes do Dracula existe: [84]\n"
     ]
    }
   ],
   "source": [
    "import pandas as pd \n",
    "\n",
    "df_titulos = pd.read_csv('./csv/05_05_imdb_titulos.csv')\n",
    "\n",
    "palavra_chave = 'Dracula'\n",
    "\n",
    "df_filmes_dracula = df_titulos[df_titulos['title'].str.contains(palavra_chave, case=False, na=False)]\n",
    "\n",
    "print(df_filmes_dracula)\n",
    "\n",
    "total_filmes = len(df_filmes_dracula)\n",
    "print(f\"Quantos filmes do Dracula existe: [{total_filmes}]\")\n",
    "\n"
   ]
  },
  {
   "cell_type": "markdown",
   "metadata": {},
   "source": [
    "* Mostrar os 10 títulos mais comuns (que mais se repetem)."
   ]
  },
  {
   "cell_type": "code",
   "execution_count": 34,
   "metadata": {},
   "outputs": [
    {
     "data": {
      "text/plain": [
       "title\n",
       "Hamlet                  19\n",
       "Carmen                  16\n",
       "Macbeth                 15\n",
       "The Three Musketeers    11\n",
       "Hero                    11\n",
       "Name: count, dtype: int64"
      ]
     },
     "execution_count": 34,
     "metadata": {},
     "output_type": "execute_result"
    }
   ],
   "source": [
    "import pandas as pd \n",
    "\n",
    "df_titulos = pd.read_csv('./csv/05_05_imdb_titulos.csv')\n",
    "\n",
    "titulos_mais_comums = df_titulos['title'].value_counts()\n",
    "titulos_mais_comums.head()"
   ]
  },
  {
   "cell_type": "markdown",
   "metadata": {},
   "source": [
    "* Mostrar qual foi o primeiro filme chamado “Romeo and Juliet”."
   ]
  },
  {
   "cell_type": "code",
   "execution_count": 39,
   "metadata": {},
   "outputs": [
    {
     "data": {
      "text/html": [
       "<div>\n",
       "<style scoped>\n",
       "    .dataframe tbody tr th:only-of-type {\n",
       "        vertical-align: middle;\n",
       "    }\n",
       "\n",
       "    .dataframe tbody tr th {\n",
       "        vertical-align: top;\n",
       "    }\n",
       "\n",
       "    .dataframe thead th {\n",
       "        text-align: right;\n",
       "    }\n",
       "</style>\n",
       "<table border=\"1\" class=\"dataframe\">\n",
       "  <thead>\n",
       "    <tr style=\"text-align: right;\">\n",
       "      <th></th>\n",
       "      <th>title</th>\n",
       "      <th>year</th>\n",
       "    </tr>\n",
       "  </thead>\n",
       "  <tbody>\n",
       "    <tr>\n",
       "      <th>124702</th>\n",
       "      <td>Romeo and Juliet</td>\n",
       "      <td>1916</td>\n",
       "    </tr>\n",
       "  </tbody>\n",
       "</table>\n",
       "</div>"
      ],
      "text/plain": [
       "                   title  year\n",
       "124702  Romeo and Juliet  1916"
      ]
     },
     "execution_count": 39,
     "metadata": {},
     "output_type": "execute_result"
    }
   ],
   "source": [
    "import pandas as pd \n",
    "\n",
    "df_titulos = pd.read_csv('./csv/05_05_imdb_titulos.csv')\n",
    "\n",
    "buscar_palavra = \"Romeo and Juliet\"\n",
    "\n",
    "buscar_palavra_na_tabela = df_titulos[df_titulos['title'].str.contains(buscar_palavra, case=False, na=False)]\n",
    "\n",
    "ordenar = buscar_palavra_na_tabela.sort_values(by='year', ascending=True)\n",
    "ordenar.head(1)"
   ]
  },
  {
   "cell_type": "markdown",
   "metadata": {},
   "source": [
    "* Listar todas os filmes que contenham a palavra “Exorcist”, ordenados do mais antigo ao mais recente."
   ]
  },
  {
   "cell_type": "code",
   "execution_count": 40,
   "metadata": {},
   "outputs": [
    {
     "name": "stdout",
     "output_type": "stream",
     "text": [
      "Titulo buscado [Exorcist]\n",
      "                                         title  year\n",
      "88003                             The Exorcist  1973\n",
      "49658                  O Exorcista de Mulheres  1974\n",
      "118920     Satanico Pandemonium: La Sexorcista  1975\n",
      "140519                Exorcist II: The Heretic  1977\n",
      "220073                        Kung Fu Exorcist  1978\n",
      "17375                         The Exorcist III  1990\n",
      "132451                        Teenage Exorcist  1991\n",
      "117797                 Exorcist: The Beginning  2004\n",
      "94189        Dominion: Prequel to the Exorcist  2005\n",
      "209250  Costa Chica: Confession of an Exorcist  2006\n",
      "86354                      Exorcist Chronicles  2007\n",
      "130686                      The Disco Exorcist  2011\n",
      "57932                      Exorcist Chronicles  2013\n",
      "69974                           Shark Exorcist  2015\n",
      "151850                              Exorcistas  2015\n",
      "51101                            Bad Exorcists  2015\n",
      "161093                       American Exorcist  2016\n",
      "60700                      Accidental Exorcist  2016\n",
      "195615                    Diary of an Exorcist  2016\n",
      "228642                  Exorcist House of Evil  2016\n"
     ]
    }
   ],
   "source": [
    "import pandas as pd \n",
    "\n",
    "df_titulos = pd.read_csv('./csv/05_05_imdb_titulos.csv')\n",
    "\n",
    "buscar_palavra = \"Exorcist\"\n",
    "\n",
    "filmes = df_titulos[df_titulos['title'].str.contains(buscar_palavra, case=False, na=False)]\n",
    "\n",
    "ordenar_em_ordem_cres = filmes.sort_values(by='year', ascending=True)\n",
    "\n",
    "print(f\"Titulo buscado [{buscar_palavra}]\")\n",
    "print(ordenar_em_ordem_cres)"
   ]
  },
  {
   "cell_type": "markdown",
   "metadata": {},
   "source": [
    "* Mostrar quantos filmes foram feitas no ano 1950."
   ]
  },
  {
   "cell_type": "code",
   "execution_count": 41,
   "metadata": {},
   "outputs": [
    {
     "name": "stdout",
     "output_type": "stream",
     "text": [
      "Quantidade de filmes feitos no ano de 1950: 1081\n"
     ]
    }
   ],
   "source": [
    "import pandas as pd \n",
    "\n",
    "df_titulos = pd.read_csv('./csv/05_05_imdb_titulos.csv')\n",
    "\n",
    "# Contar quantos filmes foram feitos no ano de 1950\n",
    "filmes_no_ano_50 = (df_titulos['year'] == 1950).sum()\n",
    "\n",
    "print(f\"Quantidade de filmes feitos no ano de 1950: {filmes_no_ano_50}\")"
   ]
  },
  {
   "cell_type": "markdown",
   "metadata": {},
   "source": [
    "* Mostrar quantaos filmes foram feitas de 1950 a 1959 (inclusive)."
   ]
  },
  {
   "cell_type": "code",
   "execution_count": 43,
   "metadata": {},
   "outputs": [
    {
     "name": "stdout",
     "output_type": "stream",
     "text": [
      "Quantidade de filmes feitos entre 1950 e 1959: 12606\n"
     ]
    }
   ],
   "source": [
    "import pandas as pd \n",
    "\n",
    "df_titulos = pd.read_csv('./csv/05_05_imdb_titulos.csv')\n",
    "\n",
    "# filmes entre 1950 e 1959\n",
    "filmes_entre_50_59 = ((df_titulos['year'] > 1949) & (df_titulos['year'] <= 1959)).sum()\n",
    "print(f\"Quantidade de filmes feitos entre 1950 e 1959: {filmes_entre_50_59}\")"
   ]
  },
  {
   "cell_type": "markdown",
   "metadata": {},
   "source": [
    "* Mostrar todas os papéis que teve a trilogia “The Godfather”, agrupando pelo papel e forneca a informação da quantidade de vezes esse papel apareceu (exemplo: michael corleone aparece nos 3 filmes da triologia)."
   ]
  },
  {
   "cell_type": "code",
   "execution_count": 53,
   "metadata": {},
   "outputs": [
    {
     "name": "stdout",
     "output_type": "stream",
     "text": [
      "                           title    year       name   type  \\\n",
      "1642816            The Godfather  1972.0  Al Pacino  actor   \n",
      "1642818  The Godfather: Part III  1990.0  Al Pacino  actor   \n",
      "\n",
      "                    character    n  \n",
      "1642816      Michael Corleone  2.0  \n",
      "1642818  Don Michael Corleone  1.0  \n",
      "2\n",
      "Ator buscado Al Pacino, fez 3 papeis\n"
     ]
    }
   ],
   "source": [
    "import pandas as pd \n",
    "\n",
    "df_elenco = pd.read_csv('./csv/05_05_imdb_elenco.csv')\n",
    "\n",
    "# pesquisar por ator\n",
    "ator = \"Al Pacino\"\n",
    "\n",
    "# Filtrar os dados para incluir apenas os filmes da triologia do \" The Godfather\"\n",
    "triologia_godfather = df_elenco[df_elenco['title'].str.contains(\"The GodFather\", case=False, na=False)]\n",
    "\n",
    "# Buscar por \"Michael\" ou ator\n",
    "buscar_nome_personagen = triologia_godfather[triologia_godfather['character'].str.contains(\"Michael Corleone\")]\n",
    "buscar_nome_ator = triologia_godfather[triologia_godfather['name'].str.contains(ator)]\n",
    "\n",
    "qnt_buscar_nome = buscar_nome_personagen.shape[0]\n",
    "\n",
    "triologia_godfather.head()\n",
    "print(buscar_nome_personagen)\n",
    "print(qnt_buscar_nome)\n",
    "\n",
    "qnt_nome_ator = buscar_nome_ator.shape[0]\n",
    "print(f\"Ator buscado {ator}, fez {qnt_nome_ator} papeis\")"
   ]
  },
  {
   "cell_type": "markdown",
   "metadata": {},
   "source": [
    "* Mostrar o elenco completo, ordenado pela classificação “n” do filme “Drácula” de 1958.\n"
   ]
  },
  {
   "cell_type": "code",
   "execution_count": 55,
   "metadata": {},
   "outputs": [
    {
     "data": {
      "text/html": [
       "<div>\n",
       "<style scoped>\n",
       "    .dataframe tbody tr th:only-of-type {\n",
       "        vertical-align: middle;\n",
       "    }\n",
       "\n",
       "    .dataframe tbody tr th {\n",
       "        vertical-align: top;\n",
       "    }\n",
       "\n",
       "    .dataframe thead th {\n",
       "        text-align: right;\n",
       "    }\n",
       "</style>\n",
       "<table border=\"1\" class=\"dataframe\">\n",
       "  <thead>\n",
       "    <tr style=\"text-align: right;\">\n",
       "      <th></th>\n",
       "      <th>title</th>\n",
       "      <th>year</th>\n",
       "      <th>name</th>\n",
       "      <th>type</th>\n",
       "      <th>character</th>\n",
       "      <th>n</th>\n",
       "    </tr>\n",
       "  </thead>\n",
       "  <tbody>\n",
       "    <tr>\n",
       "      <th>1240853</th>\n",
       "      <td>The Return of Dracula</td>\n",
       "      <td>1958.0</td>\n",
       "      <td>Francis Lederer</td>\n",
       "      <td>actor</td>\n",
       "      <td>Count Dracula, posing as Bellac Gordal</td>\n",
       "      <td>1.0</td>\n",
       "    </tr>\n",
       "    <tr>\n",
       "      <th>485197</th>\n",
       "      <td>Dracula</td>\n",
       "      <td>1958.0</td>\n",
       "      <td>Peter Cushing</td>\n",
       "      <td>actor</td>\n",
       "      <td>Doctor Van Helsing</td>\n",
       "      <td>1.0</td>\n",
       "    </tr>\n",
       "    <tr>\n",
       "      <th>1242308</th>\n",
       "      <td>Dracula</td>\n",
       "      <td>1958.0</td>\n",
       "      <td>Christopher Lee</td>\n",
       "      <td>actor</td>\n",
       "      <td>Count Dracula</td>\n",
       "      <td>2.0</td>\n",
       "    </tr>\n",
       "    <tr>\n",
       "      <th>1242307</th>\n",
       "      <td>Dracula</td>\n",
       "      <td>1958.0</td>\n",
       "      <td>Christopher Lee</td>\n",
       "      <td>actor</td>\n",
       "      <td>Dracula</td>\n",
       "      <td>2.0</td>\n",
       "    </tr>\n",
       "    <tr>\n",
       "      <th>822398</th>\n",
       "      <td>Dracula</td>\n",
       "      <td>1958.0</td>\n",
       "      <td>Michael Gough</td>\n",
       "      <td>actor</td>\n",
       "      <td>Arthur</td>\n",
       "      <td>3.0</td>\n",
       "    </tr>\n",
       "    <tr>\n",
       "      <th>2091208</th>\n",
       "      <td>The Return of Dracula</td>\n",
       "      <td>1958.0</td>\n",
       "      <td>Ray Stricklyn</td>\n",
       "      <td>actor</td>\n",
       "      <td>Tim Hansen</td>\n",
       "      <td>3.0</td>\n",
       "    </tr>\n",
       "    <tr>\n",
       "      <th>2306094</th>\n",
       "      <td>The Return of Dracula</td>\n",
       "      <td>1958.0</td>\n",
       "      <td>John Wengraf</td>\n",
       "      <td>actor</td>\n",
       "      <td>John Merriman</td>\n",
       "      <td>4.0</td>\n",
       "    </tr>\n",
       "    <tr>\n",
       "      <th>408463</th>\n",
       "      <td>The Return of Dracula</td>\n",
       "      <td>1958.0</td>\n",
       "      <td>Gage Clarke</td>\n",
       "      <td>actor</td>\n",
       "      <td>Reverend Doctor Whitfield</td>\n",
       "      <td>6.0</td>\n",
       "    </tr>\n",
       "    <tr>\n",
       "      <th>2220986</th>\n",
       "      <td>Dracula</td>\n",
       "      <td>1958.0</td>\n",
       "      <td>John Van Eyssen</td>\n",
       "      <td>actor</td>\n",
       "      <td>Jonathan</td>\n",
       "      <td>7.0</td>\n",
       "    </tr>\n",
       "    <tr>\n",
       "      <th>110877</th>\n",
       "      <td>The Return of Dracula</td>\n",
       "      <td>1958.0</td>\n",
       "      <td>Jimmy Baird</td>\n",
       "      <td>actor</td>\n",
       "      <td>Mickey Mayberry</td>\n",
       "      <td>7.0</td>\n",
       "    </tr>\n",
       "    <tr>\n",
       "      <th>2444220</th>\n",
       "      <td>Dracula</td>\n",
       "      <td>1958.0</td>\n",
       "      <td>Barbara Archer</td>\n",
       "      <td>actress</td>\n",
       "      <td>Inga</td>\n",
       "      <td>10.0</td>\n",
       "    </tr>\n",
       "    <tr>\n",
       "      <th>1285506</th>\n",
       "      <td>Dracula</td>\n",
       "      <td>1958.0</td>\n",
       "      <td>Charles Lloyd Pack</td>\n",
       "      <td>actor</td>\n",
       "      <td>Doctor Seward</td>\n",
       "      <td>11.0</td>\n",
       "    </tr>\n",
       "    <tr>\n",
       "      <th>1453367</th>\n",
       "      <td>Dracula</td>\n",
       "      <td>1958.0</td>\n",
       "      <td>George Merritt</td>\n",
       "      <td>actor</td>\n",
       "      <td>Policeman</td>\n",
       "      <td>12.0</td>\n",
       "    </tr>\n",
       "    <tr>\n",
       "      <th>2357769</th>\n",
       "      <td>Dracula</td>\n",
       "      <td>1958.0</td>\n",
       "      <td>George Woodbridge</td>\n",
       "      <td>actor</td>\n",
       "      <td>Landlord</td>\n",
       "      <td>13.0</td>\n",
       "    </tr>\n",
       "    <tr>\n",
       "      <th>171732</th>\n",
       "      <td>Dracula</td>\n",
       "      <td>1958.0</td>\n",
       "      <td>George Benson</td>\n",
       "      <td>actor</td>\n",
       "      <td>Official</td>\n",
       "      <td>14.0</td>\n",
       "    </tr>\n",
       "    <tr>\n",
       "      <th>1347640</th>\n",
       "      <td>Dracula</td>\n",
       "      <td>1958.0</td>\n",
       "      <td>Miles Malleson</td>\n",
       "      <td>actor</td>\n",
       "      <td>Undertaker</td>\n",
       "      <td>15.0</td>\n",
       "    </tr>\n",
       "    <tr>\n",
       "      <th>148496</th>\n",
       "      <td>Dracula</td>\n",
       "      <td>1958.0</td>\n",
       "      <td>Geoffrey Bayldon</td>\n",
       "      <td>actor</td>\n",
       "      <td>Porter</td>\n",
       "      <td>16.0</td>\n",
       "    </tr>\n",
       "    <tr>\n",
       "      <th>423307</th>\n",
       "      <td>Dracula</td>\n",
       "      <td>1958.0</td>\n",
       "      <td>Paul Cole</td>\n",
       "      <td>actor</td>\n",
       "      <td>Lad</td>\n",
       "      <td>17.0</td>\n",
       "    </tr>\n",
       "    <tr>\n",
       "      <th>38868</th>\n",
       "      <td>The Return of Dracula</td>\n",
       "      <td>1958.0</td>\n",
       "      <td>Melvin F. Allen</td>\n",
       "      <td>actor</td>\n",
       "      <td>Mel, the Baggage Clerk</td>\n",
       "      <td>NaN</td>\n",
       "    </tr>\n",
       "    <tr>\n",
       "      <th>673736</th>\n",
       "      <td>The Return of Dracula</td>\n",
       "      <td>1958.0</td>\n",
       "      <td>William Fawcett</td>\n",
       "      <td>actor</td>\n",
       "      <td>Eddie - Station Master</td>\n",
       "      <td>NaN</td>\n",
       "    </tr>\n",
       "    <tr>\n",
       "      <th>746702</th>\n",
       "      <td>The Return of Dracula</td>\n",
       "      <td>1958.0</td>\n",
       "      <td>Dan Gachman</td>\n",
       "      <td>actor</td>\n",
       "      <td>County Clerk</td>\n",
       "      <td>NaN</td>\n",
       "    </tr>\n",
       "    <tr>\n",
       "      <th>885191</th>\n",
       "      <td>The Return of Dracula</td>\n",
       "      <td>1958.0</td>\n",
       "      <td>Joseph Hamilton</td>\n",
       "      <td>actor</td>\n",
       "      <td>Man Reporting Murder at Station</td>\n",
       "      <td>NaN</td>\n",
       "    </tr>\n",
       "    <tr>\n",
       "      <th>1318929</th>\n",
       "      <td>The Return of Dracula</td>\n",
       "      <td>1958.0</td>\n",
       "      <td>Robert Lynn</td>\n",
       "      <td>actor</td>\n",
       "      <td>Dr. Paul Beecher</td>\n",
       "      <td>NaN</td>\n",
       "    </tr>\n",
       "    <tr>\n",
       "      <th>1433374</th>\n",
       "      <td>The Return of Dracula</td>\n",
       "      <td>1958.0</td>\n",
       "      <td>John McNamara</td>\n",
       "      <td>actor</td>\n",
       "      <td>Sheriff Bicknell</td>\n",
       "      <td>NaN</td>\n",
       "    </tr>\n",
       "    <tr>\n",
       "      <th>1475047</th>\n",
       "      <td>Dracula</td>\n",
       "      <td>1958.0</td>\n",
       "      <td>Guy Mills</td>\n",
       "      <td>actor</td>\n",
       "      <td>Coach Driver</td>\n",
       "      <td>NaN</td>\n",
       "    </tr>\n",
       "    <tr>\n",
       "      <th>1513434</th>\n",
       "      <td>Dracula</td>\n",
       "      <td>1958.0</td>\n",
       "      <td>Richard (VIII) Morgan</td>\n",
       "      <td>actor</td>\n",
       "      <td>Coach Driver's Companion</td>\n",
       "      <td>NaN</td>\n",
       "    </tr>\n",
       "    <tr>\n",
       "      <th>1524497</th>\n",
       "      <td>Dracula</td>\n",
       "      <td>1958.0</td>\n",
       "      <td>John (II) Mossman</td>\n",
       "      <td>actor</td>\n",
       "      <td>Hearse Driver</td>\n",
       "      <td>NaN</td>\n",
       "    </tr>\n",
       "    <tr>\n",
       "      <th>1937417</th>\n",
       "      <td>The Return of Dracula</td>\n",
       "      <td>1958.0</td>\n",
       "      <td>Norbert Schiller</td>\n",
       "      <td>actor</td>\n",
       "      <td>Bellack Gordal</td>\n",
       "      <td>NaN</td>\n",
       "    </tr>\n",
       "    <tr>\n",
       "      <th>2127813</th>\n",
       "      <td>The Return of Dracula</td>\n",
       "      <td>1958.0</td>\n",
       "      <td>Charles Tannen</td>\n",
       "      <td>actor</td>\n",
       "      <td>Mack Bryant, Dept. of Immigration</td>\n",
       "      <td>NaN</td>\n",
       "    </tr>\n",
       "  </tbody>\n",
       "</table>\n",
       "</div>"
      ],
      "text/plain": [
       "                         title    year                   name     type  \\\n",
       "1240853  The Return of Dracula  1958.0        Francis Lederer    actor   \n",
       "485197                 Dracula  1958.0          Peter Cushing    actor   \n",
       "1242308                Dracula  1958.0        Christopher Lee    actor   \n",
       "1242307                Dracula  1958.0        Christopher Lee    actor   \n",
       "822398                 Dracula  1958.0          Michael Gough    actor   \n",
       "2091208  The Return of Dracula  1958.0          Ray Stricklyn    actor   \n",
       "2306094  The Return of Dracula  1958.0           John Wengraf    actor   \n",
       "408463   The Return of Dracula  1958.0            Gage Clarke    actor   \n",
       "2220986                Dracula  1958.0        John Van Eyssen    actor   \n",
       "110877   The Return of Dracula  1958.0            Jimmy Baird    actor   \n",
       "2444220                Dracula  1958.0         Barbara Archer  actress   \n",
       "1285506                Dracula  1958.0     Charles Lloyd Pack    actor   \n",
       "1453367                Dracula  1958.0         George Merritt    actor   \n",
       "2357769                Dracula  1958.0      George Woodbridge    actor   \n",
       "171732                 Dracula  1958.0          George Benson    actor   \n",
       "1347640                Dracula  1958.0         Miles Malleson    actor   \n",
       "148496                 Dracula  1958.0       Geoffrey Bayldon    actor   \n",
       "423307                 Dracula  1958.0              Paul Cole    actor   \n",
       "38868    The Return of Dracula  1958.0        Melvin F. Allen    actor   \n",
       "673736   The Return of Dracula  1958.0        William Fawcett    actor   \n",
       "746702   The Return of Dracula  1958.0            Dan Gachman    actor   \n",
       "885191   The Return of Dracula  1958.0        Joseph Hamilton    actor   \n",
       "1318929  The Return of Dracula  1958.0            Robert Lynn    actor   \n",
       "1433374  The Return of Dracula  1958.0          John McNamara    actor   \n",
       "1475047                Dracula  1958.0              Guy Mills    actor   \n",
       "1513434                Dracula  1958.0  Richard (VIII) Morgan    actor   \n",
       "1524497                Dracula  1958.0      John (II) Mossman    actor   \n",
       "1937417  The Return of Dracula  1958.0       Norbert Schiller    actor   \n",
       "2127813  The Return of Dracula  1958.0         Charles Tannen    actor   \n",
       "\n",
       "                                      character     n  \n",
       "1240853  Count Dracula, posing as Bellac Gordal   1.0  \n",
       "485197                       Doctor Van Helsing   1.0  \n",
       "1242308                           Count Dracula   2.0  \n",
       "1242307                                 Dracula   2.0  \n",
       "822398                                   Arthur   3.0  \n",
       "2091208                              Tim Hansen   3.0  \n",
       "2306094                           John Merriman   4.0  \n",
       "408463                Reverend Doctor Whitfield   6.0  \n",
       "2220986                                Jonathan   7.0  \n",
       "110877                          Mickey Mayberry   7.0  \n",
       "2444220                                    Inga  10.0  \n",
       "1285506                           Doctor Seward  11.0  \n",
       "1453367                               Policeman  12.0  \n",
       "2357769                                Landlord  13.0  \n",
       "171732                                 Official  14.0  \n",
       "1347640                              Undertaker  15.0  \n",
       "148496                                   Porter  16.0  \n",
       "423307                                      Lad  17.0  \n",
       "38868                    Mel, the Baggage Clerk   NaN  \n",
       "673736                   Eddie - Station Master   NaN  \n",
       "746702                             County Clerk   NaN  \n",
       "885191          Man Reporting Murder at Station   NaN  \n",
       "1318929                        Dr. Paul Beecher   NaN  \n",
       "1433374                        Sheriff Bicknell   NaN  \n",
       "1475047                            Coach Driver   NaN  \n",
       "1513434                Coach Driver's Companion   NaN  \n",
       "1524497                           Hearse Driver   NaN  \n",
       "1937417                          Bellack Gordal   NaN  \n",
       "2127813       Mack Bryant, Dept. of Immigration   NaN  "
      ]
     },
     "execution_count": 55,
     "metadata": {},
     "output_type": "execute_result"
    }
   ],
   "source": [
    "import pandas as pd \n",
    "\n",
    "df_elenco = pd.read_csv('./csv/05_05_imdb_elenco.csv')\n",
    "\n",
    "# elenco no dracula de 1958\n",
    "\n",
    "filme = 'dracula'\n",
    "ano = 1958\n",
    "\n",
    "# filtrar os dados do filme de dracula de 1958\n",
    "dracula_1958 = df_elenco[(df_elenco['title'].str.contains(filme, case=False, na=False)) & (df_elenco['year'] == ano)]\n",
    "\n",
    "# ordenando por por \"n\"\n",
    "\n",
    "ordenado_por_n_dracula_1958 = dracula_1958.sort_values(by='n')\n",
    "ordenado_por_n_dracula_1958"
   ]
  },
  {
   "cell_type": "markdown",
   "metadata": {},
   "source": [
    "* Mostrar quantos papéis teve “Bruce Wayne” como protagonista (Dica: Em Batman de 1989, existe Bruce Wayne e tambem Young Bruce Wayne, que deverão ambos aparecer)."
   ]
  },
  {
   "cell_type": "code",
   "execution_count": 57,
   "metadata": {},
   "outputs": [
    {
     "data": {
      "text/plain": [
       "character\n",
       "Bruce Wayne                 38\n",
       "Young Bruce Wayne            6\n",
       "Bruce Wayne - age 8          1\n",
       "Bruce Wayne - Age 8          1\n",
       "Waiter Bruce Wayne Party     1\n",
       "Bruce Wayne's Girlfriend     1\n",
       "Name: count, dtype: int64"
      ]
     },
     "execution_count": 57,
     "metadata": {},
     "output_type": "execute_result"
    }
   ],
   "source": [
    "import pandas as pd \n",
    "\n",
    "df_elenco = pd.read_csv('./csv/05_05_imdb_elenco.csv')\n",
    "\n",
    "nome_buscado = \"Bruce Wayne\"\n",
    "\n",
    "filtro_nome = df_elenco[df_elenco['character'].str.contains(nome_buscado, case=False, na=False)]\n",
    "\n",
    "# agora temos todos dados e vamos ver quantos nomes temos \n",
    "contar_personagem = filtro_nome['character'].value_counts()\n",
    "\n",
    "contar_personagem"
   ]
  },
  {
   "cell_type": "markdown",
   "metadata": {},
   "source": [
    "\n",
    "* Mostrar quantos papéis fez “Robert de Niro” na sua carreira.\n"
   ]
  },
  {
   "cell_type": "code",
   "execution_count": 59,
   "metadata": {},
   "outputs": [
    {
     "name": "stdout",
     "output_type": "stream",
     "text": [
      "O/A Robert de Niro fez 103 personagen\n"
     ]
    }
   ],
   "source": [
    "import pandas as pd \n",
    "\n",
    "df_elenco = pd.read_csv('./csv/05_05_imdb_elenco.csv')\n",
    "\n",
    "nome_buscado = \"Robert de Niro\"\n",
    "\n",
    "ator = df_elenco[df_elenco['name'].str.contains(nome_buscado, case=False, na=False)]\n",
    "\n",
    "numero_d_vezes = ator.shape[0]\n",
    "\n",
    "print(f\"O/A {nome_buscado} fez {numero_d_vezes} personagen\")"
   ]
  },
  {
   "cell_type": "markdown",
   "metadata": {},
   "source": [
    "* Listagem de papéis como protagonista (n=1) que teve o ator “Charlton Heston” na década dos 60’s, ordenado  por ano de forma descendente."
   ]
  },
  {
   "cell_type": "code",
   "execution_count": null,
   "metadata": {},
   "outputs": [
    {
     "data": {
      "text/html": [
       "<div>\n",
       "<style scoped>\n",
       "    .dataframe tbody tr th:only-of-type {\n",
       "        vertical-align: middle;\n",
       "    }\n",
       "\n",
       "    .dataframe tbody tr th {\n",
       "        vertical-align: top;\n",
       "    }\n",
       "\n",
       "    .dataframe thead th {\n",
       "        text-align: right;\n",
       "    }\n",
       "</style>\n",
       "<table border=\"1\" class=\"dataframe\">\n",
       "  <thead>\n",
       "    <tr style=\"text-align: right;\">\n",
       "      <th></th>\n",
       "      <th>title</th>\n",
       "      <th>character</th>\n",
       "      <th>year</th>\n",
       "    </tr>\n",
       "  </thead>\n",
       "  <tbody>\n",
       "    <tr>\n",
       "      <th>944074</th>\n",
       "      <td>Number One</td>\n",
       "      <td>Ron 'Cat' Catlan</td>\n",
       "      <td>1969.0</td>\n",
       "    </tr>\n",
       "    <tr>\n",
       "      <th>944077</th>\n",
       "      <td>Planet of the Apes</td>\n",
       "      <td>George Taylor</td>\n",
       "      <td>1968.0</td>\n",
       "    </tr>\n",
       "    <tr>\n",
       "      <th>944050</th>\n",
       "      <td>Counterpoint</td>\n",
       "      <td>Lionel Evans</td>\n",
       "      <td>1967.0</td>\n",
       "    </tr>\n",
       "    <tr>\n",
       "      <th>944120</th>\n",
       "      <td>Will Penny</td>\n",
       "      <td>Will Penny</td>\n",
       "      <td>1967.0</td>\n",
       "    </tr>\n",
       "    <tr>\n",
       "      <th>944066</th>\n",
       "      <td>Khartoum</td>\n",
       "      <td>Gen. Charles 'Chinese' Gordon</td>\n",
       "      <td>1966.0</td>\n",
       "    </tr>\n",
       "    <tr>\n",
       "      <th>944068</th>\n",
       "      <td>Major Dundee</td>\n",
       "      <td>Major Amos Charles Dundee</td>\n",
       "      <td>1965.0</td>\n",
       "    </tr>\n",
       "    <tr>\n",
       "      <th>944111</th>\n",
       "      <td>The War Lord</td>\n",
       "      <td>Chrysagon</td>\n",
       "      <td>1965.0</td>\n",
       "    </tr>\n",
       "    <tr>\n",
       "      <th>944085</th>\n",
       "      <td>The Agony and the Ecstasy</td>\n",
       "      <td>Michelangelo</td>\n",
       "      <td>1965.0</td>\n",
       "    </tr>\n",
       "    <tr>\n",
       "      <th>944038</th>\n",
       "      <td>55 Days at Peking</td>\n",
       "      <td>Maj. Matt Lewis</td>\n",
       "      <td>1963.0</td>\n",
       "    </tr>\n",
       "    <tr>\n",
       "      <th>944052</th>\n",
       "      <td>Diamond Head</td>\n",
       "      <td>Richard 'King' Howland</td>\n",
       "      <td>1962.0</td>\n",
       "    </tr>\n",
       "    <tr>\n",
       "      <th>944103</th>\n",
       "      <td>The Pigeon That Took Rome</td>\n",
       "      <td>Narrator</td>\n",
       "      <td>1962.0</td>\n",
       "    </tr>\n",
       "    <tr>\n",
       "      <th>944101</th>\n",
       "      <td>The Pigeon That Took Rome</td>\n",
       "      <td>Captain Paul MacDougall</td>\n",
       "      <td>1962.0</td>\n",
       "    </tr>\n",
       "    <tr>\n",
       "      <th>944102</th>\n",
       "      <td>The Pigeon That Took Rome</td>\n",
       "      <td>Benny the Snatch</td>\n",
       "      <td>1962.0</td>\n",
       "    </tr>\n",
       "    <tr>\n",
       "      <th>944054</th>\n",
       "      <td>El Cid</td>\n",
       "      <td>El Cid Rodrigo de Vivar</td>\n",
       "      <td>1961.0</td>\n",
       "    </tr>\n",
       "  </tbody>\n",
       "</table>\n",
       "</div>"
      ],
      "text/plain": [
       "                            title                      character    year\n",
       "944074                 Number One               Ron 'Cat' Catlan  1969.0\n",
       "944077         Planet of the Apes                  George Taylor  1968.0\n",
       "944050               Counterpoint                   Lionel Evans  1967.0\n",
       "944120                 Will Penny                     Will Penny  1967.0\n",
       "944066                   Khartoum  Gen. Charles 'Chinese' Gordon  1966.0\n",
       "944068               Major Dundee      Major Amos Charles Dundee  1965.0\n",
       "944111               The War Lord                      Chrysagon  1965.0\n",
       "944085  The Agony and the Ecstasy                   Michelangelo  1965.0\n",
       "944038          55 Days at Peking                Maj. Matt Lewis  1963.0\n",
       "944052               Diamond Head         Richard 'King' Howland  1962.0\n",
       "944103  The Pigeon That Took Rome                       Narrator  1962.0\n",
       "944101  The Pigeon That Took Rome        Captain Paul MacDougall  1962.0\n",
       "944102  The Pigeon That Took Rome               Benny the Snatch  1962.0\n",
       "944054                     El Cid        El Cid Rodrigo de Vivar  1961.0"
      ]
     },
     "execution_count": 60,
     "metadata": {},
     "output_type": "execute_result"
    }
   ],
   "source": [
    "import pandas as pd \n",
    "\n",
    "df_elenco = pd.read_csv('./csv/05_05_imdb_elenco.csv')\n",
    "\n",
    "buscar_nome = \"Charlton Heston\"\n",
    "\n",
    "# buscar papel numero 1\n",
    "filtro_n1 = df_elenco[df_elenco['n'] == 1]\n",
    "\n",
    "# buscar nome na decada de 60\n",
    "filtro_ator = df_elenco[(df_elenco['name'].str.contains(buscar_nome, case=False, na=False)) & (df_elenco['year'] >= 1960) & (df_elenco['year'] < 1970) & (df_elenco['n'] == 1)]\n",
    "ordem_decresent_ator = filtro_ator.sort_values(by='year', ascending=False)\n",
    "\n",
    "lista_dos_papeis = ordem_decresent_ator[['title', 'character', 'year']]\n",
    "\n",
    "lista_dos_papeis"
   ]
  },
  {
   "cell_type": "markdown",
   "metadata": {},
   "source": [
    "* Mostrar quantos papéis para atores teve na década 50’s.\n",
    "* Mostrar quantos papéis para atrizes teve na década 50’s."
   ]
  },
  {
   "cell_type": "code",
   "execution_count": 71,
   "metadata": {},
   "outputs": [
    {
     "name": "stdout",
     "output_type": "stream",
     "text": [
      "Atores entre o periode de 1950 e 1959: 153998\n",
      "Atrizes entre o periode de 1950 e 1959: 10894\n",
      "A diferença entre 143104\n"
     ]
    }
   ],
   "source": [
    "import pandas as pd \n",
    "\n",
    "df_elenco = pd.read_csv('./csv/05_05_imdb_elenco.csv')\n",
    "\n",
    "# filtros de atores e atrizes entre o periodo de 1950 e 1959\n",
    "decada_50 = df_elenco[(df_elenco['year'] >= 1950) & (df_elenco['year'] < 1960)]\n",
    "\n",
    "atores_dec_50 = decada_50[decada_50['type'] == 'actor']\n",
    "atores_dec_50_shape = atores_dec_50.shape[0]\n",
    "print(f\"Atores entre o periode de 1950 e 1959: {atores_dec_50_shape}\")\n",
    "\n",
    "#atrizes_decada_50 = decada_50['type'] == 'actress' # isso busca tudo \n",
    "\n",
    "atrizes_dec_50 = decada_50[decada_50['type'] == 'actress']\n",
    "atrizes_dec_50_len = len(atrizes_dec_50)\n",
    "\n",
    "print(f\"Atrizes entre o periode de 1950 e 1959: {atrizes_dec_50_len}\")\n",
    "\n",
    "diferenca_entre_papeis = atores_dec_50_shape - atrizes_dec_50_len\n",
    "\n",
    "print(f\"A diferença entre {diferenca_entre_papeis}\")\n"
   ]
  }
 ],
 "metadata": {
  "kernelspec": {
   "display_name": "Python 3",
   "language": "python",
   "name": "python3"
  },
  "language_info": {
   "codemirror_mode": {
    "name": "ipython",
    "version": 3
   },
   "file_extension": ".py",
   "mimetype": "text/x-python",
   "name": "python",
   "nbconvert_exporter": "python",
   "pygments_lexer": "ipython3",
   "version": "3.12.9"
  }
 },
 "nbformat": 4,
 "nbformat_minor": 2
}

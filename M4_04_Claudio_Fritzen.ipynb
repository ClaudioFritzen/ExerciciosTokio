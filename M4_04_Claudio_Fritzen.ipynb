{
 "cells": [
  {
   "cell_type": "markdown",
   "metadata": {},
   "source": [
    "1. Exercício\n",
    " Criação\n",
    " \n",
    " • Apresente a data e hora atuais e mostre no formato padrão, utilizando datetime.\n",
    "\n",
    " • Formate a data atual em dois formatos diferentes: \"dd/mm/aaaa\" e \"aaaa-mm-dd HH:MM\", e mostre \n",
    "os resultados. \n",
    "\n",
    " • Receba (input) uma data de início e uma data de término para um projeto do utilizador no formato \n",
    "\"aaaa-mm-dd HH:MM\" e calcule a duração do projeto em dias, horas, minutos e segundos.\n",
    "\n",
    " • Receba (input) um número de dias de prazo para uma tarefa específica do utilizador e calcule a data de \n",
    "vencimento a partir da data atual, mostrando a data de vencimento no formato \"aaaa-mm-dd\""
   ]
  },
  {
   "cell_type": "code",
   "execution_count": null,
   "metadata": {},
   "outputs": [],
   "source": [
    "from datetime import datetime\n",
    "\n",
    "hora_atual = datetime.now()\n",
    "print(f\"Apenas com datetime\")\n",
    "print(hora_atual)\n",
    "print(\"Formatação ('dd/mm/aa')\")\n",
    "print(f\"DATA: {hora_atual.day}/{hora_atual.month}/{hora_atual.year}\")\n",
    "print(f\"Formatação ('aaaa/mm/dd HH:MM)\")\n",
    "print(f\"DATA: {hora_atual.year}/{hora_atual.month}/{hora_atual.day} Hora: {hora_atual.hour}:{hora_atual.minute}\")"
   ]
  },
  {
   "cell_type": "code",
   "execution_count": null,
   "metadata": {},
   "outputs": [],
   "source": [
    "from datetime import datetime, time, timedelta\n",
    "\n",
    "# Solicitando a data de início do projeto\n",
    "data_inicio_projeto = input(\"Data de Inicio do projeto [dia/mes/ano]: HORA: [HH:MM] \")\n",
    "data_inicio_projeto = datetime.strptime(data_inicio_projeto, \"%d/%m/%Y - %H:%M\")\n",
    "\n",
    "# Solicitando a data de término do projeto\n",
    "data_final_projeto = input(\"Digite a data de Termino do projeto [dia/mes/ano]: \")\n",
    "data_final_projeto = datetime.strptime(data_final_projeto, \"%d/%m/%Y - %H:%M\")\n",
    "\n",
    "print(f\"Data de Início do Projeto: {data_inicio_projeto}\")\n",
    "print(f\"Data de Término do Projeto: {data_final_projeto}\")\n",
    "\n",
    "tempo_de_total = data_final_projeto - data_inicio_projeto\n",
    "print(tempo_de_total)\n"
   ]
  },
  {
   "cell_type": "code",
   "execution_count": 41,
   "metadata": {},
   "outputs": [
    {
     "name": "stdout",
     "output_type": "stream",
     "text": [
      "Data de Início do Projeto: 2024-11-25 09:00:00\n",
      "Data de Término do Projeto: 2025-01-30 09:00:00\n",
      "66 days, 0:00:00\n"
     ]
    }
   ],
   "source": [
    "# tentaremos criar uma função, com a hora pré estabelecida ex: MEU expediente sempre começa as 09:00 e Termina sempre as 18:00\n",
    "# caso eu não declarar uma hora de inicio ou de termino,  o programa não de erro\n",
    "\n",
    "\n",
    "from datetime import datetime, time, timedelta\n",
    "\n",
    "def obter_data_e_hora(data_str, hora_padrao=\"09:00\"):\n",
    "    # validação\n",
    "    if \"-\" in data_str:\n",
    "        return datetime.strptime(data_str, \"%d/%m/%Y - %H/%M\")\n",
    "    else:\n",
    "        return datetime.strptime(f\"{data_str} - {hora_padrao}\", \"%d/%m/%Y - %H:%M\")\n",
    "\n",
    "# Solicitando a data de início do projeto\n",
    "data_inicio_projeto = input(\"Data de Inicio do projeto [dia/mes/ano]: HORA: [HH:MM] \")\n",
    "# chamando a nossa função\n",
    "data_inicio_projeto = obter_data_e_hora(data_inicio_projeto)\n",
    "\n",
    "# Solicitando a data de término do projeto\n",
    "data_final_projeto = input(\"Digite a data de Termino do projeto [dia/mes/ano]: \")\n",
    "data_final_projeto = obter_data_e_hora(data_final_projeto)\n",
    "\n",
    "print(f\"Data de Início do Projeto: {data_inicio_projeto}\")\n",
    "print(f\"Data de Término do Projeto: {data_final_projeto}\")\n",
    "\n",
    "tempo_de_total = data_final_projeto - data_inicio_projeto\n",
    "print(tempo_de_total)"
   ]
  },
  {
   "cell_type": "code",
   "execution_count": null,
   "metadata": {},
   "outputs": [],
   "source": []
  },
  {
   "cell_type": "code",
   "execution_count": null,
   "metadata": {},
   "outputs": [],
   "source": [
    "from datetime import datetime\n",
    "\n",
    "hora_atual = datetime.now()\n",
    "print(f\"Apenas com datetime\")\n",
    "print(hora_atual)\n",
    "print(\"Formatação ('dd/mm/aa')\")\n",
    "print(f\"DATA: {hora_atual.day}/{hora_atual.month}/{hora_atual.year}\")\n",
    "print(f\"Formatação ('aaaa/mm/dd HH:MM)\")\n",
    "print(f\"DATA: {hora_atual.year}/{hora_atual.month}/{hora_atual.day} Hora: {hora_atual.hour}:{hora_atual.minute}\")\n",
    "\n",
    "print(f\"Formatação com strtime\")\n",
    "print(hora_atual.strftime(\"%A %d %B %HH:%MM\"))\n",
    "print(f\"FORTAÇÃO strtime\")\n",
    "print(hora_atual.strftime(\"%A %B %D %HH:%MM\"))\n",
    "#print(f\"{}{}{}\")"
   ]
  },
  {
   "cell_type": "markdown",
   "metadata": {},
   "source": [
    "2. Exercício\n",
    " Criação\n",
    "\n",
    " • Crie uma classe Evento que tenha os seguintes atributos: titulo: título do evento,data_hora_inicio: data \n",
    "e hora de início do evento, data_hora_fim: data e hora de término do evento.\n",
    "\n",
    " • Crie uma classe Agenda que tenha o atributo: Uma lista de objetos da Classe Eventos.\n",
    "\n",
    " • Crie o método Adicionar_evento(evento) na classe Agenda: adiciona um evento à agenda.\n",
    " \n",
    " • Adicionar o método listar_eventos() na classe Agenda: lista todos os eventos na agenda, mostrando o \n",
    "título, a data e hora de início, e a data e hora de término.\n",
    "\n",
    " • Adicionar o método proximo_evento() na classe Agenda: mostra o próximo evento na agenda.\n",
    " \n",
    " • Adicionar o método eventos_do_dia(data) na classe Agenda: lista todos os eventos para uma data \n",
    "específica\n",
    "\n",
    "\n",
    "Experimentar\n",
    "\n",
    " • Crie um objeto da classe Agenda.\n",
    "\n",
    " • Crie pelo menos 5 objetos da classe Evento e adicione à agenda.\n",
    "\n",
    " • Liste todos os eventos.\n",
    "\n",
    " • Mostre o próximo evento.\n",
    " \n",
    " • Liste todos os eventos para uma data específica"
   ]
  },
  {
   "cell_type": "markdown",
   "metadata": {},
   "source": []
  }
 ],
 "metadata": {
  "kernelspec": {
   "display_name": "Python 3",
   "language": "python",
   "name": "python3"
  },
  "language_info": {
   "codemirror_mode": {
    "name": "ipython",
    "version": 3
   },
   "file_extension": ".py",
   "mimetype": "text/x-python",
   "name": "python",
   "nbconvert_exporter": "python",
   "pygments_lexer": "ipython3",
   "version": "3.12.7"
  }
 },
 "nbformat": 4,
 "nbformat_minor": 2
}

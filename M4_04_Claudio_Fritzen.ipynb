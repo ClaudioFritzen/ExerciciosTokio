{
 "cells": [
  {
   "cell_type": "markdown",
   "metadata": {},
   "source": [
    "1. Exercício\n",
    " Criação\n",
    " \n",
    " • Apresente a data e hora atuais e mostre no formato padrão, utilizando datetime.\n",
    "\n",
    " • Formate a data atual em dois formatos diferentes: \"dd/mm/aaaa\" e \"aaaa-mm-dd HH:MM\", e mostre \n",
    "os resultados. \n",
    "\n",
    " • Receba (input) uma data de início e uma data de término para um projeto do utilizador no formato \n",
    "\"aaaa-mm-dd HH:MM\" e calcule a duração do projeto em dias, horas, minutos e segundos.\n",
    "\n",
    " • Receba (input) um número de dias de prazo para uma tarefa específica do utilizador e calcule a data de \n",
    "vencimento a partir da data atual, mostrando a data de vencimento no formato \"aaaa-mm-dd\""
   ]
  },
  {
   "cell_type": "code",
   "execution_count": null,
   "metadata": {},
   "outputs": [],
   "source": [
    "from datetime import datetime\n",
    "\n",
    "hora_atual = datetime.now()\n",
    "print(f\"Apenas com datetime\")\n",
    "print(hora_atual)\n",
    "print(\"Formatação ('dd/mm/aa')\")\n",
    "print(f\"DATA: {hora_atual.day}/{hora_atual.month}/{hora_atual.year}\")\n",
    "print(f\"Formatação ('aaaa/mm/dd HH:MM)\")\n",
    "print(f\"DATA: {hora_atual.year}/{hora_atual.month}/{hora_atual.day} Hora: {hora_atual.hour}:{hora_atual.minute}\")"
   ]
  },
  {
   "cell_type": "code",
   "execution_count": null,
   "metadata": {},
   "outputs": [],
   "source": [
    "from datetime import datetime, time, timedelta\n",
    "\n",
    "# Solicitando a data de início do projeto\n",
    "data_inicio_projeto = input(\"Data de Inicio do projeto [dia/mes/ano]: HORA: [HH:MM] \")\n",
    "data_inicio_projeto = datetime.strptime(data_inicio_projeto, \"%d/%m/%Y - %H:%M\")\n",
    "\n",
    "# Solicitando a data de término do projeto\n",
    "data_final_projeto = input(\"Digite a data de Termino do projeto [dia/mes/ano]: \")\n",
    "data_final_projeto = datetime.strptime(data_final_projeto, \"%d/%m/%Y - %H:%M\")\n",
    "\n",
    "print(f\"Data de Início do Projeto: {data_inicio_projeto}\")\n",
    "print(f\"Data de Término do Projeto: {data_final_projeto}\")\n",
    "\n",
    "tempo_de_total = data_final_projeto - data_inicio_projeto\n",
    "print(tempo_de_total)\n"
   ]
  },
  {
   "cell_type": "code",
   "execution_count": null,
   "metadata": {},
   "outputs": [],
   "source": [
    "# tentaremos criar uma função, com a hora pré estabelecida ex: MEU expediente sempre começa as 09:00 e Termina sempre as 18:00\n",
    "# caso eu não declarar uma hora de inicio ou de termino,  o programa não de erro\n",
    "\n",
    "\n",
    "from datetime import datetime, time, timedelta\n",
    "\n",
    "def obter_data_e_hora(data_str, hora_padrao=\"09:00\"):\n",
    "    # validação\n",
    "    if \"-\" in data_str:\n",
    "        return datetime.strptime(data_str, \"%d/%m/%Y - %H/%M\")\n",
    "    else:\n",
    "        return datetime.strptime(f\"{data_str} - {hora_padrao}\", \"%d/%m/%Y - %H:%M\")\n",
    "\n",
    "# Solicitando a data de início do projeto\n",
    "data_inicio_projeto = input(\"Data de Inicio do projeto [dia/mes/ano]: HORA: [HH:MM] \")\n",
    "# chamando a nossa função\n",
    "data_inicio_projeto = obter_data_e_hora(data_inicio_projeto)\n",
    "\n",
    "# Solicitando a data de término do projeto\n",
    "data_final_projeto = input(\"Digite a data de Termino do projeto [dia/mes/ano]: \")\n",
    "data_final_projeto = obter_data_e_hora(data_final_projeto)\n",
    "\n",
    "print(f\"Data de Início do Projeto: {data_inicio_projeto}\")\n",
    "print(f\"Data de Término do Projeto: {data_final_projeto}\")\n",
    "\n",
    "tempo_de_total = data_final_projeto - data_inicio_projeto\n",
    "print(tempo_de_total)"
   ]
  },
  {
   "cell_type": "code",
   "execution_count": null,
   "metadata": {},
   "outputs": [],
   "source": []
  },
  {
   "cell_type": "code",
   "execution_count": null,
   "metadata": {},
   "outputs": [],
   "source": [
    "from datetime import datetime\n",
    "\n",
    "hora_atual = datetime.now()\n",
    "print(f\"Apenas com datetime\")\n",
    "print(hora_atual)\n",
    "print(\"Formatação ('dd/mm/aa')\")\n",
    "print(f\"DATA: {hora_atual.day}/{hora_atual.month}/{hora_atual.year}\")\n",
    "print(f\"Formatação ('aaaa/mm/dd HH:MM)\")\n",
    "print(f\"DATA: {hora_atual.year}/{hora_atual.month}/{hora_atual.day} Hora: {hora_atual.hour}:{hora_atual.minute}\")\n",
    "\n",
    "print(f\"Formatação com strtime\")\n",
    "print(hora_atual.strftime(\"%A %d %B %HH:%MM\"))\n",
    "print(f\"FORTAÇÃO strtime\")\n",
    "print(hora_atual.strftime(\"%A %B %D %HH:%MM\"))\n",
    "#print(f\"{}{}{}\")"
   ]
  },
  {
   "cell_type": "markdown",
   "metadata": {},
   "source": [
    "2. Exercício\n",
    " Criação\n",
    "\n",
    " • Crie uma classe Evento que tenha os seguintes atributos: titulo: título do evento,data_hora_inicio: data \n",
    "e hora de início do evento, data_hora_fim: data e hora de término do evento.\n",
    "\n",
    " • Crie uma classe Agenda que tenha o atributo: Uma lista de objetos da Classe Eventos.\n",
    "\n",
    " • Crie o método Adicionar_evento(evento) na classe Agenda: adiciona um evento à agenda.\n",
    " \n",
    " • Adicionar o método listar_eventos() na classe Agenda: lista todos os eventos na agenda, mostrando o \n",
    "título, a data e hora de início, e a data e hora de término.\n",
    "\n",
    " • Adicionar o método proximo_evento() na classe Agenda: mostra o próximo evento na agenda.\n",
    " \n",
    " • Adicionar o método eventos_do_dia(data) na classe Agenda: lista todos os eventos para uma data \n",
    "específica\n",
    "\n",
    "\n",
    "Experimentar\n",
    "\n",
    " • Crie um objeto da classe Agenda.\n",
    "\n",
    " • Crie pelo menos 5 objetos da classe Evento e adicione à agenda.\n",
    "\n",
    " • Liste todos os eventos.\n",
    "\n",
    " • Mostre o próximo evento.\n",
    " \n",
    " • Liste todos os eventos para uma data específica"
   ]
  },
  {
   "cell_type": "markdown",
   "metadata": {},
   "source": [
    "\"\"\" 2. Exercício\n",
    " Criação\n",
    "\n",
    " • Crie uma classe Evento que tenha os seguintes atributos: titulo: título do evento,data_hora_inicio: data \n",
    "e hora de início do evento, data_hora_fim: data e hora de término do evento. \"\"\"\n",
    "\n"
   ]
  },
  {
   "cell_type": "code",
   "execution_count": 24,
   "metadata": {},
   "outputs": [],
   "source": [
    "class Evento:\n",
    "    def __init__(self, titulo, data_hora_inicio, data_hora_fim):\n",
    "        try:\n",
    "\n",
    "            self.titulo = titulo\n",
    "            self.data_hora_inicio = data_hora_inicio\n",
    "            self.data_hora_fim = data_hora_fim\n",
    "            print(f\"Evento Criado com sucesso!\")\n",
    "        \n",
    "        except Exception as e:\n",
    "            print(f\"Erro: {e}\")\n",
    "\n",
    "    def __str__(self):\n",
    "        return f\"\"\"\n",
    "                    Nome do Evento: [{self.titulo}]\n",
    "                    Inicio do Evento: [{self.data_hora_inicio}]\n",
    "                    Termino do Evento: [{self.data_hora_fim}]\n",
    "                \"\"\"\n",
    "\n",
    "# • Crie uma classe Agenda que tenha o atributo: Uma lista de objetos da Classe Eventos.\n",
    "\n",
    "class Agenda:\n",
    "    def __init__(self):\n",
    "        self.lista_dos_eventos = []\n",
    "#• Crie o método Adicionar_evento(evento) na classe Agenda: adiciona um evento à agenda.\n",
    "    def adicionar_a_lista_de_eventos(self, evento):\n",
    "        self.lista_dos_eventos.append(evento)\n",
    "    \n",
    "    def mostrar_todos_os_eventos_na_lista(self):\n",
    "        for todos_eventos in self.lista_dos_eventos:\n",
    "            print(todos_eventos)"
   ]
  },
  {
   "cell_type": "code",
   "execution_count": 29,
   "metadata": {},
   "outputs": [
    {
     "name": "stdout",
     "output_type": "stream",
     "text": [
      "Evento Criado com sucesso!\n",
      "Evento Criado com sucesso!\n"
     ]
    }
   ],
   "source": [
    "\n",
    "evento1 = Evento(\"Gameplay de Fly Simulator\", \"30/11/2024 21:00\", \"30/11/2024 23:30\")\n",
    "evento2 = Evento(\"Live de Tal Jogo\", \"30/11/2024 20:30\", \"30/11/2024 22:00\")\n"
   ]
  },
  {
   "cell_type": "code",
   "execution_count": 30,
   "metadata": {},
   "outputs": [
    {
     "name": "stdout",
     "output_type": "stream",
     "text": [
      "\n",
      "                    Nome do Evento: [Gameplay de Fly Simulator]\n",
      "                    Inicio do Evento: [30/11/2024 21:00]\n",
      "                    Termino do Evento: [30/11/2024 23:30]\n",
      "                \n",
      "\n",
      "                    Nome do Evento: [Live de Tal Jogo]\n",
      "                    Inicio do Evento: [30/11/2024 20:30]\n",
      "                    Termino do Evento: [30/11/2024 22:00]\n",
      "                \n"
     ]
    }
   ],
   "source": [
    "agenda = Agenda()\n",
    "\n",
    "agenda.adicionar_a_lista_de_eventos(evento1)\n",
    "agenda.adicionar_a_lista_de_eventos(evento2)\n",
    "agenda.mostrar_todos_os_eventos_na_lista()"
   ]
  },
  {
   "cell_type": "markdown",
   "metadata": {},
   "source": []
  }
 ],
 "metadata": {
  "kernelspec": {
   "display_name": "Python 3",
   "language": "python",
   "name": "python3"
  },
  "language_info": {
   "codemirror_mode": {
    "name": "ipython",
    "version": 3
   },
   "file_extension": ".py",
   "mimetype": "text/x-python",
   "name": "python",
   "nbconvert_exporter": "python",
   "pygments_lexer": "ipython3",
   "version": "3.12.7"
  }
 },
 "nbformat": 4,
 "nbformat_minor": 2
}

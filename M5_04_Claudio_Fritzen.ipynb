{
 "cells": [
  {
   "cell_type": "markdown",
   "metadata": {},
   "source": [
    "# Exercício 1\n",
    "#### Criação\n",
    "\n",
    "* Criar uma base de dados que se chame \"__empresa.db__\" por meio do módulo sqlite3 em Python.\n",
    "* Dentro dessa base de dados, crie uma tabela chamada \"__Funcionarios__\" com as estrutura a seguir:\n",
    "    * id: INTEGER, chave primária (PRIMARY KEY).\n",
    "    * nome: TEXT, nome do funcionário.\n",
    "    * cargo: TEXT, cargo do funcionário.\n",
    "    * salario: REAL, salário do funcionário.\n",
    "* Insira pelo menos __10__ registos diferentes na tabela \"__Funcionarios__\".\n",
    "* Atualize o salário de todos os 3 primeiros funcionários para um valor de 10%.\n",
    "* Remova o registo do funcionário com o id = 4.\n",
    "* Por fim, selecione e exiba todos os funcionários restantes na tabela, ordenados pelo salário descrecente."
   ]
  },
  {
   "cell_type": "code",
   "execution_count": 2,
   "metadata": {},
   "outputs": [],
   "source": [
    "import sqlite3\n",
    "\n",
    "# Connect to database\n",
    "local_para_salvar = './db/empresa2.db'\n",
    "conn = sqlite3.connect(local_para_salvar)\n",
    "\n",
    "# Create a cursor\n",
    "cursor = conn.cursor()\n",
    "\n",
    "# Create a table\n",
    "cursor.execute(\"\"\" \n",
    "CREATE TABLE IF NOT EXISTS funcionarios (\n",
    "    id INTEGER PRIMARY KEY AUTOINCREMENT,\n",
    "    nome TEXT NOT NULL,\n",
    "    cargo TEXT NOT NULL,\n",
    "    salario REAL NOT NULL\n",
    ");\n",
    "\"\"\")\n",
    "# Commit our command\n",
    "conn.commit()\n",
    "\n",
    "# Close our connection\n",
    "cursor.close()\n",
    "conn.close()"
   ]
  },
  {
   "cell_type": "markdown",
   "metadata": {},
   "source": [
    "### Criando os funcionarios\n",
    "\n",
    "    # Criando uma função para aredondar em duas casas após a virgula\n",
    "    "
   ]
  },
  {
   "cell_type": "code",
   "execution_count": 8,
   "metadata": {},
   "outputs": [],
   "source": [
    "import sqlite3\n",
    "\n",
    "# Connect to database\n",
    "local_para_salvar = './db/empresa2.db'\n",
    "conn = sqlite3.connect(local_para_salvar)\n",
    "\n",
    "# Create a cursor\n",
    "cursor = conn.cursor()\n",
    "\n",
    "funcionarios = [\n",
    "    (\"João\", \"Gerente\", 5000.00),\n",
    "    (\"Maria\", \"Analista\", 4000.00),\n",
    "    (\"Pedro\", \"Desenvolvedor\", 4500.00),\n",
    "    (\"Ana\", \"Designer\", 3500.00),\n",
    "    (\"Carlos\", \"Vendedor\", 3000.00),\n",
    "    (\"Paula\", \"Secretária\", 2500.00),\n",
    "    (\"Lucas\", \"Estagiário\", 1500.00),\n",
    "    (\"Fernanda\", \"Diretora\", 7000.00),\n",
    "    (\"Ricardo\", \"Contador\", 3800.00),\n",
    "    (\"Juliana\", \"Recepcionista\", 2200.00)\n",
    "]\n",
    "\n",
    "# Funçao para aredondar o salario em duas casas decimais\n",
    "def arredondar(salario):\n",
    "    return round(salario, 2)\n",
    "\n",
    "# Funçao para inserir um funcionario\n",
    "def inserir_funcionario(nome, cargo, salario):\n",
    "    cursor.execute(\"\"\"\n",
    "    INSERT INTO funcionarios (nome, cargo, salario) VALUES (?, ?, ?)\n",
    "    \"\"\", (nome, cargo, arredondar(salario)))\n",
    "    conn.commit()\n",
    "    print('Funcionário inserido com sucesso.')\n",
    "\n",
    "# Funçao para listar todos os funcionarios\n",
    "def listar_funcionarios():\n",
    "    try:\n",
    "\n",
    "        cursor.execute(\"\"\"\n",
    "        SELECT * FROM funcionarios;\n",
    "        \"\"\")\n",
    "    except Exception as e:\n",
    "        print(f'Erro: {e}')\n",
    "    except sqlite3.Error as e:\n",
    "        print(f'Erro ao listar funcionários: {e}')\n",
    "    for funcionario in cursor.fetchall():\n",
    "        print(funcionario)\n",
    "        \n"
   ]
  },
  {
   "cell_type": "code",
   "execution_count": null,
   "metadata": {},
   "outputs": [],
   "source": [
    "for funcionario in funcionarios:\n",
    "    inserir_funcionario(funcionario[0], funcionario[1], funcionario[2])"
   ]
  },
  {
   "cell_type": "markdown",
   "metadata": {},
   "source": [
    "### Aumento de salario para os 3 primeiros funcionarios\n",
    "    # Aumento de 10%"
   ]
  },
  {
   "cell_type": "code",
   "execution_count": 13,
   "metadata": {},
   "outputs": [
    {
     "name": "stdout",
     "output_type": "stream",
     "text": [
      "Salários atualizados com sucesso.\n"
     ]
    }
   ],
   "source": [
    "import sqlite3\n",
    "\n",
    "# Conectando ao banco de dados (ou criando um novo)\n",
    "local_para_salvar = './db/empresa2.db'\n",
    "conn = sqlite3.connect(local_para_salvar)\n",
    "\n",
    "# Criando um cursor\n",
    "cursor = conn.cursor()\n",
    "\n",
    "try:\n",
    "    # Selecionando os IDs dos três primeiros funcionários\n",
    "    cursor.execute('''\n",
    "    SELECT id\n",
    "    FROM funcionarios\n",
    "    ORDER BY id\n",
    "    LIMIT 3\n",
    "    ''')\n",
    "    ids_funcionarios = cursor.fetchall()\n",
    "\n",
    "    if not ids_funcionarios:\n",
    "        raise ValueError('ID não encontrado.')\n",
    "    \n",
    "    # Atualizando o salário dos três primeiros funcionários com um aumento de 10%\n",
    "    for id_funcionario in ids_funcionarios:\n",
    "        cursor.execute('''\n",
    "        UPDATE funcionarios \n",
    "        SET salario = salario * 1.1\n",
    "        WHERE id = ?\n",
    "        ''', (id_funcionario[0],))\n",
    "    \n",
    "    # Confirmando as alterações na tabela\n",
    "    conn.commit()\n",
    "    print('Salários atualizados com sucesso.')\n",
    "\n",
    "except ValueError as e:\n",
    "    print(f'Erro: {e}')\n",
    "\n",
    "except sqlite3.Error as e:\n",
    "    print(f'Erro ao buscar ids: {e}')\n",
    "\n",
    "finally:\n",
    "    # Fechar o cursor e a conexão\n",
    "    cursor.close()\n",
    "    conn.close()"
   ]
  },
  {
   "cell_type": "markdown",
   "metadata": {},
   "source": [
    "* Remova o registo do funcionário com o id = 4."
   ]
  },
  {
   "cell_type": "code",
   "execution_count": null,
   "metadata": {},
   "outputs": [
    {
     "name": "stdout",
     "output_type": "stream",
     "text": [
      "Erro: Funcionário não encontrado. 4\n"
     ]
    }
   ],
   "source": [
    "import sqlite3\n",
    "\n",
    "def deletar_funcionario(id_funcionario):\n",
    "    # Conectando ao banco de dados\n",
    "    conexao = sqlite3.connect('./db/empresa2.db')\n",
    "    cursor = conexao.cursor()\n",
    "\n",
    "    try:\n",
    "        # Buscando o funcionário pelo ID\n",
    "\n",
    "        cursor.execute('''\n",
    "        SELECT id, nome, cargo, salario\n",
    "        FROM funcionarios\n",
    "        WHERE id = ?\n",
    "        ''', (id_funcionario,))\n",
    "\n",
    "        funcionario = cursor.fetchone()\n",
    "\n",
    "        if funcionario is None:\n",
    "            raise ValueError(f'Funcionário não encontrado. {id_funcionario}')\n",
    "        \n",
    "        ## Exibindo o funcionário encontrado\n",
    "        print(f\"ID: {funcionario[0]}\")\n",
    "        print(f\"Nome: {funcionario[1]}\")\n",
    "        print(f\"Cargo: {funcionario[2]}\")\n",
    "        print(f\"Salário: {funcionario[3]}\")\n",
    "\n",
    "\n",
    "        # Deletando o funcionário\n",
    "        cursor.execute('''DELETE FROM funcionarios\n",
    "                        WHERE id = ?''',\n",
    "                          (id_funcionario,))\n",
    "        conexao.commit()\n",
    "        print('Funcionário deletado com sucesso.')\n",
    "\n",
    "    except sqlite3.Error as e:\n",
    "        print(f'Erro ao buscar funcionário: {e}')\n",
    "    except ValueError as e:\n",
    "        print(f'Erro: {e}')\n",
    "    finally:\n",
    "        cursor.close()\n",
    "        conexao.close()\n",
    "\n",
    "\n",
    "## Coloque o id do funcionário que deseja deletar\n",
    "deletar_funcionario(4)\n",
    "\n"
   ]
  },
  {
   "cell_type": "markdown",
   "metadata": {},
   "source": [
    "* Por fim, selecione e exiba todos os funcionários restantes na tabela, ordenados pelo salário."
   ]
  },
  {
   "cell_type": "code",
   "execution_count": 22,
   "metadata": {},
   "outputs": [
    {
     "name": "stdout",
     "output_type": "stream",
     "text": [
      "(9, 'Fernanda', 'Diretora', 7000.0)\n",
      "(1, 'João', 'Analista de Dados', 5500.0)\n",
      "(2, 'João', 'Gerente', 5500.0)\n",
      "(3, 'Maria', 'Analista', 4400.0)\n",
      "(10, 'Ricardo', 'Contador', 3800.0)\n",
      "(5, 'Ana', 'Designer', 3500.0)\n",
      "(6, 'Carlos', 'Vendedor', 3000.0)\n",
      "(7, 'Paula', 'Secretária', 2500.0)\n",
      "(11, 'Juliana', 'Recepcionista', 2200.0)\n",
      "(8, 'Lucas', 'Estagiário', 1500.0)\n"
     ]
    }
   ],
   "source": [
    "# função para mostrar todos os funcionarios por order de salarios \n",
    "\n",
    "def listar_funcionarios_por_salario():\n",
    "    # Conectando ao banco de dados\n",
    "    conn = sqlite3.connect(local_para_salvar)\n",
    "    cursor = conn.cursor()\n",
    "    try:\n",
    "        cursor.execute('''\n",
    "        SELECT * FROM funcionarios\n",
    "        ORDER BY salario DESC\n",
    "        ''')\n",
    "        for funcionario in cursor.fetchall():\n",
    "            print(funcionario)\n",
    "\n",
    "    except sqlite3.Error as e:\n",
    "        print(f'Erro ao buscar funcionários: {e}')\n",
    "    except Exception as e:\n",
    "        print(f'Erro: {e}')\n",
    "    except ValueError as e:\n",
    "        print(f'Erro: {e}')\n",
    "    finally:\n",
    "        cursor.close()\n",
    "        conn.close()\n",
    "\n",
    "listar_funcionarios_por_salario()\n"
   ]
  },
  {
   "cell_type": "markdown",
   "metadata": {},
   "source": [
    "# Exercício 2\n",
    "#### Criação\n",
    "\n",
    "* Sobre a base de dados \"__empresa.db__\" e a tabela \"__Funcionarios__\", criadas anteriormente, resolva o desafio a seguir:\n",
    "\n",
    "\n",
    "* A empresa deseja melhorar a sua estrutura salarial, e para isso precisa de um relatório que forneça insights sobre a distribuição de salários e cargos dentro da organização. Portanto, deve resolver:\n",
    "    * Descobrir possíveis disparidades salariais entre os funcionários de diferentes cargos.\n",
    "    * Identificar os cargos com os maiores e menores salários médios.\n",
    "    * Determinar quantos funcionários existem por cargo e entender a distribuição salarial em cada cargo.\n",
    "    * Fornecer um relatório geral que possa ajudar a diretoria a ajustar os salários para garantir mais equidade e competitividade no mercado.\n",
    " \n",
    "\n"
   ]
  },
  {
   "cell_type": "markdown",
   "metadata": {},
   "source": [
    " * Descobrir possíveis disparidades salariais entre os funcionários de diferentes cargos."
   ]
  },
  {
   "cell_type": "code",
   "execution_count": 18,
   "metadata": {},
   "outputs": [
    {
     "name": "stdout",
     "output_type": "stream",
     "text": [
      "Diferença salarial para o cargo Analista: 4198.11\n",
      "Diferença salarial para o cargo Contador: 3544.13\n",
      "Diferença salarial para o cargo Desenvolvedor: 5098.5\n",
      "Diferença salarial para o cargo Desenvolvedor Python: 5500.0\n",
      "Diferença salarial para o cargo Desenvolvedores de Software: 4716.01\n",
      "Diferença salarial para o cargo Diretora: 7210.0\n",
      "Diferença salarial para o cargo Estagiario: 1332.69\n",
      "Diferença salarial para o cargo Estagiário: 1545.0\n",
      "Diferença salarial para o cargo Gerente: 5565.0\n",
      "Diferença salarial para o cargo Recepcionista: 2007.94\n",
      "Diferença salarial para o cargo Secretária: 2575.0\n",
      "Diferença salarial para o cargo Vendedor: 3056.16\n"
     ]
    },
    {
     "data": {
      "text/plain": [
       "('Vendedor', 3056.16, 3701.88, 645.7200000000003)"
      ]
     },
     "execution_count": 18,
     "metadata": {},
     "output_type": "execute_result"
    }
   ],
   "source": [
    "## função para mostrar a disparidade salarial entre funcionarios de diferentes cargos\n",
    "\n",
    "## \n",
    "def disparidade_salarial_entre_diferentes_cargos():\n",
    "    import sqlite3\n",
    "    # Conectando ao banco de dados\n",
    "    conn = sqlite3.connect('./db/empresa.db')\n",
    "    cursor = conn.cursor()\n",
    "    try:\n",
    "        \n",
    "        cursor.execute('''\n",
    "        SELECT cargo, MIN(salario) AS menor_salario, MAX(salario) AS maior_salario, \n",
    "               (MAX(salario) - MIN(salario)) AS disparidade_salarial\n",
    "        FROM funcionarios\n",
    "        GROUP BY cargo\n",
    "        ''')\n",
    "        for cargo in cursor.fetchall():\n",
    "            print(f'Diferença salarial para o cargo {cargo[0]}: {cargo[1]}')\n",
    "\n",
    "            #print(f'{cargo}')\n",
    "        return cargo\n",
    "\n",
    "    except sqlite3.Error as e:\n",
    "        print(f'Erro ao buscar funcionários: {e}')\n",
    "    except Exception as e:\n",
    "        print(f'Erro: {e}')\n",
    "    except ValueError as e:\n",
    "        print(f'Erro: {e}')\n",
    "    finally:\n",
    "        cursor.close()\n",
    "        conn.close()\n",
    "\n",
    "disparidade_salarial_entre_diferentes_cargos()"
   ]
  },
  {
   "cell_type": "markdown",
   "metadata": {},
   "source": [
    "* Identificar os cargos com os maiores e menores salários médios."
   ]
  },
  {
   "cell_type": "code",
   "execution_count": 19,
   "metadata": {},
   "outputs": [
    {
     "name": "stdout",
     "output_type": "stream",
     "text": [
      "Cargos com maiores e menores salários médios:\n",
      "Cargo com maior salário médio: Diretora\n",
      "Cargo com menor salário médio: Estagiario\n"
     ]
    },
    {
     "data": {
      "text/plain": [
       "[('Diretora', 7568.8075),\n",
       " ('Gerente', 6130.1675),\n",
       " ('Desenvolvedor Python', 5582.5),\n",
       " ('Desenvolvedor', 5365.755),\n",
       " ('Desenvolvedores de Software', 5228.986666666667),\n",
       " ('Analista', 4365.055),\n",
       " ('Contador', 3784.036666666667),\n",
       " ('Vendedor', 3282.6800000000003),\n",
       " ('Secretária', 2724.353333333333),\n",
       " ('Recepcionista', 2253.9700000000003),\n",
       " ('Estagiário', 1545.0),\n",
       " ('Estagiario', 1524.145)]"
      ]
     },
     "execution_count": 19,
     "metadata": {},
     "output_type": "execute_result"
    }
   ],
   "source": [
    "def indentificar_cargos_com_maioes_e_menores_salarios_medios():\n",
    "\n",
    "    import sqlite3\n",
    "    # Conectando ao banco de dados\n",
    "    conn = sqlite3.connect('./db/empresa.db')\n",
    "    cursor = conn.cursor()\n",
    "    try:\n",
    "        cursor.execute('''\n",
    "        SELECT cargo, AVG(salario) AS salario_medio\n",
    "        FROM funcionarios\n",
    "        GROUP BY cargo\n",
    "        ORDER BY salario_medio DESC\n",
    "        ''')\n",
    "        cargos = cursor.fetchall()\n",
    "        print(f'Cargo com maior salário médio: {cargos[0][0]}')\n",
    "        print(f'Cargo com menor salário médio: {cargos[-1][0]}') ## -1 para pegar o ultimo elemento da lista\n",
    "        return cargos\n",
    "    except sqlite3.Error as e:\n",
    "        print(f'Erro ao buscar funcionários: {e}')\n",
    "    except Exception as e:\n",
    "        print(f'Erro: {e}')\n",
    "    except ValueError as e:\n",
    "        print(f'Erro: {e}')\n",
    "    finally:\n",
    "        cursor.close()\n",
    "        conn.close()\n",
    "\n",
    "print('Cargos com maiores e menores salários médios:')\n",
    "indentificar_cargos_com_maioes_e_menores_salarios_medios()"
   ]
  },
  {
   "cell_type": "markdown",
   "metadata": {},
   "source": [
    "* Determinar quantos funcionários existem por cargo e entender a distribuição salarial em cada cargo."
   ]
  },
  {
   "cell_type": "code",
   "execution_count": 20,
   "metadata": {},
   "outputs": [
    {
     "name": "stdout",
     "output_type": "stream",
     "text": [
      "Cargo: Gerente\n",
      "Quantidade de funcionários: 4\n",
      "Salário médio: 6130.17\n",
      "\n",
      "Cargo: Diretora\n",
      "Quantidade de funcionários: 4\n",
      "Salário médio: 7568.81\n",
      "\n",
      "Cargo: Vendedor\n",
      "Quantidade de funcionários: 3\n",
      "Salário médio: 3282.68\n",
      "\n",
      "Cargo: Secretária\n",
      "Quantidade de funcionários: 3\n",
      "Salário médio: 2724.35\n",
      "\n",
      "Cargo: Desenvolvedores de Software\n",
      "Quantidade de funcionários: 3\n",
      "Salário médio: 5228.99\n",
      "\n",
      "Cargo: Contador\n",
      "Quantidade de funcionários: 3\n",
      "Salário médio: 3784.04\n",
      "\n",
      "Cargo: Recepcionista\n",
      "Quantidade de funcionários: 2\n",
      "Salário médio: 2253.97\n",
      "\n",
      "Cargo: Estagiario\n",
      "Quantidade de funcionários: 2\n",
      "Salário médio: 1524.14\n",
      "\n",
      "Cargo: Desenvolvedor Python\n",
      "Quantidade de funcionários: 2\n",
      "Salário médio: 5582.50\n",
      "\n",
      "Cargo: Desenvolvedor\n",
      "Quantidade de funcionários: 2\n",
      "Salário médio: 5365.76\n",
      "\n",
      "Cargo: Analista\n",
      "Quantidade de funcionários: 2\n",
      "Salário médio: 4365.06\n",
      "\n",
      "Cargo: Estagiário\n",
      "Quantidade de funcionários: 1\n",
      "Salário médio: 1545.00\n",
      "\n"
     ]
    },
    {
     "data": {
      "text/plain": [
       "('Estagiário', 1, 1545.0)"
      ]
     },
     "execution_count": 20,
     "metadata": {},
     "output_type": "execute_result"
    }
   ],
   "source": [
    "## função para determinar quantos funcionarios existem em cada cargo e entender a distribuição salarial em cada cargo\n",
    "\n",
    "def distribuicao_de_funcionarios_por_cargo():\n",
    "   \n",
    "    import sqlite3\n",
    "    # Conectando ao banco de dados\n",
    "    conn = sqlite3.connect('./db/empresa.db')\n",
    "    cursor = conn.cursor()\n",
    "    try:\n",
    "        cursor.execute('''\n",
    "        SELECT cargo, COUNT(*) AS quantidade_funcionarios, AVG(salario) AS salario_medio\n",
    "        FROM funcionarios\n",
    "        GROUP BY cargo\n",
    "        ORDER BY quantidade_funcionarios DESC\n",
    "        ''')\n",
    "        for cargo in cursor.fetchall():\n",
    "            print(f'Cargo: {cargo[0]}')\n",
    "            print(f'Quantidade de funcionários: {cargo[1]}')\n",
    "            print(f'Salário médio: {cargo[2]:.2f}')\n",
    "            print()\n",
    "        return cargo\n",
    "\n",
    "    except sqlite3.Error as e:\n",
    "        print(f'Erro ao buscar funcionários: {e}')\n",
    "    except Exception as e:\n",
    "        print(f'Erro: {e}')\n",
    "    except ValueError as e:\n",
    "        print(f'Erro: {e}')\n",
    "    finally:\n",
    "        cursor.close()\n",
    "        conn.close()\n",
    "distribuicao_de_funcionarios_por_cargo()"
   ]
  },
  {
   "cell_type": "markdown",
   "metadata": {},
   "source": [
    "* Fornecer um relatório geral que possa ajudar a diretoria a ajustar os salários para garantir mais equidade e competitividade no mercado."
   ]
  },
  {
   "cell_type": "code",
   "execution_count": 28,
   "metadata": {},
   "outputs": [
    {
     "name": "stdout",
     "output_type": "stream",
     "text": [
      "Cargo com maior salário médio: Diretora\n",
      "Cargo com menor salário médio: Estagiario\n",
      "\n",
      "Relatório Geral:\n",
      "\n",
      "Distribuição salarial por cargo:\n",
      "Cargo: Gerente, Quantidade de Funcionários: 4, Salário Médio: 6130.17\n",
      "Cargo: Diretora, Quantidade de Funcionários: 4, Salário Médio: 7568.81\n",
      "Cargo: Vendedor, Quantidade de Funcionários: 3, Salário Médio: 3282.68\n",
      "Cargo: Secretária, Quantidade de Funcionários: 3, Salário Médio: 2724.35\n",
      "Cargo: Desenvolvedores de Software, Quantidade de Funcionários: 3, Salário Médio: 5228.99\n",
      "Cargo: Contador, Quantidade de Funcionários: 3, Salário Médio: 3784.04\n",
      "Cargo: Recepcionista, Quantidade de Funcionários: 2, Salário Médio: 2253.97\n",
      "Cargo: Estagiario, Quantidade de Funcionários: 2, Salário Médio: 1524.14\n",
      "Cargo: Desenvolvedor Python, Quantidade de Funcionários: 2, Salário Médio: 5582.50\n",
      "Cargo: Desenvolvedor, Quantidade de Funcionários: 2, Salário Médio: 5365.76\n",
      "Cargo: Analista, Quantidade de Funcionários: 2, Salário Médio: 4365.06\n",
      "Cargo: Estagiário, Quantidade de Funcionários: 1, Salário Médio: 1545.00\n",
      "----------------------------------------------------------------------------------------------------\n",
      "\n",
      "\n",
      "Cargos com os maiores e menores salários médios:\n",
      "Cargo: Diretora, Salário Médio: 7568.81\n",
      "Cargo: Gerente, Salário Médio: 6130.17\n",
      "Cargo: Desenvolvedor Python, Salário Médio: 5582.50\n",
      "Cargo: Desenvolvedor, Salário Médio: 5365.76\n",
      "Cargo: Desenvolvedores de Software, Salário Médio: 5228.99\n",
      "Cargo: Analista, Salário Médio: 4365.06\n",
      "Cargo: Contador, Salário Médio: 3784.04\n",
      "Cargo: Vendedor, Salário Médio: 3282.68\n",
      "Cargo: Secretária, Salário Médio: 2724.35\n",
      "Cargo: Recepcionista, Salário Médio: 2253.97\n",
      "Cargo: Estagiário, Salário Médio: 1545.00\n",
      "Cargo: Estagiario, Salário Médio: 1524.14\n",
      "----------------------------------------------------------------------------------------------------\n",
      "\n",
      "\n",
      "Disparidades salariais entre os funcionários de diferentes cargos:\n",
      "Cargo: Analista, Menor Salário: 4198.11, Maior Salário: 4532.00, Disparidade Salarial: 333.89\n",
      "Cargo: Contador, Menor Salário: 3544.13, Maior Salário: 3914.00, Disparidade Salarial: 369.87\n",
      "Cargo: Desenvolvedor, Menor Salário: 5098.50, Maior Salário: 5633.01, Disparidade Salarial: 534.51\n",
      "Cargo: Desenvolvedor Python, Menor Salário: 5500.00, Maior Salário: 5665.00, Disparidade Salarial: 165.00\n",
      "Cargo: Desenvolvedores de Software, Menor Salário: 4716.01, Maior Salário: 5834.49, Disparidade Salarial: 1118.48\n",
      "Cargo: Diretora, Menor Salário: 7210.00, Maior Salário: 8227.74, Disparidade Salarial: 1017.74\n",
      "Cargo: Estagiario, Menor Salário: 1332.69, Maior Salário: 1715.60, Disparidade Salarial: 382.91\n",
      "Cargo: Estagiário, Menor Salário: 1545.00, Maior Salário: 1545.00, Disparidade Salarial: 0.00\n",
      "Cargo: Gerente, Menor Salário: 5565.00, Maior Salário: 6799.74, Disparidade Salarial: 1234.74\n",
      "Cargo: Recepcionista, Menor Salário: 2007.94, Maior Salário: 2500.00, Disparidade Salarial: 492.06\n",
      "Cargo: Secretária, Menor Salário: 2575.00, Maior Salário: 2949.52, Disparidade Salarial: 374.52\n",
      "Cargo: Vendedor, Menor Salário: 3056.16, Maior Salário: 3701.88, Disparidade Salarial: 645.72\n",
      "----------------------------------------------------------------------------------------------------\n"
     ]
    }
   ],
   "source": [
    "\n",
    "\n",
    "def relatorio_geral():\n",
    "    # Chamar as funções existentes\n",
    "    distribuicao = distribuicao_de_funcionarios_por_cargo()\n",
    "    salarios_medios = indentificar_cargos_com_maioes_e_menores_salarios_medios()\n",
    "    disparidades = disparidade_salarial_entre_diferentes_cargos()\n",
    "\n",
    "    # Fornecer um relatório geral\n",
    "    print(\"\\nRelatório Geral:\")\n",
    "    print(\"\\nDistribuição salarial por cargo:\")\n",
    "    for distribuicao in distribuicao:\n",
    "        print(f\"Cargo: {distribuicao[0]}, Quantidade de Funcionários: {distribuicao[1]}, Salário Médio: {distribuicao[2]:.2f}\")\n",
    "    print(\"-\"* 100)\n",
    "    print()\n",
    "    print(\"\\nCargos com os maiores e menores salários médios:\")\n",
    "    for salario_medio in salarios_medios:\n",
    "        print(f\"Cargo: {salario_medio[0]}, Salário Médio: {float(salario_medio[1]):.2f}\")\n",
    "    print(\"-\"* 100)\n",
    "    print()\n",
    "\n",
    "    print(\"\\nDisparidades salariais entre os funcionários de diferentes cargos:\")\n",
    "    for disparidade in disparidades:\n",
    "        print(f\"Cargo: {disparidade[0]}, Menor Salário: {float(disparidade[1]):.2f}, Maior Salário: {float(disparidade[2]):.2f}, Disparidade Salarial: {float(disparidade[3]):.2f}\")\n",
    "    print(\"-\"* 100)\n",
    "    \n",
    "# Executar a função para gerar o relatório geral\n",
    "relatorio_geral()"
   ]
  },
  {
   "cell_type": "markdown",
   "metadata": {},
   "source": []
  }
 ],
 "metadata": {
  "kernelspec": {
   "display_name": "Python 3",
   "language": "python",
   "name": "python3"
  },
  "language_info": {
   "codemirror_mode": {
    "name": "ipython",
    "version": 3
   },
   "file_extension": ".py",
   "mimetype": "text/x-python",
   "name": "python",
   "nbconvert_exporter": "python",
   "pygments_lexer": "ipython3",
   "version": "3.12.8"
  }
 },
 "nbformat": 4,
 "nbformat_minor": 2
}

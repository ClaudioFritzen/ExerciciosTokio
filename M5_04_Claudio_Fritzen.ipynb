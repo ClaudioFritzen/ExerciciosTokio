{
 "cells": [
  {
   "cell_type": "markdown",
   "metadata": {},
   "source": [
    "# Exercício 1\n",
    "#### Criação\n",
    "\n",
    "* Criar uma base de dados que se chame \"__empresa.db__\" por meio do módulo sqlite3 em Python.\n",
    "* Dentro dessa base de dados, crie uma tabela chamada \"__Funcionarios__\" com as estrutura a seguir:\n",
    "    * id: INTEGER, chave primária (PRIMARY KEY).\n",
    "    * nome: TEXT, nome do funcionário.\n",
    "    * cargo: TEXT, cargo do funcionário.\n",
    "    * salario: REAL, salário do funcionário.\n",
    "* Insira pelo menos __10__ registos diferentes na tabela \"__Funcionarios__\".\n",
    "* Atualize o salário de todos os 3 primeiros funcionários para um valor de 10%.\n",
    "* Remova o registo do funcionário com o id = 4.\n",
    "* Por fim, selecione e exiba todos os funcionários restantes na tabela, ordenados pelo salário descrecente."
   ]
  },
  {
   "cell_type": "code",
   "execution_count": 2,
   "metadata": {},
   "outputs": [],
   "source": [
    "import sqlite3\n",
    "\n",
    "# Connect to database\n",
    "local_para_salvar = './db/empresa2.db'\n",
    "conn = sqlite3.connect(local_para_salvar)\n",
    "\n",
    "# Create a cursor\n",
    "cursor = conn.cursor()\n",
    "\n",
    "# Create a table\n",
    "cursor.execute(\"\"\" \n",
    "CREATE TABLE IF NOT EXISTS funcionarios (\n",
    "    id INTEGER PRIMARY KEY AUTOINCREMENT,\n",
    "    nome TEXT NOT NULL,\n",
    "    cargo TEXT NOT NULL,\n",
    "    salario REAL NOT NULL\n",
    ");\n",
    "\"\"\")\n",
    "# Commit our command\n",
    "conn.commit()\n",
    "\n",
    "# Close our connection\n",
    "cursor.close()\n",
    "conn.close()"
   ]
  },
  {
   "cell_type": "markdown",
   "metadata": {},
   "source": [
    "### Criando os funcionarios\n",
    "\n",
    "    # Criando uma função para aredondar em duas casas após a virgula\n",
    "    "
   ]
  },
  {
   "cell_type": "code",
   "execution_count": 8,
   "metadata": {},
   "outputs": [],
   "source": [
    "import sqlite3\n",
    "\n",
    "# Connect to database\n",
    "local_para_salvar = './db/empresa2.db'\n",
    "conn = sqlite3.connect(local_para_salvar)\n",
    "\n",
    "# Create a cursor\n",
    "cursor = conn.cursor()\n",
    "\n",
    "funcionarios = [\n",
    "    (\"João\", \"Gerente\", 5000.00),\n",
    "    (\"Maria\", \"Analista\", 4000.00),\n",
    "    (\"Pedro\", \"Desenvolvedor\", 4500.00),\n",
    "    (\"Ana\", \"Designer\", 3500.00),\n",
    "    (\"Carlos\", \"Vendedor\", 3000.00),\n",
    "    (\"Paula\", \"Secretária\", 2500.00),\n",
    "    (\"Lucas\", \"Estagiário\", 1500.00),\n",
    "    (\"Fernanda\", \"Diretora\", 7000.00),\n",
    "    (\"Ricardo\", \"Contador\", 3800.00),\n",
    "    (\"Juliana\", \"Recepcionista\", 2200.00)\n",
    "]\n",
    "\n",
    "# Funçao para aredondar o salario em duas casas decimais\n",
    "def arredondar(salario):\n",
    "    return round(salario, 2)\n",
    "\n",
    "# Funçao para inserir um funcionario\n",
    "def inserir_funcionario(nome, cargo, salario):\n",
    "    cursor.execute(\"\"\"\n",
    "    INSERT INTO funcionarios (nome, cargo, salario) VALUES (?, ?, ?)\n",
    "    \"\"\", (nome, cargo, arredondar(salario)))\n",
    "    conn.commit()\n",
    "    print('Funcionário inserido com sucesso.')\n",
    "\n",
    "# Funçao para listar todos os funcionarios\n",
    "def listar_funcionarios():\n",
    "    try:\n",
    "\n",
    "        cursor.execute(\"\"\"\n",
    "        SELECT * FROM funcionarios;\n",
    "        \"\"\")\n",
    "    except Exception as e:\n",
    "        print(f'Erro: {e}')\n",
    "    except sqlite3.Error as e:\n",
    "        print(f'Erro ao listar funcionários: {e}')\n",
    "    for funcionario in cursor.fetchall():\n",
    "        print(funcionario)\n",
    "        \n"
   ]
  },
  {
   "cell_type": "code",
   "execution_count": null,
   "metadata": {},
   "outputs": [],
   "source": [
    "for funcionario in funcionarios:\n",
    "    inserir_funcionario(funcionario[0], funcionario[1], funcionario[2])"
   ]
  },
  {
   "cell_type": "markdown",
   "metadata": {},
   "source": [
    "### Aumento de salario para os 3 primeiros funcionarios\n",
    "    # Aumento de 10%"
   ]
  },
  {
   "cell_type": "code",
   "execution_count": 13,
   "metadata": {},
   "outputs": [
    {
     "name": "stdout",
     "output_type": "stream",
     "text": [
      "Salários atualizados com sucesso.\n"
     ]
    }
   ],
   "source": [
    "import sqlite3\n",
    "\n",
    "# Conectando ao banco de dados (ou criando um novo)\n",
    "local_para_salvar = './db/empresa2.db'\n",
    "conn = sqlite3.connect(local_para_salvar)\n",
    "\n",
    "# Criando um cursor\n",
    "cursor = conn.cursor()\n",
    "\n",
    "try:\n",
    "    # Selecionando os IDs dos três primeiros funcionários\n",
    "    cursor.execute('''\n",
    "    SELECT id\n",
    "    FROM funcionarios\n",
    "    ORDER BY id\n",
    "    LIMIT 3\n",
    "    ''')\n",
    "    ids_funcionarios = cursor.fetchall()\n",
    "\n",
    "    if not ids_funcionarios:\n",
    "        raise ValueError('ID não encontrado.')\n",
    "    \n",
    "    # Atualizando o salário dos três primeiros funcionários com um aumento de 10%\n",
    "    for id_funcionario in ids_funcionarios:\n",
    "        cursor.execute('''\n",
    "        UPDATE funcionarios \n",
    "        SET salario = salario * 1.1\n",
    "        WHERE id = ?\n",
    "        ''', (id_funcionario[0],))\n",
    "    \n",
    "    # Confirmando as alterações na tabela\n",
    "    conn.commit()\n",
    "    print('Salários atualizados com sucesso.')\n",
    "\n",
    "except ValueError as e:\n",
    "    print(f'Erro: {e}')\n",
    "\n",
    "except sqlite3.Error as e:\n",
    "    print(f'Erro ao buscar ids: {e}')\n",
    "\n",
    "finally:\n",
    "    # Fechar o cursor e a conexão\n",
    "    cursor.close()\n",
    "    conn.close()"
   ]
  },
  {
   "cell_type": "markdown",
   "metadata": {},
   "source": [
    "* Remova o registo do funcionário com o id = 4."
   ]
  },
  {
   "cell_type": "code",
   "execution_count": 17,
   "metadata": {},
   "outputs": [
    {
     "name": "stdout",
     "output_type": "stream",
     "text": [
      "ID: 4\n",
      "Nome: Pedro\n",
      "Cargo: Desenvolvedor\n",
      "Salário: 4500.0\n",
      "Funcionário deletado com sucesso.\n"
     ]
    }
   ],
   "source": [
    "import sqlite3\n",
    "\n",
    "def deletar_funcionario(id_funcionario):\n",
    "    # Conectando ao banco de dados\n",
    "    conexao = sqlite3.connect('./db/empresa2.db')\n",
    "    cursor = conexao.cursor()\n",
    "\n",
    "    try:\n",
    "        # Buscando o funcionário pelo ID\n",
    "\n",
    "        cursor.execute('''\n",
    "        SELECT id, nome, cargo, salario\n",
    "        FROM funcionarios\n",
    "        WHERE id = ?\n",
    "        ''', (id_funcionario,))\n",
    "\n",
    "        funcionario = cursor.fetchone()\n",
    "\n",
    "        if funcionario is None:\n",
    "            raise ValueError(f'Funcionário não encontrado. {id_funcionario}')\n",
    "        \n",
    "        ## Exibindo o funcionário encontrado\n",
    "        print(f\"ID: {funcionario[0]}\")\n",
    "        print(f\"Nome: {funcionario[1]}\")\n",
    "        print(f\"Cargo: {funcionario[2]}\")\n",
    "        print(f\"Salário: {funcionario[3]}\")\n",
    "\n",
    "\n",
    "        # Deletando o funcionário\n",
    "        cursor.execute('''DELETE FROM funcionarios\n",
    "                        WHERE id = ?''',\n",
    "                          (id_funcionario,))\n",
    "        conexao.commit()\n",
    "        print('Funcionário deletado com sucesso.')\n",
    "\n",
    "    except sqlite3.Error as e:\n",
    "        print(f'Erro ao buscar funcionário: {e}')\n",
    "    except ValueError as e:\n",
    "        print(f'Erro: {e}')\n",
    "    finally:\n",
    "        cursor.close()\n",
    "        conexao.close()\n",
    "\n",
    "\n",
    "## Coloque o id do funcionário que deseja deletar\n",
    "deletar_funcionario(4)\n",
    "\n"
   ]
  },
  {
   "cell_type": "markdown",
   "metadata": {},
   "source": [
    "* Por fim, selecione e exiba todos os funcionários restantes na tabela, ordenados pelo salário."
   ]
  },
  {
   "cell_type": "code",
   "execution_count": 22,
   "metadata": {},
   "outputs": [
    {
     "name": "stdout",
     "output_type": "stream",
     "text": [
      "(9, 'Fernanda', 'Diretora', 7000.0)\n",
      "(1, 'João', 'Analista de Dados', 5500.0)\n",
      "(2, 'João', 'Gerente', 5500.0)\n",
      "(3, 'Maria', 'Analista', 4400.0)\n",
      "(10, 'Ricardo', 'Contador', 3800.0)\n",
      "(5, 'Ana', 'Designer', 3500.0)\n",
      "(6, 'Carlos', 'Vendedor', 3000.0)\n",
      "(7, 'Paula', 'Secretária', 2500.0)\n",
      "(11, 'Juliana', 'Recepcionista', 2200.0)\n",
      "(8, 'Lucas', 'Estagiário', 1500.0)\n"
     ]
    }
   ],
   "source": [
    "# função para mostrar todos os funcionarios por order de salarios \n",
    "\n",
    "def listar_funcionarios_por_salario():\n",
    "    # Conectando ao banco de dados\n",
    "    conn = sqlite3.connect(local_para_salvar)\n",
    "    cursor = conn.cursor()\n",
    "    try:\n",
    "        cursor.execute('''\n",
    "        SELECT * FROM funcionarios\n",
    "        ORDER BY salario DESC\n",
    "        ''')\n",
    "        for funcionario in cursor.fetchall():\n",
    "            print(funcionario)\n",
    "\n",
    "    except sqlite3.Error as e:\n",
    "        print(f'Erro ao buscar funcionários: {e}')\n",
    "    except Exception as e:\n",
    "        print(f'Erro: {e}')\n",
    "    except ValueError as e:\n",
    "        print(f'Erro: {e}')\n",
    "    finally:\n",
    "        cursor.close()\n",
    "        conn.close()\n",
    "\n",
    "listar_funcionarios_por_salario()\n"
   ]
  }
 ],
 "metadata": {
  "kernelspec": {
   "display_name": "Python 3",
   "language": "python",
   "name": "python3"
  },
  "language_info": {
   "codemirror_mode": {
    "name": "ipython",
    "version": 3
   },
   "file_extension": ".py",
   "mimetype": "text/x-python",
   "name": "python",
   "nbconvert_exporter": "python",
   "pygments_lexer": "ipython3",
   "version": "3.12.8"
  }
 },
 "nbformat": 4,
 "nbformat_minor": 2
}

{
 "cells": [
  {
   "cell_type": "markdown",
   "metadata": {},
   "source": [
    "#### Exercícios Módulo 5. Unidade 4. BAse de dados\n",
    "\n",
    "Considerações a ter em conta:\n",
    "\n",
    "* Guardar este documento com o seguinte formato para entrega: __M5_04_nome_apelido1_apelido2__\n",
    "* Utilizar o Software: Anaconda – Jupyter.\n",
    "* Comentar o código\n",
    "* Utilizar nomes de variáveis apropriados, se vai guardar uma nota, chamar a essa variável nota, não n ou x"
   ]
  },
  {
   "cell_type": "markdown",
   "metadata": {},
   "source": [
    "# Exercício 1"
   ]
  },
  {
   "cell_type": "markdown",
   "metadata": {},
   "source": [
    "#### Criação\n",
    "\n",
    "* Criar uma base de dados que se chame \"__empresa.db__\" por meio do módulo sqlite3 em Python.\n",
    "* Dentro dessa base de dados, crie uma tabela chamada \"__Funcionarios__\" com as estrutura a seguir:\n",
    "    * id: INTEGER, chave primária (PRIMARY KEY).\n",
    "    * nome: TEXT, nome do funcionário.\n",
    "    * cargo: TEXT, cargo do funcionário.\n",
    "    * salario: REAL, salário do funcionário.\n",
    "* Insira pelo menos __10__ registos diferentes na tabela \"__Funcionarios__\".\n",
    "* Atualize o salário de todos os 3 primeiros funcionários para um valor de 10%.\n",
    "* Remova o registo do funcionário com o id = 4.\n",
    "* Por fim, selecione e exiba todos os funcionários restantes na tabela, ordenados pelo salário.acteres)."
   ]
  },
  {
   "cell_type": "code",
   "execution_count": 23,
   "metadata": {},
   "outputs": [
    {
     "data": {
      "text/plain": [
       "<sqlite3.Cursor at 0x288f35bd5c0>"
      ]
     },
     "execution_count": 23,
     "metadata": {},
     "output_type": "execute_result"
    }
   ],
   "source": [
    "import sqlite3\n",
    "\n",
    "# Conectando ao banco de dados (ou criando um novo)\n",
    "conexao = sqlite3.connect('./db/empresa.db')\n",
    "cursor = conexao.cursor()\n",
    "## Criando a tabela funcionarios \n",
    "cursor.execute('''\n",
    "CREATE TABLE IF NOT EXISTS funcionarios (\n",
    "               id INTEGER PRIMARY KEY AUTOINCREMENT,\n",
    "               nome TEXT NOT NULL UNIQUE,\n",
    "               cargo TEXT NOT NULL,\n",
    "               salario REAL NOT NULL\n",
    "               )\n",
    "''')"
   ]
  },
  {
   "cell_type": "code",
   "execution_count": 24,
   "metadata": {},
   "outputs": [],
   "source": [
    "# criamos uma função para arrendodar \n",
    "def arredondar_salario(salario):\n",
    "    return round(salario, 2)\n",
    "### vamos criar os funcionarios com diferentes cargos e salarios\n",
    "funcionarios = [\n",
    "    (\"João\", \"Gerente\", arredondar_salario(5000.00)),\n",
    "    (\"Maria\", \"Analista\", arredondar_salario(4000.00)),\n",
    "    (\"Pedro\", \"Desenvolvedor\", arredondar_salario(4500.00)),\n",
    "    (\"Ana\", \"Designer\", arredondar_salario(3500.00)),\n",
    "    (\"Carlos\", \"Vendedor\", arredondar_salario(3000.00)),\n",
    "    (\"Paula\", \"Secretária\", arredondar_salario(2500.00)),\n",
    "    (\"Lucas\", \"Estagiário\", arredondar_salario(1500.00)),\n",
    "    (\"Fernanda\", \"Diretora\", arredondar_salario(7000.00)),\n",
    "    (\"Ricardo\", \"Contador\", arredondar_salario(3800.00)),\n",
    "    (\"Juliana\", \"Recepcionista\", arredondar_salario(2200.00))\n",
    "]"
   ]
  },
  {
   "cell_type": "code",
   "execution_count": 25,
   "metadata": {},
   "outputs": [],
   "source": [
    "## agora vamos salvar os funcionarios na tabela\n",
    "try:\n",
    "    cursor.executemany('''\n",
    "    INSERT INTO funcionarios (nome, cargo, salario)\n",
    "    VALUES (?,?,?)\n",
    "    ''', funcionarios)\n",
    "except sqlite3.IntegrityError as e:\n",
    "    print(f\"Erro ao inserir dados: {e}\")\n",
    "\n"
   ]
  },
  {
   "cell_type": "code",
   "execution_count": 2,
   "metadata": {},
   "outputs": [
    {
     "ename": "NameError",
     "evalue": "name 'conexao' is not defined",
     "output_type": "error",
     "traceback": [
      "\u001b[1;31m---------------------------------------------------------------------------\u001b[0m",
      "\u001b[1;31mNameError\u001b[0m                                 Traceback (most recent call last)",
      "Cell \u001b[1;32mIn[2], line 3\u001b[0m\n\u001b[0;32m      1\u001b[0m \u001b[38;5;66;03m## agora confirmamos com o commit \u001b[39;00m\n\u001b[1;32m----> 3\u001b[0m \u001b[43mconexao\u001b[49m\u001b[38;5;241m.\u001b[39mcommit()\n\u001b[0;32m      4\u001b[0m \u001b[38;5;66;03m### Fechando tudo !\u001b[39;00m\n\u001b[0;32m      5\u001b[0m cursor\u001b[38;5;241m.\u001b[39mclose()\n",
      "\u001b[1;31mNameError\u001b[0m: name 'conexao' is not defined"
     ]
    }
   ],
   "source": [
    "## agora confirmamos com o commit \n",
    "\n",
    "conexao.commit()\n",
    "### Fechando tudo !\n",
    "cursor.close()\n",
    "conexao.close()"
   ]
  },
  {
   "cell_type": "code",
   "execution_count": 4,
   "metadata": {},
   "outputs": [],
   "source": [
    "import sqlite3\n",
    "\n",
    "\n",
    "# criamos uma função para arrendodar \n",
    "def arredondar_salario(salario):\n",
    "    return round(salario, 2)\n",
    "# Conectando ao banco de dados (ou criando um novo)\n",
    "conexao = sqlite3.connect('./db/empresa.db')\n",
    "cursor = conexao.cursor()\n",
    "# Conectando ao banco de dados (ou criando um novo)\n",
    "conexao = sqlite3.connect('./db/empresa.db')\n",
    "cursor = conexao.cursor()\n",
    "# adicioando apenas um funcionario novo\n",
    "\n",
    "## Vou colocar com um valor e depois fazer uma alteração\n",
    "novo_funcionario = [\n",
    "    \"Francisco\", \"Desenvolvedor Python\", arredondar_salario(55555.00)\n",
    "]\n",
    "\n",
    "#### para um apenas,\n",
    "cursor.execute(''' \n",
    "INSERT INTO funcionarios (nome, cargo, salario)\n",
    "VALUES (?,?,?)\n",
    "''', novo_funcionario)\n",
    "\n",
    "# Confirmando as alterações na tabela\n",
    "conexao.commit()\n",
    "\n",
    "# Fechando a conexão\n",
    "cursor.close()\n",
    "conexao.close()"
   ]
  },
  {
   "cell_type": "code",
   "execution_count": 28,
   "metadata": {},
   "outputs": [
    {
     "name": "stdout",
     "output_type": "stream",
     "text": [
      "Salário do funcionário Claudio atualizado para 5500\n"
     ]
    }
   ],
   "source": [
    "#### Funcão de Atualizar um funcionario\n",
    "\n",
    "import sqlite3\n",
    "\n",
    "# Conectando ao banco de dados (ou criando um novo)\n",
    "conexao = sqlite3.connect('./db/empresa.db')\n",
    "cursor = conexao.cursor()\n",
    "\n",
    "## Pegando o funcionario para fazer a alteração\n",
    "ajuste_salarial = 5500\n",
    "nome_funcioanario = \"Claudio\"\n",
    "\n",
    "cursor.execute('''\n",
    "UPDATE funcionarios\n",
    "SET salario = ?\n",
    "WHERE nome = ?\n",
    "''', (ajuste_salarial, nome_funcioanario))\n",
    "\n",
    "# Confirmando as alterações na tabela\n",
    "conexao.commit()\n",
    "\n",
    "# Fechando a conexão\n",
    "cursor.close()\n",
    "conexao.close()\n",
    "\n",
    "print(f\"Salário do funcionário {nome_funcioanario} atualizado para {ajuste_salarial}\")"
   ]
  },
  {
   "cell_type": "code",
   "execution_count": 29,
   "metadata": {},
   "outputs": [
    {
     "name": "stdout",
     "output_type": "stream",
     "text": [
      "Salário de todos os funcionários atualizado com um aumento de 3%\n"
     ]
    }
   ],
   "source": [
    "### Dando aumento a todos de 3%\n",
    "\n",
    "import sqlite3\n",
    "\n",
    "# Conectando ao banco de dados (ou criando um novo)\n",
    "conexao = sqlite3.connect('./db/empresa.db')\n",
    "cursor = conexao.cursor()\n",
    "\n",
    "# Atualizando o salário de todos os funcionários com um aumento de 3%\n",
    "cursor.execute('''\n",
    "UPDATE funcionarios\n",
    "SET salario = salario * 1.03\n",
    "''')\n",
    "\n",
    "\n",
    "# Confirmando as alterações na tabela\n",
    "conexao.commit()\n",
    "\n",
    "# Fechando a conexão\n",
    "cursor.close()\n",
    "conexao.close()\n",
    "\n",
    "print(\"Salário de todos os funcionários atualizado com um aumento de 3%\")\n",
    "\n"
   ]
  },
  {
   "cell_type": "code",
   "execution_count": 30,
   "metadata": {},
   "outputs": [
    {
     "name": "stdout",
     "output_type": "stream",
     "text": [
      "Salário dos três primeiros funcionários atualizado com um aumento de 10%\n"
     ]
    }
   ],
   "source": [
    "import sqlite3\n",
    "\n",
    "# Conectando ao banco de dados (ou criando um novo)\n",
    "conexao = sqlite3.connect('./db/empresa.db')\n",
    "cursor = conexao.cursor()\n",
    "\n",
    "try:\n",
    "    # Selecionando os IDs dos três primeiros funcionários\n",
    "    cursor.execute('''\n",
    "    SELECT id\n",
    "    FROM funcionarios\n",
    "    ORDER BY id\n",
    "    LIMIT 3\n",
    "    ''')\n",
    "    ids_funcionarios = cursor.fetchall()\n",
    "\n",
    "    if not ids_funcionarios:\n",
    "        raise ValueError(\"Nenhum funcionario encontrado\")\n",
    "    \n",
    "    for id_funcionario in ids_funcionarios:\n",
    "        cursor.execute('''\n",
    "        UPDATE funcionarios\n",
    "                       SET salario = salario * 1.1\n",
    "                       WHERE id = ?\n",
    "                       ''', (id_funcionario[0], ))\n",
    "        \n",
    "    # salvando as modificações\n",
    "    conexao.commit()\n",
    "    print(\"Salário dos três primeiros funcionários atualizado com um aumento de 10%\")\n",
    "\n",
    "except ValueError as ve:\n",
    "    print(ve)\n",
    "except sqlite3.Error as e:\n",
    "    print(f\"Erro ao acessar o banco de dados: {e}\")\n",
    "finally:\n",
    "    # Fechando a conexão\n",
    "    cursor.close()\n",
    "    conexao.close()\n"
   ]
  },
  {
   "cell_type": "code",
   "execution_count": 1,
   "metadata": {},
   "outputs": [
    {
     "name": "stdout",
     "output_type": "stream",
     "text": [
      "ID: 9\n",
      "Nome: Ricardo\n",
      "Cargo: Contador\n",
      "Salário: 3914.0\n"
     ]
    }
   ],
   "source": [
    "import sqlite3\n",
    "\n",
    "# Conectando ao banco de dados (ou criando um novo)\n",
    "#conexao = sqlite3.connect('example.db')\n",
    "conexao = sqlite3.connect('./db/empresa.db')\n",
    "cursor = conexao.cursor()\n",
    "\n",
    "# ID do funcionário que você deseja buscar\n",
    "id_funcionario = 9  # Substitua pelo ID correto do funcionário\n",
    "\n",
    "try:\n",
    "    # Buscando o funcionário específico pelo ID\n",
    "    cursor.execute('''\n",
    "    SELECT id, nome, cargo, salario\n",
    "    FROM funcionarios\n",
    "    WHERE id = ?\n",
    "    ''', (id_funcionario,))\n",
    "    \n",
    "    funcionario = cursor.fetchone()\n",
    "    \n",
    "    if funcionario is None:\n",
    "        raise ValueError(f\"Funcionário com id {id_funcionario} não encontrado.\")\n",
    "    \n",
    "    # Exibindo as informações do funcionário\n",
    "    print(f\"ID: {funcionario[0]}\")\n",
    "    print(f\"Nome: {funcionario[1]}\")\n",
    "    print(f\"Cargo: {funcionario[2]}\")\n",
    "    print(f\"Salário: {funcionario[3]}\")\n",
    "\n",
    "except ValueError as ve:\n",
    "    print(ve)\n",
    "except sqlite3.Error as e:\n",
    "    print(f\"Erro ao acessar o banco de dados: {e}\")\n",
    "finally:\n",
    "    # Fechando a conexão\n",
    "    cursor.close()\n",
    "    conexao.close()"
   ]
  },
  {
   "cell_type": "code",
   "execution_count": 4,
   "metadata": {},
   "outputs": [
    {
     "name": "stdout",
     "output_type": "stream",
     "text": [
      "ID: 4\n",
      "Nome: Ana\n",
      "Cargo: Designer\n",
      "Salário: 3605.0\n",
      "Funcionário Ana removido com sucesso.\n"
     ]
    }
   ],
   "source": [
    "## como fazer para deletar um funcionario\n",
    "\n",
    "# primeiro vamos vazer uma busca para ver se o funcionario existe \n",
    "# depois deletamos\n",
    "import sqlite3\n",
    "\n",
    "# Conectando ao banco de dados (ou criando um novo)\n",
    "conexao = sqlite3.connect('./db/empresa.db')\n",
    "cursor = conexao.cursor()\n",
    "\n",
    "# ID do funcionário que você deseja buscar\n",
    "id_funcionario = 4  # Substitua pelo ID correto do funcionário\n",
    "\n",
    "try:\n",
    "    # Buscando o funcionário específico pelo ID\n",
    "    cursor.execute('''\n",
    "    SELECT id, nome, cargo, salario\n",
    "    FROM funcionarios\n",
    "    WHERE id = ?\n",
    "    ''', (id_funcionario,))\n",
    "    \n",
    "    funcionario = cursor.fetchone()\n",
    "    \n",
    "    if funcionario is None:\n",
    "        raise ValueError(f\"Funcionário com id {id_funcionario} não encontrado.\")\n",
    "    \n",
    "    # Exibindo as informações do funcionário\n",
    "    print(f\"ID: {funcionario[0]}\")\n",
    "    print(f\"Nome: {funcionario[1]}\")\n",
    "    print(f\"Cargo: {funcionario[2]}\")\n",
    "    print(f\"Salário: {funcionario[3]}\")\n",
    "\n",
    "    # Deletando o funcionário\n",
    "    cursor.execute('''\n",
    "    DELETE FROM funcionarios\n",
    "    WHERE id = ?\n",
    "    ''', (id_funcionario,))\n",
    "    \n",
    "    # Salvando a remoção\n",
    "    conexao.commit()\n",
    "    print(f\"Funcionário {funcionario[1]} removido com sucesso.\")\n",
    "    \n",
    "\n",
    "except ValueError as ve:\n",
    "    print(ve)\n",
    "except sqlite3.Error as e:\n",
    "    print(f\"Erro ao acessar o banco de dados: {e}\")\n",
    "finally:\n",
    "    # Fechando a conexão\n",
    "    cursor.close()\n",
    "    conexao.close()\n",
    "    "
   ]
  },
  {
   "cell_type": "code",
   "execution_count": 5,
   "metadata": {},
   "outputs": [
    {
     "name": "stdout",
     "output_type": "stream",
     "text": [
      "ID: 8\n",
      "Nome: Fernanda\n",
      "Cargo: Diretora\n",
      "Salário: 7210.0\n",
      "\n",
      "ID: 1\n",
      "Nome: João\n",
      "Cargo: Gerente\n",
      "Salário: 5665.000000000001\n",
      "\n",
      "ID: 11\n",
      "Nome: Claudio\n",
      "Cargo: Desenvolvedor Python\n",
      "Salário: 5665.0\n",
      "\n",
      "ID: 3\n",
      "Nome: Pedro\n",
      "Cargo: Desenvolvedor\n",
      "Salário: 5098.5\n",
      "\n",
      "ID: 2\n",
      "Nome: Maria\n",
      "Cargo: Analista\n",
      "Salário: 4532.0\n",
      "\n",
      "ID: 9\n",
      "Nome: Ricardo\n",
      "Cargo: Contador\n",
      "Salário: 3914.0\n",
      "\n",
      "ID: 5\n",
      "Nome: Carlos\n",
      "Cargo: Vendedor\n",
      "Salário: 3090.0\n",
      "\n",
      "ID: 6\n",
      "Nome: Paula\n",
      "Cargo: Secretária\n",
      "Salário: 2575.0\n",
      "\n",
      "ID: 10\n",
      "Nome: Juliana\n",
      "Cargo: Recepcionista\n",
      "Salário: 2266.0\n",
      "\n",
      "ID: 7\n",
      "Nome: Lucas\n",
      "Cargo: Estagiário\n",
      "Salário: 1545.0\n",
      "\n"
     ]
    }
   ],
   "source": [
    "import sqlite3\n",
    "\n",
    "# Conectando ao banco de dados (ou criando um novo)\n",
    "conexao = sqlite3.connect('./db/empresa.db')\n",
    "cursor = conexao.cursor()\n",
    "\n",
    "try:\n",
    "    cursor.execute('''\n",
    "    SELECT id, nome, cargo, salario\n",
    "    FROM funcionarios\n",
    "    ORDER BY salario DESC\n",
    "    ''')\n",
    "    funcionarios = cursor.fetchall()\n",
    "\n",
    "    if not funcionarios:\n",
    "        raise ValueError(\"Nenhum funcionário encontrado.\")\n",
    "    \n",
    "    for funcionario in funcionarios:\n",
    "        print(f\"ID: {funcionario[0]}\")\n",
    "        print(f\"Nome: {funcionario[1]}\")\n",
    "        print(f\"Cargo: {funcionario[2]}\")\n",
    "        print(f\"Salário: {funcionario[3]}\")\n",
    "        print()\n",
    "except ValueError as ve:\n",
    "    print(ve)\n",
    "except sqlite3.Error as e:\n",
    "    print(f\"Erro ao acessar o banco de dados: {e}\")\n",
    "finally:\n",
    "    cursor.close()\n",
    "    conexao.close()\n"
   ]
  },
  {
   "cell_type": "code",
   "execution_count": 6,
   "metadata": {},
   "outputs": [
    {
     "name": "stdout",
     "output_type": "stream",
     "text": [
      "Salário atualizado com sucesso.\n"
     ]
    }
   ],
   "source": [
    "## Função para atualizar o salário de um funcionário\n",
    "import sqlite3\n",
    "# Conectando ao banco de dados (ou criando um novo)\n",
    "conexao = sqlite3.connect('./db/empresa.db')\n",
    "cursor = conexao.cursor()\n",
    "\n",
    "def atualizar_salario(id_funcionario, novo_salario):\n",
    "    try:\n",
    "        # Atualizando o salário do funcionário\n",
    "        cursor.execute('''\n",
    "        UPDATE funcionarios\n",
    "        SET salario = ?\n",
    "        WHERE id = ?\n",
    "        ''', (novo_salario, id_funcionario))\n",
    "        conexao.commit()\n",
    "        print('Salário atualizado com sucesso.')\n",
    "    except sqlite3.Error as e:\n",
    "        print(f'Erro ao atualizar salário: {e}')\n",
    "    finally:\n",
    "        cursor.close()\n",
    "        conexao.close()\n",
    "\n",
    "# ID do funcionário e novo salário\n",
    "id_funcionario = 10\n",
    "novo_salario = 2500.0\n",
    "\n",
    "# Chamando a função para atualizar o salário\n",
    "atualizar_salario(id_funcionario, novo_salario)\n"
   ]
  },
  {
   "cell_type": "code",
   "execution_count": 9,
   "metadata": {},
   "outputs": [
    {
     "name": "stdout",
     "output_type": "stream",
     "text": [
      "ID: 7\n",
      "Nome: Lucas\n",
      "Cargo: Estagiário\n",
      "Salário: 1545.0\n"
     ]
    }
   ],
   "source": [
    "# Vamos buscar um funcionario pelo ID\n",
    "\n",
    "def id_funcionario(id_funcionario):\n",
    "\n",
    "    try:\n",
    "        local_para_salvar = './db/empresa.db'   \n",
    "        conn = sqlite3.connect(local_para_salvar)\n",
    "        cursor = conn.cursor()\n",
    "\n",
    "        cursor.execute('''\n",
    "        SELECT id, nome, cargo, salario\n",
    "        FROM funcionarios\n",
    "        WHERE id = ?\n",
    "        ''', (id_funcionario,))\n",
    "        funcionario = cursor.fetchone()\n",
    "        if funcionario is None:\n",
    "            raise ValueError(f'Funcionário com id {id_funcionario} não encontrado.')\n",
    "        print(f'ID: {funcionario[0]}')\n",
    "        print(f'Nome: {funcionario[1]}')\n",
    "        print(f'Cargo: {funcionario[2]}')\n",
    "        print(f'Salário: {funcionario[3]}')\n",
    "    except ValueError as ve:\n",
    "        print(ve)\n",
    "    except sqlite3.Error as e:\n",
    "        print(f'Erro ao acessar o banco de dados: {e}')\n",
    "    finally:\n",
    "        cursor.close()\n",
    "        conexao.close()\n",
    "\n",
    "# ID do funcionário que você deseja buscar\n",
    "id_funcionario(7)  # Substitua pelo ID correto do funcionário"
   ]
  },
  {
   "cell_type": "code",
   "execution_count": 7,
   "metadata": {},
   "outputs": [
    {
     "name": "stdout",
     "output_type": "stream",
     "text": [
      "Distribuição de salários por cargo:\n",
      "Cargo: Analista\n",
      "Quantidade de funcionários: 1\n",
      "Média salarial: 4532.0\n",
      "\n",
      "Cargo: Contador\n",
      "Quantidade de funcionários: 1\n",
      "Média salarial: 3914.0\n",
      "\n",
      "Cargo: Desenvolvedor\n",
      "Quantidade de funcionários: 1\n",
      "Média salarial: 5098.5\n",
      "\n",
      "Cargo: Desenvolvedor Python\n",
      "Quantidade de funcionários: 2\n",
      "Média salarial: 30610.0\n",
      "\n",
      "Cargo: Diretora\n",
      "Quantidade de funcionários: 1\n",
      "Média salarial: 7210.0\n",
      "\n",
      "Cargo: Estagiário\n",
      "Quantidade de funcionários: 1\n",
      "Média salarial: 1545.0\n",
      "\n",
      "Cargo: Gerente\n",
      "Quantidade de funcionários: 1\n",
      "Média salarial: 5665.000000000001\n",
      "\n",
      "Cargo: Recepcionista\n",
      "Quantidade de funcionários: 1\n",
      "Média salarial: 2500.0\n",
      "\n",
      "Cargo: Secretária\n",
      "Quantidade de funcionários: 1\n",
      "Média salarial: 2575.0\n",
      "\n",
      "Cargo: Vendedor\n",
      "Quantidade de funcionários: 1\n",
      "Média salarial: 3090.0\n",
      "\n"
     ]
    }
   ],
   "source": [
    "import sqlite3\n",
    "\n",
    "conexao = sqlite3.connect('./db/empresa.db')\n",
    "cursor = conexao.cursor()\n",
    "\n",
    "try:\n",
    "    cursor.execute(''' \n",
    "    SELECT cargo, COUNT(*) AS quantidade_funcionarios, AVG(salario) AS media_salario\n",
    "    FROM funcionarios\n",
    "    GROUP BY cargo\n",
    "    ORDER BY cargo\n",
    "    ''')\n",
    "    distribuicao_salarios = cursor.fetchall()\n",
    "    print(\"Distribuição de salários por cargo:\")\n",
    "\n",
    "    for distribuicao in distribuicao_salarios:\n",
    "        print(f\"Cargo: {distribuicao[0]}\")\n",
    "        print(f\"Quantidade de funcionários: {distribuicao[1]}\")\n",
    "        print(f\"Média salarial: {distribuicao[2]}\")\n",
    "        print()\n",
    "except sqlite3.Error as e:\n",
    "    print(f\"Erro ao acessar o banco de dados: {e}\")\n",
    "finally:\n",
    "    cursor.close()\n",
    "    conexao.close()\n",
    "\n",
    "\n"
   ]
  },
  {
   "cell_type": "code",
   "execution_count": 15,
   "metadata": {},
   "outputs": [
    {
     "name": "stdout",
     "output_type": "stream",
     "text": [
      "Salário atualizado com sucesso.\n"
     ]
    }
   ],
   "source": [
    "## Função para atualizar o salário de um funcionário\n",
    "import sqlite3\n",
    "# Conectando ao banco de dados (ou criando um novo)\n",
    "conexao = sqlite3.connect('./db/empresa.db')\n",
    "cursor = conexao.cursor()\n",
    "\n",
    "def atualizar_salario(id_funcionario, novo_salario):\n",
    "    try:\n",
    "        # Atualizando o salário do funcionário\n",
    "        cursor.execute('''\n",
    "        UPDATE funcionarios\n",
    "        SET salario = ?\n",
    "        WHERE id = ?\n",
    "        ''', (novo_salario, id_funcionario))\n",
    "        conexao.commit()\n",
    "        print('Salário atualizado com sucesso.')\n",
    "    except sqlite3.Error as e:\n",
    "        print(f'Erro ao atualizar salário: {e}')\n",
    "    finally:\n",
    "        cursor.close()\n",
    "        conexao.close()\n",
    "\n",
    "# ID do funcionário e novo salário\n",
    "id_funcionario = 1\n",
    "novo_salario = 5565.0\n",
    "\n",
    "# Chamando a função para atualizar o salário\n",
    "atualizar_salario(id_funcionario, novo_salario)\n"
   ]
  },
  {
   "cell_type": "code",
   "execution_count": 32,
   "metadata": {},
   "outputs": [
    {
     "data": {
      "text/plain": [
       "' import os\\n\\n# Caminho para o arquivo do banco de dados\\ncaminho_banco_dados = \\'./db/empresa.db\\'\\n\\n\\n# Fechar a conexão com o banco de dados se estiver aberta\\ntry:\\n    if conexao:\\n        conexao.close()\\nexcept NameError:\\n    pass\\n\\n# Verificar se o arquivo do banco de dados existe\\nif os.path.exists(caminho_banco_dados):\\n    # Remover o arquivo do banco de dados\\n    os.remove(caminho_banco_dados)\\n    print(f\"Base de dados \\'{caminho_banco_dados}\\' removida com sucesso.\")\\nelse:\\n    print(f\"Base de dados \\'{caminho_banco_dados}\\' não encontrada.\") '"
      ]
     },
     "execution_count": 32,
     "metadata": {},
     "output_type": "execute_result"
    }
   ],
   "source": [
    "\"\"\" import os\n",
    "\n",
    "# Caminho para o arquivo do banco de dados\n",
    "caminho_banco_dados = './db/empresa.db'\n",
    "\n",
    "\n",
    "# Fechar a conexão com o banco de dados se estiver aberta\n",
    "try:\n",
    "    if conexao:\n",
    "        conexao.close()\n",
    "except NameError:\n",
    "    pass\n",
    "\n",
    "# Verificar se o arquivo do banco de dados existe\n",
    "if os.path.exists(caminho_banco_dados):\n",
    "    # Remover o arquivo do banco de dados\n",
    "    os.remove(caminho_banco_dados)\n",
    "    print(f\"Base de dados '{caminho_banco_dados}' removida com sucesso.\")\n",
    "else:\n",
    "    print(f\"Base de dados '{caminho_banco_dados}' não encontrada.\") \"\"\""
   ]
  },
  {
   "cell_type": "markdown",
   "metadata": {},
   "source": [
    "# Exercício 2"
   ]
  },
  {
   "cell_type": "markdown",
   "metadata": {},
   "source": [
    "#### Criação\n",
    "\n",
    "* Sobre a base de dados \"__empresa.db__\" e a tabela \"__Funcionarios__\", criadas anteriormente, resolva o desafio a seguir:\n",
    "\n",
    "\n",
    "* A empresa deseja melhorar a sua estrutura salarial, e para isso precisa de um relatório que forneça insights sobre a distribuição de salários e cargos dentro da organização. Portanto, deve resolver:\n",
    "    * Descobrir possíveis disparidades salariais entre os funcionários de diferentes cargos.\n",
    "    * Identificar os cargos com os maiores e menores salários médios.\n",
    "    * Determinar quantos funcionários existem por cargo e entender a distribuição salarial em cada cargo.\n",
    "    * Fornecer um relatório geral que possa ajudar a diretoria a ajustar os salários para garantir mais equidade e competitividade no mercado.\n",
    " \n"
   ]
  },
  {
   "cell_type": "code",
   "execution_count": 16,
   "metadata": {},
   "outputs": [
    {
     "name": "stdout",
     "output_type": "stream",
     "text": [
      "Funcionarios Separados por Setores:\n",
      "Cargo: Desenvolvedor Python\n",
      "Quantidade de Funcionarios: 2\n",
      "AVG salarial: 5582.5\n",
      "\n",
      "Cargo: Vendedor\n",
      "Quantidade de Funcionarios: 1\n",
      "AVG salarial: 3090.0\n",
      "\n",
      "Cargo: Secretária\n",
      "Quantidade de Funcionarios: 1\n",
      "AVG salarial: 2575.0\n",
      "\n",
      "Cargo: Recepcionista\n",
      "Quantidade de Funcionarios: 1\n",
      "AVG salarial: 2500.0\n",
      "\n",
      "Cargo: Gerente\n",
      "Quantidade de Funcionarios: 1\n",
      "AVG salarial: 5565.0\n",
      "\n",
      "Cargo: Estagiário\n",
      "Quantidade de Funcionarios: 1\n",
      "AVG salarial: 1545.0\n",
      "\n",
      "Cargo: Diretora\n",
      "Quantidade de Funcionarios: 1\n",
      "AVG salarial: 7210.0\n",
      "\n",
      "Cargo: Desenvolvedor\n",
      "Quantidade de Funcionarios: 1\n",
      "AVG salarial: 5098.5\n",
      "\n",
      "Cargo: Contador\n",
      "Quantidade de Funcionarios: 1\n",
      "AVG salarial: 3914.0\n",
      "\n",
      "Cargo: Analista\n",
      "Quantidade de Funcionarios: 1\n",
      "AVG salarial: 4532.0\n",
      "\n"
     ]
    }
   ],
   "source": [
    "# Fazer o exercício aqui\n",
    "import sqlite3\n",
    "\n",
    "conexao = sqlite3.connect('./db/empresa.db')\n",
    "cursor = conexao.cursor()\n",
    "\n",
    "try:\n",
    "    cursor.execute(''' \n",
    "    SELECT cargo, COUNT(*) AS quantidade_funcionarios, AVG(salario) AS media_salario\n",
    "    FROM funcionarios\n",
    "    GROUP BY cargo\n",
    "    ORDER BY quantidade_funcionarios DESC\n",
    "    ''')\n",
    "    funcionario_por_setores = cursor.fetchall()\n",
    "    print(f\"Funcionarios Separados por Setores:\")\n",
    "    for funcionario in funcionario_por_setores:\n",
    "        print(f\"Cargo: {funcionario[0]}\")\n",
    "        print(f\"Quantidade de Funcionarios: {funcionario[1]}\")\n",
    "        print(f\"AVG salarial: {funcionario[2]}\")\n",
    "        print()\n",
    "except sqlite3.Error as e:\n",
    "    print(f\"Erro ao acessar o banco de dados: {e}\")\n",
    "finally:\n",
    "    cursor.close()\n",
    "    conexao.close()"
   ]
  },
  {
   "cell_type": "markdown",
   "metadata": {},
   "source": [
    "# Exercício 3"
   ]
  },
  {
   "cell_type": "markdown",
   "metadata": {},
   "source": [
    "#### Criação\n",
    "\n",
    "* Utilizando a base de dados \"__empresa.db__\", crie uma nova tabela chamada \"__Projetos__\" para armazenar os projetos que os funcionários estão alocados:\n",
    "    * id_projeto: INTEGER, chave primária (PRIMARY KEY).\n",
    "    * nome_projeto: TEXT, nome do projeto.\n",
    "    * funcionario_id: INTEGER, chave estrangeira (FOREIGN KEY) que referencia o id da tabela \"__Funcionarios__\".\n",
    "* Insira 5 registos na tabela \"__Projetos__\" relacionando funcionários a projetos.\n",
    "* Faça uma consulta SQL que mostre os nomes dos funcionários e os nomes dos projetos em que eles estão alocados, usando uma junção (JOIN).\n"
   ]
  },
  {
   "cell_type": "code",
   "execution_count": 34,
   "metadata": {},
   "outputs": [],
   "source": [
    "# Fazer o exercício aqui"
   ]
  }
 ],
 "metadata": {
  "anaconda-cloud": {},
  "kernelspec": {
   "display_name": "Python 3",
   "language": "python",
   "name": "python3"
  },
  "language_info": {
   "codemirror_mode": {
    "name": "ipython",
    "version": 3
   },
   "file_extension": ".py",
   "mimetype": "text/x-python",
   "name": "python",
   "nbconvert_exporter": "python",
   "pygments_lexer": "ipython3",
   "version": "3.12.8"
  }
 },
 "nbformat": 4,
 "nbformat_minor": 4
}

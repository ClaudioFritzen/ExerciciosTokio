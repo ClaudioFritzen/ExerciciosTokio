{
 "cells": [
  {
   "cell_type": "markdown",
   "metadata": {},
   "source": [
    "#### Exercícios Módulo 5. Unidade 4. BAse de dados\n",
    "\n",
    "Considerações a ter em conta:\n",
    "\n",
    "* Guardar este documento com o seguinte formato para entrega: __M5_04_nome_apelido1_apelido2__\n",
    "* Utilizar o Software: Anaconda – Jupyter.\n",
    "* Comentar o código\n",
    "* Utilizar nomes de variáveis apropriados, se vai guardar uma nota, chamar a essa variável nota, não n ou x"
   ]
  },
  {
   "cell_type": "markdown",
   "metadata": {},
   "source": [
    "# Exercício 1"
   ]
  },
  {
   "cell_type": "markdown",
   "metadata": {},
   "source": [
    "#### Criação\n",
    "\n",
    "* Criar uma base de dados que se chame \"__empresa.db__\" por meio do módulo sqlite3 em Python.\n",
    "* Dentro dessa base de dados, crie uma tabela chamada \"__Funcionarios__\" com as estrutura a seguir:\n",
    "    * id: INTEGER, chave primária (PRIMARY KEY).\n",
    "    * nome: TEXT, nome do funcionário.\n",
    "    * cargo: TEXT, cargo do funcionário.\n",
    "    * salario: REAL, salário do funcionário.\n",
    "* Insira pelo menos __10__ registos diferentes na tabela \"__Funcionarios__\".\n",
    "* Atualize o salário de todos os 3 primeiros funcionários para um valor de 10%.\n",
    "* Remova o registo do funcionário com o id = 4.\n",
    "* Por fim, selecione e exiba todos os funcionários restantes na tabela, ordenados pelo salário.acteres)."
   ]
  },
  {
   "cell_type": "code",
   "execution_count": 19,
   "metadata": {},
   "outputs": [],
   "source": [
    "import sqlite3\n",
    "\n",
    "# Conectando ao banco de dados (ou criando um novo)\n",
    "conexao = sqlite3.connect('./db/empresa.db')\n",
    "cursor = conexao.cursor()"
   ]
  },
  {
   "cell_type": "code",
   "execution_count": 15,
   "metadata": {},
   "outputs": [
    {
     "data": {
      "text/plain": [
       "<sqlite3.Cursor at 0x1b980255640>"
      ]
     },
     "execution_count": 15,
     "metadata": {},
     "output_type": "execute_result"
    }
   ],
   "source": [
    "## Criando a tabela funcionarios \n",
    "cursor.execute('''\n",
    "CREATE TABLE IF NOT EXISTS funcionarios (\n",
    "               id INTEGER PRIMARY KEY AUTOINCREMENT,\n",
    "               nome TEXT NOT NULL,\n",
    "               cargo TEXT NOT NULL,\n",
    "               salario REAL NOT NULL\n",
    "               )\n",
    "''')"
   ]
  },
  {
   "cell_type": "code",
   "execution_count": 16,
   "metadata": {},
   "outputs": [],
   "source": [
    "### vamos criar os funcionarios com diferentes cargos e salarios\n",
    "funcionarios = [\n",
    "    (\"João\", \"Gerente\", 5000.00),\n",
    "    (\"Maria\", \"Analista\", 4000.00),\n",
    "    (\"Pedro\", \"Desenvolvedor\", 4500.00),\n",
    "    (\"Ana\", \"Designer\", 3500.00),\n",
    "    (\"Carlos\", \"Vendedor\", 3000.00),\n",
    "    (\"Paula\", \"Secretária\", 2500.00),\n",
    "    (\"Lucas\", \"Estagiário\", 1500.00),\n",
    "    (\"Fernanda\", \"Diretora\", 7000.00),\n",
    "    (\"Ricardo\", \"Contador\", 3800.00),\n",
    "    (\"Juliana\", \"Recepcionista\", 2200.00)\n",
    "]\n",
    "\n"
   ]
  },
  {
   "cell_type": "code",
   "execution_count": 17,
   "metadata": {},
   "outputs": [
    {
     "data": {
      "text/plain": [
       "<sqlite3.Cursor at 0x1b980255640>"
      ]
     },
     "execution_count": 17,
     "metadata": {},
     "output_type": "execute_result"
    }
   ],
   "source": [
    "## agora vamos salvar os funcionarios na tabela\n",
    "cursor.executemany('''\n",
    "INSERT INTO funcionarios (nome, cargo, salario)\n",
    "VALUES (?,?,?)\n",
    "''', funcionarios)\n",
    "\n"
   ]
  },
  {
   "cell_type": "code",
   "execution_count": 18,
   "metadata": {},
   "outputs": [],
   "source": [
    "## agora confirmamos com o commit \n",
    "\n",
    "conexao.commit()\n",
    "### Fechando tudo !\n",
    "cursor.close()\n",
    "conexao.close()"
   ]
  },
  {
   "cell_type": "code",
   "execution_count": 20,
   "metadata": {},
   "outputs": [],
   "source": [
    "\n",
    "# Conectando ao banco de dados (ou criando um novo)\n",
    "conexao = sqlite3.connect('./db/empresa.db')\n",
    "cursor = conexao.cursor()"
   ]
  },
  {
   "cell_type": "code",
   "execution_count": 22,
   "metadata": {},
   "outputs": [],
   "source": [
    "# adicioando apenas um funcionario novo\n",
    "\n",
    "## Vou colocar com um valor e depois fazer uma alteração\n",
    "novo_funcionario = [\n",
    "    \"Claudio\", \"Desenvolvedor Python\", 50000\n",
    "]\n",
    "\n",
    "#### para um apenas,\n",
    "cursor.execute(''' \n",
    "INSERT INTO funcionarios (nome, cargo, salario)\n",
    "VALUES (?,?,?)\n",
    "''', novo_funcionario)\n",
    "\n",
    "# Confirmando as alterações na tabela\n",
    "conexao.commit()\n",
    "\n",
    "# Fechando a conexão\n",
    "cursor.close()\n",
    "conexao.close()"
   ]
  },
  {
   "cell_type": "code",
   "execution_count": 24,
   "metadata": {},
   "outputs": [
    {
     "name": "stdout",
     "output_type": "stream",
     "text": [
      "Salário do funcionário Claudio atualizado para 5500\n"
     ]
    }
   ],
   "source": [
    "#### Funcão de Atualizar um funcionario\n",
    "\n",
    "import sqlite3\n",
    "\n",
    "# Conectando ao banco de dados (ou criando um novo)\n",
    "conexao = sqlite3.connect('./db/empresa.db')\n",
    "cursor = conexao.cursor()\n",
    "\n",
    "## Pegando o funcionario para fazer a alteração\n",
    "ajuste_salarial = 5500\n",
    "nome_funcioanario = \"Claudio\"\n",
    "\n",
    "cursor.execute('''\n",
    "UPDATE funcionarios\n",
    "SET salario = ?\n",
    "WHERE nome = ?\n",
    "''', (ajuste_salarial, nome_funcioanario))\n",
    "\n",
    "# Confirmando as alterações na tabela\n",
    "conexao.commit()\n",
    "\n",
    "# Fechando a conexão\n",
    "cursor.close()\n",
    "conexao.close()\n",
    "\n",
    "print(f\"Salário do funcionário {nome_funcioanario} atualizado para {ajuste_salarial}\")"
   ]
  },
  {
   "cell_type": "code",
   "execution_count": 27,
   "metadata": {},
   "outputs": [
    {
     "name": "stdout",
     "output_type": "stream",
     "text": [
      "Salário de todos os funcionários atualizado com um aumento de 3%\n"
     ]
    }
   ],
   "source": [
    "### Dando aumento a todos de 3%\n",
    "\n",
    "import sqlite3\n",
    "\n",
    "# Conectando ao banco de dados (ou criando um novo)\n",
    "conexao = sqlite3.connect('./db/empresa.db')\n",
    "cursor = conexao.cursor()\n",
    "\n",
    "# Atualizando o salário de todos os funcionários com um aumento de 3%\n",
    "cursor.execute('''\n",
    "UPDATE funcionarios\n",
    "SET salario = salario * 1.03\n",
    "''')\n",
    "\n",
    "\n",
    "# Confirmando as alterações na tabela\n",
    "conexao.commit()\n",
    "\n",
    "# Fechando a conexão\n",
    "cursor.close()\n",
    "conexao.close()\n",
    "\n",
    "print(\"Salário de todos os funcionários atualizado com um aumento de 3%\")\n",
    "\n"
   ]
  },
  {
   "cell_type": "code",
   "execution_count": 37,
   "metadata": {},
   "outputs": [
    {
     "name": "stdout",
     "output_type": "stream",
     "text": [
      "Funcionário com id 17 não encontrado.\n"
     ]
    }
   ],
   "source": [
    "import sqlite3\n",
    "\n",
    "# Conectando ao banco de dados (ou criando um novo)\n",
    "conexao = sqlite3.connect('example.db')\n",
    "cursor = conexao.cursor()\n",
    "\n",
    "# ID do funcionário que você deseja buscar\n",
    "id_funcionario = 17  # Substitua pelo ID correto do funcionário\n",
    "\n",
    "try:\n",
    "    # Buscando o funcionário específico pelo ID\n",
    "    cursor.execute('''\n",
    "    SELECT id, nome, cargo, salario\n",
    "    FROM funcionarios\n",
    "    WHERE id = ?\n",
    "    ''', (id_funcionario,))\n",
    "    \n",
    "    funcionario = cursor.fetchone()\n",
    "    \n",
    "    if funcionario is None:\n",
    "        raise ValueError(f\"Funcionário com id {id_funcionario} não encontrado.\")\n",
    "    \n",
    "    # Exibindo as informações do funcionário\n",
    "    print(f\"ID: {funcionario[0]}\")\n",
    "    print(f\"Nome: {funcionario[1]}\")\n",
    "    print(f\"Cargo: {funcionario[2]}\")\n",
    "    print(f\"Salário: {funcionario[3]}\")\n",
    "\n",
    "except ValueError as ve:\n",
    "    print(ve)\n",
    "except sqlite3.Error as e:\n",
    "    print(f\"Erro ao acessar o banco de dados: {e}\")\n",
    "finally:\n",
    "    # Fechando a conexão\n",
    "    cursor.close()\n",
    "    conexao.close()"
   ]
  },
  {
   "cell_type": "markdown",
   "metadata": {},
   "source": [
    "# Exercício 2"
   ]
  },
  {
   "cell_type": "markdown",
   "metadata": {},
   "source": [
    "#### Criação\n",
    "\n",
    "* Sobre a base de dados \"__empresa.db__\" e a tabela \"__Funcionarios__\", criadas anteriormente, resolva o desafio a seguir:\n",
    "\n",
    "\n",
    "* A empresa deseja melhorar a sua estrutura salarial, e para isso precisa de um relatório que forneça insights sobre a distribuição de salários e cargos dentro da organização. Portanto, deve resolver:\n",
    "    * Descobrir possíveis disparidades salariais entre os funcionários de diferentes cargos.\n",
    "    * Identificar os cargos com os maiores e menores salários médios.\n",
    "    * Determinar quantos funcionários existem por cargo e entender a distribuição salarial em cada cargo.\n",
    "    * Fornecer um relatório geral que possa ajudar a diretoria a ajustar os salários para garantir mais equidade e competitividade no mercado.\n",
    " \n"
   ]
  },
  {
   "cell_type": "code",
   "execution_count": null,
   "metadata": {},
   "outputs": [],
   "source": [
    "# Fazer o exercício aqui"
   ]
  },
  {
   "cell_type": "markdown",
   "metadata": {},
   "source": [
    "# Exercício 3"
   ]
  },
  {
   "cell_type": "markdown",
   "metadata": {},
   "source": [
    "#### Criação\n",
    "\n",
    "* Utilizando a base de dados \"__empresa.db__\", crie uma nova tabela chamada \"__Projetos__\" para armazenar os projetos que os funcionários estão alocados:\n",
    "    * id_projeto: INTEGER, chave primária (PRIMARY KEY).\n",
    "    * nome_projeto: TEXT, nome do projeto.\n",
    "    * funcionario_id: INTEGER, chave estrangeira (FOREIGN KEY) que referencia o id da tabela \"__Funcionarios__\".\n",
    "* Insira 5 registos na tabela \"__Projetos__\" relacionando funcionários a projetos.\n",
    "* Faça uma consulta SQL que mostre os nomes dos funcionários e os nomes dos projetos em que eles estão alocados, usando uma junção (JOIN).\n"
   ]
  },
  {
   "cell_type": "code",
   "execution_count": null,
   "metadata": {},
   "outputs": [],
   "source": [
    "# Fazer o exercício aqui"
   ]
  }
 ],
 "metadata": {
  "anaconda-cloud": {},
  "kernelspec": {
   "display_name": "Python 3",
   "language": "python",
   "name": "python3"
  },
  "language_info": {
   "codemirror_mode": {
    "name": "ipython",
    "version": 3
   },
   "file_extension": ".py",
   "mimetype": "text/x-python",
   "name": "python",
   "nbconvert_exporter": "python",
   "pygments_lexer": "ipython3",
   "version": "3.12.8"
  }
 },
 "nbformat": 4,
 "nbformat_minor": 4
}

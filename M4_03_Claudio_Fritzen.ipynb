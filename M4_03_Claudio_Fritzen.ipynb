{
 "cells": [
  {
   "cell_type": "markdown",
   "metadata": {},
   "source": [
    "#### Crie uma classe DivisaoPorZeroHandler\n",
    "no construtor init, receca dois paramentros: numerador e denominador e armazene-os como abributos da classe\n",
    "##### Crie um método calcular que:\n",
    "    tente executar a divisão resultado = numerador / denominador.   \n",
    "    Capture a excecão ZeroDivisionError.\n",
    "\n",
    "    imprima uma mensagem ao utilizador explicando a causa do erro e como evitá-lo.\n",
    "\n",
    "\n",
    "##### Crie 2 objetos da classe DivisaoPorZeroHandler passando valores para numerador e denominador\n",
    "\n",
    "no segundo objeto passe como denominador o valor de 0\n",
    "\n",
    "##### Chame o método calcular para executar a divisão e capturar a exceção."
   ]
  },
  {
   "cell_type": "markdown",
   "metadata": {},
   "source": []
  },
  {
   "cell_type": "markdown",
   "metadata": {},
   "source": [
    "#### 2 \n",
    "\n",
    "#### Crie uma classe IndiceForaDosLimitesHandler.\n",
    "    no construtor init, receba uma lista e armazene-a como um atributo da classe\n",
    "\n",
    "#### Crie um método aceder_elemento que \n",
    "    receba um índice como parâmetro.\n",
    "\n",
    "    tente acessar o elemento da lista no índice fornecido\n",
    "\n",
    "    capture a exceção InderError.\n",
    "\n",
    "    Imprima uma mensagem ao utilizador explicando a causa do erro e como evitá-lo.\n",
    "\n",
    "#### Crie um objeto da classe IndiceForaDosLimitesHandler passando uma lista.\n",
    "\n",
    "#### Chame o método aceder_elemento passando um índice válido para acessar o elemento\n",
    "\n",
    "#### Chame o método aceder_elemento passando um índice inválido para gerar uma exceção e capturá-la"
   ]
  },
  {
   "cell_type": "markdown",
   "metadata": {},
   "source": []
  },
  {
   "cell_type": "markdown",
   "metadata": {},
   "source": [
    "#### 3 Exercicio\n",
    "\n",
    "##### Crie uma classe GerenciadorLista.\n",
    "    no construtor (init), inicialize uma lista vazia ou receva uma lista como argumento.\n",
    "\n",
    "##### Crie um método adicionar_elemento que:\n",
    "    receba um elemento como parâmetro.\n",
    "    verifique se o elemento já está presente na lista utilizando a sintaxe \"elemento in lista\".\n",
    "    se o elemento não estiver presente, adicione-o ao final da lista.\n",
    "\n",
    "    se o elemento já estiver presente, lance um erro do tipo ValueError com a mensagem: \"Erro: Impossível adicionar elementos duplicados => [elemento]\n",
    "\n",
    "\n",
    "##### Crie um objeto da classe GerenciadorLista com um lista inicial.\n",
    "\n",
    "##### Chame o método adicionar_elemento para adicionar os elementos 10, -2 e \"ola\" à lista.\n",
    "\n",
    "##### Mostre o conteúdo da lista após cada adição.\n",
    "\n",
    "##### Deve implementar try except para capturar o erro e imprimir a mensagem de erro."
   ]
  }
 ],
 "metadata": {
  "language_info": {
   "name": "python"
  }
 },
 "nbformat": 4,
 "nbformat_minor": 2
}

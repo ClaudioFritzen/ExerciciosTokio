{
 "cells": [
  {
   "cell_type": "markdown",
   "metadata": {},
   "source": [
    "#### Crie uma classe DivisaoPorZeroHandler\n",
    "no construtor init, receca dois paramentros: numerador e denominador e armazene-os como abributos da classe\n",
    "##### Crie um método calcular que:\n",
    "    tente executar a divisão resultado = numerador / denominador.   \n",
    "    Capture a excecão ZeroDivisionError.\n",
    "\n",
    "    imprima uma mensagem ao utilizador explicando a causa do erro e como evitá-lo.\n",
    "\n",
    "\n",
    "##### Crie 2 objetos da classe DivisaoPorZeroHandler passando valores para numerador e denominador\n",
    "\n",
    "no segundo objeto passe como denominador o valor de 0\n",
    "\n",
    "##### Chame o método calcular para executar a divisão e capturar a exceção."
   ]
  },
  {
   "cell_type": "code",
   "execution_count": 23,
   "metadata": {},
   "outputs": [
    {
     "name": "stdout",
     "output_type": "stream",
     "text": [
      "Resultado: => -5.0\n",
      "Erro!! Esse erro aconteceu porque você tentou dividir algo por zero. E isso não existe!\n"
     ]
    }
   ],
   "source": [
    "class DivisaoPorZeroHandler:\n",
    "    def __init__(self, numerador, denominador):\n",
    "        self.numerador = numerador\n",
    "        self.denominador = denominador\n",
    "    \n",
    "    def calcular(self):\n",
    "        try:\n",
    "            \n",
    "            resultado = self.numerador / self.denominador\n",
    "            print(f\"Resultado: => {resultado}\")\n",
    "            \n",
    "        except ZeroDivisionError:\n",
    "            print(f\"Erro!! Esse erro aconteceu porque você tentou dividir algo por zero. E isso não existe!\")\n",
    "\n",
    "teste1 = DivisaoPorZeroHandler(20,-4)\n",
    "teste1.calcular()\n",
    "\n",
    "# forçando o erro\n",
    "teste2 = DivisaoPorZeroHandler(20,0)\n",
    "teste2.calcular()"
   ]
  },
  {
   "cell_type": "code",
   "execution_count": null,
   "metadata": {},
   "outputs": [],
   "source": []
  },
  {
   "cell_type": "markdown",
   "metadata": {},
   "source": [
    "#### 2 \n",
    "\n",
    "#### Crie uma classe IndiceForaDosLimitesHandler.\n",
    "    no construtor init, receba uma lista e armazene-a como um atributo da classe\n",
    "\n",
    "#### Crie um método aceder_elemento que \n",
    "    receba um índice como parâmetro.\n",
    "\n",
    "    tente acessar o elemento da lista no índice fornecido\n",
    "\n",
    "    capture a exceção InderError.\n",
    "\n",
    "    Imprima uma mensagem ao utilizador explicando a causa do erro e como evitá-lo.\n",
    "\n",
    "#### Crie um objeto da classe IndiceForaDosLimitesHandler passando uma lista.\n",
    "\n",
    "#### Chame o método aceder_elemento passando um índice válido para acessar o elemento\n",
    "\n",
    "#### Chame o método aceder_elemento passando um índice inválido para gerar uma exceção e capturá-la"
   ]
  },
  {
   "cell_type": "code",
   "execution_count": 24,
   "metadata": {},
   "outputs": [
    {
     "name": "stdout",
     "output_type": "stream",
     "text": [
      "Você procurou por indice [1] e encontrou esse item => [Eu]\n",
      "<class 'IndexError'>  Você está tentando acessar um indice inexistente\n"
     ]
    }
   ],
   "source": [
    "class IndiceForaDosLimitesHandler:\n",
    "    def __init__(self, lista):\n",
    "        self.lista = lista\n",
    "    \n",
    "    def aceder_elemento(self, indice):\n",
    "        try:\n",
    "            procura_item = self.lista[indice]\n",
    "            print(f\"Você procurou por indice [{indice}] e encontrou esse item => [{procura_item}]\")\n",
    "        except IndexError:\n",
    "            print(IndexError, f\" Você está tentando acessar um indice inexistente\")\n",
    "lista1 = IndiceForaDosLimitesHandler([1204, \"Eu\", 4778, \"hoje\"])\n",
    "lista1.aceder_elemento(1)\n",
    "lista1.aceder_elemento(6)"
   ]
  },
  {
   "cell_type": "markdown",
   "metadata": {},
   "source": [
    "#### 3 Exercicio\n",
    "\n",
    "##### Crie uma classe GerenciadorLista.\n",
    "    no construtor (init), inicialize uma lista vazia ou receva uma lista como argumento.\n",
    "\n",
    "##### Crie um método adicionar_elemento que:\n",
    "    receba um elemento como parâmetro.\n",
    "    verifique se o elemento já está presente na lista utilizando a sintaxe \"elemento in lista\".\n",
    "    se o elemento não estiver presente, adicione-o ao final da lista.\n",
    "\n",
    "    se o elemento já estiver presente, lance um erro do tipo ValueError com a mensagem: \"Erro: Impossível adicionar elementos duplicados => [elemento]\n",
    "\n",
    "\n",
    "##### Crie um objeto da classe GerenciadorLista com um lista inicial.\n",
    "\n",
    "##### Chame o método adicionar_elemento para adicionar os elementos 10, -2 e \"ola\" à lista.\n",
    "\n",
    "##### Mostre o conteúdo da lista após cada adição.\n",
    "\n",
    "##### Deve implementar try except para capturar o erro e imprimir a mensagem de erro."
   ]
  },
  {
   "cell_type": "code",
   "execution_count": null,
   "metadata": {},
   "outputs": [
    {
     "name": "stdout",
     "output_type": "stream",
     "text": [
      "Item => [Olá mundo!] adicionado a lista [20, 10, 80, 'Eu', 'Olá mundo!']\n",
      "<class 'ValueError'> Item já está na lista!\n",
      "Item => [[10, -2, 'ola']] adicionado a lista [20, 10, 80, 'Eu', 'Olá mundo!', [10, -2, 'ola']]\n"
     ]
    }
   ],
   "source": [
    "class GerencidorLista:\n",
    "    def __init__(self,lista):\n",
    "        self.lista = lista\n",
    "\n",
    "    def adicionar_elemento(self, item):\n",
    "        try:\n",
    "            novo_item = item in self.lista\n",
    "            if novo_item == False:\n",
    "                self.lista.append(item)\n",
    "                print(f\"Item => [{item}] adicionado a lista {self.lista}\")\n",
    "            else:\n",
    "                raise (ValueError)\n",
    "                \n",
    "        except ValueError:\n",
    "            print(ValueError, f\"Item já está na lista!\")\n",
    "\n",
    "\n",
    "teste1 = GerencidorLista([20,10,80,\"Eu\"])\n",
    "teste1.adicionar_elemento(\"Olá mundo!\")\n",
    "teste1.adicionar_elemento(\"Olá mundo!\")\n",
    "teste1.adicionar_elemento(10)\n",
    "teste1.adicionar_elemento(-2)\n",
    "teste1.adicionar_elemento(\"ola\")\n",
    "\n",
    "\n",
    "## passando uma sublista, é aceita\n",
    "teste1.adicionar_elemento([ 10, -2 , \"ola\"])"
   ]
  },
  {
   "cell_type": "code",
   "execution_count": null,
   "metadata": {},
   "outputs": [],
   "source": []
  }
 ],
 "metadata": {
  "kernelspec": {
   "display_name": "Python 3",
   "language": "python",
   "name": "python3"
  },
  "language_info": {
   "codemirror_mode": {
    "name": "ipython",
    "version": 3
   },
   "file_extension": ".py",
   "mimetype": "text/x-python",
   "name": "python",
   "nbconvert_exporter": "python",
   "pygments_lexer": "ipython3",
   "version": "3.12.7"
  }
 },
 "nbformat": 4,
 "nbformat_minor": 2
}

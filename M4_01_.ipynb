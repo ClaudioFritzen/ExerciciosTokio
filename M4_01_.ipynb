{
 "cells": [
  {
   "cell_type": "markdown",
   "metadata": {},
   "source": [
    "# Herança Múltipla\n",
    "\n",
    "## Definimos a ' herança múltipla ' como a capacidade de uma subclass herdar, de múltiplas superclasses.\n",
    "\n",
    "O que leva a um problema; se várias superclasses tiverem os mesmos atributos ou métodos, a subclasse apenas poderá herdar de uma delas. Nestes casos, o Python dará prioridades às classes mais à esquerda, no momento de declarar a subclasse:"
   ]
  },
  {
   "cell_type": "code",
   "execution_count": 32,
   "metadata": {},
   "outputs": [
    {
     "name": "stdout",
     "output_type": "stream",
     "text": [
      "Eu sou da classe A\n",
      "Exemplo de uso\n",
      "Este método é de C\n",
      "Este metodo herdou de A\n",
      "Este metodo herdou de B\n"
     ]
    }
   ],
   "source": [
    "class A: \n",
    "    def __init__(self):\n",
    "        print(f\"Eu sou da classe A\")\n",
    "    \n",
    "    def a (self):\n",
    "        print(f\"Este metodo herdou de A\")\n",
    "\n",
    "class B:\n",
    "    def __init__(self):\n",
    "        print(f\"Sou da classe B\")\n",
    "    \n",
    "    def b(self):\n",
    "        print(f\"Este metodo herdou de B\")\n",
    "\n",
    "class C(A,B):\n",
    "    def c(self):\n",
    "        print(f\"Este método é de C\")\n",
    "\n",
    "c = C() # Ao criar um objeto da classe C, herda o construtor da Super Classe A (primeiro arguento da classe)\n",
    "\n",
    "print(\"Exemplo de uso\")\n",
    "c.c()\n",
    "c.a()\n",
    "c.b()"
   ]
  },
  {
   "cell_type": "markdown",
   "metadata": {},
   "source": [
    "## Aqui vemos a herança múltipla, com um exemplo:\n",
    "\n"
   ]
  },
  {
   "cell_type": "code",
   "execution_count": 33,
   "metadata": {},
   "outputs": [
    {
     "name": "stdout",
     "output_type": "stream",
     "text": [
      "\n",
      "Bicicleta Eletrica\n",
      "100\n"
     ]
    }
   ],
   "source": [
    "class Veiculo:\n",
    "    def __init__(self, marca, modelo):\n",
    "        self.marca = marca\n",
    "        self.modelo = modelo\n",
    "\n",
    "class vEletrico:\n",
    "    def __init__(self):\n",
    "        self.autonomia = 100\n",
    "\n",
    "    def cargaEnergetica(self):\n",
    "        # Metodo cargaEnergetica indica ao sistema se o veiculo esta a ser carregado\n",
    "        self.carregar = True\n",
    "class BicicletaEletrica(vEletrico, Veiculo):\n",
    "    # herança multipla\n",
    "    pass\n",
    "\n",
    "print(\"\\nBicicleta Eletrica\")\n",
    "\n",
    "# objetos da classe Bicicleta\n",
    "# ao herdar as duas classes, tem sempre 2 contrutores disponiveis\n",
    "minhabike = BicicletaEletrica()\n",
    "print(minhabike.autonomia)"
   ]
  },
  {
   "cell_type": "markdown",
   "metadata": {},
   "source": [
    "# Polimosfismo\n",
    "\n",
    "O conceito de polimorfismo implica que, se numa parte de código se invocar um determinado método de um objeto, poderão obter-se resultados distintos, consoantes a classe do objeto. Isto deve-se ao fato de objetos distintos poderem ter um método com um mesmo nome, mas que realize operações distintas.\n",
    "\n",
    "### Um objeto pode mudar de forma, dependendo do contenxto em que seja utilizado.\n",
    "\n",
    "Vamos ver um cenário para o polimorfismo, baseando-nos num exemplo de produtos:\n"
   ]
  },
  {
   "cell_type": "code",
   "execution_count": 34,
   "metadata": {},
   "outputs": [
    {
     "name": "stdout",
     "output_type": "stream",
     "text": [
      "REFERENCIA\t2023\n",
      "NOME\t\tPersonal Computer\n",
      "PVP\t\t1200\n",
      "DESCRIÇÃO\tPC da HP\n",
      " \n",
      "\n",
      "REFERENCIA\t2035\n",
      "NOME\t\tGarrafa de Azeite\n",
      "PVP\t\t5\n",
      "DESCRIÇÃO\t250 ML\n",
      "CRIADOR\t\tGallo\n",
      "DISTRIBUIDOR\tDistribuição SA\n",
      "\n",
      " \n",
      "\n",
      "REFERENCIA\t2035\n",
      "NOME\t\t Guerra e Paz\n",
      "PVP\t\t5\n",
      "DESCRIÇÃO\tRomance\n",
      "ISNB\t\t0-123456-78-9\n",
      "AUTOR\t\tLiev Tolstói\n",
      " \n",
      "\n"
     ]
    }
   ],
   "source": [
    "class Produto:\n",
    "\n",
    "    def __init__(self, referencia, nome, pvp, descricao):\n",
    "        self.referencia = referencia\n",
    "        self.nome = nome\n",
    "        self.pvp = pvp\n",
    "        self.descricao = descricao\n",
    "    \n",
    "    def __str__(self):\n",
    "        return f\"\"\"\\\n",
    "REFERENCIA\\t{self.referencia}\n",
    "NOME\\t\\t{self.nome}\n",
    "PVP\\t\\t{self.pvp}\n",
    "DESCRIÇÃO\\t{self.descricao}\n",
    "\"\"\"\n",
    "\n",
    "class PC(Produto):\n",
    "    pass\n",
    "\n",
    "class Alimento(Produto):\n",
    "    criador = \"\"\n",
    "    distribuidor = \"\"\n",
    "\n",
    "    def __str__(self):\n",
    "        return f\"\"\"\\\n",
    "REFERENCIA\\t{self.referencia}\n",
    "NOME\\t\\t{self.nome}\n",
    "PVP\\t\\t{self.pvp}\n",
    "DESCRIÇÃO\\t{self.descricao}\n",
    "CRIADOR\\t\\t{self.criador}\n",
    "DISTRIBUIDOR\\t{self.distribuidor}\n",
    "\n",
    "\"\"\"\n",
    "\n",
    "class Livro(Produto):\n",
    "    insb = \"\"\n",
    "    autor = \"\"\n",
    "\n",
    "    def __str__(self):\n",
    "        return f\"\"\"\\\n",
    "REFERENCIA\\t{self.referencia}\n",
    "NOME\\t\\t{self.nome}\n",
    "PVP\\t\\t{self.pvp}\n",
    "DESCRIÇÃO\\t{self.descricao}\n",
    "ISNB\\t\\t{self.insb}\n",
    "AUTOR\\t\\t{self.autor}\n",
    "\"\"\"\n",
    "\n",
    "# Exemplo de uso \n",
    "\n",
    "prod = PC(2023, \"Personal Computer\", 1200, \"PC da HP\")\n",
    "\n",
    "a1 = Alimento(2035, \"Garrafa de Azeite\", 5, \"250 ML\")\n",
    "a1.criador = \"Gallo\"\n",
    "a1.distribuidor = \"Distribuição SA\"\n",
    "\n",
    "\n",
    "l1 = Livro(2035, \" Guerra e Paz\", 5, \"Romance\")\n",
    "l1.insb = \"0-123456-78-9\"\n",
    "l1.autor = \"Liev Tolstói\"\n",
    "\n",
    "## listamos os produtos\n",
    "produtos = [prod, a1, l1]\n",
    "for p in produtos:\n",
    "    print(p, \"\\n\")\n"
   ]
  },
  {
   "cell_type": "markdown",
   "metadata": {},
   "source": [
    "## Aplicamos polimorfismo, propriedade da herança pela qual objetos de distintas subclasses podem responder a uma mesma ação, sobre uma das funções"
   ]
  },
  {
   "cell_type": "code",
   "execution_count": 35,
   "metadata": {},
   "outputs": [
    {
     "name": "stdout",
     "output_type": "stream",
     "text": [
      "ANTES DA REDUÇÃO: 5\n",
      "DEPOIS DA REDUÇÃO: 4.5\n"
     ]
    }
   ],
   "source": [
    "def reducao_produto(p, reducao):\n",
    "    \"\"\" Redição do produto em percentagem de seu preço\"\"\"\n",
    "    p.pvp = p.pvp - (p.pvp/100 * reducao)\n",
    "\n",
    "print(f\"ANTES DA REDUÇÃO: \", end=\"\")\n",
    "print(a1.pvp)\n",
    "reducao_produto(a1,10)\n",
    "print(\"DEPOIS DA REDUÇÃO: \", end=\"\")\n",
    "print(a1.pvp)"
   ]
  },
  {
   "cell_type": "markdown",
   "metadata": {},
   "source": [
    "Como podemos observar, o ´metodo reduzirpreco_produto() é capaz de conter objetos de distintas subclasses e manipular o atributo PVP. A ação do PVP funcionará sempre que os objetos tenham esse atributo; caso não aconteça, será gerado um erro.\n",
    "\n",
    "O polimorfismo está implícito em todos os objetos, no Python, já que todos são filgos de uma superclasse comum, denominada ' Object '."
   ]
  },
  {
   "cell_type": "markdown",
   "metadata": {},
   "source": [
    "### Relativamente às funções que recebem objetos de classes distintas, como os objetos são enviados às funções, por referência\n",
    "devemos ter em conta que, qualquer alteração efetuada a partir de dentro, afetará o próprio objeto:\n",
    "\n"
   ]
  },
  {
   "cell_type": "code",
   "execution_count": 36,
   "metadata": {},
   "outputs": [
    {
     "name": "stdout",
     "output_type": "stream",
     "text": [
      "ANTES DA REDUÇÃO: 4.5\n",
      "DEPOIS DA REDUÇÃO: 4.05\n"
     ]
    }
   ],
   "source": [
    "# reduzindo mais os preços\n",
    "def reducao_produto(p, reducao):\n",
    "    \"\"\" Redição do produto em percentagem de seu preço\"\"\"\n",
    "    p.pvp = p.pvp - (p.pvp/100 * reducao)\n",
    "\n",
    "print(f\"ANTES DA REDUÇÃO: \", end=\"\")\n",
    "print(a1.pvp)\n",
    "reducao_produto(a1,10)\n",
    "print(\"DEPOIS DA REDUÇÃO: \", end=\"\")\n",
    "print(a1.pvp)\n"
   ]
  },
  {
   "cell_type": "markdown",
   "metadata": {},
   "source": [
    "#### E uma cópia de um objeto tambem faz referencia ao objeto copiado, como um acesso direto:\n"
   ]
  },
  {
   "cell_type": "code",
   "execution_count": 37,
   "metadata": {},
   "outputs": [],
   "source": [
    "copia_a1 = a1"
   ]
  },
  {
   "cell_type": "code",
   "execution_count": 38,
   "metadata": {},
   "outputs": [],
   "source": [
    "copia_a1.referencia = 2038"
   ]
  },
  {
   "cell_type": "code",
   "execution_count": 39,
   "metadata": {},
   "outputs": [
    {
     "name": "stdout",
     "output_type": "stream",
     "text": [
      "REFERENCIA\t2038\n",
      "NOME\t\tGarrafa de Azeite\n",
      "PVP\t\t4.05\n",
      "DESCRIÇÃO\t250 ML\n",
      "CRIADOR\t\tGallo\n",
      "DISTRIBUIDOR\tDistribuição SA\n",
      "\n",
      "\n"
     ]
    }
   ],
   "source": [
    "print(copia_a1)"
   ]
  },
  {
   "cell_type": "markdown",
   "metadata": {},
   "source": [
    "## Então, para criar uma cópia 100% nova devemos utilizar o módulo copy:"
   ]
  },
  {
   "cell_type": "code",
   "execution_count": 40,
   "metadata": {},
   "outputs": [],
   "source": [
    "import copy\n",
    "\n",
    "copia_pc = copy.copy(prod)"
   ]
  },
  {
   "cell_type": "code",
   "execution_count": 41,
   "metadata": {},
   "outputs": [
    {
     "name": "stdout",
     "output_type": "stream",
     "text": [
      "REFERENCIA\t2023\n",
      "NOME\t\tPersonal Computer\n",
      "PVP\t\t1200\n",
      "DESCRIÇÃO\tPC da HP\n",
      "\n"
     ]
    }
   ],
   "source": [
    "print(copia_pc)"
   ]
  },
  {
   "cell_type": "code",
   "execution_count": null,
   "metadata": {},
   "outputs": [],
   "source": [
    "copia_pc.pvp = 25\n"
   ]
  },
  {
   "cell_type": "code",
   "execution_count": 44,
   "metadata": {},
   "outputs": [
    {
     "name": "stdout",
     "output_type": "stream",
     "text": [
      "REFERENCIA\t2023\n",
      "NOME\t\tPersonal Computer\n",
      "PVP\t\t25\n",
      "DESCRIÇÃO\tPC da HP\n",
      "\n"
     ]
    }
   ],
   "source": [
    "print(copia_pc)"
   ]
  },
  {
   "cell_type": "code",
   "execution_count": 45,
   "metadata": {},
   "outputs": [
    {
     "name": "stdout",
     "output_type": "stream",
     "text": [
      "REFERENCIA\t2023\n",
      "NOME\t\tPersonal Computer\n",
      "PVP\t\t1200\n",
      "DESCRIÇÃO\tPC da HP\n",
      "\n"
     ]
    }
   ],
   "source": [
    "print(prod)"
   ]
  },
  {
   "cell_type": "markdown",
   "metadata": {},
   "source": [
    "### Vejamos agora um exemplo de polimorfimos, sobre a classe veículos:"
   ]
  },
  {
   "cell_type": "code",
   "execution_count": 52,
   "metadata": {},
   "outputs": [
    {
     "name": "stdout",
     "output_type": "stream",
     "text": [
      "Uso NORMAL (sem POLIMORFISMO) \n",
      "\n",
      "Desloco-me utilizando 2 rodas\n",
      "Desloco-me utilizando 4 rodas\n",
      "Desloco-me utilizando 6 rodas\n",
      "\n",
      "Agora com polimorfismo \n",
      "\n",
      "Desloco-me utilizando 6 rodas\n",
      "Desloco-me utilizando 2 rodas\n",
      "Desloco-me utilizando 4 rodas\n"
     ]
    }
   ],
   "source": [
    "class Carro():\n",
    "    def deslocamento(self):\n",
    "        print(f\"Desloco-me utilizando 4 rodas\")\n",
    "    \n",
    "class Moto():\n",
    "    def deslocamento(self):\n",
    "        print(f\"Desloco-me utilizando 2 rodas\")\n",
    "\n",
    "class Camiao():\n",
    "    def deslocamento(self):\n",
    "        print(f\"Desloco-me utilizando 6 rodas\")\n",
    "\n",
    "# programa Principa, fora das classes\n",
    "print(\"Uso NORMAL (sem POLIMORFISMO) \\n\")\n",
    "# Cada objeto instanciado de cada uma das 3 classes acede ao seu metodo deslocamento\n",
    "\n",
    "meuVeiculo = Moto()\n",
    "meuVeiculo.deslocamento()\n",
    "\n",
    "meu2Veiculo = Carro()\n",
    "meu2Veiculo.deslocamento()\n",
    "\n",
    "meu3Veiculo = Camiao()\n",
    "meu3Veiculo.deslocamento()\n",
    "\n",
    "print(f\"\\nAgora com polimorfismo \\n\")\n",
    "\n",
    "def deslocamentoVeiculo(veiculo):\n",
    "    veiculo.deslocamento()\n",
    "\n",
    "meu4Veiculo = Camiao()\n",
    "deslocamentoVeiculo(meu4Veiculo)\n",
    "meu5Veiculo = Moto()\n",
    "deslocamentoVeiculo(meu5Veiculo)\n",
    "meu6Veiculo = Carro()\n",
    "deslocamentoVeiculo(meu6Veiculo)"
   ]
  }
 ],
 "metadata": {
  "kernelspec": {
   "display_name": "Python 3",
   "language": "python",
   "name": "python3"
  },
  "language_info": {
   "codemirror_mode": {
    "name": "ipython",
    "version": 3
   },
   "file_extension": ".py",
   "mimetype": "text/x-python",
   "name": "python",
   "nbconvert_exporter": "python",
   "pygments_lexer": "ipython3",
   "version": "3.12.7"
  }
 },
 "nbformat": 4,
 "nbformat_minor": 2
}

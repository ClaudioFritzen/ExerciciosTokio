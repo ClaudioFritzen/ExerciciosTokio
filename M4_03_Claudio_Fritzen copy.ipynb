{
 "cells": [
  {
   "cell_type": "markdown",
   "metadata": {},
   "source": [
    "#### Crie uma classe DivisaoPorZeroHandler\n",
    "no construtor init, receca dois paramentros: numerador e denominador e armazene-os como abributos da classe\n",
    "##### Crie um método calcular que:\n",
    "    tente executar a divisão resultado = numerador / denominador.   \n",
    "    Capture a excecão ZeroDivisionError.\n",
    "\n",
    "    imprima uma mensagem ao utilizador explicando a causa do erro e como evitá-lo.\n",
    "\n",
    "\n",
    "##### Crie 2 objetos da classe DivisaoPorZeroHandler passando valores para numerador e denominador\n",
    "\n",
    "no segundo objeto passe como denominador o valor de 0\n",
    "\n",
    "##### Chame o método calcular para executar a divisão e capturar a exceção."
   ]
  },
  {
   "cell_type": "code",
   "execution_count": 183,
   "metadata": {},
   "outputs": [
    {
     "name": "stdout",
     "output_type": "stream",
     "text": [
      " Numerador: 20, Denominador: 5\n",
      "Resultado da Divisão é 4.0\n",
      " Numerador: 20, Denominador: 0\n",
      "Este erro é causado pq você está tentando dividir algo por zero. Por isso o errro!!\n",
      "Tente colocar um denominador maior que 0 (zero)\n"
     ]
    }
   ],
   "source": [
    "class DivisaoPorZeroHandler:\n",
    "    def __init__(self, numerador, denominador):\n",
    "        self.numerador = numerador\n",
    "        self.denominador = denominador\n",
    "\n",
    "        print(f\" Numerador: {self.numerador}, Denominador: {self.denominador}\")\n",
    "    \n",
    "    def calcula(self):\n",
    "            try:\n",
    "                resultado = self.numerador / self.denominador\n",
    "                print(f\"Resultado da Divisão é {resultado}\")\n",
    "            except ZeroDivisionError:\n",
    "                 \n",
    "                print(f\"Este erro é causado pq você está tentando dividir algo por zero. Por isso o errro!!\")\n",
    "                print(f\"Tente colocar um denominador maior que 0 (zero)\")\n",
    "\n",
    "exemplo1 = DivisaoPorZeroHandler(20,5)\n",
    "exemplo1.calcula()\n",
    "exemplo2 = DivisaoPorZeroHandler(20, 0)\n",
    "exemplo2.calcula()"
   ]
  },
  {
   "cell_type": "markdown",
   "metadata": {},
   "source": [
    "class DivisaoPorZeroHandler:\n",
    "    def __init__(self, numerador, denominador):\n",
    "        self.numerador = numerador\n",
    "        self.denominador = denominador\n",
    "\n",
    "        print(f\" Numerador: {self.numerador}, Denominador: {self.denominador}\")\n",
    "    \n",
    "    def calcula(self):\n",
    "            try:\n",
    "                resultado = self.numerador / self.denominador\n",
    "                print(f\"Resultado da Divisão é {resultado}\")\n",
    "            except ValueError as zo:\n",
    "                 \n",
    "                 # print(f\" Este erro é causado pq você está tentando dividir algo por zero. Por isso o errro!!\")\n",
    "\n",
    "                 print(zo)\n",
    "     "
   ]
  },
  {
   "cell_type": "markdown",
   "metadata": {},
   "source": [
    "\n",
    "exemplo1 = DivisaoPorZeroHandler(20,5)\n",
    "exemplo1.calcula()\n",
    "exemplo2 = DivisaoPorZeroHandler(20, 0)\n",
    "exemplo2.calcula()"
   ]
  },
  {
   "cell_type": "code",
   "execution_count": 184,
   "metadata": {},
   "outputs": [
    {
     "data": {
      "text/plain": [
       "'\\n    Explicando o erro ZeroDivisionError\\n\\n    Na matematica qualquer numero divido por zero é 0. PQ é impossivel dividir algo por zero.\\n    Na programação quando tentamos fazer isso, ocorre um erro grave e trava o nosso programa.\\n    Para evitar isso, coloque o numero maior que 0 e pronto.\\n\\n\\n'"
      ]
     },
     "execution_count": 184,
     "metadata": {},
     "output_type": "execute_result"
    }
   ],
   "source": [
    "\"\"\"\n",
    "    Explicando o erro ZeroDivisionError\n",
    "\n",
    "    Na matematica qualquer numero divido por zero é 0. PQ é impossivel dividir algo por zero.\n",
    "    Na programação quando tentamos fazer isso, ocorre um erro grave e trava o nosso programa.\n",
    "    Para evitar isso, coloque o numero maior que 0 e pronto.\n",
    "\n",
    "\n",
    "\"\"\""
   ]
  },
  {
   "cell_type": "markdown",
   "metadata": {},
   "source": [
    "#### 2 \n",
    "\n",
    "#### Crie uma classe IndiceForaDosLimitesHandler.\n",
    "    no construtor init, receba uma lista e armazene-a como um atributo da classe\n",
    "\n",
    "#### Crie um método aceder_elemento que \n",
    "    receba um índice como parâmetro.\n",
    "\n",
    "    tente acessar o elemento da lista no índice fornecido\n",
    "\n",
    "    capture a exceção InderError.\n",
    "\n",
    "    Imprima uma mensagem ao utilizador explicando a causa do erro e como evitá-lo.\n",
    "\n",
    "#### Crie um objeto da classe IndiceForaDosLimitesHandler passando uma lista.\n",
    "\n",
    "#### Chame o método aceder_elemento passando um índice válido para acessar o elemento\n",
    "\n",
    "#### Chame o método aceder_elemento passando um índice inválido para gerar uma exceção e capturá-la"
   ]
  },
  {
   "cell_type": "code",
   "execution_count": 185,
   "metadata": {},
   "outputs": [
    {
     "name": "stdout",
     "output_type": "stream",
     "text": [
      "Valor no índice 2: Eu\n",
      "Erro: Tentativa de acessar um índice fora do intervalo da lista\n"
     ]
    }
   ],
   "source": [
    "class IndiceForaDosLimitesHandler:\n",
    "    def __init__(self, lista):\n",
    "        self.lista_completa = lista\n",
    "    \n",
    "    def aceder_indice(self, indice):\n",
    "        try:\n",
    "            valor = self.lista_completa[indice]\n",
    "            print(f\"Valor no índice {indice}: {valor}\")\n",
    "            \n",
    "        except IndexError:\n",
    "            print(\"Erro: Tentativa de acessar um índice fora do intervalo da lista\")\n",
    "    \n",
    "lista1= IndiceForaDosLimitesHandler([10,12,\"Eu\"])\n",
    "# tentando com um indice valido\n",
    "lista1.aceder_indice(2)\n",
    "# agora um indice não valido\n",
    "lista1.aceder_indice(20)\n"
   ]
  },
  {
   "cell_type": "code",
   "execution_count": 186,
   "metadata": {},
   "outputs": [
    {
     "name": "stdout",
     "output_type": "stream",
     "text": [
      "World\n"
     ]
    }
   ],
   "source": [
    "lista1 = [10,20, \"Hello\", \"World\"]\n",
    "try:\n",
    "    print(lista1[3])\n",
    "except IndexError:\n",
    "    print(\"Erro: Tentativa de acessar um índice fora do intervalo da lista\")\n",
    "\n"
   ]
  },
  {
   "cell_type": "code",
   "execution_count": 187,
   "metadata": {},
   "outputs": [
    {
     "name": "stdout",
     "output_type": "stream",
     "text": [
      "30\n"
     ]
    }
   ],
   "source": [
    "lista = [10, 20, 30, 40, 50]\n",
    "try:\n",
    "    # Acessando um índice válido\n",
    "    print(lista[2])  # Saída: 30\n",
    "except IndexError:\n",
    "    print(\"Erro: Tentativa de acessar um índice fora do intervalo da lista.\")\n"
   ]
  },
  {
   "cell_type": "markdown",
   "metadata": {},
   "source": [
    "#### 3 Exercicio\n",
    "\n",
    "##### Crie uma classe GerenciadorLista.\n",
    "    no construtor (init), inicialize uma lista vazia ou receva uma lista como argumento.\n",
    "\n",
    "##### Crie um método adicionar_elemento que:\n",
    "    receba um elemento como parâmetro.\n",
    "    verifique se o elemento já está presente na lista utilizando a sintaxe \"elemento in lista\".\n",
    "    se o elemento não estiver presente, adicione-o ao final da lista.\n",
    "\n",
    "    se o elemento já estiver presente, lance um erro do tipo ValueError com a mensagem: \"Erro: Impossível adicionar elementos duplicados => [elemento]\n",
    "\n",
    "\n",
    "##### Crie um objeto da classe GerenciadorLista com um lista inicial.\n",
    "\n",
    "##### Chame o método adicionar_elemento para adicionar os elementos 10, -2 e \"ola\" à lista.\n",
    "\n",
    "##### Mostre o conteúdo da lista após cada adição.\n",
    "\n",
    "##### Deve implementar try except para capturar o erro e imprimir a mensagem de erro."
   ]
  },
  {
   "cell_type": "code",
   "execution_count": 199,
   "metadata": {},
   "outputs": [
    {
     "name": "stdout",
     "output_type": "stream",
     "text": [
      "Erro: Não pode receber itens duplicado na lista => (10),\n",
      "Lista atual [10, 20, 30, 'EU']\n",
      " Item => (-2) foi adicionado a lista\n",
      "Lista atual[10, 20, 30, 'EU', -2]\n",
      " Item => (ola) foi adicionado a lista\n",
      "Lista atual[10, 20, 30, 'EU', -2, 'ola']\n"
     ]
    }
   ],
   "source": [
    "class GerenciadorLista:\n",
    "    def __init__(self):\n",
    "        self.lista = [10, 20, 30, \"EU\"]\n",
    "\n",
    "        #print(f\"Lista inicial{self.lista}\")\n",
    "\n",
    "    def adicionar_elemento(self, arg):\n",
    "        try:\n",
    "            testeee = arg in self.lista\n",
    "            if testeee == False:\n",
    "                self.lista.append(arg)\n",
    "                print(f\" Item => ({arg}) foi adicionado a lista\\nLista atual{self.lista}\")\n",
    "                \n",
    "            else:\n",
    "                raise ValueError(f\"Erro: Não pode receber itens duplicado na lista => ({arg}),\\nLista atual {self.lista}\")\n",
    "        except ValueError as e:\n",
    "            print(e)\n",
    "\n",
    "        \n",
    "        \n",
    "receba = GerenciadorLista()\n",
    "receba.adicionar_elemento(10)\n",
    "receba.adicionar_elemento(-2)\n",
    "receba.adicionar_elemento(\"ola\")\n",
    "\n",
    "\n",
    "\n"
   ]
  },
  {
   "cell_type": "code",
   "execution_count": 189,
   "metadata": {},
   "outputs": [],
   "source": [
    "# criar uma lista\n",
    "# adicionar um item a lista\n",
    "# verificar se existe esse item na lista\n",
    "    # nao existir, adiciona\n",
    "    # se existir mostra um erro."
   ]
  },
  {
   "cell_type": "code",
   "execution_count": 190,
   "metadata": {},
   "outputs": [
    {
     "name": "stdout",
     "output_type": "stream",
     "text": [
      "FORA\n",
      "[10, 20, 'eu', 'crie']\n"
     ]
    }
   ],
   "source": [
    "lista = [10,20, \"eu\", \"crie\"]\n",
    "\n",
    "teste = \"oi\" \n",
    "\n",
    "teste2 = \"oi\"\n",
    "\n",
    "if teste2 in lista == True:\n",
    "    print(teste2)\n",
    "else:\n",
    "    print(f\"FORA\")\n",
    "\n",
    "print(lista)\n"
   ]
  }
 ],
 "metadata": {
  "kernelspec": {
   "display_name": "Python 3",
   "language": "python",
   "name": "python3"
  },
  "language_info": {
   "codemirror_mode": {
    "name": "ipython",
    "version": 3
   },
   "file_extension": ".py",
   "mimetype": "text/x-python",
   "name": "python",
   "nbconvert_exporter": "python",
   "pygments_lexer": "ipython3",
   "version": "3.12.7"
  }
 },
 "nbformat": 4,
 "nbformat_minor": 2
}

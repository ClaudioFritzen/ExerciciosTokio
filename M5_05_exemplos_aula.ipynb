{
 "cells": [
  {
   "cell_type": "code",
   "execution_count": 2,
   "metadata": {},
   "outputs": [],
   "source": [
    "import numpy as np"
   ]
  },
  {
   "cell_type": "code",
   "execution_count": 3,
   "metadata": {},
   "outputs": [],
   "source": [
    "lista = np.array([1, 2, 3, 4, 5])"
   ]
  },
  {
   "cell_type": "code",
   "execution_count": 4,
   "metadata": {},
   "outputs": [
    {
     "name": "stdout",
     "output_type": "stream",
     "text": [
      "[1 2 3 4 5]\n"
     ]
    }
   ],
   "source": [
    "print(lista)"
   ]
  },
  {
   "cell_type": "code",
   "execution_count": 6,
   "metadata": {},
   "outputs": [
    {
     "name": "stdout",
     "output_type": "stream",
     "text": [
      "2.2.1\n"
     ]
    }
   ],
   "source": [
    "print(np.__version__)"
   ]
  },
  {
   "cell_type": "code",
   "execution_count": 7,
   "metadata": {},
   "outputs": [
    {
     "name": "stdout",
     "output_type": "stream",
     "text": [
      "<class 'numpy.ndarray'>\n"
     ]
    }
   ],
   "source": [
    "print(type(lista))"
   ]
  },
  {
   "cell_type": "code",
   "execution_count": 14,
   "metadata": {},
   "outputs": [],
   "source": [
    "lista1 = np.array([1, 2, 3, 4, 5] )"
   ]
  },
  {
   "cell_type": "code",
   "execution_count": 15,
   "metadata": {},
   "outputs": [
    {
     "name": "stdout",
     "output_type": "stream",
     "text": [
      "[1 2 3 4 5]\n"
     ]
    }
   ],
   "source": [
    "print(lista1)"
   ]
  },
  {
   "cell_type": "code",
   "execution_count": 19,
   "metadata": {},
   "outputs": [],
   "source": [
    "lista2 = np.array([[1,2,3], [4,5,6], [7,8,9]])"
   ]
  },
  {
   "cell_type": "code",
   "execution_count": 20,
   "metadata": {},
   "outputs": [
    {
     "name": "stdout",
     "output_type": "stream",
     "text": [
      "[[1 2 3]\n",
      " [4 5 6]\n",
      " [7 8 9]]\n"
     ]
    }
   ],
   "source": [
    "print(lista2)"
   ]
  },
  {
   "cell_type": "code",
   "execution_count": 21,
   "metadata": {},
   "outputs": [
    {
     "name": "stdout",
     "output_type": "stream",
     "text": [
      "2\n"
     ]
    }
   ],
   "source": [
    "print(lista2.ndim)"
   ]
  },
  {
   "cell_type": "code",
   "execution_count": 22,
   "metadata": {},
   "outputs": [],
   "source": [
    "lista3 = np.array([[[1,2,3], [4,5,6], [7,8,9]], [[1,2,3], [4,5,6], [7,8,9]]])"
   ]
  },
  {
   "cell_type": "code",
   "execution_count": 24,
   "metadata": {},
   "outputs": [
    {
     "name": "stdout",
     "output_type": "stream",
     "text": [
      "3\n",
      "[[[1 2 3]\n",
      "  [4 5 6]\n",
      "  [7 8 9]]\n",
      "\n",
      " [[1 2 3]\n",
      "  [4 5 6]\n",
      "  [7 8 9]]]\n"
     ]
    }
   ],
   "source": [
    "print(lista3.ndim)\n",
    "print(lista3)"
   ]
  },
  {
   "cell_type": "code",
   "execution_count": null,
   "metadata": {},
   "outputs": [
    {
     "name": "stdout",
     "output_type": "stream",
     "text": [
      "[ 10  11  12  13  14  15  16  17  18  19  20  21  22  23  24  25  26  27\n",
      "  28  29  30  31  32  33  34  35  36  37  38  39  40  41  42  43  44  45\n",
      "  46  47  48  49  50  51  52  53  54  55  56  57  58  59  60  61  62  63\n",
      "  64  65  66  67  68  69  70  71  72  73  74  75  76  77  78  79  80  81\n",
      "  82  83  84  85  86  87  88  89  90  91  92  93  94  95  96  97  98  99\n",
      " 100]\n",
      "[100  99  98  97  96  95  94  93  92  91  90  89  88  87  86  85  84  83\n",
      "  82  81  80  79  78  77  76  75  74  73  72  71  70  69  68  67  66  65\n",
      "  64  63  62  61  60  59  58  57  56  55  54  53  52  51  50  49  48  47\n",
      "  46  45  44  43  42  41  40  39  38  37  36  35  34  33  32  31  30  29\n",
      "  28  27  26  25  24  23  22  21  20  19  18  17  16  15  14  13  12  11\n",
      "  10]\n",
      "[[0 1 2]\n",
      " [3 4 5]\n",
      " [6 7 8]]\n",
      "[[1. 0. 0. 0. 0. 0.]\n",
      " [0. 1. 0. 0. 0. 0.]\n",
      " [0. 0. 1. 0. 0. 0.]\n",
      " [0. 0. 0. 1. 0. 0.]\n",
      " [0. 0. 0. 0. 1. 0.]\n",
      " [0. 0. 0. 0. 0. 1.]]\n",
      "[[[0.11226354 0.75461038 0.03482806]\n",
      "  [0.78978794 0.94494389 0.78165414]\n",
      "  [0.76456995 0.84136613 0.19951861]]\n",
      "\n",
      " [[0.69618301 0.79565942 0.2775423 ]\n",
      "  [0.13472894 0.98410973 0.8430334 ]\n",
      "  [0.65243302 0.6051419  0.36434722]]\n",
      "\n",
      " [[0.09895272 0.70048776 0.15141467]\n",
      "  [0.39287936 0.0287586  0.12401045]\n",
      "  [0.65686344 0.14566543 0.68377553]]]\n"
     ]
    }
   ],
   "source": [
    "import numpy as np\n",
    "\n",
    "# criando uma lista de 10 a 100\n",
    "lista = np.arange(10, 101)\n",
    "print(lista)\n",
    "\n",
    "# invertendo a lista\n",
    "lista2 = lista[::-1]\n",
    "print(lista2)\n",
    "\n",
    "# criando um array 3x3 com valores de 0 a 8\n",
    "lista3 = np.arange(9).reshape(3,3)\n",
    "print(lista3)\n",
    "\n",
    "# Criando um array identidade de 6 x 6 \n",
    "lista4 = np.eye(6)\n",
    "print(lista4)\n",
    "\n",
    "# Criando um array 3x3x3 com valores aleatórios\n",
    "lista5 = np.random.random((3,3,3))\n",
    "print(lista5)\n",
    "\n"
   ]
  },
  {
   "cell_type": "code",
   "execution_count": 29,
   "metadata": {},
   "outputs": [
    {
     "name": "stdout",
     "output_type": "stream",
     "text": [
      "[[0.22917575 0.52881066 0.89572445 0.60604942 0.44457652]\n",
      " [0.28351664 0.63313064 0.60667854 0.94634754 0.09511655]\n",
      " [0.51803215 0.95410558 0.93495363 0.52211439 0.2810154 ]\n",
      " [0.26022246 0.6373953  0.27901886 0.74723833 0.45278697]\n",
      " [0.58802884 0.30358323 0.31861989 0.96612091 0.39976905]]\n",
      "[[0.67519701 0.8846515  0.54476748]\n",
      " [0.9481444  0.33015961 0.31221349]\n",
      " [0.50888413 0.28351852 0.36856365]]\n",
      "**************************************************\n",
      "Os arrays não são iguais (5, 5) e (3, 3) \n",
      "--------------------------------------------------\n",
      "Usando o metodo np.array_equal() : False\n",
      "**************************************************\n",
      "Usando o metodo np.allclose() : False\n",
      "**************************************************\n",
      "Usando o metodo np.array_equiv() : False\n",
      "**************************************************\n",
      "Usando o metodo np.all(np.equal()) : False\n"
     ]
    }
   ],
   "source": [
    "# Criando 2 arrays com valores ao acasso, A e B, e verificando se são iguais\n",
    "A = np.random.random((5,5))\n",
    "B = np.random.random((3,3))\n",
    "print(A)\n",
    "print(B)\n",
    "print(\"*\"*50)\n",
    "\n",
    "# Validadando se os arrays são iguais\n",
    "if A.shape != B.shape:\n",
    "    print(f\"Os arrays não são iguais {A.shape} e {B.shape} \")\n",
    "    # redimensionando o array B para o mesmo tamanho de A\n",
    "    B = np.resize(B, A.shape)\n",
    "else: \n",
    "    print(\"Os arrays têm o mesma forma!\")\n",
    "print(\"-\"* 50)\n",
    "# Metodo 1 : Usando np.array_equal()\n",
    "print(f\"Usando o metodo np.array_equal() : {np.array_equal(A, B)}\")\n",
    "print(\"*\"*50)\n",
    "# Metodo 2 : Usando np.allclose()\n",
    "are_equal_allclose = np.allclose(A, B)\n",
    "print(f\"Usando o metodo np.allclose() : {are_equal_allclose}\")\n",
    "print(\"*\"*50)\n",
    "\n",
    "# metodo 3 : Usando np.array_equiv()\n",
    "are_equal_equiv = np.array_equiv(A, B)\n",
    "print(f\"Usando o metodo np.array_equiv() : {are_equal_equiv}\")\n",
    "print(\"*\"*50)\n",
    "\n",
    "# metodo 4 : Usando numpy.all com numpy.equal\n",
    "sao_todos_iguais =  np.all(np.equal(A, B))\n",
    "print(f\"Usando o metodo np.all(np.equal()) : {sao_todos_iguais}\")\n",
    "\n"
   ]
  }
 ],
 "metadata": {
  "kernelspec": {
   "display_name": "Python 3",
   "language": "python",
   "name": "python3"
  },
  "language_info": {
   "codemirror_mode": {
    "name": "ipython",
    "version": 3
   },
   "file_extension": ".py",
   "mimetype": "text/x-python",
   "name": "python",
   "nbconvert_exporter": "python",
   "pygments_lexer": "ipython3",
   "version": "3.12.8"
  }
 },
 "nbformat": 4,
 "nbformat_minor": 2
}

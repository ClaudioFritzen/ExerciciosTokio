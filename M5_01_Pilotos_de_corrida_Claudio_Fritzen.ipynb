{
 "cells": [
  {
   "cell_type": "markdown",
   "metadata": {},
   "source": [
    "Proposta: Campeonato de Fórmula 1   \n",
    "Para este exercício, vamos precisar de criar código para gerir um campeonato de F1.  Descrição do Problema:  \n",
    " Neste exercício, vamos criar um programa para organizar um campeonato de Fórmula \n",
    "1. \n",
    " Temos como input um ficheiro com resultados que deveremos guardar internamente \n",
    "para criar um historial de provas.  \n",
    " Teremos  também  de  criar  a  classificação  geral  do  campeonato,  mostrando  a  tabela \n",
    "ordenada, por pontos.  \n",
    " Em cada prova, cada lugar dos pilotos contabiliza uma determinada pontuação: \n",
    "o Primeiro colocado: 25 pontos  \n",
    "o Segundo colocado: 18 pontos \n",
    "o Terceiro colocado: 15 pontos  \n",
    "o Quarto colocado: 12 pontos  \n",
    "o Quinto colocado: 10 pontos  \n",
    "o Sexto colocado: 8 pontos  \n",
    "o Sétimo colocado: 6 pontos  \n",
    "o Oitavo colocado: 4 pontos  \n",
    "o Nono colocado: 2 pontos  \n",
    "o Décimo colocado: 1 pontos  Desenvolver: Para resolver este problema, vamos usar: \n",
    " tipos \n"
   ]
  },
  {
   "cell_type": "code",
   "execution_count": 16,
   "metadata": {},
   "outputs": [],
   "source": [
    "# esse exercicio podemos faze-lo de duas formas\n",
    "\n",
    "#1ª Criar uma lista de pilotos e fazer sorteio aleatorios dentre eles.\n",
    "\n",
    "# 2ª Fazer uma automatização que vai até o site da f1 e pega os nome dos pilotos\n",
    "\n",
    "\n"
   ]
  },
  {
   "cell_type": "code",
   "execution_count": 17,
   "metadata": {},
   "outputs": [
    {
     "name": "stdout",
     "output_type": "stream",
     "text": [
      "Defaulting to user installation because normal site-packages is not writeable\n",
      "Requirement already satisfied: selenium in c:\\users\\sdfri\\appdata\\local\\packages\\pythonsoftwarefoundation.python.3.12_qbz5n2kfra8p0\\localcache\\local-packages\\python312\\site-packages (4.27.1)\n",
      "Requirement already satisfied: urllib3<3,>=1.26 in c:\\users\\sdfri\\appdata\\local\\packages\\pythonsoftwarefoundation.python.3.12_qbz5n2kfra8p0\\localcache\\local-packages\\python312\\site-packages (from urllib3[socks]<3,>=1.26->selenium) (2.2.3)\n",
      "Requirement already satisfied: trio~=0.17 in c:\\users\\sdfri\\appdata\\local\\packages\\pythonsoftwarefoundation.python.3.12_qbz5n2kfra8p0\\localcache\\local-packages\\python312\\site-packages (from selenium) (0.27.0)\n",
      "Requirement already satisfied: trio-websocket~=0.9 in c:\\users\\sdfri\\appdata\\local\\packages\\pythonsoftwarefoundation.python.3.12_qbz5n2kfra8p0\\localcache\\local-packages\\python312\\site-packages (from selenium) (0.11.1)\n",
      "Requirement already satisfied: certifi>=2021.10.8 in c:\\users\\sdfri\\appdata\\local\\packages\\pythonsoftwarefoundation.python.3.12_qbz5n2kfra8p0\\localcache\\local-packages\\python312\\site-packages (from selenium) (2024.12.14)\n",
      "Requirement already satisfied: typing_extensions~=4.9 in c:\\users\\sdfri\\appdata\\local\\packages\\pythonsoftwarefoundation.python.3.12_qbz5n2kfra8p0\\localcache\\local-packages\\python312\\site-packages (from selenium) (4.12.2)\n",
      "Requirement already satisfied: websocket-client~=1.8 in c:\\users\\sdfri\\appdata\\local\\packages\\pythonsoftwarefoundation.python.3.12_qbz5n2kfra8p0\\localcache\\local-packages\\python312\\site-packages (from selenium) (1.8.0)\n",
      "Requirement already satisfied: attrs>=23.2.0 in c:\\users\\sdfri\\appdata\\local\\packages\\pythonsoftwarefoundation.python.3.12_qbz5n2kfra8p0\\localcache\\local-packages\\python312\\site-packages (from trio~=0.17->selenium) (24.3.0)\n",
      "Requirement already satisfied: sortedcontainers in c:\\users\\sdfri\\appdata\\local\\packages\\pythonsoftwarefoundation.python.3.12_qbz5n2kfra8p0\\localcache\\local-packages\\python312\\site-packages (from trio~=0.17->selenium) (2.4.0)\n",
      "Requirement already satisfied: idna in c:\\users\\sdfri\\appdata\\local\\packages\\pythonsoftwarefoundation.python.3.12_qbz5n2kfra8p0\\localcache\\local-packages\\python312\\site-packages (from trio~=0.17->selenium) (3.10)\n",
      "Requirement already satisfied: outcome in c:\\users\\sdfri\\appdata\\local\\packages\\pythonsoftwarefoundation.python.3.12_qbz5n2kfra8p0\\localcache\\local-packages\\python312\\site-packages (from trio~=0.17->selenium) (1.3.0.post0)\n",
      "Requirement already satisfied: sniffio>=1.3.0 in c:\\users\\sdfri\\appdata\\local\\packages\\pythonsoftwarefoundation.python.3.12_qbz5n2kfra8p0\\localcache\\local-packages\\python312\\site-packages (from trio~=0.17->selenium) (1.3.1)\n",
      "Requirement already satisfied: cffi>=1.14 in c:\\users\\sdfri\\appdata\\local\\packages\\pythonsoftwarefoundation.python.3.12_qbz5n2kfra8p0\\localcache\\local-packages\\python312\\site-packages (from trio~=0.17->selenium) (1.17.1)\n",
      "Requirement already satisfied: wsproto>=0.14 in c:\\users\\sdfri\\appdata\\local\\packages\\pythonsoftwarefoundation.python.3.12_qbz5n2kfra8p0\\localcache\\local-packages\\python312\\site-packages (from trio-websocket~=0.9->selenium) (1.2.0)\n",
      "Requirement already satisfied: pysocks!=1.5.7,<2.0,>=1.5.6 in c:\\users\\sdfri\\appdata\\local\\packages\\pythonsoftwarefoundation.python.3.12_qbz5n2kfra8p0\\localcache\\local-packages\\python312\\site-packages (from urllib3[socks]<3,>=1.26->selenium) (1.7.1)\n",
      "Requirement already satisfied: pycparser in c:\\users\\sdfri\\appdata\\local\\packages\\pythonsoftwarefoundation.python.3.12_qbz5n2kfra8p0\\localcache\\local-packages\\python312\\site-packages (from cffi>=1.14->trio~=0.17->selenium) (2.22)\n",
      "Requirement already satisfied: h11<1,>=0.9.0 in c:\\users\\sdfri\\appdata\\local\\packages\\pythonsoftwarefoundation.python.3.12_qbz5n2kfra8p0\\localcache\\local-packages\\python312\\site-packages (from wsproto>=0.14->trio-websocket~=0.9->selenium) (0.14.0)\n",
      "Note: you may need to restart the kernel to use updated packages.\n"
     ]
    }
   ],
   "source": [
    "# iremos começar com a 2ª opção\n",
    "\n",
    "# para isso iremos instalar o selenium\n",
    "%pip install selenium"
   ]
  },
  {
   "cell_type": "code",
   "execution_count": 20,
   "metadata": {},
   "outputs": [
    {
     "name": "stdout",
     "output_type": "stream",
     "text": [
      "Pilotos: ['1', '437', 'PTS', 'MAX', 'VERSTAPPEN', 'Red Bull Racing', '2', '374', 'PTS', 'LANDO', 'NORRIS', 'McLaren', '3', '356', 'PTS', 'CHARLES', 'LECLERC', 'Ferrari', '4', '292', 'PTS', 'OSCAR', 'PIASTRI', 'McLaren', '5', '290', 'PTS', 'CARLOS', 'SAINZ', 'Ferrari', '6', '245', 'PTS', 'GEORGE', 'RUSSELL', 'Mercedes', '7', '223', 'PTS', 'LEWIS', 'HAMILTON', 'Mercedes', '8', '152', 'PTS', 'SERGIO', 'PEREZ', 'Red Bull Racing', '9', '70', 'PTS', 'FERNANDO', 'ALONSO', 'Aston Martin', '10', '42', 'PTS', 'PIERRE', 'GASLY', 'Alpine', '11', '41', 'PTS', 'NICO', 'HULKENBERG', 'Haas', '12', '30', 'PTS', 'YUKI', 'TSUNODA', 'RB', '13', '24', 'PTS', 'LANCE', 'STROLL', 'Aston Martin', '14', '23', 'PTS', 'ESTEBAN', 'OCON', 'Alpine', '15', '16', 'PTS', 'KEVIN', 'MAGNUSSEN', 'Haas', '16', '12', 'PTS', 'ALEXANDER', 'ALBON', 'Williams', '17', '12', 'PTS', 'DANIEL', 'RICCIARDO', 'RB', '18', '7', 'PTS', 'OLIVER', 'BEARMAN', 'Haas', '19', '5', 'PTS', 'FRANCO', 'COLAPINTO', 'Williams', '20', '4', 'PTS', 'ZHOU', 'GUANYU', 'Kick Sauber', '21', '4', 'PTS', 'LIAM', 'LAWSON', 'RB', '22', '0', 'PTS', 'VALTTERI', 'BOTTAS', 'Kick Sauber', '23', '0', 'PTS', 'LOGAN', 'SARGEANT', 'Williams', '24', '0', 'PTS', 'JACK', 'DOOHAN', 'Alpine']\n",
      "Quantidade de pilotos: 144\n",
      "Piloto sorteado: 13\n"
     ]
    }
   ],
   "source": [
    "from selenium import webdriver\n",
    "from selenium.webdriver.common.by import By\n",
    "\n",
    "# abrindo o navegador\n",
    "driver = webdriver.Edge()\n",
    "\n",
    "# acessando o site da f1\n",
    "driver.get(\"https://www.formula1.com/en/drivers\")\n",
    "\n",
    "# agora vamos pegar o grid de pilotos\n",
    "#pilotos = driver.find_elements(By.CSS_SELECTOR, \"flex flex-col tablet:grid tablet:grid-cols-12 [&>*]:col-span-12 tablet:[&>*]:col-span-6 gap-xl laptop:[&>*]:col-span-4 desktop:[&>*:nth-child(-n+3)]:col-span-4 desktop:[&>*:nth-child(n+4)]:col-span-3flex flex-col tablet:grid tablet:grid-cols-12 [&>*]:col-span-12 tablet:[&>*]:col-span-6 gap-xl laptop:[&>*]:col-span-4 desktop:[&>*:nth-child(-n+3)]:col-span-4 desktop:[&>*:nth-child(n+4)]:col-span-3\")\n",
    "#pilotos = driver.find_elements(By.CSS_SELECTOR, \".flex.flex-col.tablet\\\\:grid.tablet\\\\:grid-cols-12.[&>*\\\\:col-span-12].tablet\\\\:[&>*\\\\:col-span-6].gap-xl.laptop\\\\:[&>*\\\\:col-span-4].desktop\\\\:[&>*\\\\:nth-child(-n+3)\\\\:col-span-4].desktop\\\\:[&>*\\\\:nth-child(n+4)\\\\:col-span-3\")\n",
    "pilotos = driver.find_elements(By.CSS_SELECTOR, \".flex.flex-col.tablet\\\\:grid\")\n",
    "# agora vamos pegar o nome dos pilotos\n",
    "texto = \"\\n\".join([piloto.text for piloto in pilotos])\n",
    "# imprimindo o texto\n",
    "#rint(f\"Texto sem tratamento: {texto}\")\n",
    "\n",
    "# fechando o navegador\n",
    "driver.quit()\n",
    "\n",
    "# agora vamos tratar o texto\n",
    "pilotos = texto.split(\"\\n\")\n",
    "print(f\"Pilotos: {pilotos}\")\n",
    "print(f\"Quantidade de pilotos: {len(pilotos)}\")\n",
    "\n",
    "# agora vamos sortear um piloto\n",
    "import random\n",
    "piloto_sorteado = random.choice(pilotos)    \n",
    "print(f\"Piloto sorteado: {piloto_sorteado}\")\n"
   ]
  },
  {
   "cell_type": "code",
   "execution_count": null,
   "metadata": {},
   "outputs": [],
   "source": []
  },
  {
   "cell_type": "code",
   "execution_count": null,
   "metadata": {},
   "outputs": [],
   "source": []
  }
 ],
 "metadata": {
  "kernelspec": {
   "display_name": "Python 3",
   "language": "python",
   "name": "python3"
  },
  "language_info": {
   "codemirror_mode": {
    "name": "ipython",
    "version": 3
   },
   "file_extension": ".py",
   "mimetype": "text/x-python",
   "name": "python",
   "nbconvert_exporter": "python",
   "pygments_lexer": "ipython3",
   "version": "3.12.8"
  }
 },
 "nbformat": 4,
 "nbformat_minor": 2
}

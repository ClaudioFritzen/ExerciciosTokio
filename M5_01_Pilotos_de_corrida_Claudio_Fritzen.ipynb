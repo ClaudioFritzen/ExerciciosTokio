{
 "cells": [
  {
   "cell_type": "markdown",
   "metadata": {},
   "source": [
    "Proposta: Campeonato de Fórmula 1   \n",
    "Para este exercício, vamos precisar de criar código para gerir um campeonato de F1.  Descrição do Problema:  \n",
    " Neste exercício, vamos criar um programa para organizar um campeonato de Fórmula \n",
    "1. \n",
    " Temos como input um ficheiro com resultados que deveremos guardar internamente \n",
    "para criar um historial de provas.  \n",
    " Teremos  também  de  criar  a  classificação  geral  do  campeonato,  mostrando  a  tabela \n",
    "ordenada, por pontos.  \n",
    " Em cada prova, cada lugar dos pilotos contabiliza uma determinada pontuação: \n",
    "o Primeiro colocado: 25 pontos  \n",
    "o Segundo colocado: 18 pontos \n",
    "o Terceiro colocado: 15 pontos  \n",
    "o Quarto colocado: 12 pontos  \n",
    "o Quinto colocado: 10 pontos  \n",
    "o Sexto colocado: 8 pontos  \n",
    "o Sétimo colocado: 6 pontos  \n",
    "o Oitavo colocado: 4 pontos  \n",
    "o Nono colocado: 2 pontos  \n",
    "o Décimo colocado: 1 pontos  Desenvolver: Para resolver este problema, vamos usar: \n",
    " tipos \n"
   ]
  },
  {
   "cell_type": "code",
   "execution_count": 16,
   "metadata": {},
   "outputs": [],
   "source": [
    "# esse exercicio podemos faze-lo de duas formas\n",
    "\n",
    "#1ª Criar uma lista de pilotos e fazer sorteio aleatorios dentre eles.\n",
    "\n",
    "# 2ª Fazer uma automatização que vai até o site da f1 e pega os nome dos pilotos\n",
    "\n",
    "\n"
   ]
  },
  {
   "cell_type": "code",
   "execution_count": 17,
   "metadata": {},
   "outputs": [
    {
     "name": "stdout",
     "output_type": "stream",
     "text": [
      "Defaulting to user installation because normal site-packages is not writeable\n",
      "Requirement already satisfied: selenium in c:\\users\\sdfri\\appdata\\local\\packages\\pythonsoftwarefoundation.python.3.12_qbz5n2kfra8p0\\localcache\\local-packages\\python312\\site-packages (4.27.1)\n",
      "Requirement already satisfied: urllib3<3,>=1.26 in c:\\users\\sdfri\\appdata\\local\\packages\\pythonsoftwarefoundation.python.3.12_qbz5n2kfra8p0\\localcache\\local-packages\\python312\\site-packages (from urllib3[socks]<3,>=1.26->selenium) (2.2.3)\n",
      "Requirement already satisfied: trio~=0.17 in c:\\users\\sdfri\\appdata\\local\\packages\\pythonsoftwarefoundation.python.3.12_qbz5n2kfra8p0\\localcache\\local-packages\\python312\\site-packages (from selenium) (0.27.0)\n",
      "Requirement already satisfied: trio-websocket~=0.9 in c:\\users\\sdfri\\appdata\\local\\packages\\pythonsoftwarefoundation.python.3.12_qbz5n2kfra8p0\\localcache\\local-packages\\python312\\site-packages (from selenium) (0.11.1)\n",
      "Requirement already satisfied: certifi>=2021.10.8 in c:\\users\\sdfri\\appdata\\local\\packages\\pythonsoftwarefoundation.python.3.12_qbz5n2kfra8p0\\localcache\\local-packages\\python312\\site-packages (from selenium) (2024.12.14)\n",
      "Requirement already satisfied: typing_extensions~=4.9 in c:\\users\\sdfri\\appdata\\local\\packages\\pythonsoftwarefoundation.python.3.12_qbz5n2kfra8p0\\localcache\\local-packages\\python312\\site-packages (from selenium) (4.12.2)\n",
      "Requirement already satisfied: websocket-client~=1.8 in c:\\users\\sdfri\\appdata\\local\\packages\\pythonsoftwarefoundation.python.3.12_qbz5n2kfra8p0\\localcache\\local-packages\\python312\\site-packages (from selenium) (1.8.0)\n",
      "Requirement already satisfied: attrs>=23.2.0 in c:\\users\\sdfri\\appdata\\local\\packages\\pythonsoftwarefoundation.python.3.12_qbz5n2kfra8p0\\localcache\\local-packages\\python312\\site-packages (from trio~=0.17->selenium) (24.3.0)\n",
      "Requirement already satisfied: sortedcontainers in c:\\users\\sdfri\\appdata\\local\\packages\\pythonsoftwarefoundation.python.3.12_qbz5n2kfra8p0\\localcache\\local-packages\\python312\\site-packages (from trio~=0.17->selenium) (2.4.0)\n",
      "Requirement already satisfied: idna in c:\\users\\sdfri\\appdata\\local\\packages\\pythonsoftwarefoundation.python.3.12_qbz5n2kfra8p0\\localcache\\local-packages\\python312\\site-packages (from trio~=0.17->selenium) (3.10)\n",
      "Requirement already satisfied: outcome in c:\\users\\sdfri\\appdata\\local\\packages\\pythonsoftwarefoundation.python.3.12_qbz5n2kfra8p0\\localcache\\local-packages\\python312\\site-packages (from trio~=0.17->selenium) (1.3.0.post0)\n",
      "Requirement already satisfied: sniffio>=1.3.0 in c:\\users\\sdfri\\appdata\\local\\packages\\pythonsoftwarefoundation.python.3.12_qbz5n2kfra8p0\\localcache\\local-packages\\python312\\site-packages (from trio~=0.17->selenium) (1.3.1)\n",
      "Requirement already satisfied: cffi>=1.14 in c:\\users\\sdfri\\appdata\\local\\packages\\pythonsoftwarefoundation.python.3.12_qbz5n2kfra8p0\\localcache\\local-packages\\python312\\site-packages (from trio~=0.17->selenium) (1.17.1)\n",
      "Requirement already satisfied: wsproto>=0.14 in c:\\users\\sdfri\\appdata\\local\\packages\\pythonsoftwarefoundation.python.3.12_qbz5n2kfra8p0\\localcache\\local-packages\\python312\\site-packages (from trio-websocket~=0.9->selenium) (1.2.0)\n",
      "Requirement already satisfied: pysocks!=1.5.7,<2.0,>=1.5.6 in c:\\users\\sdfri\\appdata\\local\\packages\\pythonsoftwarefoundation.python.3.12_qbz5n2kfra8p0\\localcache\\local-packages\\python312\\site-packages (from urllib3[socks]<3,>=1.26->selenium) (1.7.1)\n",
      "Requirement already satisfied: pycparser in c:\\users\\sdfri\\appdata\\local\\packages\\pythonsoftwarefoundation.python.3.12_qbz5n2kfra8p0\\localcache\\local-packages\\python312\\site-packages (from cffi>=1.14->trio~=0.17->selenium) (2.22)\n",
      "Requirement already satisfied: h11<1,>=0.9.0 in c:\\users\\sdfri\\appdata\\local\\packages\\pythonsoftwarefoundation.python.3.12_qbz5n2kfra8p0\\localcache\\local-packages\\python312\\site-packages (from wsproto>=0.14->trio-websocket~=0.9->selenium) (0.14.0)\n",
      "Note: you may need to restart the kernel to use updated packages.\n"
     ]
    }
   ],
   "source": [
    "# iremos começar com a 2ª opção\n",
    "\n",
    "# para isso iremos instalar o selenium\n",
    "%pip install selenium"
   ]
  },
  {
   "cell_type": "code",
   "execution_count": 21,
   "metadata": {},
   "outputs": [
    {
     "name": "stdout",
     "output_type": "stream",
     "text": [
      "Pilotos: ['1', '437', 'PTS', 'MAX', 'VERSTAPPEN', 'Red Bull Racing', '2', '374', 'PTS', 'LANDO', 'NORRIS', 'McLaren', '3', '356', 'PTS', 'CHARLES', 'LECLERC', 'Ferrari', '4', '292', 'PTS', 'OSCAR', 'PIASTRI', 'McLaren', '5', '290', 'PTS', 'CARLOS', 'SAINZ', 'Ferrari', '6', '245', 'PTS', 'GEORGE', 'RUSSELL', 'Mercedes', '7', '223', 'PTS', 'LEWIS', 'HAMILTON', 'Mercedes', '8', '152', 'PTS', 'SERGIO', 'PEREZ', 'Red Bull Racing', '9', '70', 'PTS', 'FERNANDO', 'ALONSO', 'Aston Martin', '10', '42', 'PTS', 'PIERRE', 'GASLY', 'Alpine', '11', '41', 'PTS', 'NICO', 'HULKENBERG', 'Haas', '12', '30', 'PTS', 'YUKI', 'TSUNODA', 'RB', '13', '24', 'PTS', 'LANCE', 'STROLL', 'Aston Martin', '14', '23', 'PTS', 'ESTEBAN', 'OCON', 'Alpine', '15', '16', 'PTS', 'KEVIN', 'MAGNUSSEN', 'Haas', '16', '12', 'PTS', 'ALEXANDER', 'ALBON', 'Williams', '17', '12', 'PTS', 'DANIEL', 'RICCIARDO', 'RB', '18', '7', 'PTS', 'OLIVER', 'BEARMAN', 'Haas', '19', '5', 'PTS', 'FRANCO', 'COLAPINTO', 'Williams', '20', '4', 'PTS', 'ZHOU', 'GUANYU', 'Kick Sauber', '21', '4', 'PTS', 'LIAM', 'LAWSON', 'RB', '22', '0', 'PTS', 'VALTTERI', 'BOTTAS', 'Kick Sauber', '23', '0', 'PTS', 'LOGAN', 'SARGEANT', 'Williams', '24', '0', 'PTS', 'JACK', 'DOOHAN', 'Alpine']\n",
      "Quantidade de pilotos: 144\n",
      "Nome do pilot: MAX\n"
     ]
    }
   ],
   "source": [
    "from selenium import webdriver\n",
    "from selenium.webdriver.common.by import By\n",
    "\n",
    "# abrindo o navegador\n",
    "driver = webdriver.Edge()\n",
    "\n",
    "# acessando o site da f1\n",
    "driver.get(\"https://www.formula1.com/en/drivers\")\n",
    "\n",
    "# agora vamos pegar o grid de pilotos\n",
    "#pilotos = driver.find_elements(By.CSS_SELECTOR, \"flex flex-col tablet:grid tablet:grid-cols-12 [&>*]:col-span-12 tablet:[&>*]:col-span-6 gap-xl laptop:[&>*]:col-span-4 desktop:[&>*:nth-child(-n+3)]:col-span-4 desktop:[&>*:nth-child(n+4)]:col-span-3flex flex-col tablet:grid tablet:grid-cols-12 [&>*]:col-span-12 tablet:[&>*]:col-span-6 gap-xl laptop:[&>*]:col-span-4 desktop:[&>*:nth-child(-n+3)]:col-span-4 desktop:[&>*:nth-child(n+4)]:col-span-3\")\n",
    "#pilotos = driver.find_elements(By.CSS_SELECTOR, \".flex.flex-col.tablet\\\\:grid.tablet\\\\:grid-cols-12.[&>*\\\\:col-span-12].tablet\\\\:[&>*\\\\:col-span-6].gap-xl.laptop\\\\:[&>*\\\\:col-span-4].desktop\\\\:[&>*\\\\:nth-child(-n+3)\\\\:col-span-4].desktop\\\\:[&>*\\\\:nth-child(n+4)\\\\:col-span-3\")\n",
    "pilotos = driver.find_elements(By.CSS_SELECTOR, \".flex.flex-col.tablet\\\\:grid\")\n",
    "# agora vamos pegar o nome dos pilotos\n",
    "texto = \"\\n\".join([piloto.text for piloto in pilotos])\n",
    "# imprimindo o texto\n",
    "#rint(f\"Texto sem tratamento: {texto}\")\n",
    "\n",
    "# fechando o navegador\n",
    "driver.quit()\n",
    "\n",
    "# agora vamos tratar o texto\n",
    "pilotos = texto.split(\"\\n\")\n",
    "print(f\"Pilotos: {pilotos}\")\n",
    "print(f\"Quantidade de pilotos: {len(pilotos)}\")\n",
    "\n",
    "print(f\"Nome do pilot: {pilotos[3]}\")\n"
   ]
  },
  {
   "cell_type": "code",
   "execution_count": 45,
   "metadata": {},
   "outputs": [
    {
     "name": "stdout",
     "output_type": "stream",
     "text": [
      "Nome dos pilotos: ['MAX VERSTAPPEN', 'LANDO NORRIS', 'CHARLES LECLERC', 'OSCAR PIASTRI', 'CARLOS SAINZ', 'GEORGE RUSSELL', 'LEWIS HAMILTON', 'SERGIO PEREZ', 'FERNANDO ALONSO', 'PIERRE GASLY', 'NICO HULKENBERG', 'YUKI TSUNODA', 'LANCE STROLL', 'ESTEBAN OCON', 'KEVIN MAGNUSSEN', 'ALEXANDER ALBON', 'DANIEL RICCIARDO', 'OLIVER BEARMAN', 'FRANCO COLAPINTO', 'ZHOU GUANYU', 'LIAM LAWSON', 'VALTTERI BOTTAS', 'LOGAN SARGEANT', 'JACK DOOHAN']\n",
      "Arquivo criado com sucesso\n"
     ]
    }
   ],
   "source": [
    "dados = []\n",
    "for i in range(0, len(pilotos),6):\n",
    "    if i +5 < len(pilotos):\n",
    "        driver_name = f\"{pilotos[i+3]} {pilotos[i+4]}\"\n",
    "        dados.append(driver_name)\n",
    "print(f\"Nome dos pilotos: {dados}\")\n",
    "\n",
    "\n",
    "# vamos criar o arquivo txt com os nomes dos pilotos\n",
    "\n",
    "with open(\"pilotos_nova_temporada.txt\", \"w\", encoding=\"utf-8\") as arquivo:\n",
    "    arquivo.write(\"\\n\".join(dados))\n",
    "\n",
    "print(\"Arquivo criado com sucesso\")\n"
   ]
  },
  {
   "cell_type": "code",
   "execution_count": 44,
   "metadata": {},
   "outputs": [
    {
     "name": "stdout",
     "output_type": "stream",
     "text": [
      "FERNANDO ALONSO\n",
      "DANIEL RICCIARDO\n",
      "LEWIS HAMILTON\n",
      "MAX VERSTAPPEN\n",
      "PIERRE GASLY\n",
      "VALTTERI BOTTAS\n",
      "LOGAN SARGEANT\n",
      "LIAM LAWSON\n",
      "SERGIO PEREZ\n",
      "ZHOU GUANYU\n",
      "OSCAR PIASTRI\n",
      "OLIVER BEARMAN\n",
      "YUKI TSUNODA\n",
      "KEVIN MAGNUSSEN\n",
      "LANDO NORRIS\n",
      "CHARLES LECLERC\n",
      "ALEXANDER ALBON\n",
      "FRANCO COLAPINTO\n",
      "ESTEBAN OCON\n",
      "CARLOS SAINZ\n",
      "NICO HULKENBERG\n",
      "GEORGE RUSSELL\n",
      "JACK DOOHAN\n",
      "LANCE STROLL\n",
      "Pilotos embaralhados: ['FERNANDO ALONSO', 'DANIEL RICCIARDO', 'LEWIS HAMILTON', 'MAX VERSTAPPEN', 'PIERRE GASLY', 'VALTTERI BOTTAS', 'LOGAN SARGEANT', 'LIAM LAWSON', 'SERGIO PEREZ', 'ZHOU GUANYU', 'OSCAR PIASTRI', 'OLIVER BEARMAN', 'YUKI TSUNODA', 'KEVIN MAGNUSSEN', 'LANDO NORRIS', 'CHARLES LECLERC', 'ALEXANDER ALBON', 'FRANCO COLAPINTO', 'ESTEBAN OCON', 'CARLOS SAINZ', 'NICO HULKENBERG', 'GEORGE RUSSELL', 'JACK DOOHAN', 'LANCE STROLL']\n"
     ]
    },
    {
     "data": {
      "text/plain": [
       "' sorteio = choices(dados, k=20)\\nprint(f\"Sorteio: {sorteio}\")    \\n '"
      ]
     },
     "execution_count": 44,
     "metadata": {},
     "output_type": "execute_result"
    }
   ],
   "source": [
    "# agora vamos fazer o sorteio\n",
    "from random import choices, shuffle\n",
    "\n",
    "# adicionando uma quantidade de pontos por posição\n",
    "pontos_por_posicao = {\n",
    "    1: 25,\n",
    "    2: 18,\n",
    "    3: 15,\n",
    "    4: 12,\n",
    "    5: 10,\n",
    "    6: 8,\n",
    "    7: 6,\n",
    "    8: 4,\n",
    "    9: 2,\n",
    "    10: 1,\n",
    "    11: 0,\n",
    "    12: 0,  # até a 20 posição\n",
    "    \n",
    "}\n",
    "\n",
    "# embaralhando a lista de pilotos\n",
    "\n",
    "shuffle(dados)\n",
    "for nomes in dados:\n",
    "    print(nomes)\n",
    "\n",
    "print(f\"Pilotos embaralhados: {dados}\")\n",
    "\"\"\" sorteio = choices(dados, k=20)\n",
    "print(f\"Sorteio: {sorteio}\")    \n",
    " \"\"\""
   ]
  }
 ],
 "metadata": {
  "kernelspec": {
   "display_name": "Python 3",
   "language": "python",
   "name": "python3"
  },
  "language_info": {
   "codemirror_mode": {
    "name": "ipython",
    "version": 3
   },
   "file_extension": ".py",
   "mimetype": "text/x-python",
   "name": "python",
   "nbconvert_exporter": "python",
   "pygments_lexer": "ipython3",
   "version": "3.12.8"
  }
 },
 "nbformat": 4,
 "nbformat_minor": 2
}

{
 "cells": [
  {
   "cell_type": "markdown",
   "metadata": {},
   "source": [
    "Proposta: Campeonato de Fórmula 1   \n",
    "Para este exercício, vamos precisar de criar código para gerir um campeonato de F1.  Descrição do Problema:  \n",
    " Neste exercício, vamos criar um programa para organizar um campeonato de Fórmula \n",
    "1. \n",
    " Temos como input um ficheiro com resultados que deveremos guardar internamente \n",
    "para criar um historial de provas.  \n",
    " Teremos  também  de  criar  a  classificação  geral  do  campeonato,  mostrando  a  tabela \n",
    "ordenada, por pontos.  \n",
    " Em cada prova, cada lugar dos pilotos contabiliza uma determinada pontuação: \n",
    "o Primeiro colocado: 25 pontos  \n",
    "o Segundo colocado: 18 pontos \n",
    "o Terceiro colocado: 15 pontos  \n",
    "o Quarto colocado: 12 pontos  \n",
    "o Quinto colocado: 10 pontos  \n",
    "o Sexto colocado: 8 pontos  \n",
    "o Sétimo colocado: 6 pontos  \n",
    "o Oitavo colocado: 4 pontos  \n",
    "o Nono colocado: 2 pontos  \n",
    "o Décimo colocado: 1 pontos  Desenvolver: Para resolver este problema, vamos usar: \n",
    " tipos \n"
   ]
  },
  {
   "cell_type": "code",
   "execution_count": null,
   "metadata": {
    "vscode": {
     "languageId": "plaintext"
    }
   },
   "outputs": [],
   "source": []
  }
 ],
 "metadata": {
  "language_info": {
   "name": "python"
  }
 },
 "nbformat": 4,
 "nbformat_minor": 2
}

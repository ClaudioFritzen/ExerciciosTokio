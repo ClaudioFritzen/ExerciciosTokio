{
 "cells": [
  {
   "cell_type": "code",
   "execution_count": 46,
   "metadata": {},
   "outputs": [],
   "source": [
    "import json \n"
   ]
  },
  {
   "cell_type": "code",
   "execution_count": 47,
   "metadata": {},
   "outputs": [],
   "source": [
    "x = '{\"name\": \"John\", \"age\":\"30\", \"city\": \"New York\"}'"
   ]
  },
  {
   "cell_type": "code",
   "execution_count": 48,
   "metadata": {},
   "outputs": [],
   "source": [
    "y = json.loads(x)"
   ]
  },
  {
   "cell_type": "code",
   "execution_count": 49,
   "metadata": {},
   "outputs": [
    {
     "name": "stdout",
     "output_type": "stream",
     "text": [
      "{'name': 'John', 'age': '30', 'city': 'New York'}\n"
     ]
    }
   ],
   "source": [
    "print(y)"
   ]
  },
  {
   "cell_type": "code",
   "execution_count": 50,
   "metadata": {},
   "outputs": [
    {
     "name": "stdout",
     "output_type": "stream",
     "text": [
      "30\n"
     ]
    }
   ],
   "source": [
    "print(y['age'])"
   ]
  },
  {
   "cell_type": "code",
   "execution_count": 51,
   "metadata": {},
   "outputs": [],
   "source": [
    "## converter algo em python em json\n",
    "z = {\"name\": \"John\", \"age\":\"30\", \"city\": \"New York\"}"
   ]
  },
  {
   "cell_type": "code",
   "execution_count": 52,
   "metadata": {},
   "outputs": [],
   "source": [
    "## transformando num json\n",
    "y = json.dumps(z)"
   ]
  },
  {
   "cell_type": "code",
   "execution_count": 53,
   "metadata": {},
   "outputs": [
    {
     "name": "stdout",
     "output_type": "stream",
     "text": [
      "{\"name\": \"John\", \"age\": \"30\", \"city\": \"New York\"}\n"
     ]
    }
   ],
   "source": [
    "print(y)"
   ]
  },
  {
   "cell_type": "code",
   "execution_count": 54,
   "metadata": {},
   "outputs": [
    {
     "name": "stdout",
     "output_type": "stream",
     "text": [
      "{\"name\": \"John\", \"age\": 30}\n"
     ]
    }
   ],
   "source": [
    "print(json.dumps({\"name\":\"John\", \"age\":30}))"
   ]
  },
  {
   "cell_type": "code",
   "execution_count": 55,
   "metadata": {},
   "outputs": [
    {
     "name": "stdout",
     "output_type": "stream",
     "text": [
      "[\"apple\", \"bananas\"]\n"
     ]
    }
   ],
   "source": [
    "# conversao de lista\n",
    "print(json.dumps([\"apple\", \"bananas\"]))"
   ]
  },
  {
   "cell_type": "code",
   "execution_count": 56,
   "metadata": {},
   "outputs": [
    {
     "name": "stdout",
     "output_type": "stream",
     "text": [
      "[\"apple\", \"bananas\"]\n"
     ]
    }
   ],
   "source": [
    "print(json.dumps((\"apple\", \"bananas\")))"
   ]
  },
  {
   "cell_type": "code",
   "execution_count": 57,
   "metadata": {},
   "outputs": [
    {
     "name": "stdout",
     "output_type": "stream",
     "text": [
      "\"Hello World\"\n",
      "20\n",
      "211.21\n",
      "true\n",
      "null\n"
     ]
    }
   ],
   "source": [
    "print(json.dumps(\"Hello World\"))\n",
    "print(json.dumps(20))\n",
    "print(json.dumps(211.21))\n",
    "print(json.dumps(True))\n",
    "print(json.dumps(None))"
   ]
  },
  {
   "cell_type": "code",
   "execution_count": 58,
   "metadata": {},
   "outputs": [],
   "source": [
    "zx = {\n",
    "    \"name\":\"John\",\n",
    "    \"age\": 30,\n",
    "    \"city\":\"Brasil\",\n",
    "    \"married\": True,\n",
    "    \"children\": [\"Ana\", \"Joaquina\"],\n",
    "    \"pet\": None,\n",
    "    \"car\": {\"model\": \"BMW\", \"version\": 2.0}\n",
    "}"
   ]
  },
  {
   "cell_type": "code",
   "execution_count": 59,
   "metadata": {},
   "outputs": [
    {
     "name": "stdout",
     "output_type": "stream",
     "text": [
      "{\"name\": \"John\", \"age\": 30, \"city\": \"Brasil\", \"married\": true, \"children\": [\"Ana\", \"Joaquina\"], \"pet\": null, \"car\": {\"model\": \"BMW\", \"version\": 2.0}}\n"
     ]
    }
   ],
   "source": [
    "print(json.dumps(zx))"
   ]
  },
  {
   "cell_type": "code",
   "execution_count": 63,
   "metadata": {},
   "outputs": [
    {
     "data": {
      "text/plain": [
       "'{\\n    \"age\": 30,\\n    \"car\": {\\n        \"model\": \"BMW\",\\n        \"version\": 2.0\\n    },\\n    \"children\": [\\n        \"Ana\",\\n        \"Joaquina\"\\n    ],\\n    \"city\": \"Brasil\",\\n    \"married\": true,\\n    \"name\": \"John\",\\n    \"pet\": null\\n}'"
      ]
     },
     "execution_count": 63,
     "metadata": {},
     "output_type": "execute_result"
    }
   ],
   "source": [
    "json.dumps(zx, indent=4, sort_keys=True)"
   ]
  },
  {
   "cell_type": "markdown",
   "metadata": {},
   "source": []
  }
 ],
 "metadata": {
  "kernelspec": {
   "display_name": "Python 3",
   "language": "python",
   "name": "python3"
  },
  "language_info": {
   "codemirror_mode": {
    "name": "ipython",
    "version": 3
   },
   "file_extension": ".py",
   "mimetype": "text/x-python",
   "name": "python",
   "nbconvert_exporter": "python",
   "pygments_lexer": "ipython3",
   "version": "3.12.8"
  }
 },
 "nbformat": 4,
 "nbformat_minor": 2
}

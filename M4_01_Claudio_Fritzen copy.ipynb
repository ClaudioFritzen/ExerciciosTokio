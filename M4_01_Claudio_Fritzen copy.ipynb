{
 "cells": [
  {
   "cell_type": "markdown",
   "metadata": {},
   "source": [
    "1.\n",
    " Exercício\n",
    " Criação\n",
    " • Crie a classe Pagamento com um construtor que aceite os parâmetros valor e moeda.\n",
    " • Adicione à classe um método processar_pagamento que imprime no ecrã a mensagem: “A processar \n",
    "pagamento de {valor} {moeda}”.\n",
    " • Crie a classe PagamentoOnline com um construtor que aceite os parâmetros valor, moeda e email.\n",
    " • Adicione à classe um método processar_pagamento que imprime no ecrã a mensagem: “A processar \n",
    "pagamento online de {valor} {moeda} para o email {email}”.\n",
    " • Crie a classe CartaoCredito que herda de Pagamento e PagamentoOnline, mas com prioridade para \n",
    "PagamentoOnline.\n",
    " • Crie a classe TransferenciaBancaria que herda de Pagamento e PagamentoOnline, mas com prioridade \n",
    "para Pagamento.\n",
    " • Criar os métodos super() para inicializar os atributos das classes \n",
    "CartaoCredito TransferenciaBancaria.\n",
    "CURSO: PROGRAMAÇÃO PYTHON\n",
    " EXERCÍCIOS DE CLASSES E OBJETOS\n",
    " Experimentar\n",
    " • Crie um objeto da classe CartaoCredito e outro da classe TransferenciaBancaria.\n",
    " • Chamar o método processar_pagamento de cada objeto e verificar se cada um responde \n",
    "adequadamente"
   ]
  },
  {
   "cell_type": "code",
   "execution_count": 34,
   "metadata": {},
   "outputs": [
    {
     "name": "stdout",
     "output_type": "stream",
     "text": [
      "Processando pagamento valor: 250.25, moeda Euro\n",
      "A processar pagamento Cartao de Credito de 157.99 Euro para o email cardcreetido@gmail.com\n",
      "A processar pagamento online de 250.25 Euro para o email emailteste@gmail.com\n",
      "A processar pagamento Transferencia Bancaria de 597.78 Euro\n"
     ]
    }
   ],
   "source": [
    "class Pagamento:\n",
    "    def __init__(self, valor, moeda):\n",
    "        self.valor = valor\n",
    "        self.moeda = moeda\n",
    "        #print(f\"Pagamento: {self.valor}, {self.moeda}\")\n",
    "\n",
    "    def processar_pagamento(self):\n",
    "        print(f\"Processando pagamento valor: {self.valor}, moeda {self.moeda}\")\n",
    "\n",
    "class PagamentoOnline:\n",
    "\n",
    "    def __init__(self, valor, moeda, email):\n",
    "        self.valor = valor\n",
    "        self.moeda = moeda\n",
    "        self.email = email\n",
    "    \n",
    "    def processar_pagamento(self):\n",
    "        print(f\"A processar pagamento online de {self.valor} {self.moeda} para o email {self.email}\")\n",
    "\n",
    "## prioridade entre heranças é sempre o que estiver mais à esquerda!\n",
    "class CartaoCredito(PagamentoOnline, Pagamento):\n",
    "\n",
    "    def __init__(self, valor, moeda, email):\n",
    "        super().__init__(valor, moeda, email)\n",
    "\n",
    "    def processar_pagamento(self):\n",
    "        print(f\"A processar pagamento Cartao de Credito de {self.valor} {self.moeda} para o email {self.email}\")\n",
    "   \n",
    "\n",
    "class TransferenciaBancaria(Pagamento, PagamentoOnline):\n",
    "    def __init__(self, valor, moeda):\n",
    "        super().__init__(valor, moeda)\n",
    "        \n",
    "    def processar_pagamento(self):\n",
    "        print(f\"A processar pagamento Transferencia Bancaria de {self.valor} {self.moeda}\")\n",
    "\n",
    "\n",
    "pagamento = Pagamento(250.25, \"Euro\").processar_pagamento()\n",
    "cartao_de_credito = CartaoCredito(157.99, \"Euro\", \"cardcreetido@gmail.com\").processar_pagamento()\n",
    "pagamento_Online = PagamentoOnline(250.25, \"Euro\", \"emailteste@gmail.com\").processar_pagamento()\n",
    "tranferencia = TransferenciaBancaria(597.78, \"Euro\").processar_pagamento()"
   ]
  },
  {
   "cell_type": "markdown",
   "metadata": {},
   "source": [
    "2ª exercicio\n",
    "\n",
    "Crie a classe Despesa com o atributo dados, que é um dicionario com as chaves: id, descrição,valor.\n",
    "\n",
    "Crie um construtor com os parâmentros id, descrição e valor e inicialize o dicionário dados com esses valores.\n",
    "\n",
    "Adicione à classe Despesa o método mostrar_informação que imprime toda informação do dicionario dados.\n",
    "\n",
    "\n",
    "### Crie a classe DespesaFixa que herda de Despesa.\n",
    "\n",
    "#### na classe DespesaFixa adicione ao dicionario dados a chave \"frequencia\", e no construtor desta classe.\n",
    "\n",
    "#### Crie um método calcular_total_anual que calcula o total anual com base na frequência(mensal, semanal).\n",
    "\n"
   ]
  },
  {
   "cell_type": "code",
   "execution_count": 35,
   "metadata": {},
   "outputs": [
    {
     "name": "stdout",
     "output_type": "stream",
     "text": [
      "Id:1677\n",
      "Descrição:placa de video\n",
      "Valor:190\n"
     ]
    }
   ],
   "source": [
    "class Despesa:\n",
    "\n",
    "    def __init__(self, id, descricao, valor):\n",
    "        self.dados = {\n",
    "            \"id\":id,\n",
    "            \"descrição\": descricao,\n",
    "            \"valor\": valor\n",
    "        }\n",
    "    \n",
    "    def mostrar_informacao(self):\n",
    "        for chave, valor in self.dados.items():\n",
    "            print(f\"{chave.capitalize()}:{valor}\")\n",
    "\n",
    "\n",
    "# exem\n",
    "despesa = Despesa(1677, \"placa de video\", 190)\n",
    "despesa.mostrar_informacao()"
   ]
  },
  {
   "cell_type": "markdown",
   "metadata": {},
   "source": [
    "\n",
    "### Crie a classe DespesaFixa que herda de Despesa.\n",
    "\n",
    "#### na classe DespesaFixa adicione ao dicionario dados a chave \"frequencia\", e no construtor desta classe.\n",
    "\n",
    "#### Crie um método calcular_total_anual que calcula o total anual com base na frequência(mensal, semanal)."
   ]
  },
  {
   "cell_type": "code",
   "execution_count": 36,
   "metadata": {},
   "outputs": [
    {
     "name": "stdout",
     "output_type": "stream",
     "text": [
      "Gastos fixo durante um ano 7200\n",
      "Id:158\n",
      "Descrição:agua e luz + aluguel + telemovel\n",
      "Valor:600\n",
      "Frequencia:1\n"
     ]
    }
   ],
   "source": [
    "class DespesaFixa(Despesa):\n",
    "    def __init__(self, id, descricao, valor, frequencia ):\n",
    "        super().__init__(id, descricao, valor)\n",
    "\n",
    "        # essa forma adiciona ao dict da classe pai\n",
    "        self.dados[\"frequencia\"] = frequencia\n",
    "\n",
    "    def calcular_total_anual(self):\n",
    "        total_anual = self.dados[\"valor\"] * 12\n",
    "        print(f\"Gastos fixo durante um ano {total_anual}\")\n",
    "\n",
    "    def mostrar_informacao(self):\n",
    "        # super() faz referencia a classe pai, \n",
    "        super().mostrar_informacao()\n",
    "        #Todo ao pegar o contrutor, ja esta incluido o frequencia no for\n",
    "        \"\"\" print(\"AQUI\")\n",
    "        print(f\"Frequencia: {self.dados[\"frequencia\"]}\") \"\"\"\n",
    "\n",
    "gastosFixo = DespesaFixa(158, \"agua e luz + aluguel + telemovel\", 600,1)\n",
    "gastosFixo.calcular_total_anual()\n",
    "gastosFixo.mostrar_informacao()"
   ]
  },
  {
   "cell_type": "markdown",
   "metadata": {},
   "source": [
    "#### Crie a classe DespesaVariavel que herda Despesa.\n",
    "\n",
    "##### Na classe DespesaVariavel adicione ao dicionario dados a chave \"categoria\", e no construtor desta classe.\n",
    "\n",
    "#### Crie um método calcular_total_anual que assume um valor médio mensal multiplicando por 12.\n",
    "\n"
   ]
  },
  {
   "cell_type": "code",
   "execution_count": 37,
   "metadata": {},
   "outputs": [
    {
     "name": "stdout",
     "output_type": "stream",
     "text": [
      "Num ano você gastaria: 240 £.\n",
      "Id:157\n",
      "Descrição:Barbearia\n",
      "Valor:20\n",
      "Categoria:Cosmetico\n"
     ]
    }
   ],
   "source": [
    "\n",
    "class DespesaVariavel(Despesa):\n",
    "\n",
    "    def __init__(self, id, descricao, valor,categoria):\n",
    "        super().__init__(id, descricao, valor)\n",
    "\n",
    "        # essa forma adiciona ao dict da classe pai\n",
    "        self.dados[\"categoria\"] = categoria\n",
    "    \n",
    "    def mostrar_informacao(self):\n",
    "        # super() faz referencia a classe pai, \n",
    "        super().mostrar_informacao()\n",
    "    \n",
    "    def calcular_total_anual(self):\n",
    "\n",
    "        total_anual_variavel = self.dados[\"valor\"] * 12\n",
    "        \n",
    "        print(f\"Num ano você gastaria: {total_anual_variavel} £.\")\n",
    "despesaVarial = DespesaVariavel(157, \"Barbearia\", 20, \"Cosmetico\")\n",
    "\n",
    "despesaVarial.calcular_total_anual()\n",
    "despesaVarial.mostrar_informacao()"
   ]
  },
  {
   "cell_type": "markdown",
   "metadata": {},
   "source": [
    "##### Crie a classe DespesaOCasional que herde de despesa\n",
    "\n",
    "Na classe DespesaOcasional adicione ao dicionario dados a chave \"data\", e no construtor da classe.\n",
    "\n",
    "##### Crie um método calcular_total_anual que retorna o valor da própria despesa.\n",
    "\n"
   ]
  },
  {
   "cell_type": "code",
   "execution_count": 41,
   "metadata": {},
   "outputs": [
    {
     "name": "stdout",
     "output_type": "stream",
     "text": [
      "Id:1\n",
      "Descrição:Jantar Restante\n",
      "Valor:34.66\n",
      "Data:10/11/24\n",
      "415.92\n"
     ]
    }
   ],
   "source": [
    "class DespesaOcasional(Despesa):\n",
    "    def __init__(self, id, descricao, valor, data):\n",
    "        super().__init__(id, descricao, valor)\n",
    "\n",
    "        self.dados[\"data\"] = data\n",
    "    \n",
    "    def mostrar_informacao(self):\n",
    "        return super().mostrar_informacao()\n",
    "    \n",
    "    def calcular_total(self):\n",
    "        \n",
    "        total_anual = self.dados[\"valor\"] * 12\n",
    "        print(f\"{total_anual:.2f}\")\n",
    "\n",
    "despesaocasional = DespesaOcasional(1, \"Jantar Restante\", 34.66,\"10/11/24\")\n",
    "despesaocasional.mostrar_informacao()\n",
    "despesaocasional.calcular_total()\n"
   ]
  }
 ],
 "metadata": {
  "kernelspec": {
   "display_name": "Python 3",
   "language": "python",
   "name": "python3"
  },
  "language_info": {
   "codemirror_mode": {
    "name": "ipython",
    "version": 3
   },
   "file_extension": ".py",
   "mimetype": "text/x-python",
   "name": "python",
   "nbconvert_exporter": "python",
   "pygments_lexer": "ipython3",
   "version": "3.12.7"
  }
 },
 "nbformat": 4,
 "nbformat_minor": 2
}

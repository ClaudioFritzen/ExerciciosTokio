{
 "cells": [
  {
   "cell_type": "code",
   "execution_count": 186,
   "metadata": {},
   "outputs": [
    {
     "data": {
      "text/plain": [
       "'\\n1. Exercício\\n\\nCriação\\n\\n- Crie uma classe chamada Ponto com os atributos X e Y.\\n\\n- Adicione um construtor que inicialize X e Y com valores padrão zero.\\n\\n- Implemente o método str para exibir o ponto no formato (X,Y).\\n\\n- Adicione um método quadrante para indicar a que quadrante pertence o ponto ou se\\nestá na origem.\\n\\n- Adicione um método vetor que recebe outro objeto ponto e calcula o vetor resultante\\nentre os dois objetos pontos.\\n\\n'"
      ]
     },
     "execution_count": 186,
     "metadata": {},
     "output_type": "execute_result"
    }
   ],
   "source": [
    "\"\"\"\n",
    "1. Exercício\n",
    "\n",
    "Criação\n",
    "\n",
    "- Crie uma classe chamada Ponto com os atributos X e Y.\n",
    "\n",
    "- Adicione um construtor que inicialize X e Y com valores padrão zero.\n",
    "\n",
    "- Implemente o método str para exibir o ponto no formato (X,Y).\n",
    "\n",
    "- Adicione um método quadrante para indicar a que quadrante pertence o ponto ou se\n",
    "está na origem.\n",
    "\n",
    "- Adicione um método vetor que recebe outro objeto ponto e calcula o vetor resultante\n",
    "entre os dois objetos pontos.\n",
    "\n",
    "\"\"\""
   ]
  },
  {
   "cell_type": "code",
   "execution_count": 187,
   "metadata": {},
   "outputs": [
    {
     "data": {
      "text/plain": [
       "'\\nExperiência\\n- Criar os pontos A(2, 3), B(5,5), C(-3, -1) e D(0,0).\\n- Verifique a que quadrantes pertencem os pontos A, C e D.\\n- Calcule os vetores AB e BA e exiba os resultados.\\n'"
      ]
     },
     "execution_count": 187,
     "metadata": {},
     "output_type": "execute_result"
    }
   ],
   "source": [
    "\"\"\"\n",
    "Experiência\n",
    "- Criar os pontos A(2, 3), B(5,5), C(-3, -1) e D(0,0).\n",
    "- Verifique a que quadrantes pertencem os pontos A, C e D.\n",
    "- Calcule os vetores AB e BA e exiba os resultados.\n",
    "\"\"\""
   ]
  },
  {
   "cell_type": "code",
   "execution_count": 188,
   "metadata": {},
   "outputs": [],
   "source": [
    "class Ponto:\n",
    "    X = 0\n",
    "    Y = 0\n",
    "\n",
    "    def __init__(self, new_X, new_Y):\n",
    "        self.X = new_X\n",
    "        self.Y = new_Y\n",
    "\n",
    "        print(f\"Valores de X ({self.X}) and value Y ({self.Y})\")\n",
    "\n",
    "    def quadrante(self):\n",
    "\n",
    "        if self.X == 0 and self.Y == 0:\n",
    "            print(f\"Está no quadrante inicial\")\n",
    "            return self.X, self.Y\n",
    "\n",
    "        elif self.X > 0 and self.Y > 0:\n",
    "            print(f\"Você está no 1ª Quadrante!\")\n",
    "\n",
    "        elif self.X < 0 and self.Y > 0:\n",
    "            print(f\"Você está no 2ª Quadrante!\")\n",
    "\n",
    "        elif self.X < 0 and self.Y < 0:\n",
    "            print(f\"Você está no 3ª Quadrante!\")\n",
    "\n",
    "        elif self.X > 0 and self.Y < 0:\n",
    "            print(f\"Você está no 4ª Quadrante!\")\n",
    "        else:\n",
    "\n",
    "            print(\"Bugou o sistema!\")\n",
    "    \n",
    "    def __str__(self):\n",
    "\n",
    "        return f\"Ponto (X {self.X} e Y {self.Y})\"\n",
    "    \n",
    "    def vetor(self, outro_ponto):\n",
    "        return(outro_ponto.X - self.X, outro_ponto.Y - self.Y)\n"
   ]
  },
  {
   "cell_type": "code",
   "execution_count": 189,
   "metadata": {},
   "outputs": [
    {
     "name": "stdout",
     "output_type": "stream",
     "text": [
      "Valores de X (2) and value Y (3)\n",
      "Você está no 1ª Quadrante!\n",
      "\n",
      "\n",
      "Valores de X (5) and value Y (5)\n",
      "Você está no 1ª Quadrante!\n",
      "\n",
      "\n",
      "Valores de X (-3) and value Y (-1)\n",
      "Você está no 3ª Quadrante!\n",
      "\n",
      "\n",
      "Valores de X (0) and value Y (0)\n",
      "Está no quadrante inicial\n",
      "\n",
      "\n",
      "Valores de X (-4) and value Y (4)\n",
      "Você está no 2ª Quadrante!\n",
      "\n",
      "\n",
      "Valores de X (4) and value Y (-4)\n",
      "Você está no 4ª Quadrante!\n",
      "\n",
      "\n",
      "---------- __str()__\n",
      "Ponto (X 2 e Y 3)\n",
      "Ponto (X 5 e Y 5)\n",
      "Ponto (X -3 e Y -1)\n",
      "Ponto (X 0 e Y 0)\n",
      "Ponto (X -4 e Y 4)\n",
      "Ponto (X 4 e Y -4)\n",
      "---------- Diferença entre vetores!\n",
      "Diferença entre os  Vetores entre A e B: (3, 2)\n",
      "Diferença entre os  Vetores entre B e A: (-3, -2)\n"
     ]
    }
   ],
   "source": [
    "\n",
    "A = Ponto(2, 3)\n",
    "A.quadrante()\n",
    "print(\"\\n\")\n",
    "\n",
    "B = Ponto(5, 5)\n",
    "B.quadrante()\n",
    "print(\"\\n\")\n",
    "\n",
    "C = Ponto(-3, -1)\n",
    "C.quadrante()\n",
    "print(\"\\n\")\n",
    "\n",
    "D = Ponto(0, 0)\n",
    "D.quadrante()\n",
    "print(\"\\n\")\n",
    "\n",
    "E = Ponto(-4, 4)\n",
    "E.quadrante()\n",
    "print(\"\\n\")\n",
    "\n",
    "F = Ponto(4, -4)\n",
    "F.quadrante()\n",
    "print(\"\\n\")\n",
    "\n",
    "print(10 * \"-\", \"__str()__\")\n",
    "\n",
    "print(str(A))\n",
    "print(str(B))\n",
    "print(str(C))\n",
    "print(str(D))\n",
    "print(str(E))\n",
    "print(str(F))\n",
    "\n",
    "print(10 * \"-\", \"Diferença entre vetores!\")\n",
    "\n",
    "# aqui faremos A - B\n",
    "diferença_vetor_A_pro_B = A.vetor(B)\n",
    "diferença_vetor_B_pro_A = B.vetor(A)\n",
    "print(f\"Diferença entre os  Vetores entre A e B: {diferença_vetor_A_pro_B}\")\n",
    "print(f\"Diferença entre os  Vetores entre B e A: {diferença_vetor_B_pro_A}\")"
   ]
  },
  {
   "cell_type": "code",
   "execution_count": 190,
   "metadata": {},
   "outputs": [
    {
     "data": {
      "text/plain": [
       "'\\n2. Exercício\\nCriação\\n- Crie uma classe chamada Retângulo com dois atributos do tipo Ponto (inicial e final) \\nrepresentando a diagonal do retângulo.\\n- Adicione um método construtor (init) que inicialize os atributos pontos.\\n- Adicione um método chamado base que calcula e retorna a base do retângulo.\\n- Adicione um método chamado altura que calcula e retorna a altura do retângulo.\\n- Adicione um método chamado área que calcula e retorna a área do retângulo.\\nDicas:\\n- Use a função abs() para encontrar o valor absoluto.\\n- Para calcular a base e a altura, subtraia as coordenadas dos \\npontos.\\n- A área do retângulo é calculada multiplicando a base pela \\naltura.\\n'"
      ]
     },
     "execution_count": 190,
     "metadata": {},
     "output_type": "execute_result"
    }
   ],
   "source": [
    "\"\"\"\n",
    "2. Exercício\n",
    "Criação\n",
    "- Crie uma classe chamada Retângulo com dois atributos do tipo Ponto (inicial e final) \n",
    "representando a diagonal do retângulo.\n",
    "- Adicione um método construtor (init) que inicialize os atributos pontos.\n",
    "- Adicione um método chamado base que calcula e retorna a base do retângulo.\n",
    "- Adicione um método chamado altura que calcula e retorna a altura do retângulo.\n",
    "- Adicione um método chamado área que calcula e retorna a área do retângulo.\n",
    "Dicas:\n",
    "- Use a função abs() para encontrar o valor absoluto.\n",
    "- Para calcular a base e a altura, subtraia as coordenadas dos \n",
    "pontos.\n",
    "- A área do retângulo é calculada multiplicando a base pela \n",
    "altura.\n",
    "\"\"\""
   ]
  },
  {
   "cell_type": "code",
   "execution_count": 191,
   "metadata": {},
   "outputs": [],
   "source": [
    "### refazendo o codigo\n",
    "\n",
    "## para sabermos a area do retangulo é feita a base * altura\n",
    "\n",
    "class Pontos:\n",
    "    x = 0\n",
    "    y = 0\n",
    "\n",
    "    def __init__(self, new_x, new_y):\n",
    "\n",
    "        self.x = new_x\n",
    "        self.y = new_y\n",
    "        \n",
    "        print(\"OK\")\n",
    "    \n",
    "    def __str__(self):\n",
    "        return f\"{self.x} and {self.y}\"\n",
    "    \n",
    "class Retângulo:\n",
    "    \n",
    "    ponto_inicial = 0\n",
    "    ponto_final = 0\n",
    "\n",
    "    def __init__(self, new_ponto_inicial, new_ponto_final):\n",
    "\n",
    "        self.ponto_inicial = new_ponto_inicial\n",
    "        self.ponto_final = new_ponto_final\n",
    "\n",
    "        print(\"Retângulo criado\")\n",
    "        \n",
    "    def base(self):\n",
    "        base = self.ponto_inicial\n",
    "        \n",
    "        return base\n",
    "\n",
    "    def altura(self):\n",
    "        altura = self.ponto_final\n",
    "        return altura\n",
    "\n",
    "    def area(self):\n",
    "\n",
    "        area = self.base * self.altura\n",
    "        \n",
    "        return area\n",
    "    \n"
   ]
  },
  {
   "cell_type": "markdown",
   "metadata": {},
   "source": [
    "import math\n",
    "\n",
    "opcao = \"\"\" {k1}: {v1}\n",
    "            {k2}: {v2}\n",
    "            {k3}: {v3}\n",
    "            {k4}: {v4}\n",
    "\"\"\"\n",
    "print(type(opcao))\n",
    "\n",
    "\n",
    "class Pontos:\n",
    "\n",
    "    def __init__(self, x, y):\n",
    "\n",
    "        self.x = x\n",
    "        self.y = y\n",
    "\n",
    "\n",
    "class Retangulo:\n",
    "\n",
    "\n",
    "\n",
    "    def __init__(self, new_ponto_inicial, new_ponto_final):\n",
    "        self.ponto_inicial = new_ponto_inicial\n",
    "        self.ponto_final = new_ponto_final\n",
    "    \n",
    "\n",
    "    ### getter and setters\n",
    "\n",
    "    \n",
    "    def diagonal_com_base_altura(self):\n",
    "\n",
    "        # formula d2 = l2 + h2\n",
    "        diagonal_com_base_altura = (self.ponto_inicial ** 2 ) +  (self.ponto_final ** 2)\n",
    "        print(f\"Antes da raiz  {diagonal_com_base_altura}\")\n",
    "        \n",
    "        # não entendi o pq\n",
    "        #diagonal_com_base_altura_calculada = abs(math.sqrt(diagonal_com_base_altura))\n",
    "        return f\"A diagonal do retangulo é {diagonal_com_base_altura}\"\n",
    "    \n",
    "    def perimetro(self):\n",
    "\n",
    "        P = 2 * self.ponto_inicial.X + 2 * self.ponto_final.Y\n",
    "        print(P)\n",
    "        # como faremos para descobrir a base??\n",
    "\n",
    "        #pegaramos o ponto inicial e \n",
    "\n",
    "    def area(self, new_base, new_altura):\n",
    "        base_calculada = new_base * new_altura\n",
    "        return f\"A area de um retangulo é base {new_base} X {new_altura} = Area total desse retangulo é {base_calculada} \"\n",
    "\n",
    "    "
   ]
  },
  {
   "cell_type": "code",
   "execution_count": 192,
   "metadata": {},
   "outputs": [
    {
     "name": "stdout",
     "output_type": "stream",
     "text": [
      "OK\n",
      "OK\n"
     ]
    }
   ],
   "source": [
    "a = Pontos(2,3)\n",
    "b = Pontos(5,5)\n",
    "\n"
   ]
  },
  {
   "cell_type": "markdown",
   "metadata": {},
   "source": [
    "link_usado_como_referencia = \"https://www.omnicalculator.com/pt/matematica/diagonal-do-retangulo#como-encontrar-a-diagonal-de-um-retangulo-dados-os-lados\"\n",
    "\n",
    "l = 3\n",
    "w = 5\n",
    "\n",
    "d = l ** 2 + w ** 2 \n",
    "\n",
    "\n",
    "\n",
    "\n",
    "diametro = abs(math.sqrt(d))\n",
    "\n",
    "print(abs(diametro))\n",
    "print( f\"A diaconal do retangulo é sem calculo{d}\")\n",
    "print(f\"Se a largura for {l} e a altura for {w} o diagonal desse retangulo será de {diametro:.3f}\")"
   ]
  },
  {
   "cell_type": "code",
   "execution_count": null,
   "metadata": {},
   "outputs": [],
   "source": []
  },
  {
   "cell_type": "markdown",
   "metadata": {},
   "source": [
    "ponto_inicial = Pontos(1,2)\n",
    "ponto_final = Pontos(4,6)\n",
    "\n",
    "retangulo1 = Retangulo(1,2)\n",
    "\n",
    "\n",
    "\n",
    "print(retangulo1.area(5,8))\n",
    "print(retangulo1.diagonal_com_base_altura())\n"
   ]
  },
  {
   "cell_type": "markdown",
   "metadata": {},
   "source": [
    "print(\"Novo\")\n",
    "print(retangulo1.perimetro())"
   ]
  },
  {
   "cell_type": "code",
   "execution_count": 193,
   "metadata": {},
   "outputs": [
    {
     "name": "stdout",
     "output_type": "stream",
     "text": [
      "OK\n",
      "OK\n",
      "2 and 3\n"
     ]
    }
   ],
   "source": [
    "A = Pontos(2,3)\n",
    "B = Pontos(5,5)\n",
    "\n",
    "print(str(A))\n"
   ]
  },
  {
   "cell_type": "code",
   "execution_count": 194,
   "metadata": {},
   "outputs": [
    {
     "data": {
      "text/plain": [
       "'\\n3. Exercício\\nCriação\\n- Crie uma classe chamada Veículo com os seguintes atributos: cor e rodas\\n- Adicione um construtor (init) para inicializar os atributos cor e rodas.\\n- Implemente o método (str) para retornar as informações do veículo.\\n- Crie uma classe Carro que herda de Veículo, e acrescente os seguintes atributos: velocidade e \\ncilindrada.\\n- Adicione um construtor que inicializa os atributos velocidade e cilindrada, além dos herdados.\\n- Implemente o método (str) na classe Carro para retornar as informações do carro.\\n- Crie as seguintes classes herdadas de Veículo: Bicicleta, Moto, Camião\\n- Adicione construtores para essas classes que inicializem os atributos herdados.\\n- Crie uma classe chamada Concessionário\\n\\n\\n'"
      ]
     },
     "execution_count": 194,
     "metadata": {},
     "output_type": "execute_result"
    }
   ],
   "source": [
    "\"\"\"\n",
    "3. Exercício\n",
    "Criação\n",
    "- Crie uma classe chamada Veículo com os seguintes atributos: cor e rodas\n",
    "- Adicione um construtor (init) para inicializar os atributos cor e rodas.\n",
    "- Implemente o método (str) para retornar as informações do veículo.\n",
    "- Crie uma classe Carro que herda de Veículo, e acrescente os seguintes atributos: velocidade e \n",
    "cilindrada.\n",
    "- Adicione um construtor que inicializa os atributos velocidade e cilindrada, além dos herdados.\n",
    "- Implemente o método (str) na classe Carro para retornar as informações do carro.\n",
    "- Crie as seguintes classes herdadas de Veículo: Bicicleta, Moto, Camião\n",
    "- Adicione construtores para essas classes que inicializem os atributos herdados.\n",
    "- Crie uma classe chamada Concessionário\n",
    "\n",
    "\n",
    "\"\"\""
   ]
  },
  {
   "cell_type": "code",
   "execution_count": 195,
   "metadata": {},
   "outputs": [],
   "source": [
    "class Veiculo:\n",
    "\n",
    "    def __init__(self, cor, rodas):\n",
    "        self.cor = cor\n",
    "        self.rodas = rodas\n",
    "\n",
    "    def __str__(self):\n",
    "        return f\"Informações do veiculo - Cor: {self.cor}, Rodas: {self.rodas}\"\n",
    "    \n",
    "class Carro(Veiculo):\n",
    "\n",
    "    def __init__(self, cor, rodas, velocidade, cilindrada ):\n",
    "        super().__init__(cor, rodas)\n",
    "\n",
    "        self.velocidade = velocidade\n",
    "        self.cilindrada = cilindrada\n",
    "    \n",
    "    def __str__(self):\n",
    "        return f\"Carro - Cor: {self.cor}, Rodas: {self.rodas}, Velocidade: {self.velocidade} km/h, Cilindrada: {self.cilindrada} cc\"\n",
    "\n",
    "    \n",
    "class Bicicleta(Veiculo):\n",
    "\n",
    "    def __init__(self, cor, rodas = 2):\n",
    "        super().__init__(cor, rodas)\n",
    "\n",
    "    def __str__(self):\n",
    "        return f\"Bicicleta - Cor: {self.cor}, Rodas {self.rodas}\"\n",
    "    \n",
    "class Moto(Veiculo):\n",
    "\n",
    "    def __init__(self, cor, rodas, cilindradas):\n",
    "        super().__init__(cor, rodas)\n",
    "\n",
    "        self.cilindradas = cilindradas\n",
    "\n",
    "    \n",
    "    def __str__(self):\n",
    "        return f\"Moto(Cor: {self.cor}, Rodas: {self.rodas}, Cilindradas: {self.cilindradas}) \"\n",
    "\n",
    "\n",
    "class Caminhao(Veiculo):\n",
    "    def __init__(self, cor, rodas, toneladas):\n",
    "        super().__init__(cor, rodas)\n",
    "        self.toneladas = toneladas\n",
    "            \n",
    "    def __str__(self):\n",
    "        return f\"Camião - Cor: {self.cor}, Rodas: {self.rodas}, Capacidade: {self.toneladas} toneladas\"\n",
    "\n",
    "    \n",
    "    \n",
    "class Concessionario:\n",
    "    def __init__(self):\n",
    "        self.veiculos = []\n",
    "\n",
    "    def adicionar_veiculo(self, veiculo):\n",
    "        self.veiculos.append(veiculo)\n",
    "\n",
    "    def listar_veiculos(self):\n",
    "        for veiculo in self.veiculos:\n",
    "            print(veiculo)\n",
    "\n",
    "    \n",
    "    def catalogar(self, lista_veiculos):\n",
    "        for veiculo in lista_veiculos:\n",
    "            print(f\"{type(veiculo).__name__}: {veiculo} \")\n",
    "    \n",
    "    def filtrar(self, lista_veiculos, tipo_veiculo):\n",
    "        veiculos_filtrado = [veiculo for veiculo in lista_veiculos if isinstance(veiculo, tipo_veiculo)]\n",
    "        return veiculos_filtrado"
   ]
  },
  {
   "cell_type": "markdown",
   "metadata": {},
   "source": []
  },
  {
   "cell_type": "code",
   "execution_count": 196,
   "metadata": {},
   "outputs": [
    {
     "name": "stdout",
     "output_type": "stream",
     "text": [
      "Listar Veiculos\n",
      "Carro - Cor: Preto, Rodas: 5, Velocidade: 220 km/h, Cilindrada: 90 cc\n",
      "Carro - Cor: Branco, Rodas: 5, Velocidade: 320 km/h, Cilindrada: 150 cc\n",
      "Bicicleta - Cor: Roxa, Rodas 2\n",
      "Bicicleta - Cor: Marron, Rodas 2\n",
      "Moto(Cor: Preta, Rodas: 2, Cilindradas: 600) \n",
      "Moto(Cor: Azul, Rodas: 2, Cilindradas: 160) \n",
      "Camião - Cor: Preto, Rodas: 18, Capacidade: 20 toneladas\n",
      "Camião - Cor: Preto, Rodas: 22, Capacidade: 24 toneladas\n",
      "Catalocar veiculos\n",
      "Carro: Carro - Cor: Preto, Rodas: 5, Velocidade: 220 km/h, Cilindrada: 90 cc \n",
      "Carro: Carro - Cor: Branco, Rodas: 5, Velocidade: 320 km/h, Cilindrada: 150 cc \n",
      "Bicicleta: Bicicleta - Cor: Roxa, Rodas 2 \n",
      "Bicicleta: Bicicleta - Cor: Marron, Rodas 2 \n",
      "Moto: Moto(Cor: Preta, Rodas: 2, Cilindradas: 600)  \n",
      "Moto: Moto(Cor: Azul, Rodas: 2, Cilindradas: 160)  \n",
      "Caminhao: Camião - Cor: Preto, Rodas: 18, Capacidade: 20 toneladas \n",
      "Caminhao: Camião - Cor: Preto, Rodas: 22, Capacidade: 24 toneladas \n"
     ]
    }
   ],
   "source": [
    "concesionaria = Concessionario()\n",
    "\n",
    "# Crie 2 objetos de cada subclasse de Veículo (Carro, Bicicleta, Moto, Camião)\n",
    "carro1 = Carro(\"Preto\", 5, 220, 90)\n",
    "carro2 = Carro(\"Branco\", 5, 320, 150)\n",
    "bike1 = Bicicleta(\"Roxa\")\n",
    "bike2 = Bicicleta(\"Marron\")\n",
    "moto1 = Moto(\"Preta\", 2, 600)\n",
    "moto2 = Moto(\"Azul\", 2, 160)\n",
    "caminhao1 = Caminhao(\"Preto\", 18, 20)\n",
    "caminhao2 = Caminhao(\"Preto\", 22, 24)\n",
    "\n",
    "\n",
    "\n",
    "concesionaria.adicionar_veiculo(carro1)\n",
    "concesionaria.adicionar_veiculo(carro2)\n",
    "concesionaria.adicionar_veiculo(bike1)\n",
    "concesionaria.adicionar_veiculo(bike2)\n",
    "concesionaria.adicionar_veiculo(moto1)\n",
    "concesionaria.adicionar_veiculo(moto2)\n",
    "concesionaria.adicionar_veiculo(caminhao1)\n",
    "concesionaria.adicionar_veiculo(caminhao2)\n",
    "\n",
    "print(\"Listar Veiculos\")\n",
    "concesionaria.listar_veiculos()\n",
    "\n",
    "print(\"Catalocar veiculos\")\n",
    "concesionaria.catalogar(concesionaria.veiculos)"
   ]
  },
  {
   "cell_type": "code",
   "execution_count": 197,
   "metadata": {},
   "outputs": [
    {
     "name": "stdout",
     "output_type": "stream",
     "text": [
      "Listar Veiculos\n",
      "Carro - Cor: Preto, Rodas: 5, Velocidade: 220 km/h, Cilindrada: 90 cc\n",
      "Carro - Cor: Branco, Rodas: 5, Velocidade: 320 km/h, Cilindrada: 150 cc\n",
      "Bicicleta - Cor: Roxa, Rodas 2\n",
      "Bicicleta - Cor: Marron, Rodas 2\n",
      "Moto(Cor: Preta, Rodas: 2, Cilindradas: 600) \n",
      "Moto(Cor: Azul, Rodas: 2, Cilindradas: 160) \n",
      "Camião - Cor: Preto, Rodas: 18, Capacidade: 20 toneladas\n",
      "Camião - Cor: Preto, Rodas: 22, Capacidade: 24 toneladas\n",
      "Catalocar veiculos\n",
      "Carro: Carro - Cor: Preto, Rodas: 5, Velocidade: 220 km/h, Cilindrada: 90 cc \n",
      "Carro: Carro - Cor: Branco, Rodas: 5, Velocidade: 320 km/h, Cilindrada: 150 cc \n",
      "Bicicleta: Bicicleta - Cor: Roxa, Rodas 2 \n",
      "Bicicleta: Bicicleta - Cor: Marron, Rodas 2 \n",
      "Moto: Moto(Cor: Preta, Rodas: 2, Cilindradas: 600)  \n",
      "Moto: Moto(Cor: Azul, Rodas: 2, Cilindradas: 160)  \n",
      "Caminhao: Camião - Cor: Preto, Rodas: 18, Capacidade: 20 toneladas \n",
      "Caminhao: Camião - Cor: Preto, Rodas: 22, Capacidade: 24 toneladas \n",
      "Filtrando veiculos\n",
      "Carro - Cor: Preto, Rodas: 5, Velocidade: 220 km/h, Cilindrada: 90 cc\n",
      "Carro - Cor: Branco, Rodas: 5, Velocidade: 320 km/h, Cilindrada: 150 cc\n"
     ]
    }
   ],
   "source": [
    "\n",
    "print(\"Listar Veiculos\")\n",
    "concesionaria.listar_veiculos()\n",
    "\n",
    "print(\"Catalocar veiculos\")\n",
    "concesionaria.catalogar(concesionaria.veiculos)\n",
    "\n",
    "print(\"Filtrando veiculos\")\n",
    "veiculos_filtrados = concesionaria.filtrar(concesionaria.veiculos, Carro)\n",
    "for veiculo in veiculos_filtrados:\n",
    "    print(veiculo)\n"
   ]
  },
  {
   "cell_type": "code",
   "execution_count": 199,
   "metadata": {},
   "outputs": [
    {
     "name": "stdout",
     "output_type": "stream",
     "text": [
      "Filtrando veiculos\n",
      "Bicicleta - Cor: Roxa, Rodas 2\n",
      "Bicicleta - Cor: Marron, Rodas 2\n"
     ]
    }
   ],
   "source": [
    "print(\"Filtrando veiculos\")\n",
    "veiculos_filtrados = concesionaria.filtrar(concesionaria.veiculos, Bicicleta)\n",
    "for veiculo in veiculos_filtrados:\n",
    "    print(veiculo)"
   ]
  }
 ],
 "metadata": {
  "kernelspec": {
   "display_name": "Python 3",
   "language": "python",
   "name": "python3"
  },
  "language_info": {
   "codemirror_mode": {
    "name": "ipython",
    "version": 3
   },
   "file_extension": ".py",
   "mimetype": "text/x-python",
   "name": "python",
   "nbconvert_exporter": "python",
   "pygments_lexer": "ipython3",
   "version": "3.12.7"
  }
 },
 "nbformat": 4,
 "nbformat_minor": 2
}

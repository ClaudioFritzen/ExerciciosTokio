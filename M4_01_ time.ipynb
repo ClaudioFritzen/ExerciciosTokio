{
 "cells": [
  {
   "cell_type": "code",
   "execution_count": 9,
   "metadata": {},
   "outputs": [],
   "source": [
    "from datetime import datetime, date, time, timedelta"
   ]
  },
  {
   "cell_type": "code",
   "execution_count": 3,
   "metadata": {},
   "outputs": [
    {
     "name": "stdout",
     "output_type": "stream",
     "text": [
      "2024-11-19 08:09:14.706948\n"
     ]
    }
   ],
   "source": [
    "dt = datetime.now()\n",
    "print(dt)"
   ]
  },
  {
   "cell_type": "code",
   "execution_count": 6,
   "metadata": {},
   "outputs": [],
   "source": [
    "class CalculaHoras_dia:\n",
    "    def __init__(self, hora_entrada,hora_almoco, hora_saida,):\n",
    "        self.hora_entrada = hora_entrada\n",
    "        self.hora_almoço = hora_almoco\n",
    "        self.hora_saida = hora_saida\n",
    "\n",
    "class Horas_trabalhadas(CalculaHoras_dia):\n",
    "\n",
    "    def __init__(self, hora_entrada, hora_almoco, hora_saida):\n",
    "        super().__init__(hora_entrada, hora_almoco, hora_saida)\n",
    "\n",
    "    def calcula(self):\n",
    "        horas_trabalhadas = (self.hora_saida - (self.hora_entrada + self.hora_almoço))\n",
    "        print(f\" Horas Trabalhadas neste dia: {horas_trabalhadas}\")\n"
   ]
  },
  {
   "cell_type": "code",
   "execution_count": 7,
   "metadata": {},
   "outputs": [
    {
     "name": "stdout",
     "output_type": "stream",
     "text": [
      " Horas Trabalhadas neste dia: 8.5\n"
     ]
    }
   ],
   "source": [
    "dia_18 = CalculaHoras_dia(10.25, 0.5, 19.25 )\n",
    "\n",
    "dia_18 = Horas_trabalhadas.calcula(dia_18)"
   ]
  },
  {
   "cell_type": "code",
   "execution_count": 14,
   "metadata": {},
   "outputs": [
    {
     "name": "stdout",
     "output_type": "stream",
     "text": [
      "8:30:00\n"
     ]
    }
   ],
   "source": [
    "hora_entrada = timedelta(days=18, hours=10, minutes=20)\n",
    "hora_almoco = timedelta(minutes=30)\n",
    "hora_saida = timedelta(days=18, hours=19, minutes=20)\n",
    "\n",
    "horas_dia = (hora_saida -( hora_entrada + hora_almoco))\n",
    "\n",
    "print(horas_dia)"
   ]
  }
 ],
 "metadata": {
  "kernelspec": {
   "display_name": "Python 3",
   "language": "python",
   "name": "python3"
  },
  "language_info": {
   "codemirror_mode": {
    "name": "ipython",
    "version": 3
   },
   "file_extension": ".py",
   "mimetype": "text/x-python",
   "name": "python",
   "nbconvert_exporter": "python",
   "pygments_lexer": "ipython3",
   "version": "3.12.7"
  }
 },
 "nbformat": 4,
 "nbformat_minor": 2
}

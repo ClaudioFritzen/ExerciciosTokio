{
 "cells": [
  {
   "cell_type": "markdown",
   "metadata": {
    "vscode": {
     "languageId": "plaintext"
    }
   },
   "source": [
    "# Exercício 1\n",
    "#### Criação\n",
    "\n",
    "* Crie um __dicionário__ Python que contenha as seguintes informações sobre a frutaria:\n",
    "    * Uma lista de frutas com o nome e a quantidade de cada fruta.\n",
    "    * Uma lista de legumes com o nome e a quantidade de cada legumes.\n",
    "    \"Frutaria\": {\n",
    "        \"Frutas\": [ \n",
    "        ],\n",
    "        \"Legumes\": [\n",
    "        ]\n",
    "}\n",
    "\n",
    "* Utilize o módulo __json__ para:\n",
    "    * Codifique essa estrutura para JSON.\n",
    "    * Salve o JSON em um ficheiro chamado \"__frutaria.json__\".\n",
    "* Após isso, leia o ficheiro \"__frutaria.json__\" e extraia o nome e a quantidade de cada fruta e legume."
   ]
  },
  {
   "cell_type": "code",
   "execution_count": 1,
   "metadata": {},
   "outputs": [],
   "source": [
    "import json"
   ]
  },
  {
   "cell_type": "code",
   "execution_count": 5,
   "metadata": {},
   "outputs": [
    {
     "name": "stdout",
     "output_type": "stream",
     "text": [
      "Arquivo Json salvo com sucesso!\n"
     ]
    }
   ],
   "source": [
    "Frutaria = {\n",
    "    \"Frutas\" : [(\"Acerola\", 50), (\"Carambola\", 20)],\n",
    "    \"Legumes\": [(\"Grelos\", 20), (\"Beterraba\", 15)]\n",
    "}\n",
    "\n",
    "# transformando num json\n",
    "frutaria_json = json.dumps(Frutaria)\n",
    "\n",
    "# onde queremos salva-lo\n",
    "caminho_arquivo = \"./json/frutaria_2.json\"\n",
    "\n",
    "# lendo um arquivo ou criando\n",
    "with open(caminho_arquivo, 'w', encoding=\"utf-8\") as file:\n",
    "    json.dump(Frutaria, file, ensure_ascii=False, indent=4)\n",
    "\n",
    "print(f\"Arquivo Json salvo com sucesso!\")"
   ]
  },
  {
   "cell_type": "code",
   "execution_count": 13,
   "metadata": {},
   "outputs": [
    {
     "name": "stdout",
     "output_type": "stream",
     "text": [
      "--------------------------------------------------\n",
      "Frutas\n",
      "Legumes\n",
      "--------------------------------------------------\n",
      "Lista de Frutas\n",
      "Nome: Acerola | Quantidade: 50\n",
      "Nome: Carambola | Quantidade: 20\n",
      "--------------------------------------------------\n",
      "Nome: Grelos | Quantidade: 20\n",
      "Nome: Beterraba | Quantidade: 15\n",
      "--------------------------------------------------\n"
     ]
    }
   ],
   "source": [
    "# vamos colocar o caminho de onde salvamos numa variavel\n",
    "caminho_arquivo_salvo = \"./json/frutaria_2.json\"\n",
    "\n",
    "## abrindo o arquivo e verificando os dados deles\n",
    "with open(caminho_arquivo_salvo, 'r', encoding='utf-8') as fruteira:\n",
    "    fruteira_list = json.load(fruteira)\n",
    "    print(\"-\"*50)\n",
    "    # aqui mostramos a lista de frutas, mas como está separado em duas,\n",
    "    for item in fruteira_list:\n",
    "        print(item)\n",
    "    print(\"-\"*50)\n",
    "    print(f\"Lista de Frutas\")\n",
    "    # temos que acessar por indice utilizando o nome\n",
    "    for frutas in fruteira_list['Frutas']:\n",
    "        fruta, quantidade = frutas\n",
    "        print(f\"Nome: {fruta} | Quantidade: {quantidade}\")\n",
    "    print(\"-\"*50)\n",
    "    for legumes in fruteira_list['Legumes']:\n",
    "        legume, quantidade = legumes\n",
    "        print(f\"Nome: {legume} | Quantidade: {quantidade}\")\n",
    "    print(\"-\"*50)"
   ]
  }
 ],
 "metadata": {
  "kernelspec": {
   "display_name": "Python 3",
   "language": "python",
   "name": "python3"
  },
  "language_info": {
   "codemirror_mode": {
    "name": "ipython",
    "version": 3
   },
   "file_extension": ".py",
   "mimetype": "text/x-python",
   "name": "python",
   "nbconvert_exporter": "python",
   "pygments_lexer": "ipython3",
   "version": "3.12.8"
  }
 },
 "nbformat": 4,
 "nbformat_minor": 2
}

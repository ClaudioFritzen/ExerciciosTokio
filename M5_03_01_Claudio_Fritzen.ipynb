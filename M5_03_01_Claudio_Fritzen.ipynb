{
 "cells": [
  {
   "cell_type": "markdown",
   "metadata": {
    "vscode": {
     "languageId": "plaintext"
    }
   },
   "source": [
    "# Exercício 1\n",
    "#### Criação\n",
    "\n",
    "* Crie um __dicionário__ Python que contenha as seguintes informações sobre a frutaria:\n",
    "    * Uma lista de frutas com o nome e a quantidade de cada fruta.\n",
    "    * Uma lista de legumes com o nome e a quantidade de cada legumes.\n",
    "    \"Frutaria\": {\n",
    "        \"Frutas\": [ \n",
    "        ],\n",
    "        \"Legumes\": [\n",
    "        ]\n",
    "}\n",
    "\n",
    "* Utilize o módulo __json__ para:\n",
    "    * Codifique essa estrutura para JSON.\n",
    "    * Salve o JSON em um ficheiro chamado \"__frutaria.json__\".\n",
    "* Após isso, leia o ficheiro \"__frutaria.json__\" e extraia o nome e a quantidade de cada fruta e legume."
   ]
  },
  {
   "cell_type": "code",
   "execution_count": 1,
   "metadata": {},
   "outputs": [],
   "source": [
    "import json"
   ]
  },
  {
   "cell_type": "code",
   "execution_count": 5,
   "metadata": {},
   "outputs": [
    {
     "name": "stdout",
     "output_type": "stream",
     "text": [
      "Arquivo Json salvo com sucesso!\n"
     ]
    }
   ],
   "source": [
    "Frutaria = {\n",
    "    \"Frutas\" : [(\"Acerola\", 50), (\"Carambola\", 20)],\n",
    "    \"Legumes\": [(\"Grelos\", 20), (\"Beterraba\", 15)]\n",
    "}\n",
    "\n",
    "# transformando num json\n",
    "frutaria_json = json.dumps(Frutaria)\n",
    "\n",
    "# onde queremos salva-lo\n",
    "caminho_arquivo = \"./json/frutaria_2.json\"\n",
    "\n",
    "# lendo um arquivo ou criando\n",
    "with open(caminho_arquivo, 'w', encoding=\"utf-8\") as file:\n",
    "    json.dump(Frutaria, file, ensure_ascii=False, indent=4)\n",
    "\n",
    "print(f\"Arquivo Json salvo com sucesso!\")"
   ]
  },
  {
   "cell_type": "code",
   "execution_count": 13,
   "metadata": {},
   "outputs": [
    {
     "name": "stdout",
     "output_type": "stream",
     "text": [
      "--------------------------------------------------\n",
      "Frutas\n",
      "Legumes\n",
      "--------------------------------------------------\n",
      "Lista de Frutas\n",
      "Nome: Acerola | Quantidade: 50\n",
      "Nome: Carambola | Quantidade: 20\n",
      "--------------------------------------------------\n",
      "Nome: Grelos | Quantidade: 20\n",
      "Nome: Beterraba | Quantidade: 15\n",
      "--------------------------------------------------\n"
     ]
    }
   ],
   "source": [
    "# vamos colocar o caminho de onde salvamos numa variavel\n",
    "caminho_arquivo_salvo = \"./json/frutaria_2.json\"\n",
    "\n",
    "## abrindo o arquivo e verificando os dados deles\n",
    "with open(caminho_arquivo_salvo, 'r', encoding='utf-8') as fruteira:\n",
    "    fruteira_list = json.load(fruteira)\n",
    "    print(\"-\"*50)\n",
    "    # aqui mostramos a lista de frutas, mas como está separado em duas,\n",
    "    for item in fruteira_list:\n",
    "        print(item)\n",
    "    print(\"-\"*50)\n",
    "    print(f\"Lista de Frutas\")\n",
    "    # temos que acessar por indice utilizando o nome\n",
    "    for frutas in fruteira_list['Frutas']:\n",
    "        fruta, quantidade = frutas\n",
    "        print(f\"Nome: {fruta} | Quantidade: {quantidade}\")\n",
    "    print(\"-\"*50)\n",
    "    for legumes in fruteira_list['Legumes']:\n",
    "        legume, quantidade = legumes\n",
    "        print(f\"Nome: {legume} | Quantidade: {quantidade}\")\n",
    "    print(\"-\"*50)"
   ]
  },
  {
   "cell_type": "markdown",
   "metadata": {},
   "source": [
    "# Exercício 2\n",
    "\n",
    "#### Criação\n",
    "\n",
    "* Crie o JSON a seguir como uma string em Python:\n",
    "\n",
    "* Utilize  o módulo __json__ para carregar o conteúdo dessa string e transformá-lo em um dicionário Python.\n",
    "* Exiba os dados de maneira legível somente das descrições de cada ponto turístico.\n",
    "* Salve o JSON as informações no ficheiro \"__marcadores.json__\", como: do nome da cidade, latitude e longitude."
   ]
  },
  {
   "cell_type": "code",
   "execution_count": 45,
   "metadata": {},
   "outputs": [
    {
     "name": "stdout",
     "output_type": "stream",
     "text": [
      "Arquivo JSON salvo com sucesso!\n"
     ]
    }
   ],
   "source": [
    "import json\n",
    "{\n",
    "'marcadores': [{'latitude': 40.416875,\n",
    "   'longitude': -3.703308,\n",
    "   'city': 'Madrid',\n",
    "   'description': 'Puerta del Sol'},\n",
    "  {'latitude': 40.417438,\n",
    "   'longitude': -3.693363,\n",
    "   'city': 'Madrid',\n",
    "   'description': 'Paseo del Prado'},\n",
    "  {'latitude': 40.407015,\n",
    "   'longitude': -3.691163,\n",
    "   'city': 'Madrid',\n",
    "   'description': 'Estación de Atocha'}]\n",
    "}\n",
    "\n",
    "# transformando um arquivo json\n",
    "locais_json = json.dumps({\n",
    "'marcadores': [{'latitude': 40.416875,\n",
    "   'longitude': -3.703308,\n",
    "   'city': 'Madrid',\n",
    "   'description': 'Puerta del Sol'},\n",
    "  {'latitude': 40.417438,\n",
    "   'longitude': -3.693363,\n",
    "   'city': 'Madrid',\n",
    "   'description': 'Paseo del Prado'},\n",
    "  {'latitude': 40.407015,\n",
    "   'longitude': -3.691163,\n",
    "   'city': 'Madrid',\n",
    "   'description': 'Estación de Atocha'}]\n",
    "})\n",
    "locais_lendo = json.loads(locais_json)\n",
    "caminho_novo = './json/pontos_turisticos4.json'\n",
    "\n",
    "with open(caminho_novo, 'w', encoding='utf-8') as arq:\n",
    "    json.dump(locais_lendo, arq, ensure_ascii=False, indent=4)\n",
    "   \n",
    "print(f\"Arquivo JSON salvo com sucesso!\")\n"
   ]
  },
  {
   "cell_type": "code",
   "execution_count": 56,
   "metadata": {},
   "outputs": [
    {
     "name": "stdout",
     "output_type": "stream",
     "text": [
      "Apenas Pontos Turisticos\n",
      "Puerta del Sol\n",
      "Paseo del Prado\n",
      "Estación de Atocha\n",
      "--------------------------------------------------\n",
      "[{'cidade': 'Madrid', 'descricao': 'Estación de Atocha', 'longitude': -3.691163, 'latitude': 40.407015}]\n",
      "Ponto Turistico Estación de Atocha, Cidade: Madrid, Latitude: 40.407015, Longetude -3.691163\n"
     ]
    },
    {
     "data": {
      "text/plain": [
       "' \\n    with open(caminho_arquivo_saida, \\'w\\', encoding=\\'utf-8\\') as escaneamento:\\n        json.dump(lista_para_salvar, escaneamento, ensure_ascii=False, indent=4)\\n    print(f\"Arquivo Criado com sucesso!\") '"
      ]
     },
     "execution_count": 56,
     "metadata": {},
     "output_type": "execute_result"
    }
   ],
   "source": [
    "caminho_pronto = \"./json/pontos_turisticos4.json\"\n",
    "caminho_arquivo_saida = \"./json/marcadores2.json\"\n",
    "\n",
    "with open(caminho_pronto, 'r', encoding='utf-8') as arq_salvar:\n",
    "    lendo_arquivo_json = json.load(arq_salvar)\n",
    "    # Lista para armazenar os itens\n",
    "    lista_para_salvar = []\n",
    "    \n",
    "    # apenas os nomes dos pontos turisticos\n",
    "\n",
    "    print(\"Apenas Pontos Turisticos\")\n",
    "    for itens in lendo_arquivo_json['marcadores']:\n",
    "        pontos = itens['description']\n",
    "        print(pontos)\n",
    "    print(\"-\"*50)\n",
    "\n",
    "    for itens in lendo_arquivo_json['marcadores']:\n",
    "        cidade = itens['city']\n",
    "        descricao = itens['description']\n",
    "        longitude = itens['longitude']\n",
    "        latitude = itens['latitude']\n",
    "     # Adicionar o item à lista\n",
    "    lista_para_salvar.append({\n",
    "        \"cidade\": cidade,\n",
    "        \"descricao\": descricao,\n",
    "        \"longitude\": longitude,\n",
    "        \"latitude\": latitude\n",
    "    })\n",
    "\n",
    "    print(lista_para_salvar)\n",
    "\n",
    "    print(f\"Ponto Turistico {descricao}, Cidade: {cidade}, Latitude: {latitude}, Longetude {longitude}\")\n",
    "\n",
    "\"\"\" \n",
    "    with open(caminho_arquivo_saida, 'w', encoding='utf-8') as escaneamento:\n",
    "        json.dump(lista_para_salvar, escaneamento, ensure_ascii=False, indent=4)\n",
    "    print(f\"Arquivo Criado com sucesso!\") \"\"\""
   ]
  },
  {
   "cell_type": "code",
   "execution_count": 57,
   "metadata": {},
   "outputs": [
    {
     "name": "stdout",
     "output_type": "stream",
     "text": [
      "Arquivo JSON salvo com sucesso!\n"
     ]
    }
   ],
   "source": [
    "import json\n",
    "\n",
    "caminho_arquivo_entrada = \"./json/pontos_turisticos4.json\"\n",
    "caminho_arquivo_saida = \"./json/marcadores2.json\"\n",
    "\n",
    "# Ler o arquivo JSON de entrada e processar os dados\n",
    "with open(caminho_arquivo_entrada, 'r', encoding='utf-8') as arquivo_entrada:\n",
    "    locais_lendo = json.load(arquivo_entrada)\n",
    "    \n",
    "    # Lista para armazenar os itens\n",
    "    itens_para_salvar = []\n",
    "\n",
    "    # Iterar sobre os itens em locais_lendo['marcadores']\n",
    "    for itens in locais_lendo['marcadores']:\n",
    "        cidade = itens['city']\n",
    "        descricao = itens['description']\n",
    "        longitude = itens['longitude']\n",
    "        latitude = itens['latitude']\n",
    "        \n",
    "        # Adicionar o item à lista\n",
    "        itens_para_salvar.append({\n",
    "            \"cidade\": cidade,\n",
    "            \"descricao\": descricao,\n",
    "            \"longitude\": longitude,\n",
    "            \"latitude\": latitude\n",
    "        })\n",
    "\n",
    "    # Salvar os itens no arquivo JSON de saída\n",
    "    with open(caminho_arquivo_saida, 'w', encoding='utf-8') as arquivo_saida:\n",
    "        json.dump(itens_para_salvar, arquivo_saida, ensure_ascii=False, indent=4)\n",
    "\n",
    "print(\"Arquivo JSON salvo com sucesso!\")"
   ]
  }
 ],
 "metadata": {
  "kernelspec": {
   "display_name": "Python 3",
   "language": "python",
   "name": "python3"
  },
  "language_info": {
   "codemirror_mode": {
    "name": "ipython",
    "version": 3
   },
   "file_extension": ".py",
   "mimetype": "text/x-python",
   "name": "python",
   "nbconvert_exporter": "python",
   "pygments_lexer": "ipython3",
   "version": "3.12.8"
  }
 },
 "nbformat": 4,
 "nbformat_minor": 2
}

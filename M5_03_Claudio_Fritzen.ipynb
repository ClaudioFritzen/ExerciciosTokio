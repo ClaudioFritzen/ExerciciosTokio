{
 "cells": [
  {
   "cell_type": "markdown",
   "metadata": {},
   "source": [
    "## Exercícios Módulo 5. Unidade 3. JSON\n",
    "\n",
    "Considerações a ter em conta:\n",
    "\n",
    "* Guardar este documento com o seguinte formato para entrega: __M5_03_nome_apelido1_apelido2__\n",
    "* Utilizar o Software: Anaconda – Jupyter.\n",
    "* Comentar o código\n",
    "* Utilizar nomes de variáveis apropriados, se vai guardar uma nota, chamar a essa variável nota, não n ou x"
   ]
  },
  {
   "cell_type": "markdown",
   "metadata": {},
   "source": [
    "# Exercício 1"
   ]
  },
  {
   "cell_type": "markdown",
   "metadata": {},
   "source": [
    "#### Criação\n",
    "\n",
    "* Crie um __dicionário__ Python que contenha as seguintes informações sobre a frutaria:\n",
    "    * Uma lista de frutas com o nome e a quantidade de cada fruta.\n",
    "    * Uma lista de legumes com o nome e a quantidade de cada legumes."
   ]
  },
  {
   "cell_type": "raw",
   "metadata": {
    "vscode": {
     "languageId": "raw"
    }
   },
   "source": [
    "\"Frutaria\": {\n",
    "        \"Frutas\": [ \n",
    "        ],\n",
    "        \"Legumes\": [\n",
    "        ]\n",
    "}"
   ]
  },
  {
   "cell_type": "markdown",
   "metadata": {},
   "source": [
    "* Utilize o módulo __json__ para:\n",
    "    * Codifique essa estrutura para JSON.\n",
    "    * Salve o JSON em um ficheiro chamado \"__frutaria.json__\".\n",
    "* Após isso, leia o ficheiro \"__frutaria.json__\" e extraia o nome e a quantidade de cada fruta e legume."
   ]
  },
  {
   "cell_type": "code",
   "execution_count": 3,
   "metadata": {},
   "outputs": [],
   "source": [
    "import json"
   ]
  },
  {
   "cell_type": "code",
   "execution_count": 31,
   "metadata": {},
   "outputs": [
    {
     "name": "stdout",
     "output_type": "stream",
     "text": [
      "Fruta: Acerola, Quandidade: 50\n",
      "Fruta: Carambola, Quandidade: 20\n",
      "Legumes: Grelos, Quandidade: 20\n",
      "Legumes: Beterraba, Quandidade: 15\n",
      "Arquivo JSON salvo com sucesso!\n"
     ]
    }
   ],
   "source": [
    "# Fazer o exercício aqui\n",
    "\n",
    "Frutaria = {\n",
    "    \"Frutas\" : [(\"Acerola\", 50), (\"Carambola\", 20)],\n",
    "    \"Legumes\": [(\"Grelos\", 20), (\"Beterraba\", 15)]\n",
    "}\n",
    "\n",
    "# transformando num json\n",
    "# codificando para json\n",
    "transformation_Jsom = json.dumps(Frutaria)\n",
    "\n",
    "# Parse the JSON string back into a dictionary\n",
    "# lendo um arquivo json\n",
    "transformation_dict = json.loads(transformation_Jsom)\n",
    "\"\"\" \n",
    "print(f\"Frutas\")\n",
    "for fruta in transformation_dict[\"Frutas\"]:\n",
    "    print(fruta)\n",
    "\n",
    "print(f\"Legumes\")\n",
    "for legume in transformation_dict[\"Legumes\"]:\n",
    "    print(legume) \n",
    "    print(legume)\n",
    "print(\"*\" * 50) \"\"\"\n",
    "for item in transformation_dict[\"Frutas\"]:\n",
    "    if len(item) == 2:\n",
    "        fruta, qtd = item\n",
    "        print(f\"Fruta: {fruta}, Quandidade: {qtd}\")\n",
    "    else:\n",
    "        print(f\"Item {item} não tem dois elementos \")\n",
    "        \n",
    "for item in transformation_dict[\"Legumes\"]:\n",
    "    if len(item) == 2:\n",
    "        legumes, qtd = item\n",
    "        print(f\"Legumes: {legumes}, Quandidade: {qtd}\")\n",
    "    else:\n",
    "        print(f\"Item {item} não tem dois elementos \")\n",
    "# mostrar o caminho que quer salvar, e atribuir o nome do arquivo\n",
    "caminho = \"./frutaria.json\"\n",
    "with open(caminho, \"w\", encoding=\"utf-8\") as arquivo_json:\n",
    "    json.dump(Frutaria, arquivo_json, ensure_ascii=False, indent=4)\n",
    "\n",
    "print(\"Arquivo JSON salvo com sucesso!\")\n"
   ]
  },
  {
   "cell_type": "code",
   "execution_count": 32,
   "metadata": {},
   "outputs": [
    {
     "name": "stdout",
     "output_type": "stream",
     "text": [
      "Arquivo JSON salvo com sucesso!\n"
     ]
    }
   ],
   "source": [
    "### Mudando a ordem conforme e anunciado \n",
    "\n",
    "# Fazer o exercício aqui\n",
    "import json\n",
    "\n",
    "Frutaria = {\n",
    "    \"Frutas\" : [(\"Acerola\", 50), (\"Carambola\", 20)],\n",
    "    \"Legumes\": [(\"Grelos\", 20), (\"Beterraba\", 15)]\n",
    "}\n",
    "\n",
    "# transformando num json\n",
    "# codificando para json\n",
    "transformation_Jsom = json.dumps(Frutaria)\n",
    "\n",
    "# mostrar o caminho que quer salvar, e atribuir o nome do arquivo\n",
    "caminho = \"./json/frutaria.json\"\n",
    "with open(caminho, \"w\", encoding=\"utf-8\") as arquivo_json:\n",
    "    json.dump(Frutaria, arquivo_json, ensure_ascii=False, indent=4)\n",
    "\n",
    "print(\"Arquivo JSON salvo com sucesso!\")\n",
    "\n"
   ]
  },
  {
   "cell_type": "code",
   "execution_count": 56,
   "metadata": {},
   "outputs": [
    {
     "name": "stdout",
     "output_type": "stream",
     "text": [
      "<class 'dict'>\n",
      "Frutas\n",
      "Legumes\n",
      "FRUTAS\n",
      "Nome: Acerola\n",
      "Quantidade: 50\n",
      "Nome: Carambola\n",
      "Quantidade: 20\n",
      "------------------------------------------------------------\n",
      "LEGUMES\n",
      "Nome:Grelos\n",
      "Quantidade:20\n",
      "Nome:Beterraba\n",
      "Quantidade:15\n"
     ]
    }
   ],
   "source": [
    "## abrindo um arquivo json conforme passado anteriormente para salva-lo\n",
    "caminho = \"./json/frutaria.json\"\n",
    "with open(caminho, \"r\", encoding=\"utf-8\") as arquivo_json:\n",
    "    frutaria_dict = json.load(arquivo_json)\n",
    "\n",
    "    print(type(frutaria_dict))\n",
    "\n",
    "    for produtos_frutaria in frutaria_dict:\n",
    "        print(produtos_frutaria)\n",
    "\n",
    "    ### tentando acessar os produtos das Frutas\n",
    "    print(f\"FRUTAS\")\n",
    "    for frutas_Frutaria in frutaria_dict[\"Frutas\"]:\n",
    "        fruta, quantidade = frutas_Frutaria\n",
    "\n",
    "        print(f\"Nome:\",fruta)\n",
    "        print(f\"Quantidade:\",quantidade)\n",
    "    print(\"--\"*30)\n",
    "\n",
    "    print(f\"LEGUMES\")\n",
    "    for legumes_frutaria in frutaria_dict[\"Legumes\"]:\n",
    "        nome, quantidade = legumes_frutaria\n",
    "        print(f\"Nome:{nome}\")\n",
    "        print(f\"Quantidade:{quantidade}\")"
   ]
  },
  {
   "cell_type": "markdown",
   "metadata": {},
   "source": [
    "# Exercício 2"
   ]
  },
  {
   "cell_type": "markdown",
   "metadata": {},
   "source": [
    "#### Criação\n",
    "\n",
    "* Crie o JSON a seguir como uma string em Python:\n",
    " \n"
   ]
  },
  {
   "cell_type": "code",
   "execution_count": 57,
   "metadata": {},
   "outputs": [
    {
     "name": "stdout",
     "output_type": "stream",
     "text": [
      "Arquivo JSON salvo com sucesso!\n"
     ]
    }
   ],
   "source": [
    "pontos_turisticos =  {\n",
    "'marcadores': [{'latitude': 40.416875,\n",
    "   'longitude': -3.703308,\n",
    "   'city': 'Madrid',\n",
    "   'description': 'Puerta del Sol'},\n",
    "  {'latitude': 40.417438,\n",
    "   'longitude': -3.693363,\n",
    "   'city': 'Madrid',\n",
    "   'description': 'Paseo del Prado'},\n",
    "  {'latitude': 40.407015,\n",
    "   'longitude': -3.691163,\n",
    "   'city': 'Madrid',\n",
    "   'description': 'Estación de Atocha'}]\n",
    "}\n",
    "\n",
    "caminho = \"./json/pontos_turisticos.json\"\n",
    "\n",
    "with open(caminho, \"w\", encoding=\"utf-8\") as arquivo_json:\n",
    "    json.dump(pontos_turisticos, arquivo_json, ensure_ascii=False, indent=4)\n",
    "\n",
    "print(\"Arquivo JSON salvo com sucesso!\")\n"
   ]
  },
  {
   "cell_type": "code",
   "execution_count": 89,
   "metadata": {},
   "outputs": [
    {
     "name": "stdout",
     "output_type": "stream",
     "text": [
      "Puerta del Sol\n",
      "Paseo del Prado\n",
      "Estación de Atocha\n",
      "**********\n",
      "Ponto Turistico: Puerta del Sol, Latitude: 40.416875, Longitude: -3.703308\n",
      "Ponto Turistico: Paseo del Prado, Latitude: 40.417438, Longitude: -3.693363\n",
      "Ponto Turistico: Estación de Atocha, Latitude: 40.407015, Longitude: -3.691163\n",
      "Arquivo salvo com sucesso!\n"
     ]
    }
   ],
   "source": [
    "with open(\"./json/pontos_turisticos.json\", \"r\", encoding=\"utf-8\") as arquivo_json:\n",
    "\tpontos_turisticos_novo = json.load(arquivo_json)\n",
    "\n",
    "\t# pegando apenas os nomes dos pontos turisticos\n",
    "\tfor pontos_visita in pontos_turisticos_novo[\"marcadores\"]:\n",
    "\t\tdescription = pontos_visita['description']\n",
    "\t\tprint(description)\n",
    "\tprint(\"*\"*10)\n",
    "\n",
    "\t\"\"\" # criamos uma lista vazia para pegar os marcadores\n",
    "\tmarcadores = []\n",
    "\tfor ponto in pontos_turisticos_novo[\"marcadores\"]:\n",
    "\t\tmarcador = {\n",
    "\t\t\t\"cidade\": ponto[\"city\"],\n",
    "\t\t\t\"latitude\": ponto[\"latitude\"],\n",
    "\t\t\t\"longitude\": ponto[\"longitude\"]\n",
    "\t\t}\n",
    "\t\tmarcadores.append(marcador)\n",
    "\tprint(marcadores) \"\"\"\n",
    "\t# pontos turistico e longetude e latitude\n",
    "\tfor item in pontos_turisticos_novo[\"marcadores\"]:\n",
    "\n",
    "\t\tlatitude = item['latitude']\n",
    "\t\tlongitude = item['longitude']\n",
    "\t\tdescription = item['description']\n",
    "\t\tprint(f\"Ponto Turistico: {description}, Latitude: {latitude}, Longitude: {longitude}\" )\n",
    "\n",
    "\n",
    "caminho = \"./json/marcadores.json\"\n",
    " # salvando o arquivo\n",
    "with open(caminho, 'w', encoding='utf-8') as arquivo_json_turistico:\n",
    "\tjson.dump(pontos_turisticos_novo, arquivo_json_turistico, ensure_ascii=False, indent=4)\n",
    "print(\"Arquivo salvo com sucesso!\")"
   ]
  },
  {
   "cell_type": "markdown",
   "metadata": {},
   "source": [
    "* Utilize  o módulo __json__ para carregar o conteúdo dessa string e transformá-lo em um dicionário Python.\n",
    "* Exiba os dados de maneira legível somente das descrições de cada ponto turístico.\n",
    "* Salve o JSON as informações no ficheiro \"__marcadores.json__\", como: do nome da cidade, latitude e longitude."
   ]
  },
  {
   "cell_type": "code",
   "execution_count": 13,
   "metadata": {},
   "outputs": [],
   "source": [
    "# Fazer o exercício aqui\n",
    "\n"
   ]
  },
  {
   "cell_type": "markdown",
   "metadata": {},
   "source": [
    "# Exercício 3"
   ]
  },
  {
   "cell_type": "markdown",
   "metadata": {},
   "source": [
    "#### Criação\n",
    "\n",
    "* Carregue o JSON a seguir em uma lista de dicionários. "
   ]
  },
  {
   "cell_type": "raw",
   "metadata": {},
   "source": [
    "[\n",
    "    {\"nome\": \"João\", \"idade\": 28, \"interesses\": [\"música\", \"futebol\", \"cinema\"]},\n",
    "    {\"nome\": \"Maria\", \"idade\": 34, \"interesses\": [\"literatura\", \"viajar\", \"pintura\"]},\n",
    "    {\"nome\": \"Ana\", \"idade\": 22, \"interesses\": [\"fotografia\", \"moda\", \"tecnologia\"]}\n",
    "]\n"
   ]
  },
  {
   "cell_type": "markdown",
   "metadata": {},
   "source": [
    "* Converta esse conteúdo em um ficheiro CSV com a seguinte estrutura:\n",
    "\n",
    "| Nome  | Idade | Interesse 1   | Interesse 2   | Interesse 3    |\n",
    "|-------|-------|---------------|---------------|----------------|\n",
    "| João  | 28    | música        | futebol       | cinema         |\n",
    "| Maria | 34    | literatura    | viajar        | pintura        |\n",
    "| Ana   | 22    | fotografia    | moda          | tecnologia      |\n",
    "\n",
    "* Salve o ficheiro CSV com o nome \"__usuarios.csv__\".\n",
    "* Depois faça a leitura do conteúdo do ficheiro \"__usuarios.csv__\" para certificar que foi salvo corretamente.x\"__."
   ]
  },
  {
   "cell_type": "code",
   "execution_count": 14,
   "metadata": {},
   "outputs": [],
   "source": [
    "# Fazer o exercício aqui"
   ]
  }
 ],
 "metadata": {
  "anaconda-cloud": {},
  "kernelspec": {
   "display_name": "Python 3",
   "language": "python",
   "name": "python3"
  },
  "language_info": {
   "codemirror_mode": {
    "name": "ipython",
    "version": 3
   },
   "file_extension": ".py",
   "mimetype": "text/x-python",
   "name": "python",
   "nbconvert_exporter": "python",
   "pygments_lexer": "ipython3",
   "version": "3.12.8"
  }
 },
 "nbformat": 4,
 "nbformat_minor": 4
}

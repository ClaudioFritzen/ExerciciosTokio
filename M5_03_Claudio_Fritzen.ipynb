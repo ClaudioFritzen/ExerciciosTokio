{
 "cells": [
  {
   "cell_type": "markdown",
   "metadata": {},
   "source": [
    "## Exercícios Módulo 5. Unidade 3. JSON\n",
    "\n",
    "Considerações a ter em conta:\n",
    "\n",
    "* Guardar este documento com o seguinte formato para entrega: __M5_03_nome_apelido1_apelido2__\n",
    "* Utilizar o Software: Anaconda – Jupyter.\n",
    "* Comentar o código\n",
    "* Utilizar nomes de variáveis apropriados, se vai guardar uma nota, chamar a essa variável nota, não n ou x"
   ]
  },
  {
   "cell_type": "markdown",
   "metadata": {},
   "source": [
    "# Exercício 1"
   ]
  },
  {
   "cell_type": "markdown",
   "metadata": {},
   "source": [
    "#### Criação\n",
    "\n",
    "* Crie um __dicionário__ Python que contenha as seguintes informações sobre a frutaria:\n",
    "    * Uma lista de frutas com o nome e a quantidade de cada fruta.\n",
    "    * Uma lista de legumes com o nome e a quantidade de cada legumes."
   ]
  },
  {
   "cell_type": "raw",
   "metadata": {
    "vscode": {
     "languageId": "raw"
    }
   },
   "source": [
    "\"Frutaria\": {\n",
    "        \"Frutas\": [ \n",
    "        ],\n",
    "        \"Legumes\": [\n",
    "        ]\n",
    "}"
   ]
  },
  {
   "cell_type": "markdown",
   "metadata": {},
   "source": [
    "* Utilize o módulo __json__ para:\n",
    "    * Codifique essa estrutura para JSON.\n",
    "    * Salve o JSON em um ficheiro chamado \"__frutaria.json__\".\n",
    "* Após isso, leia o ficheiro \"__frutaria.json__\" e extraia o nome e a quantidade de cada fruta e legume."
   ]
  },
  {
   "cell_type": "code",
   "execution_count": 3,
   "metadata": {},
   "outputs": [],
   "source": [
    "import json"
   ]
  },
  {
   "cell_type": "code",
   "execution_count": 31,
   "metadata": {},
   "outputs": [
    {
     "name": "stdout",
     "output_type": "stream",
     "text": [
      "Fruta: Acerola, Quandidade: 50\n",
      "Fruta: Carambola, Quandidade: 20\n",
      "Legumes: Grelos, Quandidade: 20\n",
      "Legumes: Beterraba, Quandidade: 15\n",
      "Arquivo JSON salvo com sucesso!\n"
     ]
    }
   ],
   "source": [
    "# Fazer o exercício aqui\n",
    "\n",
    "Frutaria = {\n",
    "    \"Frutas\" : [(\"Acerola\", 50), (\"Carambola\", 20)],\n",
    "    \"Legumes\": [(\"Grelos\", 20), (\"Beterraba\", 15)]\n",
    "}\n",
    "\n",
    "# transformando num json\n",
    "# codificando para json\n",
    "transformation_Jsom = json.dumps(Frutaria)\n",
    "\n",
    "# Parse the JSON string back into a dictionary\n",
    "# lendo um arquivo json\n",
    "transformation_dict = json.loads(transformation_Jsom)\n",
    "\"\"\" \n",
    "print(f\"Frutas\")\n",
    "for fruta in transformation_dict[\"Frutas\"]:\n",
    "    print(fruta)\n",
    "\n",
    "print(f\"Legumes\")\n",
    "for legume in transformation_dict[\"Legumes\"]:\n",
    "    print(legume) \n",
    "    print(legume)\n",
    "print(\"*\" * 50) \"\"\"\n",
    "for item in transformation_dict[\"Frutas\"]:\n",
    "    if len(item) == 2:\n",
    "        fruta, qtd = item\n",
    "        print(f\"Fruta: {fruta}, Quandidade: {qtd}\")\n",
    "    else:\n",
    "        print(f\"Item {item} não tem dois elementos \")\n",
    "        \n",
    "for item in transformation_dict[\"Legumes\"]:\n",
    "    if len(item) == 2:\n",
    "        legumes, qtd = item\n",
    "        print(f\"Legumes: {legumes}, Quandidade: {qtd}\")\n",
    "    else:\n",
    "        print(f\"Item {item} não tem dois elementos \")\n",
    "# mostrar o caminho que quer salvar, e atribuir o nome do arquivo\n",
    "caminho = \"./frutaria.json\"\n",
    "with open(caminho, \"w\", encoding=\"utf-8\") as arquivo_json:\n",
    "    json.dump(Frutaria, arquivo_json, ensure_ascii=False, indent=4)\n",
    "\n",
    "print(\"Arquivo JSON salvo com sucesso!\")\n"
   ]
  },
  {
   "cell_type": "code",
   "execution_count": null,
   "metadata": {},
   "outputs": [],
   "source": [
    "### Mudando a ordem conforme e anunciado \n"
   ]
  },
  {
   "cell_type": "markdown",
   "metadata": {},
   "source": [
    "# Exercício 2"
   ]
  },
  {
   "cell_type": "markdown",
   "metadata": {},
   "source": [
    "#### Criação\n",
    "\n",
    "* Crie o JSON a seguir como uma string em Python:\n",
    " \n"
   ]
  },
  {
   "cell_type": "code",
   "execution_count": 11,
   "metadata": {},
   "outputs": [],
   "source": [
    "pontos_turisticos =  {\n",
    "'marcadores': [{'latitude': 40.416875,\n",
    "   'longitude': -3.703308,\n",
    "   'city': 'Madrid',\n",
    "   'description': 'Puerta del Sol'},\n",
    "  {'latitude': 40.417438,\n",
    "   'longitude': -3.693363,\n",
    "   'city': 'Madrid',\n",
    "   'description': 'Paseo del Prado'},\n",
    "  {'latitude': 40.407015,\n",
    "   'longitude': -3.691163,\n",
    "   'city': 'Madrid',\n",
    "   'description': 'Estación de Atocha'}]\n",
    "}"
   ]
  },
  {
   "cell_type": "code",
   "execution_count": 12,
   "metadata": {},
   "outputs": [
    {
     "name": "stdout",
     "output_type": "stream",
     "text": [
      "Tipo de dados <class 'str'>\n",
      "\n",
      "Dados em JSON:\n",
      "\n",
      "{\"marcadores\": [{\"latitude\": 40.416875, \"longitude\": -3.703308, \"city\": \"Madrid\", \"description\": \"Puerta del Sol\"}, {\"latitude\": 40.417438, \"longitude\": -3.693363, \"city\": \"Madrid\", \"description\": \"Paseo del Prado\"}, {\"latitude\": 40.407015, \"longitude\": -3.691163, \"city\": \"Madrid\", \"description\": \"Estaci\\u00f3n de Atocha\"}]}\n"
     ]
    }
   ],
   "source": [
    "json_pontos_turisticos = json.dumps(pontos_turisticos)\n",
    "\n",
    "print(\"Tipo de dados\", type(json_pontos_turisticos))\n",
    "print(\"\\nDados em JSON:\\n\")\n",
    "print(json_pontos_turisticos)"
   ]
  },
  {
   "cell_type": "code",
   "execution_count": 19,
   "metadata": {},
   "outputs": [
    {
     "name": "stdout",
     "output_type": "stream",
     "text": [
      "Puerta del Sol\n",
      "Paseo del Prado\n",
      "Estación de Atocha\n"
     ]
    }
   ],
   "source": [
    "# Parse the JSON string back into a dictionary\n",
    "pontos_turisticos_dict = json.loads(json_pontos_turisticos)\n",
    "\n",
    "# Iterate over the list of markers\n",
    "for marcador in pontos_turisticos_dict['marcadores']:\n",
    "    print(marcador['description'])"
   ]
  },
  {
   "cell_type": "markdown",
   "metadata": {},
   "source": [
    "* Utilize  o módulo __json__ para carregar o conteúdo dessa string e transformá-lo em um dicionário Python.\n",
    "* Exiba os dados de maneira legível somente das descrições de cada ponto turístico.\n",
    "* Salve o JSON as informações no ficheiro \"__marcadores.json__\", como: do nome da cidade, latitude e longitude."
   ]
  },
  {
   "cell_type": "code",
   "execution_count": 13,
   "metadata": {},
   "outputs": [],
   "source": [
    "# Fazer o exercício aqui"
   ]
  },
  {
   "cell_type": "markdown",
   "metadata": {},
   "source": [
    "# Exercício 3"
   ]
  },
  {
   "cell_type": "markdown",
   "metadata": {},
   "source": [
    "#### Criação\n",
    "\n",
    "* Carregue o JSON a seguir em uma lista de dicionários. "
   ]
  },
  {
   "cell_type": "raw",
   "metadata": {},
   "source": [
    "[\n",
    "    {\"nome\": \"João\", \"idade\": 28, \"interesses\": [\"música\", \"futebol\", \"cinema\"]},\n",
    "    {\"nome\": \"Maria\", \"idade\": 34, \"interesses\": [\"literatura\", \"viajar\", \"pintura\"]},\n",
    "    {\"nome\": \"Ana\", \"idade\": 22, \"interesses\": [\"fotografia\", \"moda\", \"tecnologia\"]}\n",
    "]\n"
   ]
  },
  {
   "cell_type": "markdown",
   "metadata": {},
   "source": [
    "* Converta esse conteúdo em um ficheiro CSV com a seguinte estrutura:\n",
    "\n",
    "| Nome  | Idade | Interesse 1   | Interesse 2   | Interesse 3    |\n",
    "|-------|-------|---------------|---------------|----------------|\n",
    "| João  | 28    | música        | futebol       | cinema         |\n",
    "| Maria | 34    | literatura    | viajar        | pintura        |\n",
    "| Ana   | 22    | fotografia    | moda          | tecnologia      |\n",
    "\n",
    "* Salve o ficheiro CSV com o nome \"__usuarios.csv__\".\n",
    "* Depois faça a leitura do conteúdo do ficheiro \"__usuarios.csv__\" para certificar que foi salvo corretamente.x\"__."
   ]
  },
  {
   "cell_type": "code",
   "execution_count": 14,
   "metadata": {},
   "outputs": [],
   "source": [
    "# Fazer o exercício aqui"
   ]
  }
 ],
 "metadata": {
  "anaconda-cloud": {},
  "kernelspec": {
   "display_name": "Python 3",
   "language": "python",
   "name": "python3"
  },
  "language_info": {
   "codemirror_mode": {
    "name": "ipython",
    "version": 3
   },
   "file_extension": ".py",
   "mimetype": "text/x-python",
   "name": "python",
   "nbconvert_exporter": "python",
   "pygments_lexer": "ipython3",
   "version": "3.12.8"
  }
 },
 "nbformat": 4,
 "nbformat_minor": 4
}

{
 "cells": [
  {
   "cell_type": "markdown",
   "metadata": {},
   "source": [
    "## Exercícios Módulo 5. Unidade 3. JSON\n",
    "\n",
    "Considerações a ter em conta:\n",
    "\n",
    "* Guardar este documento com o seguinte formato para entrega: __M5_03_nome_apelido1_apelido2__\n",
    "* Utilizar o Software: Anaconda – Jupyter.\n",
    "* Comentar o código\n",
    "* Utilizar nomes de variáveis apropriados, se vai guardar uma nota, chamar a essa variável nota, não n ou x"
   ]
  },
  {
   "cell_type": "markdown",
   "metadata": {},
   "source": [
    "# Exercício 1"
   ]
  },
  {
   "cell_type": "markdown",
   "metadata": {},
   "source": [
    "#### Criação\n",
    "\n",
    "* Crie um __dicionário__ Python que contenha as seguintes informações sobre a frutaria:\n",
    "    * Uma lista de frutas com o nome e a quantidade de cada fruta.\n",
    "    * Uma lista de legumes com o nome e a quantidade de cada legume.\n",
    "eres)."
   ]
  },
  {
   "cell_type": "raw",
   "metadata": {},
   "source": [
    "\"Frutaria\": {\n",
    "        \"Frutas\": [\n",
    "        ],\n",
    "        \"Legumes\": [\n",
    "        ]\n",
    "}"
   ]
  },
  {
   "cell_type": "markdown",
   "metadata": {},
   "source": [
    "* Utilize o módulo __json__ para:\n",
    "    * Codifique essa estrutura para JSON.\n",
    "    * Salve o JSON em um ficheiro chamado \"__frutaria.json__\".\n",
    "* Após isso, leia o ficheiro \"__frutaria.json__\" e extraia o nome e a quantidade de cada fruta e legume."
   ]
  },
  {
   "cell_type": "code",
   "execution_count": null,
   "metadata": {},
   "outputs": [],
   "source": [
    "# Fazer o exercício aqui"
   ]
  },
  {
   "cell_type": "markdown",
   "metadata": {},
   "source": [
    "# Exercício 2"
   ]
  },
  {
   "cell_type": "markdown",
   "metadata": {},
   "source": [
    "#### Criação\n",
    "\n",
    "* Crie o JSON a seguir como uma string em Python:\n",
    " \n"
   ]
  },
  {
   "cell_type": "raw",
   "metadata": {},
   "source": [
    "{\n",
    "'marcadores': [{'latitude': 40.416875,\n",
    "   'longitude': -3.703308,\n",
    "   'city': 'Madrid',\n",
    "   'description': 'Puerta del Sol'},\n",
    "  {'latitude': 40.417438,\n",
    "   'longitude': -3.693363,\n",
    "   'city': 'Madrid',\n",
    "   'description': 'Paseo del Prado'},\n",
    "  {'latitude': 40.407015,\n",
    "   'longitude': -3.691163,\n",
    "   'city': 'Madrid',\n",
    "   'description': 'Estación de Atocha'}]\n",
    "}"
   ]
  },
  {
   "cell_type": "markdown",
   "metadata": {},
   "source": [
    "* Utilize  o módulo __json__ para carregar o conteúdo dessa string e transformá-lo em um dicionário Python.\n",
    "* Exiba os dados de maneira legível somente das descrições de cada ponto turístico.\n",
    "* Salve o JSON as informações no ficheiro \"__marcadores.json__\", como: do nome da cidade, latitude e longitude."
   ]
  },
  {
   "cell_type": "code",
   "execution_count": null,
   "metadata": {},
   "outputs": [],
   "source": [
    "# Fazer o exercício aqui"
   ]
  },
  {
   "cell_type": "markdown",
   "metadata": {},
   "source": [
    "# Exercício 3"
   ]
  },
  {
   "cell_type": "markdown",
   "metadata": {},
   "source": [
    "#### Criação\n",
    "\n",
    "* Carregue o JSON a seguir em uma lista de dicionários. "
   ]
  },
  {
   "cell_type": "raw",
   "metadata": {},
   "source": [
    "[\n",
    "    {\"nome\": \"João\", \"idade\": 28, \"interesses\": [\"música\", \"futebol\", \"cinema\"]},\n",
    "    {\"nome\": \"Maria\", \"idade\": 34, \"interesses\": [\"literatura\", \"viajar\", \"pintura\"]},\n",
    "    {\"nome\": \"Ana\", \"idade\": 22, \"interesses\": [\"fotografia\", \"moda\", \"tecnologia\"]}\n",
    "]\n"
   ]
  },
  {
   "cell_type": "markdown",
   "metadata": {},
   "source": [
    "* Converta esse conteúdo em um ficheiro CSV com a seguinte estrutura:\n",
    "\n",
    "| Nome  | Idade | Interesse 1   | Interesse 2   | Interesse 3    |\n",
    "|-------|-------|---------------|---------------|----------------|\n",
    "| João  | 28    | música        | futebol       | cinema         |\n",
    "| Maria | 34    | literatura    | viajar        | pintura        |\n",
    "| Ana   | 22    | fotografia    | moda          | tecnologia      |\n",
    "\n",
    "* Salve o ficheiro CSV com o nome \"__usuarios.csv__\".\n",
    "* Depois faça a leitura do conteúdo do ficheiro \"__usuarios.csv__\" para certificar que foi salvo corretamente.x\"__."
   ]
  },
  {
   "cell_type": "code",
   "execution_count": null,
   "metadata": {},
   "outputs": [],
   "source": [
    "# Fazer o exercício aqui"
   ]
  }
 ],
 "metadata": {
  "anaconda-cloud": {},
  "kernelspec": {
   "display_name": "Python 3 (ipykernel)",
   "language": "python",
   "name": "python3"
  },
  "language_info": {
   "codemirror_mode": {
    "name": "ipython",
    "version": 3
   },
   "file_extension": ".py",
   "mimetype": "text/x-python",
   "name": "python",
   "nbconvert_exporter": "python",
   "pygments_lexer": "ipython3",
   "version": "3.11.7"
  }
 },
 "nbformat": 4,
 "nbformat_minor": 4
}
